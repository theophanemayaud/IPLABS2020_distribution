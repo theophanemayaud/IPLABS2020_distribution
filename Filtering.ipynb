{
 "cells": [
  {
   "cell_type": "markdown",
   "metadata": {
    "deletable": false,
    "editable": false,
    "kernel": "SoS",
    "nbgrader": {
     "cell_type": "markdown",
     "checksum": "1b189d2b067abc0828a61d90d9b9923d",
     "grade": false,
     "grade_id": "cell-2f137ed5983c4fea",
     "locked": true,
     "schema_version": 3,
     "solution": false,
     "task": false
    }
   },
   "source": [
    "<img src=\"https://www.epfl.ch/about/overview/wp-content/uploads/2020/07/logo-epfl-1024x576.png\" style=\"padding-right:10px;width:140px;float:left\"></td>\n",
    "<h2 style=\"white-space: nowrap\">Image Processing Laboratory Notebooks</h2>\n",
    "<hr style=\"clear:both\">\n",
    "<p style=\"font-size:0.85em; margin:2px; text-align:justify\">\n",
    "This Juypter notebook is part of a series of computer laboratories which are designed\n",
    "to teach image-processing programming; they are running on the EPFL's Noto server. They are the practical complement of the theoretical lectures of the EPFL's Master course <b>Image Processing I</b> \n",
    "(<a href=\"https://moodle.epfl.ch/course/view.php?id=522\">MICRO-511</a>) taught by Prof. M. Unser and Prof. D. Van de Ville.\n",
    "</p>\n",
    "<p style=\"font-size:0.85em; margin:2px; text-align:justify\">\n",
    "The project is funded by the Center for Digital Education and the School of Engineering. It is owned by the <a href=\"http://bigwww.epfl.ch/\">Biomedical Imaging Group</a>. \n",
    "The distribution or the reproduction of the notebook is strictly prohibited without the written consent of the authors.  &copy; EPFL 2020.\n",
    "</p>\n",
    "<p style=\"font-size:0.85em; margin:0px\"><b>Authors</b>: \n",
    "    <a href=\"mailto:pol.delaguilapla@epfl.ch\">Pol del Aguila Pla</a>, \n",
    "    <a href=\"mailto:kay.lachler@epfl.ch\">Kay Lächler</a>,\n",
    "    <a href=\"mailto:alejandro.nogueronaramburu@epfl.ch\">Alejandro Noguerón Arámburu</a>, and\n",
    "    <a href=\"mailto:daniel.sage@epfl.ch\">Daniel Sage</a>.\n",
    "</p>\n",
    "<hr style=\"clear:both\">\n",
    "<h1>Lab 2: Digital filtering</h1>\n",
    "<div style=\"background-color:#F0F0F0;padding:4px\">\n",
    "    <p style=\"margin:4px;\"><b>Released</b>: Thursday November 5, 2020</p>\n",
    "    <p style=\"margin:4px;\"><b>Submission</b>: <span style=\"color:red\">Friday November 13, 2020</span> (before 11:59PM) on <a href=\"https://moodle.epfl.ch/course/view.php?id=522\">Moodle</a></p>\n",
    "    <p style=\"margin:4px;\"><b>Grade weigth</b>: 10% of the overall grade</p>\n",
    "    <p style=\"margin:4px;\"><b>Remote help</b>: Monday November 9 and Thursday November 12, 12h00-13h00, on Zoom (see Moodle for link)</p>    \n",
    "    <p style=\"margin:4px;\"><b>Related lectures</b>: Chapter 3</p>\n",
    "</div>"
   ]
  },
  {
   "cell_type": "markdown",
   "metadata": {
    "kernel": "SoS"
   },
   "source": [
    "### Student Name: \n",
    "### SCIPER: \n",
    "\n",
    "Double-click on this cell and fill your name and SCIPER number. Then, run the cell below to verify your identity in Noto and set the seed for random results."
   ]
  },
  {
   "cell_type": "code",
   "execution_count": null,
   "metadata": {
    "deletable": false,
    "editable": false,
    "kernel": "SoS",
    "nbgrader": {
     "cell_type": "code",
     "checksum": "d8831b5fb2d47d71ec8d456d46079464",
     "grade": false,
     "grade_id": "cell-5808010fef9a8499",
     "locked": true,
     "schema_version": 3,
     "solution": false,
     "task": false
    }
   },
   "outputs": [],
   "source": [
    "%use sos\n",
    "import getpass\n",
    "# This line recovers your camipro number to mark the images with your ID\n",
    "uid = int(getpass.getuser().split('-')[2]) if len(getpass.getuser().split('-')) > 2 else ord(getpass.getuser()[0])\n",
    "print(f'SCIPER: {uid}')"
   ]
  },
  {
   "cell_type": "markdown",
   "metadata": {
    "deletable": false,
    "editable": false,
    "kernel": "SoS",
    "nbgrader": {
     "cell_type": "markdown",
     "checksum": "12c29faa222784ea4286953a0f1a50ea",
     "grade": false,
     "grade_id": "cell-22d02ae9386542b4",
     "locked": true,
     "schema_version": 3,
     "solution": false,
     "task": false
    }
   },
   "source": [
    "### <a name=\"imports_\"></a> Imports\n",
    "In the next cell we import the Python libraries that we will use throughout the lab, as well as the `IPLabViewer()` class for interactive image visualization based on the `ipywidgets` library:\n",
    "* [`matplotlib.pyplot`](https://matplotlib.org), to display images\n",
    "* [`ipywidgets`](https://ipywidgets.readthedocs.io/en/latest/), to make the image display interactive\n",
    "* [`numpy`](https://numpy.org/doc/stable/reference/index.html), for mathematical operations on arrays\n",
    "* [`openCV` (cv2)](https://docs.opencv.org/2.4/index.html), for image-processing tasks\n",
    "* [`scipy.ndimage`](https://docs.scipy.org/doc/scipy/reference/ndimage.html), Scipy's specific module for multidimensional image processing\n",
    "* [`scikit-image` (skimage)](https://scikit-image.org/docs/stable/api/api.html), also for image-processing tasks\n",
    "\n",
    "We will then load the `IPLabViewer` class (either see the complete documentation [here](https://github.com/Biomedical-Imaging-Group/IPLabImageViewer/wiki/Python-IPLabViewer()-Class), run the Python command `help(viewer)` after loading the class, or refer to [Lab 0: Introduction](./Introductory.ipynb)).\n",
    "\n",
    "Finally, we load the images you will use in the exercise to test your algorithms. "
   ]
  },
  {
   "cell_type": "code",
   "execution_count": null,
   "metadata": {
    "deletable": false,
    "editable": false,
    "kernel": "SoS",
    "nbgrader": {
     "cell_type": "code",
     "checksum": "4654d6719daaf5becd645348ff091343",
     "grade": false,
     "grade_id": "cell-e71e32bb6c3077e0",
     "locked": true,
     "schema_version": 3,
     "solution": false,
     "task": false
    }
   },
   "outputs": [],
   "source": [
    "%use sos\n",
    "# Configure plotting as dynamic\n",
    "%matplotlib widget\n",
    "\n",
    "# Import standard required packages for this exercise\n",
    "import matplotlib.pyplot as plt\n",
    "import numpy as np\n",
    "import cv2 as cv \n",
    "import scipy.ndimage as ndi\n",
    "import ipywidgets as widgets\n",
    "import skimage\n",
    "from skimage import filters\n",
    "from skimage import io\n",
    "\n",
    "# Import IPLabViewer() Class\n",
    "from lib.iplabs import IPLabViewer as viewer\n",
    "\n",
    "# Load images to be used in this exercise \n",
    "bikesgray = plt.imread('images/bikesgray.tif')\n",
    "camera = plt.imread('images/camera-16bits.tif')\n",
    "spots = cv.imread('images/spots.tif',cv.IMREAD_UNCHANGED)"
   ]
  },
  {
   "cell_type": "code",
   "execution_count": null,
   "metadata": {
    "deletable": false,
    "editable": false,
    "kernel": "JavaScript",
    "nbgrader": {
     "cell_type": "code",
     "checksum": "dae58b0d647cd2c4cf469c1960c0e639",
     "grade": false,
     "grade_id": "cell-c6c746246d09f0e7",
     "locked": true,
     "schema_version": 3,
     "solution": false,
     "task": false
    }
   },
   "outputs": [],
   "source": [
    "%use javascript\n",
    "// import IPLabImageAccess as Image\n",
    "var Image = require('./lib/IPLabImageAccess.js')"
   ]
  },
  {
   "cell_type": "markdown",
   "metadata": {
    "deletable": false,
    "editable": false,
    "kernel": "SoS",
    "nbgrader": {
     "cell_type": "markdown",
     "checksum": "c4f5a6c3c777c78ba47cd1c1202ac001",
     "grade": false,
     "grade_id": "cell-4b72a2bcfd3b306d",
     "locked": true,
     "schema_version": 3,
     "solution": false,
     "task": false
    }
   },
   "source": [
    "# <a name=\"filtering_lab\"></a> Digital filtering (15 Points)\n",
    "\n",
    "In this lab you will review the basics of digital image filtering. You will review topics such as separable filters, non-separable filters, filter design, and convolution. Finally, you will program a spot detector using digital filtering techniques.\n",
    "\n",
    "## <a class=\"anchor\"></a> Index\n",
    "1. [Edge detection](#-1.-Edge-detection-(3-points))\n",
    "    1. [Non-separable version](#-1.A.-Non-separable-version-(1-point)) (**1 point**)\n",
    "    2. [Separable version](#-1.B.-Separable-version-(2-points)) (**2 points**)\n",
    "    3. [Comparison: Separable vs Non-separable](#-1.C.-Comparison:-Separable-vs-Non-separable) \n",
    "    4. [Edge detection in Python](#-1.D.-Edge-detection-in-Python)\n",
    "2. [Implementation and classification of digital filters](#-2.-Implementation-and-classification-of-digital-filters-(3-points)) (**3 points**)\n",
    "    1. [Mask A](#-2.A.-Mask-A)\n",
    "    2. [Mask B](#-2.B.-Mask-B)\n",
    "    3. [Mask C](#-2.C.-Mask-C)\n",
    "    4. [Mask D](#-2.D.-Mask-D)\n",
    "    5. [Mask E](#-2.E.-Mask-E)\n",
    "    6. [Mask F](#-2.F.-Mask-F)\n",
    "3. [Gaussian filter](#-3.-Gaussian-filter-(4-points))\n",
    "    1. [Implementation of a 2D Gaussian filter](#-3.A.-Implementation-of-a-2D-Gaussian-filter-(4-points)) (**4 points**)\n",
    "    2. [Gaussian filter in Python](#-3.B.-Gaussian-filter-in-Python)\n",
    "4. [Application: Spot detector](#-4.-Application:-Spot-detector-(5-points))\n",
    "    1. [Difference of Gaussians](#-4.A.-Difference-of-Gaussians-(2-points)) (**2 points**)\n",
    "    2. [Local maxima](#-4.B.-Local-maxima-(1-point)) (**1 point**)\n",
    "    3. [Spot detector](#-4.C.-Spot-detector-(2-points)) (**2 points**)\n",
    "\n",
    "In particular, you will: \n",
    "* Fully understand the implementation of a digital filter (Sections 1 and 2);\n",
    "* Learn how to implement filters using different image-processing libraries in Python (Sections 1 and 2);\n",
    "* Implement a method `gaussian()` for separable Gaussian filtering (Section 3); and\n",
    "* Develop a practical application of filtering (Section 4).\n",
    "\n",
    "The goal is for you to fully understand the filtering algorithm at a pixel-by-pixel level (implementing it in JavaScript), and at the same time to learn the standard tools to use filtering in professional image-processing libraries in Python.\n",
    "\n",
    "<div class=\" alert alert-danger\">\n",
    "\n",
    "<b>Important:</b> Each cell that contains code begins with `%use sos` or `%use javascript`. This indicates if the code in this specific cell should be written in Python or JavaScript. Do not change or remove any lines of code that begin with an %. They are used for the notebook to run smoothly with <code>SoS</code> and need to be on the first line of each cell!\n",
    "</div>\n",
    "\n",
    "Good luck and enjoy! "
   ]
  },
  {
   "cell_type": "markdown",
   "metadata": {
    "deletable": false,
    "editable": false,
    "kernel": "SoS",
    "nbgrader": {
     "cell_type": "markdown",
     "checksum": "ccdfd1305bf40fa0e812347dfaaa0250",
     "grade": false,
     "grade_id": "cell-74e9fa45faa39321",
     "locked": true,
     "schema_version": 3,
     "solution": false,
     "task": false
    }
   },
   "source": [
    "### Visualize images\n",
    "Get familiar now with the images you are going to be using.\n",
    "\n",
    "Remember that to use the `IPLabViewer` class, you only need to call it with an image (make sure that the image is a `numpy.ndarray`, or a list of such arrays). From there, you can click the button `Show Widgets` and change the plotting range, visualize the histogram, get the statistics, etc."
   ]
  },
  {
   "cell_type": "code",
   "execution_count": null,
   "metadata": {
    "kernel": "SoS"
   },
   "outputs": [],
   "source": [
    "%use sos\n",
    "\n",
    "# Declare image_list for ImageViewer\n",
    "image_list = [bikesgray, camera, spots]\n",
    "\n",
    "imgs_viewer = viewer(image_list, widgets = True, hist = True)"
   ]
  },
  {
   "cell_type": "markdown",
   "metadata": {
    "deletable": false,
    "editable": false,
    "kernel": "JavaScript",
    "nbgrader": {
     "cell_type": "markdown",
     "checksum": "68f8994fb9de878dc7bf7b6ec1e1fe78",
     "grade": false,
     "grade_id": "cell-197bf6fba6c8591a",
     "locked": true,
     "schema_version": 3,
     "solution": false,
     "task": false
    }
   },
   "source": [
    "# <a class=\"anchor\"></a> 1. Edge detection (3 points)\n",
    "[Back to index](#-Index)\n",
    "\n",
    "As you might remember from the course, edge detection algorithms try to outline steep intesity differences between neighbouring pixels. A common vertical edge detector (detecting changes in the $x$ direction) is the filter represented by the impulse response \n",
    "\n",
    "$$h[m,n] = \\begin{bmatrix} -1 & 0 & 1 \\\\ -2 & \\boxed{0} & 2 \\\\ -1 & 0 & 1 \\end{bmatrix}\\,.$$\n",
    "\n",
    "If pixels neighbouring a given pixel position all have a similar value, the output at that pixel will have a value close to zero after applying the mask. On the other hand, if there is a big difference in the values of the left and right columns, this likely indicates some kind of vertical edge and consequently the output at that location will have either a highly positive or highly negative intensity. "
   ]
  },
  {
   "cell_type": "markdown",
   "metadata": {
    "deletable": false,
    "editable": false,
    "kernel": "JavaScript",
    "nbgrader": {
     "cell_type": "markdown",
     "checksum": "41697afc701639b080a6c272a6a93e8b",
     "grade": false,
     "grade_id": "cell-6dbf92312a1ff865",
     "locked": true,
     "schema_version": 3,
     "solution": false,
     "task": false
    }
   },
   "source": [
    "## <a class=\"anchor\"></a> 1.A. Non-separable version (1 point)\n",
    "[Back to index](#-Index)\n",
    "\n",
    "In the next cell we provide the method `filterNonSeparable()`. **This function is supposed to perform a convolution** on two input images `img` and `mask`. However, whoever implemented the function (*it certainly wasn't us*) had not heard about the difference between a correlation and a convolution. Long story short, the function does not provide the correct result. **For 1 point**, find the mistake and correct it in the cell below.\n",
    "\n",
    "<div class=\"alert alert-info\">\n",
    "\n",
    "**Hint:** The two-dimensional convolution between two images `h` and `f` is given by\n",
    "$$(h \\ast f)[x,y] = \\sum_{m \\in \\mathbb{Z}}\\sum_{n \\in \\mathbb{Z}}f[m,n]h[x-m,y-n]$$\n",
    "</div>"
   ]
  },
  {
   "cell_type": "code",
   "execution_count": null,
   "metadata": {
    "kernel": "JavaScript"
   },
   "outputs": [],
   "source": [
    "%use javascript\n",
    "\n",
    "// function that performs a convolution on the two input parameters img and mask\n",
    "function filterNonSeparable(img, mask){\n",
    "    // create output Image, of the same shape as the input\n",
    "    var output = new Image(img.shape());\n",
    "    // iterate through every pixel\n",
    "    for(var x = 0; x < img.nx; x++){  \n",
    "        for(var y = 0; y < img.ny; y++){\n",
    "            // get neighbourhood with the size of mask of current position\n",
    "            var neigh = img.getNbh(x, y, mask.nx, mask.ny)\n",
    "            // perform convolution\n",
    "            var val = 0;\n",
    "            for(var k = 0; k < mask.nx; k++){\n",
    "                for(var l = 0; l < mask.ny; l++){\n",
    "                    val += neigh.getPixel(k, l) * mask.getPixel(k, l);\n",
    "                }\n",
    "            }\n",
    "            // assign value on output image\n",
    "            output.setPixel(x, y, val)\n",
    "        }\n",
    "    }\n",
    "    return output\n",
    "}"
   ]
  },
  {
   "cell_type": "markdown",
   "metadata": {
    "deletable": false,
    "editable": false,
    "kernel": "JavaScript",
    "nbgrader": {
     "cell_type": "markdown",
     "checksum": "0767c8475a4cd2d7527fb6ad12658bb1",
     "grade": false,
     "grade_id": "cell-1bf275d12cc9758b",
     "locked": true,
     "schema_version": 3,
     "solution": false,
     "task": false
    }
   },
   "source": [
    "Run the next cell to perform a sanity check (convolution of the mask with an impulse image)."
   ]
  },
  {
   "cell_type": "code",
   "execution_count": null,
   "metadata": {
    "deletable": false,
    "editable": false,
    "kernel": "JavaScript",
    "nbgrader": {
     "cell_type": "code",
     "checksum": "f4526bda930e4cffda4b2afd27be4112",
     "grade": false,
     "grade_id": "cell-1dabd588ee42d0a0",
     "locked": true,
     "schema_version": 3,
     "solution": false,
     "task": false
    }
   },
   "outputs": [],
   "source": [
    "// Lets do a sanity check\n",
    "// we use a simple 3x3 impulse image\n",
    "var impulse = new Image([[0, 0, 0], [0, 1, 0], [0, 0, 0]]);\n",
    "// declare mask\n",
    "var mask = new Image([[-1, 0, 1],[-2, 0, 2],[-1, 0, 1]]);\n",
    "// check the result\n",
    "console.log('Convolving by an impulse should return the unchanged mask.\\nMask:\\t', mask.toArray() )\n",
    "console.log('Result:\\t', filterNonSeparable(impulse, mask).toArray());\n",
    "if(filterNonSeparable(impulse, mask).imageCompare(mask) == false){\n",
    "    throw new Error('Sorry, the function still provides an incorrect output.')\n",
    "}\n",
    "console.log('Well done, now the function probably performs a convolution!')"
   ]
  },
  {
   "cell_type": "markdown",
   "metadata": {
    "deletable": false,
    "editable": false,
    "kernel": "JavaScript",
    "nbgrader": {
     "cell_type": "markdown",
     "checksum": "087db1a202d89195ee1b706550fb865d",
     "grade": false,
     "grade_id": "cell-d4b757e2b974576f",
     "locked": true,
     "schema_version": 3,
     "solution": false,
     "task": false
    }
   },
   "source": [
    "### Applying the function\n",
    "\n",
    "Run the next cell to apply the `filterNonSeparable` function with the mask given above to the images `bikesgray`, `camera` and `spots`."
   ]
  },
  {
   "cell_type": "code",
   "execution_count": null,
   "metadata": {
    "deletable": false,
    "editable": false,
    "kernel": "JavaScript",
    "nbgrader": {
     "cell_type": "code",
     "checksum": "8ffb9c93e66b0ca03eb87fa5ca2aa001",
     "grade": true,
     "grade_id": "cell-43d01fbb15e5a663",
     "locked": true,
     "points": 1,
     "schema_version": 3,
     "solution": false,
     "task": false
    }
   },
   "outputs": [],
   "source": [
    "%use javascript\n",
    "%get bikesgray camera spots\n",
    "%put vedge_bike_nons vedge_camera_nons vedge_spots_nons\n",
    "\n",
    "// apply Non separable filter\n",
    "var vedge_bike_nons   = filterNonSeparable(new Image(bikesgray), mask).toArray();\n",
    "var vedge_spots_nons  = filterNonSeparable(new Image(spots),     mask).toArray();\n",
    "var vedge_camera_nons = filterNonSeparable(new Image(camera),    mask).toArray();"
   ]
  },
  {
   "cell_type": "markdown",
   "metadata": {
    "deletable": false,
    "editable": false,
    "kernel": "JavaScript",
    "nbgrader": {
     "cell_type": "markdown",
     "checksum": "456bb7f90a82f1028248223a529092ba",
     "grade": false,
     "grade_id": "cell-eaf895c6a9a0fe0a",
     "locked": true,
     "schema_version": 3,
     "solution": false,
     "task": false
    }
   },
   "source": [
    "### Visualize the results\n",
    "We will use the `IPLabViewer` to take a look at the results of the edge detection. Run the next cell to visualize the results and use the `Next` / `Prev` buttons to cycle through the images."
   ]
  },
  {
   "cell_type": "code",
   "execution_count": null,
   "metadata": {
    "deletable": false,
    "editable": false,
    "kernel": "SoS",
    "nbgrader": {
     "cell_type": "code",
     "checksum": "c9c95f7222cba7ae9b49b10347b88af1",
     "grade": false,
     "grade_id": "cell-737f3f5d40ce108a",
     "locked": true,
     "schema_version": 3,
     "solution": false,
     "task": false
    }
   },
   "outputs": [],
   "source": [
    "%use sos\n",
    "%get vedge_bike_nons vedge_camera_nons vedge_spots_nons --from javascript\n",
    "\n",
    "# Declare parameters for viewer\n",
    "image_list_nons = [vedge_bike_nons, vedge_camera_nons, vedge_spots_nons]\n",
    "title_list = ['Bike - Vertical edges', 'Camera - Vertical edges', 'Spots - Vertical edges']\n",
    "\n",
    "# Make sure that the images are numpy arrays and not lists\n",
    "for image in range(len(image_list_nons)):\n",
    "    image_list_nons[image] = np.array(image_list_nons[image])\n",
    "\n",
    "vedge_nons_viewer = viewer(image_list_nons, title = title_list, widgets=True)"
   ]
  },
  {
   "cell_type": "markdown",
   "metadata": {
    "deletable": false,
    "editable": false,
    "kernel": "Python3",
    "nbgrader": {
     "cell_type": "markdown",
     "checksum": "ab1cb8742eac6dccfaccec8604bee70d",
     "grade": false,
     "grade_id": "cell-cf84e8455a646681",
     "locked": true,
     "schema_version": 3,
     "solution": false,
     "task": false
    }
   },
   "source": [
    "## <a class=\"anchor\"></a> 1.B. Separable version (2 points)\n",
    "[Back to index](#-Index)\n",
    "\n",
    "In this subsection, you are going to modify the function `filterSeparable()` we provide to implement the separable version of the filter. This function is based on the method `filter1D()` (also declared in the next cell), which takes as input a row/column of the image and a 1D mask and performs a 1D convolution. Recall that separable filters are divided into two 1D masks (`mx` and `my` in the code below). \n",
    "\n",
    "In the next cell, **for 1 point** complete the method `filterSeparable()` by implementing the column filtering. The row filtering is provided and can be used as a reference.\n",
    "\n",
    "<div class=\"alert alert-info\">\n",
    "    \n",
    "**Note:** `img.getRow(y)` extracts the $y^{\\text{th}}$ row from `img` while `output.putRow(y, new_row)` inserts `new_row` into the $y^{\\text{th}}$ row of `output`. Similarly you can use `.getColumn(x)` and `.putColumn(x, new_column)` to extract and insert columns from/to `Image` objects.\n",
    "</div>\n",
    "<div class=\"alert alert-info\">\n",
    "    \n",
    "**Hint:** If you don't remember how a separable filter works, review the theory in your course notes.\n",
    "</div>"
   ]
  },
  {
   "cell_type": "code",
   "execution_count": null,
   "metadata": {
    "deletable": false,
    "kernel": "JavaScript",
    "nbgrader": {
     "cell_type": "code",
     "checksum": "177a4770666715ca06c6a7b0506b3713",
     "grade": false,
     "grade_id": "cell-91d7512eab988bf2",
     "locked": false,
     "schema_version": 3,
     "solution": true,
     "task": false
    }
   },
   "outputs": [],
   "source": [
    "%use javascript\n",
    "\n",
    "// function that performs a separable convolution on img using two 1D masks mx and my\n",
    "function filterSeparable(img, mx, my){\n",
    "    // initialize output Image, of the same shape as the input\n",
    "    var output = new Image(img.shape());\n",
    "    \n",
    "    // iterate through every row \n",
    "    for(var y = 0; y < img.ny; y++){\n",
    "        // extract row\n",
    "        var row = img.getRow(y);\n",
    "        // apply filter\n",
    "        var new_row = filter1D(row, mx)\n",
    "        // set column in output variable\n",
    "        output.putRow(y, new_row);    \n",
    "    }\n",
    "    // iterate through every column\n",
    "    for(var x = 0; x < img.nx; x++){\n",
    "        // filter the columns\n",
    "        \n",
    "        // YOUR CODE HERE\n",
    "        \n",
    "    }\n",
    "    return output\n",
    "}\n",
    "\n",
    "// function that applies a 1D filter\n",
    "function filter1D(img, mask){\n",
    "    // transpose the input variables if necessary\n",
    "    if(img.nx == 1){\n",
    "        img.transposeImage();\n",
    "    }\n",
    "    if(mask.nx == 1){\n",
    "        mask.transposeImage();\n",
    "    }\n",
    "    // create the output image\n",
    "    var output = new Image(img.shape());\n",
    "    // iterate through all pixels\n",
    "    for(var x = 0; x < img.nx; x++){\n",
    "        // get the neighbourhood around position x\n",
    "        var neigh = img.getNbh(x, 0, mask.nx, 1);\n",
    "        // declare a variable to store the values of the convolution. \n",
    "        var val = 0;\n",
    "        // iterate through the neighbourhood\n",
    "        for(var i = 0; i < neigh.nx; i++){\n",
    "            // perform convolution\n",
    "            val += neigh.getPixel(i, 0) * mask.getPixel(mask.nx - 1 - i, 0);\n",
    "        }\n",
    "        // set value in output array\n",
    "        output.setPixel(x, 0, val);\n",
    "    }\n",
    "    return output\n",
    "}"
   ]
  },
  {
   "cell_type": "markdown",
   "metadata": {
    "deletable": false,
    "editable": false,
    "kernel": "JavaScript",
    "nbgrader": {
     "cell_type": "markdown",
     "checksum": "daf4cc452383f1f9a01001f9dcbf13a4",
     "grade": false,
     "grade_id": "cell-a01e57b63a6a2aee",
     "locked": true,
     "schema_version": 3,
     "solution": false,
     "task": false
    }
   },
   "source": [
    "### 1D masks\n",
    "\n",
    "In the cell below, **for 1 point** change the masks `mask_x` and `mask_y` to the correct 1D masks corresponding to the separable version of the vertical edge detection filter presented [at the beginning of this exercise](#-1.-Edge-detection-(3-points))."
   ]
  },
  {
   "cell_type": "code",
   "execution_count": null,
   "metadata": {
    "deletable": false,
    "kernel": "JavaScript",
    "nbgrader": {
     "cell_type": "code",
     "checksum": "a37e667d55dff5b2abce1a68bb48e10b",
     "grade": false,
     "grade_id": "cell-39c4339868e3faa2",
     "locked": false,
     "schema_version": 3,
     "solution": true,
     "task": false
    }
   },
   "outputs": [],
   "source": [
    "%use javascript\n",
    "%put mask_x mask_y\n",
    "// // change the masks to the correct value \n",
    "var mask_x = [0, 0, 0];\n",
    "var mask_y = [0, 0, 0];\n",
    "\n",
    "// YOUR CODE HERE\n",
    "\n",
    "// convert the masks to Image objects\n",
    "var mask_x_img = new Image([mask_x]);\n",
    "var mask_y_img = new Image([mask_y]);"
   ]
  },
  {
   "cell_type": "code",
   "execution_count": null,
   "metadata": {
    "deletable": false,
    "editable": false,
    "kernel": "JavaScript",
    "nbgrader": {
     "cell_type": "code",
     "checksum": "a2f95740dfe51622bbd5eedb4302ed05",
     "grade": true,
     "grade_id": "cell-f0edc6838129ae12",
     "locked": true,
     "points": 1,
     "schema_version": 3,
     "solution": false,
     "task": false
    }
   },
   "outputs": [],
   "source": [
    "%use javascript\n",
    "// again let's do a sanity check with an impulse image\n",
    "var impulse = new Image([[0, 0, 0], [0, 1, 0], [0, 0, 0]]);\n",
    "// declare correct 2D mask\n",
    "var mask = new Image([[-1, 0, 1],[-2, 0, 2],[-1, 0, 1]]);\n",
    "// the result of a convolution with an impulse image should be the mask itself\n",
    "console.log('Convolving by an impulse should return the unchanged mask.\\nMasks:\\t', mask.toArray() )\n",
    "console.log('Result: ', filterSeparable(impulse, mask_x_img, mask_y_img).toArray());\n",
    "if(filterSeparable(impulse, mask_x_img, mask_y_img).imageCompare(mask) == false){\n",
    "    throw new Error('Sorry, the separable filter or the 1D masks are not yet correct.');\n",
    "}\n",
    "console.log('Nice, the separable filter and the 1D masks seem to be correct!');"
   ]
  },
  {
   "cell_type": "markdown",
   "metadata": {
    "deletable": false,
    "editable": false,
    "kernel": "JavaScript",
    "nbgrader": {
     "cell_type": "markdown",
     "checksum": "710eb30442733bf7713705ee3b756939",
     "grade": false,
     "grade_id": "cell-cbc3f7362589bdc4",
     "locked": true,
     "schema_version": 3,
     "solution": false,
     "task": false
    }
   },
   "source": [
    "### Apply the method on the same images. \n",
    "\n",
    "Run the next cell to apply the method to the same three images we have been using before."
   ]
  },
  {
   "cell_type": "code",
   "execution_count": null,
   "metadata": {
    "deletable": false,
    "editable": false,
    "kernel": "JavaScript",
    "nbgrader": {
     "cell_type": "code",
     "checksum": "93eb64a2b04d8e8431a2f5fe1b510102",
     "grade": true,
     "grade_id": "cell-371402cb11573886",
     "locked": true,
     "points": 1,
     "schema_version": 3,
     "solution": false,
     "task": false
    }
   },
   "outputs": [],
   "source": [
    "%use javascript\n",
    "%put vedge_bike_s vedge_camera_s vedge_spots_s\n",
    "\n",
    "// Apply method on previously defined Images\n",
    "var vedge_bike_s = filterSeparable(new Image(bikesgray), mask_x_img, mask_y_img).toArray();\n",
    "var vedge_spots_s = filterSeparable(new Image(spots), mask_x_img, mask_y_img).toArray();\n",
    "var vedge_camera_s = filterSeparable(new Image(camera), mask_x_img, mask_y_img).toArray();"
   ]
  },
  {
   "cell_type": "markdown",
   "metadata": {
    "deletable": false,
    "editable": false,
    "kernel": "JavaScript",
    "nbgrader": {
     "cell_type": "markdown",
     "checksum": "724c8cda84b00c98fc056b51c1a4473e",
     "grade": false,
     "grade_id": "cell-5dd51236de517c9f",
     "locked": true,
     "schema_version": 3,
     "solution": false,
     "task": false
    }
   },
   "source": [
    "Now run the next one to visualize the results."
   ]
  },
  {
   "cell_type": "code",
   "execution_count": null,
   "metadata": {
    "deletable": false,
    "editable": false,
    "kernel": "SoS",
    "nbgrader": {
     "cell_type": "code",
     "checksum": "3e6c7eeb6662f72750f798cf8998c36d",
     "grade": false,
     "grade_id": "cell-664065187b4a1db7",
     "locked": true,
     "schema_version": 3,
     "solution": false,
     "task": false
    }
   },
   "outputs": [],
   "source": [
    "%use sos\n",
    "# Declare the image list\n",
    "image_list_sep = [vedge_bike_s, vedge_camera_s, vedge_spots_s]\n",
    "title_list = ['Bike - Vertical edges', 'Camera - Vertical edges', 'Spots - Vertical edges']\n",
    "\n",
    "# Make sure that the images are numpy arrays and not lists\n",
    "for i, image in enumerate(image_list_sep):\n",
    "    image_list_sep[i] = np.array(image)\n",
    "\n",
    "plt.close('all')\n",
    "vedge_s_viewer = viewer(image_list_sep, title = title_list, widgets=True)"
   ]
  },
  {
   "cell_type": "markdown",
   "metadata": {
    "deletable": false,
    "editable": false,
    "kernel": "Python3",
    "nbgrader": {
     "cell_type": "markdown",
     "checksum": "5809ce17135bcdaafd13a7ffec6f6f74",
     "grade": false,
     "grade_id": "cell-c52bb35862da59d5",
     "locked": true,
     "schema_version": 3,
     "solution": false,
     "task": false
    }
   },
   "source": [
    "## <a class=\"anchor\"></a> 1.C. Comparison: Separable vs Non-separable\n",
    "[Back to index](#-Index)\n",
    "\n",
    "Did you notice any difference between the separable and non-separable versions of the results? Did you expect any difference? \n",
    "\n",
    "Explore the two histograms, zoom into different areas of the three images, and see if they are truly equal. There are several tests you can do to measure the equality of both implementations. You can even take the difference between the two images and visualize it (`image1 - image2`), or you can use the different methods provided by NumPy to compare arrays (see [numpy.testing.assert_array_equal](https://numpy.org/doc/stable/reference/generated/numpy.testing.assert_array_equal.html) and [numpy.testing.assert_array_almost_equal](https://numpy.org/doc/stable/reference/generated/numpy.testing.assert_array_almost_equal.html)). Use the next blank cell to do any necessary exploration. "
   ]
  },
  {
   "cell_type": "code",
   "execution_count": null,
   "metadata": {
    "deletable": false,
    "kernel": "SoS",
    "nbgrader": {
     "cell_type": "code",
     "checksum": "bc8563ae0d2594a20fd7915458060598",
     "grade": false,
     "grade_id": "cell-cf3ac27ebe1266d6",
     "locked": false,
     "schema_version": 3,
     "solution": true,
     "task": false
    }
   },
   "outputs": [],
   "source": [
    "%use sos\n",
    "\n",
    "# YOUR CODE HERE"
   ]
  },
  {
   "cell_type": "markdown",
   "metadata": {
    "deletable": false,
    "editable": false,
    "kernel": "Python3",
    "nbgrader": {
     "cell_type": "markdown",
     "checksum": "1fe15b657739938ff0b4ede481818f6c",
     "grade": false,
     "grade_id": "cell-89cfd0072f776104",
     "locked": true,
     "schema_version": 3,
     "solution": false,
     "task": false
    }
   },
   "source": [
    "## <a class=\"anchor\"></a> 1.D. Edge detection in Python\n",
    "[Back to index](#-Index)\n",
    "\n",
    "In Python, the two functions `filterNonSeparable` and `filterSeparable` you implemented above are provided by the [`scipy.ndimage`](https://docs.scipy.org/doc/scipy/reference/ndimage.html) library. They are called [`convolve`](https://docs.scipy.org/doc/scipy/reference/generated/scipy.ndimage.convolve.html) and [`convolve1d`](https://docs.scipy.org/doc/scipy/reference/generated/scipy.ndimage.convolve1d.html), respectively. You can look at their documentation by clicking on their names.\n",
    "\n",
    "**Example:**\n",
    "\n",
    "To apply a non-separable filter with a 2D mask `mask` to the image `img` we use:\n",
    "```python\n",
    "filtered_img = ndi.convolve(img, mask, output=np.int32)\n",
    "```\n",
    "To apply a separable filter with two 1D masks `mask_x` and `mask_y` to the image `img` we use:\n",
    "```python\n",
    "# filter the columns\n",
    "filtered_img = ndi.convolve1d(img, mask_y, axis=0, output=np.int32)\n",
    "# filter the rows\n",
    "filtered_img = ndi.convolve1d(filtered_img, mask_x, axis=1, output=np.int32)\n",
    "```\n",
    "\n",
    "<div class=\"alert alert-info\">\n",
    "\n",
    "**Note:** We specify `output=np.int32` in the examples because the default type of the result is the same as that of the input image. In the case of `bikesgray` this would imply `np.uint8` (8-bit unsigned integer). However, we know that the gradient can take large positive and negative values, so an [unsigned integer](https://en.wikipedia.org/wiki/Integer_(computer_science)) is not the right type. Because we know that the result will still be an integer because the mask only contains integers, we choose `np.int32` (32-bit signed integers). Reflect on which output type you would need to select to process `spots` by exploring its values and histogram using the viewer at the beginning of the lab. Make sure to re-run it if it does not respond, only one viewer is active at a time!\n",
    "</div>\n",
    "\n",
    "Let's compare the Python implementations to the JavaScript implementations to make sure that we get the same result. Run the cell below to compare the different versions and review your previous code if necessary. If you did everything correctly in Sections [1.A.](#-1.A.-Non-separable-version-(1-point)) and [1.B.](#-1.B.-Separable-version-(2-points)), all four images should look exactly the same!"
   ]
  },
  {
   "cell_type": "code",
   "execution_count": null,
   "metadata": {
    "deletable": false,
    "editable": false,
    "kernel": "SoS",
    "nbgrader": {
     "cell_type": "code",
     "checksum": "63bc5a384b44b012e53c0b3ebce6502e",
     "grade": false,
     "grade_id": "cell-847d91faeebc157a",
     "locked": true,
     "schema_version": 3,
     "solution": false,
     "task": false
    }
   },
   "outputs": [],
   "source": [
    "%use sos \n",
    "# Define the 2D mask\n",
    "mask = np.array([[-1, 0, 1],[-2, 0, 2],[-1, 0, 1]])\n",
    "# Apply non-separable Filter\n",
    "vedge_ndi = ndi.convolve(bikesgray, mask, output=np.int32)\n",
    "# Apply separable Filter - we use mask_x and mask_y you defined in the exercise before\n",
    "# filter the columns\n",
    "vedge_ndi_s = ndi.convolve1d(bikesgray, mask_y, axis=0, output=np.int32)\n",
    "# filter the rows\n",
    "vedge_ndi_s = ndi.convolve1d(vedge_ndi_s, mask_x, axis=1, output=np.int32)\n",
    "# Visualize\n",
    "plt.close('all')\n",
    "vedge_viewer = viewer([np.array(vedge_bike_nons), vedge_ndi, np.array(vedge_bike_s), vedge_ndi_s], title=['JS non-separable', 'Python non-separable', 'JS separable', 'Python separable'], subplots=(2,2))"
   ]
  },
  {
   "cell_type": "markdown",
   "metadata": {
    "deletable": false,
    "editable": false,
    "kernel": "SoS",
    "nbgrader": {
     "cell_type": "markdown",
     "checksum": "684e2726d3152eed3d8dcf95cdc27229",
     "grade": false,
     "grade_id": "cell-88ed9417d9374ead",
     "locked": true,
     "schema_version": 3,
     "solution": false,
     "task": false
    }
   },
   "source": [
    "# <a class=\"anchor\"></a> 2. Implementation and classification of digital filters (3 points)\n",
    "[Back to index](#-Index)\n",
    "\n",
    "In this exercise, we will look at 6 different digital filters. Your job, **for 3 points**, is to implement each one of the filters in Python, apply them to an image, and classify their visual effect.\n",
    "\n",
    "Note that you can define a 2D mask in Python with \n",
    "```python\n",
    "np.array([[ 1,  2,  3,  4,  5], \n",
    "          [ 6,  7,  8,  9, 10], \n",
    "          [11, 12, 13, 14, 15],\n",
    "          [16, 17, 18, 19, 20],\n",
    "          [21, 22, 23, 24, 25]])\n",
    "```\n",
    "and define a 1D mask in Python with\n",
    "```python\n",
    "np.array([1, 2, 3, 4, 5])\n",
    "```\n",
    "\n",
    "<div class=\"alert alert-danger\">\n",
    "\n",
    "**Important:** If the 2D mask is separable, implement it as a separable filter using `ndi.convolve1d` with the appropriate 1D masks. Otherwise, use `ndi.convolve`. Review Section [1.D.](#-1.D.-Edge-detection-in-Python) for an example. \n",
    "</div>"
   ]
  },
  {
   "cell_type": "markdown",
   "metadata": {
    "deletable": false,
    "editable": false,
    "kernel": "SoS",
    "nbgrader": {
     "cell_type": "markdown",
     "checksum": "e8e38a1290a96b449c1f924c89fce6da",
     "grade": false,
     "grade_id": "cell-25f8efa499cc3a13",
     "locked": true,
     "schema_version": 3,
     "solution": false,
     "task": false
    }
   },
   "source": [
    "## <a class=\"anchor\"></a> 2.A. Mask A\n",
    "[Back to index](#-Index)\n",
    "\n",
    "In the cell below, **for 0.25 points**, implement the function `filter_A`, which convolves the input image with the filter\n",
    "\n",
    "$$A =\n",
    "\\begin{bmatrix}\n",
    "    0 & 0 & 1 & 0 & 0 \\\\\n",
    "    0 & 1 & 2 & 1 & 0 \\\\\n",
    "    1 & 2 & -16 & 2 & 1 \\\\\n",
    "    0 & 1 & 2 & 1 & 0 \\\\\n",
    "    0 & 0 & 1 & 0 & 0 \\\\\n",
    "\\end{bmatrix}\\,.$$\n",
    "\n",
    "Remember to check if the filter is separable, and in that case, implement it in that way."
   ]
  },
  {
   "cell_type": "code",
   "execution_count": null,
   "metadata": {
    "deletable": false,
    "kernel": "SoS",
    "nbgrader": {
     "cell_type": "code",
     "checksum": "87312531648c78fc875a8e032bfab8fd",
     "grade": false,
     "grade_id": "cell-a49df00199c666c4",
     "locked": false,
     "schema_version": 3,
     "solution": true,
     "task": false
    }
   },
   "outputs": [],
   "source": [
    "%use sos\n",
    "\n",
    "# Function that filters img with the mask A\n",
    "def filter_A(img):\n",
    "    output = img.copy()\n",
    "    \n",
    "    # Filter the image with mask A\n",
    "    \n",
    "    # YOUR CODE HERE\n",
    "    \n",
    "    return output"
   ]
  },
  {
   "cell_type": "markdown",
   "metadata": {
    "deletable": false,
    "editable": false,
    "kernel": "SoS",
    "nbgrader": {
     "cell_type": "markdown",
     "checksum": "e42abb052eb56bf293f153ee381f932f",
     "grade": false,
     "grade_id": "cell-94a0847393c20373",
     "locked": true,
     "schema_version": 3,
     "solution": false,
     "task": false
    }
   },
   "source": [
    "Run the next cell to visualize the result of applying `filter_A` to the image `bikesgray`."
   ]
  },
  {
   "cell_type": "code",
   "execution_count": null,
   "metadata": {
    "deletable": false,
    "editable": false,
    "kernel": "SoS",
    "nbgrader": {
     "cell_type": "code",
     "checksum": "a7bba6e7199ed034ca0043c2b7d7120b",
     "grade": true,
     "grade_id": "cell-1ff60c4e8ad4a813",
     "locked": true,
     "points": 0.25,
     "schema_version": 3,
     "solution": false,
     "task": false
    }
   },
   "outputs": [],
   "source": [
    "%use sos\n",
    "# Apply the function\n",
    "bikesgray_A = filter_A(bikesgray)\n",
    "# Visualize the result\n",
    "plt.close('all')\n",
    "vis_A = viewer([bikesgray, bikesgray_A], title=['Original', 'Convolved with filter A'], subplots=(1,2))"
   ]
  },
  {
   "cell_type": "markdown",
   "metadata": {
    "deletable": false,
    "editable": false,
    "kernel": "SoS",
    "nbgrader": {
     "cell_type": "markdown",
     "checksum": "3dc71107198e863f07adccc17a48994a",
     "grade": false,
     "grade_id": "cell-8685fc2ecdf287cb",
     "locked": true,
     "schema_version": 3,
     "solution": false,
     "task": false
    }
   },
   "source": [
    "**For 0.25 points** answer the following question:<br>\n",
    "Which of the following keywords best describes the visual effect of this filter?\n",
    "\n",
    "1. isotropic blurring, or\n",
    "2. vertical blurring, or\n",
    "3. horizontal blurring, or\n",
    "4. diagonal blurring, or\n",
    "5. sharpening, or\n",
    "6. vertical edge detection, or\n",
    "7. horizontal edge detection, or\n",
    "8. diagonal edge detection, or\n",
    "9. Laplacian: a second order derivative to find edges (maxima and minima), or\n",
    "10. it has not effect."
   ]
  },
  {
   "cell_type": "code",
   "execution_count": null,
   "metadata": {
    "deletable": false,
    "kernel": "SoS",
    "nbgrader": {
     "cell_type": "code",
     "checksum": "0f7345dbe970dd48259855c43841c0b8",
     "grade": false,
     "grade_id": "cell-5447a7b75c32f43d",
     "locked": false,
     "schema_version": 3,
     "solution": true,
     "task": false
    }
   },
   "outputs": [],
   "source": [
    "%use sos\n",
    "# Assign your answer to this variable\n",
    "answer = None\n",
    "# YOUR CODE HERE"
   ]
  },
  {
   "cell_type": "code",
   "execution_count": null,
   "metadata": {
    "deletable": false,
    "editable": false,
    "kernel": "SoS",
    "nbgrader": {
     "cell_type": "code",
     "checksum": "6432a7228c90fc97a1e205ad36d85794",
     "grade": true,
     "grade_id": "cell-1aae516709224dc8",
     "locked": true,
     "points": 0.25,
     "schema_version": 3,
     "solution": false,
     "task": false
    }
   },
   "outputs": [],
   "source": [
    "%use sos\n",
    "# Sanity check\n",
    "assert answer in list(range(1,11)), 'Answer one of 1, 2, 3, 4, 5, 6, 7, 8, 9 or 10'"
   ]
  },
  {
   "cell_type": "markdown",
   "metadata": {
    "deletable": false,
    "editable": false,
    "kernel": "SoS",
    "nbgrader": {
     "cell_type": "markdown",
     "checksum": "6d76852b3f0e3fbe5762bd57c7e1b602",
     "grade": false,
     "grade_id": "cell-d287c24b60062255",
     "locked": true,
     "schema_version": 3,
     "solution": false,
     "task": false
    }
   },
   "source": [
    "## <a class=\"anchor\"></a> 2.B. Mask B\n",
    "[Back to index](#-Index)\n",
    "\n",
    "In the cell below, **for 0.25 points**, implement the function `filter_B`, which convolves the input image with the filter\n",
    "\n",
    "$$B =\n",
    "\\begin{bmatrix}\n",
    "    0 & 1 & 2 & 1 & 0 \\\\\n",
    "    1 & 2 & 4 & 2 & 1 \\\\\n",
    "    2 & 4 & 8 & 4 & 2 \\\\\n",
    "    1 & 2 & 4 & 2 & 1 \\\\\n",
    "    0 & 1 & 2 & 1 & 0 \\\\\n",
    "\\end{bmatrix}\\,.$$\n",
    "\n",
    "Remember to check if the filter is separable, and in that case, implement it in that way."
   ]
  },
  {
   "cell_type": "code",
   "execution_count": null,
   "metadata": {
    "deletable": false,
    "kernel": "SoS",
    "nbgrader": {
     "cell_type": "code",
     "checksum": "394d9c70d8a1b78940a767254f31cf88",
     "grade": false,
     "grade_id": "cell-ea68ff81d2e30188",
     "locked": false,
     "schema_version": 3,
     "solution": true,
     "task": false
    }
   },
   "outputs": [],
   "source": [
    "%use sos\n",
    "\n",
    "# Function that filters img with the mask B\n",
    "def filter_B(img):\n",
    "    output = img.copy()\n",
    "    \n",
    "    # Filter the image with mask B\n",
    "    \n",
    "    # YOUR CODE HERE\n",
    "    \n",
    "    return output"
   ]
  },
  {
   "cell_type": "markdown",
   "metadata": {
    "deletable": false,
    "editable": false,
    "kernel": "SoS",
    "nbgrader": {
     "cell_type": "markdown",
     "checksum": "7d532563fe86aa6ce9b9c94fd8bbce83",
     "grade": false,
     "grade_id": "cell-3caffb4abde56d6a",
     "locked": true,
     "schema_version": 3,
     "solution": false,
     "task": false
    }
   },
   "source": [
    "Run the next cell to visualize the result of applying `filter_B` to the image `bikesgray`."
   ]
  },
  {
   "cell_type": "code",
   "execution_count": null,
   "metadata": {
    "deletable": false,
    "editable": false,
    "kernel": "SoS",
    "nbgrader": {
     "cell_type": "code",
     "checksum": "5b053668b866ebbe6a80b1d2befa9c01",
     "grade": true,
     "grade_id": "cell-4bd2f074776e8c20",
     "locked": true,
     "points": 0.25,
     "schema_version": 3,
     "solution": false,
     "task": false
    }
   },
   "outputs": [],
   "source": [
    "%use sos\n",
    "# Apply the function\n",
    "bikesgray_B = filter_B(bikesgray)\n",
    "# Visualize the result\n",
    "plt.close('all')\n",
    "vis_B = viewer([bikesgray, bikesgray_B], title=['Original', 'Filtered with mask B'], subplots=(1,2))"
   ]
  },
  {
   "cell_type": "markdown",
   "metadata": {
    "deletable": false,
    "editable": false,
    "kernel": "SoS",
    "nbgrader": {
     "cell_type": "markdown",
     "checksum": "3f47fe333aeb9b31654abb759e9fdf38",
     "grade": false,
     "grade_id": "cell-b1fd0c4867b8446f",
     "locked": true,
     "schema_version": 3,
     "solution": false,
     "task": false
    }
   },
   "source": [
    "**For 0.25 points** answer the following question:<br>\n",
    "Which of the following keywords best describes the visual effect of this filter?\n",
    "\n",
    "1. isotropic blurring, or\n",
    "2. vertical blurring, or\n",
    "3. horizontal blurring, or\n",
    "4. diagonal blurring, or\n",
    "5. sharpening, or\n",
    "6. vertical edge detection, or\n",
    "7. horizontal edge detection, or\n",
    "8. diagonal edge detection, or\n",
    "9. Laplacian: a second order derivative to find edges (maxima and minima), or\n",
    "10. it has not effect."
   ]
  },
  {
   "cell_type": "code",
   "execution_count": null,
   "metadata": {
    "deletable": false,
    "kernel": "SoS",
    "nbgrader": {
     "cell_type": "code",
     "checksum": "aab9e1b215ce5a4bc943f3119d8c5e0d",
     "grade": false,
     "grade_id": "cell-28826dd8aeee4fbd",
     "locked": false,
     "schema_version": 3,
     "solution": true,
     "task": false
    }
   },
   "outputs": [],
   "source": [
    "%use sos\n",
    "# Assign your answer to this variable\n",
    "answer = None\n",
    "# YOUR CODE HERE"
   ]
  },
  {
   "cell_type": "code",
   "execution_count": null,
   "metadata": {
    "deletable": false,
    "editable": false,
    "kernel": "SoS",
    "nbgrader": {
     "cell_type": "code",
     "checksum": "150b133d2d67357b97f7062a47a54072",
     "grade": true,
     "grade_id": "cell-69d785a8379b181c",
     "locked": true,
     "points": 0.25,
     "schema_version": 3,
     "solution": false,
     "task": false
    }
   },
   "outputs": [],
   "source": [
    "%use sos\n",
    "# Sanity check\n",
    "assert answer in list(range(1,11)), 'Answer one of 1, 2, 3, 4, 5, 6, 7, 8, 9 or 10'"
   ]
  },
  {
   "cell_type": "markdown",
   "metadata": {
    "deletable": false,
    "editable": false,
    "kernel": "SoS",
    "nbgrader": {
     "cell_type": "markdown",
     "checksum": "9d397a159d9b110407eb572ac33a27f9",
     "grade": false,
     "grade_id": "cell-f92cafcf93a0db16",
     "locked": true,
     "schema_version": 3,
     "solution": false,
     "task": false
    }
   },
   "source": [
    "## <a class=\"anchor\"></a> 2.C. Mask C\n",
    "[Back to index](#-Index)\n",
    "\n",
    "In the cell below, **for 0.25 points**, implement the function `filter_C`, which convolves the input image with the filter\n",
    "\n",
    "$$C =\n",
    "\\begin{bmatrix}\n",
    "    -1 & -1 & -1 & -1 & -1 \\\\\n",
    "    -2 & -2 & -2 & -2 & -2 \\\\\n",
    "    0 & 0 & 0 & 0 & 0 \\\\\n",
    "    2 & 2 & 2 & 2 & 2 \\\\\n",
    "    1 & 1 & 1 & 1 & 1\n",
    "\\end{bmatrix}\\,.$$\n",
    "\n",
    "Remember to check if the filter is separable, and in that case, implement it in that way."
   ]
  },
  {
   "cell_type": "code",
   "execution_count": null,
   "metadata": {
    "deletable": false,
    "kernel": "SoS",
    "nbgrader": {
     "cell_type": "code",
     "checksum": "d4ebd0e91eebae1225254a0ecdee77fe",
     "grade": false,
     "grade_id": "cell-272af542af1aac69",
     "locked": false,
     "schema_version": 3,
     "solution": true,
     "task": false
    }
   },
   "outputs": [],
   "source": [
    "%use sos\n",
    "\n",
    "# Function that filters img with the mask C\n",
    "def filter_C(img):\n",
    "    output = img.copy()\n",
    "    \n",
    "    # Filter the image with mask C\n",
    "    \n",
    "    # YOUR CODE HERE\n",
    "    \n",
    "    return output"
   ]
  },
  {
   "cell_type": "markdown",
   "metadata": {
    "deletable": false,
    "editable": false,
    "kernel": "SoS",
    "nbgrader": {
     "cell_type": "markdown",
     "checksum": "55d764b8c000eed8a8b59844d2b98708",
     "grade": false,
     "grade_id": "cell-94d15031d58549ee",
     "locked": true,
     "schema_version": 3,
     "solution": false,
     "task": false
    }
   },
   "source": [
    "Run the next cell to visualize the result of applying `filter_C` to the image `bikesgray`."
   ]
  },
  {
   "cell_type": "code",
   "execution_count": null,
   "metadata": {
    "deletable": false,
    "editable": false,
    "kernel": "SoS",
    "nbgrader": {
     "cell_type": "code",
     "checksum": "47409d305b0191908ec8f895d38e1bd4",
     "grade": true,
     "grade_id": "cell-912e231be098ed1c",
     "locked": true,
     "points": 0.25,
     "schema_version": 3,
     "solution": false,
     "task": false
    }
   },
   "outputs": [],
   "source": [
    "%use sos\n",
    "# Apply the function\n",
    "bikesgray_C = filter_C(bikesgray)\n",
    "# Visualize the result\n",
    "plt.close('all')\n",
    "vis_C = viewer([bikesgray, bikesgray_C], title=['Original', 'Filtered with mask C'], subplots=(1,2))"
   ]
  },
  {
   "cell_type": "markdown",
   "metadata": {
    "deletable": false,
    "editable": false,
    "kernel": "SoS",
    "nbgrader": {
     "cell_type": "markdown",
     "checksum": "63c8ec280ddd57ac952d2de35dcc8bc1",
     "grade": false,
     "grade_id": "cell-91f9deee1a55bd99",
     "locked": true,
     "schema_version": 3,
     "solution": false,
     "task": false
    }
   },
   "source": [
    "**For 0.25 points** answer the following question:<br>\n",
    "Which of the following keywords best describes the visual effect of this filter?\n",
    "\n",
    "1. isotropic blurring, or\n",
    "2. vertical blurring, or\n",
    "3. horizontal blurring, or\n",
    "4. diagonal blurring, or\n",
    "5. sharpening, or\n",
    "6. vertical edge detection, or\n",
    "7. horizontal edge detection, or\n",
    "8. diagonal edge detection, or\n",
    "9. Laplacian: a second order derivative to find edges (maxima and minima), or\n",
    "10. it has not effect."
   ]
  },
  {
   "cell_type": "code",
   "execution_count": null,
   "metadata": {
    "deletable": false,
    "kernel": "SoS",
    "nbgrader": {
     "cell_type": "code",
     "checksum": "ac5e56905c80dafc1a3a5a932dacbaa7",
     "grade": false,
     "grade_id": "cell-f16ee02c059ed28a",
     "locked": false,
     "schema_version": 3,
     "solution": true,
     "task": false
    }
   },
   "outputs": [],
   "source": [
    "%use sos\n",
    "# Assign your answer to this variable\n",
    "answer = None\n",
    "# YOUR CODE HERE"
   ]
  },
  {
   "cell_type": "code",
   "execution_count": null,
   "metadata": {
    "deletable": false,
    "editable": false,
    "kernel": "SoS",
    "nbgrader": {
     "cell_type": "code",
     "checksum": "145ce5c12bceb9624dc20fd38c644528",
     "grade": true,
     "grade_id": "cell-6186de8d22151933",
     "locked": true,
     "points": 0.25,
     "schema_version": 3,
     "solution": false,
     "task": false
    }
   },
   "outputs": [],
   "source": [
    "%use sos\n",
    "# Sanity check\n",
    "assert answer in list(range(1,11)), 'Answer one of 1, 2, 3, 4, 5, 6, 7, 8, 9 or 10'"
   ]
  },
  {
   "cell_type": "markdown",
   "metadata": {
    "deletable": false,
    "editable": false,
    "kernel": "SoS",
    "nbgrader": {
     "cell_type": "markdown",
     "checksum": "39340cb93d4b60b2f4ee939f9acb2820",
     "grade": false,
     "grade_id": "cell-43a53842332bbb66",
     "locked": true,
     "schema_version": 3,
     "solution": false,
     "task": false
    }
   },
   "source": [
    "## <a class=\"anchor\"></a> 2.D. Mask D\n",
    "[Back to index](#-Index)\n",
    "\n",
    "In the cell below, **for 0.25 points**, implement the function `filter_D`, which convolves the input image with the filter\n",
    "\n",
    "$$D = \n",
    "\\begin{bmatrix}\n",
    "-1 & -4 & -6 & -4 & -1 \\\\\n",
    "-4 & -16 & -24 & -16 & -4 \\\\\n",
    "-6 & -24 & 476 & -24 & -6 \\\\\n",
    "-4 & -16 & -24 & -16 & -4 \\\\\n",
    "-1 & -4 & -6 & -4 & -1\n",
    "\\end{bmatrix}\\,.$$\n",
    "\n",
    "Remember to check if the filter is separable, and in that case, implement it in that way."
   ]
  },
  {
   "cell_type": "code",
   "execution_count": null,
   "metadata": {
    "deletable": false,
    "kernel": "SoS",
    "nbgrader": {
     "cell_type": "code",
     "checksum": "f867f64598ca848fd55a61a1153e1281",
     "grade": false,
     "grade_id": "cell-4ab67e5043c326fc",
     "locked": false,
     "schema_version": 3,
     "solution": true,
     "task": false
    }
   },
   "outputs": [],
   "source": [
    "%use sos\n",
    "\n",
    "# Function that filters img with the mask D\n",
    "def filter_D(img):\n",
    "    output = img.copy()\n",
    "    \n",
    "    # Filter the image with mask D\n",
    "    \n",
    "    # YOUR CODE HERE\n",
    "    \n",
    "    return output"
   ]
  },
  {
   "cell_type": "markdown",
   "metadata": {
    "deletable": false,
    "editable": false,
    "kernel": "SoS",
    "nbgrader": {
     "cell_type": "markdown",
     "checksum": "b66a6da2992fcafb581bef614429edce",
     "grade": false,
     "grade_id": "cell-c647c16bf1a486a2",
     "locked": true,
     "schema_version": 3,
     "solution": false,
     "task": false
    }
   },
   "source": [
    "Run the next cell to visualize the result of applying `filter_D` to the image `bikesgray`."
   ]
  },
  {
   "cell_type": "code",
   "execution_count": null,
   "metadata": {
    "deletable": false,
    "editable": false,
    "kernel": "SoS",
    "nbgrader": {
     "cell_type": "code",
     "checksum": "81ad87877e8c88cc38dc129bc75aa304",
     "grade": true,
     "grade_id": "cell-cc68125ec3aea436",
     "locked": true,
     "points": 0.25,
     "schema_version": 3,
     "solution": false,
     "task": false
    }
   },
   "outputs": [],
   "source": [
    "%use sos\n",
    "# Apply the function\n",
    "bikesgray_D = filter_D(bikesgray)\n",
    "# Visualize the result\n",
    "plt.close('all')\n",
    "vis_D = viewer([bikesgray, bikesgray_D], title=['Original', 'Filtered with mask D'], subplots=(1,2))"
   ]
  },
  {
   "cell_type": "markdown",
   "metadata": {
    "deletable": false,
    "editable": false,
    "kernel": "SoS",
    "nbgrader": {
     "cell_type": "markdown",
     "checksum": "79989a149d861b9d047f898fef6a93bc",
     "grade": false,
     "grade_id": "cell-0b65f5379d705bc4",
     "locked": true,
     "schema_version": 3,
     "solution": false,
     "task": false
    }
   },
   "source": [
    "**For 0.25 points** answer the following question:<br>\n",
    "Which of the following keywords best describes the visual effect of this filter?\n",
    "\n",
    "1. isotropic blurring, or\n",
    "2. vertical blurring, or\n",
    "3. horizontal blurring, or\n",
    "4. diagonal blurring, or\n",
    "5. sharpening, or\n",
    "6. vertical edge detection, or\n",
    "7. horizontal edge detection, or\n",
    "8. diagonal edge detection, or\n",
    "9. Laplacian: a second order derivative to find edges (maxima and minima), or\n",
    "10. it has not effect."
   ]
  },
  {
   "cell_type": "code",
   "execution_count": null,
   "metadata": {
    "deletable": false,
    "kernel": "SoS",
    "nbgrader": {
     "cell_type": "code",
     "checksum": "d04a63a648c6b9a16259c8289661b874",
     "grade": false,
     "grade_id": "cell-deab1ba862c2eff9",
     "locked": false,
     "schema_version": 3,
     "solution": true,
     "task": false
    }
   },
   "outputs": [],
   "source": [
    "%use sos\n",
    "# Assign your answer to this variable\n",
    "answer = None\n",
    "# YOUR CODE HERE"
   ]
  },
  {
   "cell_type": "code",
   "execution_count": null,
   "metadata": {
    "deletable": false,
    "editable": false,
    "kernel": "SoS",
    "nbgrader": {
     "cell_type": "code",
     "checksum": "b6d63bee9efd413f29da03e036ac25f1",
     "grade": true,
     "grade_id": "cell-8e4a71699dc0e13a",
     "locked": true,
     "points": 0.25,
     "schema_version": 3,
     "solution": false,
     "task": false
    }
   },
   "outputs": [],
   "source": [
    "%use sos\n",
    "# Sanity check\n",
    "assert answer in list(range(1,11)), 'Answer one of 1, 2, 3, 4, 5, 6, 7, 8, 9 or 10'"
   ]
  },
  {
   "cell_type": "markdown",
   "metadata": {
    "deletable": false,
    "editable": false,
    "kernel": "SoS",
    "nbgrader": {
     "cell_type": "markdown",
     "checksum": "4de4cae67a2f10a5a92dbd5252369477",
     "grade": false,
     "grade_id": "cell-f2e72c21bcc037a0",
     "locked": true,
     "schema_version": 3,
     "solution": false,
     "task": false
    }
   },
   "source": [
    "## <a class=\"anchor\"></a> 2.E. Mask E\n",
    "[Back to index](#-Index)\n",
    "\n",
    "In the cell below, **for 0.25 points**, implement the function `filter_E`, which convolves the input image with the filter \n",
    "\n",
    "$$E = \n",
    "\\begin{bmatrix}\n",
    "    0 & 0 & 0 & 0 & 0 \\\\\n",
    "    0 & 0 & 0 & 0 & 0 \\\\\n",
    "    0 & 0 & 1 & 0 & 0 \\\\\n",
    "    0 & 0 & 0 & 0 & 0 \\\\\n",
    "    0 & 0 & 0 & 0 & 0 \\\\\n",
    "\\end{bmatrix}\\,.$$\n",
    "\n",
    "Remember to check if the filter is separable, and in that case, implement it in that way."
   ]
  },
  {
   "cell_type": "code",
   "execution_count": null,
   "metadata": {
    "deletable": false,
    "kernel": "SoS",
    "nbgrader": {
     "cell_type": "code",
     "checksum": "03b6f232887702f119d30ab64e29d8d5",
     "grade": false,
     "grade_id": "cell-173cb71050c2c7e1",
     "locked": false,
     "schema_version": 3,
     "solution": true,
     "task": false
    }
   },
   "outputs": [],
   "source": [
    "%use sos\n",
    "\n",
    "# Function that filters img with the mask E\n",
    "def filter_E(img):\n",
    "    output = img.copy()\n",
    "    \n",
    "    # Filter the image with mask E\n",
    "    \n",
    "    # YOUR CODE HERE\n",
    "    \n",
    "    return output"
   ]
  },
  {
   "cell_type": "markdown",
   "metadata": {
    "deletable": false,
    "editable": false,
    "kernel": "SoS",
    "nbgrader": {
     "cell_type": "markdown",
     "checksum": "c2b34a7dc79f864e4c89a7ad327fc30a",
     "grade": false,
     "grade_id": "cell-7a9854133b2bfe83",
     "locked": true,
     "schema_version": 3,
     "solution": false,
     "task": false
    }
   },
   "source": [
    "Run the next cell to visualize the result of applying `filter_E` to the image `bikesgray`."
   ]
  },
  {
   "cell_type": "code",
   "execution_count": null,
   "metadata": {
    "deletable": false,
    "editable": false,
    "kernel": "SoS",
    "nbgrader": {
     "cell_type": "code",
     "checksum": "448e1979a1cd0821943314833e5b22bc",
     "grade": true,
     "grade_id": "cell-817aa10b2ac7c506",
     "locked": true,
     "points": 0.25,
     "schema_version": 3,
     "solution": false,
     "task": false
    }
   },
   "outputs": [],
   "source": [
    "%use sos\n",
    "# Apply the function\n",
    "bikesgray_E = filter_E(bikesgray)\n",
    "# Visualize the result\n",
    "plt.close('all')\n",
    "vis_E = viewer([bikesgray, bikesgray_E], title=['Original', 'Filtered with mask E'], subplots=(1,2))"
   ]
  },
  {
   "cell_type": "markdown",
   "metadata": {
    "deletable": false,
    "editable": false,
    "kernel": "SoS",
    "nbgrader": {
     "cell_type": "markdown",
     "checksum": "ca5bf162c48badcc1d55c1975c38b06a",
     "grade": false,
     "grade_id": "cell-88f79d21ec289e43",
     "locked": true,
     "schema_version": 3,
     "solution": false,
     "task": false
    }
   },
   "source": [
    "**For 0.25 points** answer the following question:<br>\n",
    "Which of the following keywords best describes the visual effect of this filter?\n",
    "\n",
    "1. isotropic blurring, or\n",
    "2. vertical blurring, or\n",
    "3. horizontal blurring, or\n",
    "4. diagonal blurring, or\n",
    "5. sharpening, or\n",
    "6. vertical edge detection, or\n",
    "7. horizontal edge detection, or\n",
    "8. diagonal edge detection, or\n",
    "9. Laplacian: a second order derivative to find edges (maxima and minima), or\n",
    "10. it has not effect."
   ]
  },
  {
   "cell_type": "code",
   "execution_count": null,
   "metadata": {
    "deletable": false,
    "kernel": "SoS",
    "nbgrader": {
     "cell_type": "code",
     "checksum": "6df200c727963a1845e485592890d72d",
     "grade": false,
     "grade_id": "cell-2b64f5ff98234834",
     "locked": false,
     "schema_version": 3,
     "solution": true,
     "task": false
    }
   },
   "outputs": [],
   "source": [
    "%use sos\n",
    "# Assign your answer to this variable\n",
    "answer = None\n",
    "# YOUR CODE HERE"
   ]
  },
  {
   "cell_type": "code",
   "execution_count": null,
   "metadata": {
    "deletable": false,
    "editable": false,
    "kernel": "SoS",
    "nbgrader": {
     "cell_type": "code",
     "checksum": "722e770d4c5ba90be6aabe15f9eeb4d7",
     "grade": true,
     "grade_id": "cell-59c47107eb0e8e63",
     "locked": true,
     "points": 0.25,
     "schema_version": 3,
     "solution": false,
     "task": false
    }
   },
   "outputs": [],
   "source": [
    "%use sos\n",
    "# Sanity check\n",
    "assert answer in list(range(1,11)), 'Answer one of 1, 2, 3, 4, 5, 6, 7, 8, 9 or 10'"
   ]
  },
  {
   "cell_type": "markdown",
   "metadata": {
    "deletable": false,
    "editable": false,
    "kernel": "SoS",
    "nbgrader": {
     "cell_type": "markdown",
     "checksum": "cfbcfe9e4ecb6fec00188e1fab4a853c",
     "grade": false,
     "grade_id": "cell-888fd31f6fc28437",
     "locked": true,
     "schema_version": 3,
     "solution": false,
     "task": false
    }
   },
   "source": [
    "## <a class=\"anchor\"></a> 2.F. Mask F\n",
    "[Back to index](#-Index)\n",
    "\n",
    "In the cell below, **for 0.25 points**, implement the function `filter_F`, which convolves the input image with the filter \n",
    "\n",
    "$$F = \n",
    "\\begin{bmatrix}\n",
    "    0 & -1 & -1 & 0 & 0 \\\\\n",
    "    -1 & -1 & 0 & 0 & 0 \\\\\n",
    "    -1 & 0 & 0 & 0 & 1 \\\\\n",
    "    0 & 0 & 0 & 1 & 1 \\\\\n",
    "    0 & 0 & 1 & 1 & 0 \\\\\n",
    "\\end{bmatrix}\\,.$$\n",
    "\n",
    "Remember to check if the filter is separable, and in that case, implement it in that way."
   ]
  },
  {
   "cell_type": "code",
   "execution_count": null,
   "metadata": {
    "deletable": false,
    "kernel": "SoS",
    "nbgrader": {
     "cell_type": "code",
     "checksum": "1854e57c3447261f09a9b3a2240cc738",
     "grade": false,
     "grade_id": "cell-5dfdcf7403d7e9d2",
     "locked": false,
     "schema_version": 3,
     "solution": true,
     "task": false
    }
   },
   "outputs": [],
   "source": [
    "%use sos\n",
    "\n",
    "# Function that filters img with the mask F\n",
    "def filter_F(img):\n",
    "    output = img.copy()\n",
    "    \n",
    "    # Filter the image with mask F\n",
    "    \n",
    "    # YOUR CODE HERE\n",
    "    \n",
    "    return output"
   ]
  },
  {
   "cell_type": "markdown",
   "metadata": {
    "deletable": false,
    "editable": false,
    "kernel": "SoS",
    "nbgrader": {
     "cell_type": "markdown",
     "checksum": "7c144aa393ad5d5c7f42a03fb769017e",
     "grade": false,
     "grade_id": "cell-f4360dff7751e4a4",
     "locked": true,
     "schema_version": 3,
     "solution": false,
     "task": false
    }
   },
   "source": [
    "Run the next cell to visualize the result of applying `filter_F` to the image `bikesgray`."
   ]
  },
  {
   "cell_type": "code",
   "execution_count": null,
   "metadata": {
    "deletable": false,
    "editable": false,
    "kernel": "SoS",
    "nbgrader": {
     "cell_type": "code",
     "checksum": "3e2c3db9fe5c49663bc064148dfd5179",
     "grade": true,
     "grade_id": "cell-89ecfa2af17122fe",
     "locked": true,
     "points": 0.25,
     "schema_version": 3,
     "solution": false,
     "task": false
    }
   },
   "outputs": [],
   "source": [
    "%use sos\n",
    "# Apply the function\n",
    "bikesgray_F = filter_F(bikesgray)\n",
    "# Visualize the result\n",
    "plt.close('all')\n",
    "vis_F = viewer([bikesgray, bikesgray_F], title=['Original', 'Filtered with mask F'], subplots=(1,2))"
   ]
  },
  {
   "cell_type": "markdown",
   "metadata": {
    "deletable": false,
    "editable": false,
    "kernel": "SoS",
    "nbgrader": {
     "cell_type": "markdown",
     "checksum": "790b6e59f82f83384d0ea94b5f123f74",
     "grade": false,
     "grade_id": "cell-bcff8dcd8ce012f8",
     "locked": true,
     "schema_version": 3,
     "solution": false,
     "task": false
    }
   },
   "source": [
    "**For 0.25 points** answer the following question:<br>\n",
    "Which of the following keywords best describes the visual effect of this filter?\n",
    "\n",
    "1. isotropic blurring, or\n",
    "2. vertical blurring, or\n",
    "3. horizontal blurring, or\n",
    "4. diagonal blurring, or\n",
    "5. sharpening, or\n",
    "6. vertical edge detection, or\n",
    "7. horizontal edge detection, or\n",
    "8. diagonal edge detection, or\n",
    "9. Laplacian: a second order derivative to find edges (maxima and minima), or\n",
    "10. it has not effect."
   ]
  },
  {
   "cell_type": "code",
   "execution_count": null,
   "metadata": {
    "deletable": false,
    "kernel": "SoS",
    "nbgrader": {
     "cell_type": "code",
     "checksum": "93c51cd4382b5efb11a67618d3541e73",
     "grade": false,
     "grade_id": "cell-a4ac97cd58f978dc",
     "locked": false,
     "schema_version": 3,
     "solution": true,
     "task": false
    }
   },
   "outputs": [],
   "source": [
    "%use sos\n",
    "# Assign your answer to this variable\n",
    "answer = None\n",
    "# YOUR CODE HERE"
   ]
  },
  {
   "cell_type": "code",
   "execution_count": null,
   "metadata": {
    "deletable": false,
    "editable": false,
    "kernel": "SoS",
    "nbgrader": {
     "cell_type": "code",
     "checksum": "bedb6e7120698ff92d1b87515e4a22ba",
     "grade": true,
     "grade_id": "cell-0ba30a28ab95dad2",
     "locked": true,
     "points": 0.25,
     "schema_version": 3,
     "solution": false,
     "task": false
    }
   },
   "outputs": [],
   "source": [
    "%use sos\n",
    "# Sanity check\n",
    "assert answer in list(range(1,11)), 'Answer one of 1, 2, 3, 4, 5, 6, 7, 8, 9 or 10'"
   ]
  },
  {
   "cell_type": "markdown",
   "metadata": {
    "deletable": false,
    "editable": false,
    "kernel": "Python3",
    "nbgrader": {
     "cell_type": "markdown",
     "checksum": "f7c4ad1faf155cfe139ef69ccd8c8d52",
     "grade": false,
     "grade_id": "cell-727e084ec8969cc3",
     "locked": true,
     "schema_version": 3,
     "solution": false,
     "task": false
    }
   },
   "source": [
    "## <a class=\"anchor\"></a> 3. Gaussian filter (4 points)\n",
    "[Back to index](#-Index)\n",
    "\n",
    "In this exercise we will implement a very popular low-pass filter, the Gaussian filter. The Gaussian filter is used for noise reduction, realistic blur, and many other tasks. \n",
    "\n",
    "We propose to implement the 2D Gaussian filter with impulse response $h_{\\sigma}[m,n]$, where $\\sigma$ is the standard deviation of an isotropic 2D Gaussian and controls the smoothing strength. This impulse response discretizes the 2D Gaussian function $h_\\sigma(x,y)$ between $[-\\lceil3\\sigma\\rceil,\\lceil 3\\sigma\\rceil]$ in $x$ and $y$. You will choose the size of the filter to be $N = 2\\lceil 3\\sigma \\rceil+1$ (hence, $N$ is always odd), and you will ensure your impulse response adds up to $1$ using the appropriate normalization. Here, $\\lceil x \\rceil$ refers to the ceiling function, i.e., the smallest integer larger than a given $x\\in\\mathbb{R}$. \n",
    "\n",
    "Remember that the expression of an [isotropic 2D Gaussian](https://en.wikipedia.org/wiki/Multivariate_normal_distribution) is\n",
    "\n",
    "$$h_\\sigma(x,y) = \\frac{1}{2\\pi\\sigma^2}\\exp\\left(-\\frac{x^2 + y^2}{2\\sigma^2}\\right) = \\frac{1}{\\sqrt{2\\pi}\\sigma}\\exp\\left(-\\frac{x^2}{2\\sigma^2}\\right) \\frac{1}{\\sqrt{2\\pi}\\sigma}\\exp\\left(-\\frac{ y^2}{2\\sigma^2}\\right) \\,.$$"
   ]
  },
  {
   "cell_type": "markdown",
   "metadata": {
    "deletable": false,
    "editable": false,
    "kernel": "Python3",
    "nbgrader": {
     "cell_type": "markdown",
     "checksum": "a5673be9c2b059b8ef0cd3799f32a8b9",
     "grade": false,
     "grade_id": "cell-4ee31adda2ebf52a",
     "locked": true,
     "schema_version": 3,
     "solution": false,
     "task": false
    }
   },
   "source": [
    "## <a class=\"anchor\"></a> 3.A. Implementation of a 2D Gaussian filter (4 points)\n",
    "[Back to index](#-Index)\n",
    "\n",
    "For **3 points, implement the method `gaussian(img, sigma)`** that convolves an image with a Gaussian filter using a separable implementation. If you wish, you can take advantage of the method `filter1D` defined in Section [1.B.](#-1.B.-Separable-version-(2-points)).\n",
    "\n",
    "<div class=\"alert alert-info\">\n",
    "    <b>Hint: </b> Remember that you can use <a href=\"https://developer.mozilla.org/en-US/docs/Web/JavaScript/Reference/Global_Objects/Math\">the <code>Math</code> library</a> to access different mathematical functions (<code>Math.ceil()</code>, <code>Math.floor()</code>, <code>Math.exp()</code>, <code>Math.PI</code>, <code>Math.sqrt()</code>).\n",
    "</div>\n",
    "\n",
    "<div class=\"alert alert-info\">\n",
    "\n",
    "**Remember:** The first argument to the `Image` constructor is the **height** and the second is the **width**: `new Image(height, width)` or `new Image([height, width])`. Feel free to go back to [Lab 0: Introduction](./Introductory.ipynb) to review the basic usage of the IPLabImageAccess class.\n",
    "</div>"
   ]
  },
  {
   "cell_type": "code",
   "execution_count": null,
   "metadata": {
    "deletable": false,
    "kernel": "JavaScript",
    "nbgrader": {
     "cell_type": "code",
     "checksum": "c64a63c5851d009e20eff8d76b747685",
     "grade": false,
     "grade_id": "cell-6afcfd812f79ebb9",
     "locked": false,
     "schema_version": 3,
     "solution": true,
     "task": false
    }
   },
   "outputs": [],
   "source": [
    "%use javascript\n",
    "// function that performs a gaussian filter with sigma on img\n",
    "function gaussian(img, sigma){\n",
    "    // declare output variable\n",
    "    var output = new Image(img.shape());\n",
    "    \n",
    "    // YOUR CODE HERE\n",
    "        \n",
    "    }    \n",
    "    return output\n",
    "}"
   ]
  },
  {
   "cell_type": "markdown",
   "metadata": {
    "deletable": false,
    "editable": false,
    "kernel": "JavaScript",
    "nbgrader": {
     "cell_type": "markdown",
     "checksum": "d8e25714ca40f3b326f35de7f0411eee",
     "grade": false,
     "grade_id": "cell-6e545f157757b7dd",
     "locked": true,
     "schema_version": 3,
     "solution": false,
     "task": false
    }
   },
   "source": [
    "We have designed a quick test for you to evaluate your method, applying it to a $3 \\times 3$ impulse image. Run the following cell and check that your output has all the desired properties of a Gaussian."
   ]
  },
  {
   "cell_type": "code",
   "execution_count": null,
   "metadata": {
    "deletable": false,
    "editable": false,
    "kernel": "JavaScript",
    "nbgrader": {
     "cell_type": "code",
     "checksum": "ef1868904869d162969371a007bd42f8",
     "grade": true,
     "grade_id": "cell-60827fde3a4cfda5",
     "locked": true,
     "points": 2,
     "schema_version": 3,
     "solution": false,
     "task": false
    }
   },
   "outputs": [],
   "source": [
    "%use javascript\n",
    "%put impulse_gaussian\n",
    "// define the impulse image\n",
    "var impulse = new Image([[0, 0, 0], [0, 1, 0], [0, 0, 0]])\n",
    "\n",
    "// apply filter to previously defined impulse\n",
    "var impulse_gaussian = gaussian(impulse, 0.5).toArray()\n",
    "\n",
    "// look at result, verify that it has the properties of a Gaussian\n",
    "console.log(impulse_gaussian)\n",
    "\n",
    "// this assertion checks proper behaviour: that the center is the maximum, and that two pixels in equivalent positions have the same values.\n",
    "if(impulse_gaussian[1][1] < impulse_gaussian[2][1] || impulse_gaussian[0][1] !== impulse_gaussian[2][1]){\n",
    "    throw new Error(\"Implementation not correct\");\n",
    "}else{console.log('Well done! Your implementation seems to be correct.')}\n",
    "\n",
    "// check normalization\n",
    "sum = 0\n",
    "for(var x = 0; x < impulse_gaussian.length; x++){\n",
    "    for (var y =0; y < impulse_gaussian.length; y++){\n",
    "        sum += impulse_gaussian[y][x]\n",
    "    }\n",
    "}\n",
    "if (Math.abs(sum - 1) > 1e-5){\n",
    "    throw new Error(\"Normalization not correct\");\n",
    "}else{console.log(\"Well done! The output sums up to approximately 1.\")}\n",
    "    "
   ]
  },
  {
   "cell_type": "markdown",
   "metadata": {
    "deletable": false,
    "editable": false,
    "kernel": "Python3",
    "nbgrader": {
     "cell_type": "markdown",
     "checksum": "4a5c5e5fc4067d5bccda65858918211b",
     "grade": false,
     "grade_id": "cell-55250fb304b56fbb",
     "locked": true,
     "schema_version": 3,
     "solution": false,
     "task": false
    }
   },
   "source": [
    "Now that you have tested your Gaussian filter, apply it to the image `bikesgray`. Use different values of $\\sigma$. Look at the evolution of the mean and the standard deviation (you can get them from the statistics box in the `IPLabViewer` class, or you can use the functions `np.mean` and `np.std`). Then, answer the two multiple choice questions.\n",
    "\n",
    "Run and modify the two following cells to apply Gaussian filters with different $\\sigma$ values to `bikesgray` and view the result. "
   ]
  },
  {
   "cell_type": "code",
   "execution_count": null,
   "metadata": {
    "kernel": "JavaScript"
   },
   "outputs": [],
   "source": [
    "%use javascript\n",
    "%put bikesgray_gaussian1 bikesgray_gaussian5\n",
    "\n",
    "// apply filter to Image object. To try different sigma values, change the variables or declare more. \n",
    "var bikesgray_gaussian1 = gaussian(new Image(bikesgray), 1).toArray()\n",
    "var bikesgray_gaussian5 = gaussian(new Image(bikesgray), 5).toArray()"
   ]
  },
  {
   "cell_type": "code",
   "execution_count": null,
   "metadata": {
    "kernel": "SoS"
   },
   "outputs": [],
   "source": [
    "%use sos\n",
    "\n",
    "# Declare parameters for IPLabViewer. If you want to visualize more sigma values, update the previous cell and these lists accordingly\n",
    "image_list_blur = [bikesgray, bikesgray_gaussian1, bikesgray_gaussian5]\n",
    "title_list_blur = ['Original', 'Sigma: 1', 'Sigma: 5']\n",
    "# Make sure that the object used is a numpy array\n",
    "for i in range(len(image_list_blur)):\n",
    "    image_list_blur[i] = np.array(image_list_blur[i])\n",
    "\n",
    "# To allow a direct comparison of the images.\n",
    "plt.close('all')\n",
    "blurred_bikesgray_viewer = viewer(image_list_blur, title = title_list_blur, hist = True)"
   ]
  },
  {
   "cell_type": "markdown",
   "metadata": {
    "deletable": false,
    "editable": false,
    "kernel": "Python3",
    "nbgrader": {
     "cell_type": "markdown",
     "checksum": "5cf17e6240801aa39b0bf39a0300e073",
     "grade": false,
     "grade_id": "cell-ad335badddb0d387",
     "locked": true,
     "schema_version": 3,
     "solution": false,
     "task": false
    }
   },
   "source": [
    "### Multiple Choice Question\n",
    "\n",
    "After modifying the two cells above and visualizing the results, answer the next two questions (worth **0.5 points** each).\n",
    "\n",
    "* Q1: With a higher $\\sigma$, what happens to the mean and the standard deviation? How would you expect the Fourier transform to change?\n",
    "    1. The mean and the standard deviation are lower. The Fourier transform will show lower values for higher frequencies.\n",
    "    2. The mean and the standard deviation are higher. The Fourier transform will show lower values for higher frequencies.\n",
    "    3. The mean and the standard deviation do not change. The Fourier transform will show higher values for higher frequencies.\n",
    "    4. The mean is higher and the standard deviation does not change. The Fourier transform will show lower values for higher frequencies.\n",
    "    5. The mean does not change and the standard deviation is lower. The Fourier transform will show lower values for higher frequencies.\n",
    "\n",
    "\n",
    "* Q2: What will be the output image when $\\sigma\\rightarrow \\infty$? What type of filter would that be?\n",
    "    1. An image equal to the original. It would be an all-pass filter.\n",
    "    2. A constant image. It would be a high-pass filter.\n",
    "    3. A 2D Gaussian. It would be a band-pass filter.\n",
    "    4. A constant image. It would be a low-pass filter.\n",
    "\n",
    "Modify the variables `answer_one` and `answer_two` in the next cell to match your choices. The second and third cells are for you to make sure that your answer is in the valid range (they should not raise any error)."
   ]
  },
  {
   "cell_type": "code",
   "execution_count": null,
   "metadata": {
    "deletable": false,
    "kernel": "SoS",
    "nbgrader": {
     "cell_type": "code",
     "checksum": "32a9b32c3392f858306ebd5a37335037",
     "grade": false,
     "grade_id": "cell-d31ab4ed244354b6",
     "locked": false,
     "schema_version": 3,
     "solution": true,
     "task": false
    }
   },
   "outputs": [],
   "source": [
    "%use sos\n",
    "# Modify these variables\n",
    "answer_one = None\n",
    "answer_two = None\n",
    "# YOUR CODE HERE"
   ]
  },
  {
   "cell_type": "code",
   "execution_count": null,
   "metadata": {
    "deletable": false,
    "editable": false,
    "kernel": "SoS",
    "nbgrader": {
     "cell_type": "code",
     "checksum": "08d1f667427fdf7d3d5ddea83459c85b",
     "grade": true,
     "grade_id": "cell-798aea71d77a0954",
     "locked": true,
     "points": 0.5,
     "schema_version": 3,
     "solution": false,
     "task": false
    }
   },
   "outputs": [],
   "source": [
    "%use sos\n",
    "# Sanity test\n",
    "assert answer_one in [1, 2, 3, 4, 5], 'Answer one of 1, 2, 3, 4 or 5'"
   ]
  },
  {
   "cell_type": "code",
   "execution_count": null,
   "metadata": {
    "deletable": false,
    "editable": false,
    "kernel": "SoS",
    "nbgrader": {
     "cell_type": "code",
     "checksum": "a2dfff298f05e6e76350a4b78a25a7fe",
     "grade": true,
     "grade_id": "cell-54c9fa3efc0ce756",
     "locked": true,
     "points": 0.5,
     "schema_version": 3,
     "solution": false,
     "task": false
    }
   },
   "outputs": [],
   "source": [
    "%use sos\n",
    "# Sanity test\n",
    "assert answer_two in [1, 2, 3, 4], 'Answer one of 1, 2, 3 or 4'"
   ]
  },
  {
   "cell_type": "markdown",
   "metadata": {
    "deletable": false,
    "editable": false,
    "kernel": "Python3",
    "nbgrader": {
     "cell_type": "markdown",
     "checksum": "ef89332926bd02bf0be089e494ddbf99",
     "grade": false,
     "grade_id": "cell-ab3b2bafff5869b1",
     "locked": true,
     "schema_version": 3,
     "solution": false,
     "task": false
    }
   },
   "source": [
    "## <a class=\"anchor\"></a> 3.B. Gaussian filter in Python\n",
    "[Back to index](#-Index)\n",
    "\n",
    "There are several implementations of Gaussian filters in Python. We will use the `scikit-image` implementation (see its documentation [here](https://scikit-image.org/docs/dev/api/skimage.filters.html#skimage.filters.gaussian)). The basic syntax is the following:\n",
    "\n",
    "```python\n",
    "output = skimage.filters.gaussian(input, sigma, mode, truncate, preserve_range = True)\n",
    "```\n",
    "\n",
    "The parameters are:\n",
    "* `input` (numpy array): Original image.\n",
    "* `sigma` (float): $\\sigma$ value.\n",
    "* `mode` (string): Boundary conditions. As in the rest of the course, we will be using `'reflect'`.\n",
    "* `truncate` (float): truncate the filter at this many standard deviations. Defaults to 4, but we will use 3 to agree with the implementation in JavaScript.\n",
    "* `preserve_range` (boolean): indicates whether to convert the image to a floating point value between $0$ and $1$ (`False`), or simply normalizing the Gaussian kernel to sum to one (`True`). \n",
    "\n",
    "The output is the filtered image. \n",
    "\n",
    "In the next cells, we will give you an example on the image `bikesgray`. Furthermore, we will compare it to your implementation. \n",
    "\n",
    "Run the next cell to get a blurred version of bikesgray using the skimage gaussian filter. We will use $\\sigma = 10$."
   ]
  },
  {
   "cell_type": "code",
   "execution_count": null,
   "metadata": {
    "deletable": false,
    "editable": false,
    "kernel": "SoS",
    "nbgrader": {
     "cell_type": "code",
     "checksum": "77a51d6a19ee367776bb6f1ea8cd6dc5",
     "grade": false,
     "grade_id": "cell-96a61b2fe62e1965",
     "locked": true,
     "schema_version": 3,
     "solution": false,
     "task": false
    }
   },
   "outputs": [],
   "source": [
    "%use sos\n",
    "\n",
    "bikesgray_gaussian_skimage = skimage.filters.gaussian(bikesgray, sigma = 10 , mode = 'reflect', truncate = 3, preserve_range = True)"
   ]
  },
  {
   "cell_type": "markdown",
   "metadata": {
    "deletable": false,
    "editable": false,
    "kernel": "Python3",
    "nbgrader": {
     "cell_type": "markdown",
     "checksum": "19be39693bcf449a210482bf8fdf468a",
     "grade": false,
     "grade_id": "cell-7bd5fa00998f0187",
     "locked": true,
     "schema_version": 3,
     "solution": false,
     "task": false
    }
   },
   "source": [
    "Now, we will compare it to your implementation in JavaScript to make sure that they are equivalent (up to errors on the order of $10^{-14}$). For this, we call the `gaussian` method you implemented with the image bikesgray, also for $\\sigma = 10$. Run the next cell to get the variable `bikesgray_gaussian10`."
   ]
  },
  {
   "cell_type": "code",
   "execution_count": null,
   "metadata": {
    "deletable": false,
    "editable": false,
    "kernel": "JavaScript",
    "nbgrader": {
     "cell_type": "code",
     "checksum": "18ff818221a4d3621c0a66457b42ec41",
     "grade": false,
     "grade_id": "cell-ea846baf9848b17b",
     "locked": true,
     "schema_version": 3,
     "solution": false,
     "task": false
    }
   },
   "outputs": [],
   "source": [
    "%use javascript\n",
    "%put bikesgray_gaussian10\n",
    "\n",
    "// apply filter to Image object\n",
    "var bikesgray_gaussian10 = gaussian(new Image(bikesgray), 10).toArray()"
   ]
  },
  {
   "cell_type": "markdown",
   "metadata": {
    "deletable": false,
    "editable": false,
    "kernel": "JavaScript",
    "nbgrader": {
     "cell_type": "markdown",
     "checksum": "870d098addb89c122f2261a0276432d5",
     "grade": false,
     "grade_id": "cell-fa5028dc9b008544",
     "locked": true,
     "schema_version": 3,
     "solution": false,
     "task": false
    }
   },
   "source": [
    "Now we will look at each of them and at their differences. Look at the range of values in the histogram to verify the scale of the differences."
   ]
  },
  {
   "cell_type": "code",
   "execution_count": null,
   "metadata": {
    "deletable": false,
    "editable": false,
    "kernel": "SoS",
    "nbgrader": {
     "cell_type": "code",
     "checksum": "56ed962e48ea54cddc1b182889843e96",
     "grade": true,
     "grade_id": "cell-fbc96337ae903689",
     "locked": true,
     "points": 1,
     "schema_version": 3,
     "solution": false,
     "task": false
    }
   },
   "outputs": [],
   "source": [
    "%use sos\n",
    "\n",
    "# Make sure that the one imported from JavaScript is a numpy array\n",
    "bikesgray_gaussian10 = np.array(bikesgray_gaussian10)\n",
    "\n",
    "# Declare parameters of viewer\n",
    "image_list = [bikesgray_gaussian10, bikesgray_gaussian_skimage, np.abs(bikesgray_gaussian_skimage - bikesgray_gaussian10)]\n",
    "title_list = ['JS', 'Skimage', 'Difference']\n",
    "\n",
    "# We call the viewer with clip_range = [0, 1] to compare the difference with respect to the originals\n",
    "plt.close('all')\n",
    "skimage_gaussian_viewer = viewer(image_list, title = title_list, subplots = [1, 3], widgets = True)\n"
   ]
  },
  {
   "cell_type": "markdown",
   "metadata": {
    "deletable": false,
    "editable": false,
    "kernel": "Python3",
    "nbgrader": {
     "cell_type": "markdown",
     "checksum": "6904f1cc4faec8c81793f12765db3054",
     "grade": false,
     "grade_id": "cell-fbad05695a20a7ac",
     "locked": true,
     "schema_version": 3,
     "solution": false,
     "task": false
    }
   },
   "source": [
    "# <a class=\"anchor\"></a> 4. Application: Spot detector (5 points)\n",
    "[Back to index](#-Index)\n",
    "\n",
    "Now that you have implemented several filters and you master the concepts behind digital filtering, we are going to lead you in a real application of Gaussian filtering. You are going to implement a *spot detector*, based on the Difference of Gaussians (DoG) filter. From now on, you will only be using Python libraries.\n",
    "\n",
    "A good algorithm to detect spots is to compute the local maximum on the output of the DoG filter (Difference of Gaussians), which is an approximation of the Laplacian-of-Gaussian (LoG) filter explained on _page 5-35_ of the course notes.\n",
    "\n",
    "In the following two exercises we'll be using the image `spots`. Run the next cell to visualize it."
   ]
  },
  {
   "cell_type": "code",
   "execution_count": null,
   "metadata": {
    "deletable": false,
    "editable": false,
    "kernel": "SoS",
    "nbgrader": {
     "cell_type": "code",
     "checksum": "72b0f9aa237d1e9890f39787161f27f0",
     "grade": false,
     "grade_id": "cell-47d11e507bc385e4",
     "locked": true,
     "schema_version": 3,
     "solution": false,
     "task": false
    }
   },
   "outputs": [],
   "source": [
    "%use sos\n",
    "plt.close('all')\n",
    "spots_vis = viewer(spots)"
   ]
  },
  {
   "cell_type": "markdown",
   "metadata": {
    "deletable": false,
    "editable": false,
    "kernel": "SoS",
    "nbgrader": {
     "cell_type": "markdown",
     "checksum": "151773f6440aafb8cd8aee14133a7fb1",
     "grade": false,
     "grade_id": "cell-23b603ff28264ca5",
     "locked": true,
     "schema_version": 3,
     "solution": false,
     "task": false
    }
   },
   "source": [
    "## <a class=\"anchor\"></a> 4.A. Difference of Gaussians (2 points)\n",
    "[Back to index](#-Index)\n",
    "\n",
    "The DoG is constructed from the subtraction of two Gaussian functions, i.e., $\\mathrm{DoG}(x) = h_{\\sigma_{1}}(x) - h_{\\sigma_2}(x)$. It is usually parametrised only by $\\sigma_1$, and $\\sigma_2$ is chosen as $\\sigma_2 = \\sqrt{2}\\sigma_1$. Experiment with the value of $\\sigma_1$ in the next cell to see the kind of profile generated by this filter in 1D. "
   ]
  },
  {
   "cell_type": "code",
   "execution_count": null,
   "metadata": {
    "kernel": "SoS"
   },
   "outputs": [],
   "source": [
    "import scipy\n",
    "# Choose sigmas\n",
    "sigma_1 = 1; sigma_2 = np.sqrt(2)*sigma_1\n",
    "# Generate axis to plot\n",
    "x = np.arange(-3*sigma_2, (3+6./100)*sigma_2, 6*sigma_2/100)\n",
    "# Plot both Gaussians \n",
    "plt.close(\"all\"); plt.figure(f\"Difference of Gaussians filter in 1D - SCIPER: {uid}\", figsize = [10,4])\n",
    "plt.plot(x, scipy.stats.norm(scale=sigma_1).pdf(x), x, scipy.stats.norm(scale=sigma_2).pdf(x),\n",
    "         x, scipy.stats.norm(scale=sigma_1).pdf(x) - scipy.stats.norm(scale=sigma_2).pdf(x));\n",
    "plt.xlabel(r\"$x$\"); plt.legend([r\"$h_{\\sigma_1}(x)$\", r\"$h_{\\sigma_2}(x)$\", r\"$\\mathrm{DoG}_{\\sigma_1}(x)$\"]);\n",
    "plt.show()"
   ]
  },
  {
   "cell_type": "markdown",
   "metadata": {
    "deletable": false,
    "editable": false,
    "kernel": "SoS",
    "nbgrader": {
     "cell_type": "markdown",
     "checksum": "f69703ab6ee18c82320d4e00740570d1",
     "grade": false,
     "grade_id": "cell-d32eba378f29b254",
     "locked": true,
     "schema_version": 3,
     "solution": false,
     "task": false
    }
   },
   "source": [
    "For **1 point**, modify the next cell and write the function `dog(image, sigma1)`. This method should implement the DoG filter by combining the result of two Gaussian filters. We recommend you to use the `scikit-image` implementation that we used in Section [3.B.](#-3.B.-Gaussian-filter-in-Python) , but feel free to use any library you want. Make sure you use the `preserve_range = True` option (or equivalent), to maintain the values of the filtered images with respect to each other. Normalize the output of your function so that it expands the range $[0,1]$."
   ]
  },
  {
   "cell_type": "code",
   "execution_count": null,
   "metadata": {
    "deletable": false,
    "kernel": "SoS",
    "nbgrader": {
     "cell_type": "code",
     "checksum": "ca7804cbf0d7dae6520e02bbd9f6678f",
     "grade": false,
     "grade_id": "cell-674ef161dfa3e785",
     "locked": false,
     "schema_version": 3,
     "solution": true,
     "task": false
    }
   },
   "outputs": [],
   "source": [
    "%use sos\n",
    "\n",
    "def dog(image, sigma_1):\n",
    "    output = np.copy(image)\n",
    "    # YOUR CODE HERE\n",
    "    return output\n",
    "\n",
    "err_message = \"Remember to normalize the output so that it expands the range [0,1].\"\n",
    "assert dog( spots, 1 ).max() == 1, err_message\n",
    "assert dog( spots, 1 ).min() == 0, err_message"
   ]
  },
  {
   "cell_type": "markdown",
   "metadata": {
    "deletable": false,
    "editable": false,
    "kernel": "Python3",
    "nbgrader": {
     "cell_type": "markdown",
     "checksum": "5ddb3f182b3f1797973c60a9e3912978",
     "grade": false,
     "grade_id": "cell-c377142e63832728",
     "locked": true,
     "schema_version": 3,
     "solution": false,
     "task": false
    }
   },
   "source": [
    "In the next cell, you will visualize the results of your function for different $\\sigma$ values. We will declare a slider with values in the range $[0-10]$, a button and an activation function to get the value of the slider and apply your function to an input image. \n",
    "\n",
    "First, run the next cell to declare these widgets and the function."
   ]
  },
  {
   "cell_type": "code",
   "execution_count": null,
   "metadata": {
    "kernel": "SoS"
   },
   "outputs": [],
   "source": [
    "%use sos\n",
    "# Define sliders and button\n",
    "sigma_slider = widgets.FloatSlider(value=1, min=0.5, max=10.0, step=0.5, description='\\u03c3\\u2081:')\n",
    "button = widgets.Button(description = 'Apply DoG')\n",
    "# Define callback function\n",
    "def button_dog(image):\n",
    "    sigma = sigma_slider.value\n",
    "    image = dog(image, sigma)\n",
    "    return image"
   ]
  },
  {
   "cell_type": "markdown",
   "metadata": {
    "deletable": false,
    "editable": false,
    "kernel": "SoS",
    "nbgrader": {
     "cell_type": "markdown",
     "checksum": "520076d339c61855d313207f2efc3fb6",
     "grade": false,
     "grade_id": "cell-03303684c8a43c42",
     "locked": true,
     "schema_version": 3,
     "solution": false,
     "task": false
    }
   },
   "source": [
    "Now run the next cell to visualize the results. Go to the menu *Extra Widgets*, where you can find the slider. You will apply it to the image `spots`. If you want to experiment with the filter using other values of $\\sigma_1$, you can modify the values `min`, `max` and `step` in the cell above. "
   ]
  },
  {
   "cell_type": "code",
   "execution_count": null,
   "metadata": {
    "deletable": false,
    "editable": false,
    "kernel": "SoS",
    "nbgrader": {
     "cell_type": "code",
     "checksum": "9426d211cd300c1888639c48b6f5d2c5",
     "grade": true,
     "grade_id": "cell-23f5b4868f24df69",
     "locked": true,
     "points": 1,
     "schema_version": 3,
     "solution": false,
     "task": false
    }
   },
   "outputs": [],
   "source": [
    "%use sos\n",
    "# Visualize the dog spots\n",
    "plt.close(\"all\")\n",
    "dog_viewer = viewer(spots, title = \"DoG Spots\", new_widgets = [sigma_slider, button], callbacks = [button_dog], widgets = True, normalize = True)\n"
   ]
  },
  {
   "cell_type": "markdown",
   "metadata": {
    "deletable": false,
    "editable": false,
    "kernel": "Python3",
    "nbgrader": {
     "cell_type": "markdown",
     "checksum": "46c4ff1bafe3be6282d17e4916b2b947",
     "grade": false,
     "grade_id": "cell-fcf5fd34130ddd5f",
     "locked": true,
     "schema_version": 3,
     "solution": false,
     "task": false
    }
   },
   "source": [
    "### Multiple choice question (1 point)\n",
    "\n",
    "* Q1: What type of filter is the DoG?\n",
    "\n",
    "    1. Low-pass  \n",
    "    2. Band-pass  \n",
    "    3. High-pass  \n",
    "\n",
    "\n",
    "* Q2: Which $\\sigma$ would you choose to highlight the spots?\n",
    "\n",
    "    1. 1.5  \n",
    "    2. 5  \n",
    "    3. 10 \n",
    "\n",
    "\n",
    "Modify the variables `answer_one` and `answer_two` in the next cell to your choices. Use the subsequent two cells to verify that your answers are valid."
   ]
  },
  {
   "cell_type": "code",
   "execution_count": null,
   "metadata": {
    "deletable": false,
    "kernel": "SoS",
    "nbgrader": {
     "cell_type": "code",
     "checksum": "be2c913856eded346f758da32ad5f40e",
     "grade": false,
     "grade_id": "cell-dda6c8f5f9a1c163",
     "locked": false,
     "schema_version": 3,
     "solution": true,
     "task": false
    }
   },
   "outputs": [],
   "source": [
    "%use sos\n",
    "# Modify these variables\n",
    "answer_one = None\n",
    "answer_two = None\n",
    "# YOUR CODE HERE"
   ]
  },
  {
   "cell_type": "code",
   "execution_count": null,
   "metadata": {
    "deletable": false,
    "editable": false,
    "kernel": "SoS",
    "nbgrader": {
     "cell_type": "code",
     "checksum": "3f21d2a9e77820fe2316afbf5bae8011",
     "grade": true,
     "grade_id": "cell-d7c3a04da9a8c7b5",
     "locked": true,
     "points": 0.5,
     "schema_version": 3,
     "solution": false,
     "task": false
    }
   },
   "outputs": [],
   "source": [
    "%use sos\n",
    "# Sanity check\n",
    "assert answer_one in [1, 2, 3], 'Choose one of 1, 2 or 3.'"
   ]
  },
  {
   "cell_type": "code",
   "execution_count": null,
   "metadata": {
    "deletable": false,
    "editable": false,
    "kernel": "SoS",
    "nbgrader": {
     "cell_type": "code",
     "checksum": "b0dd3381541439ed2f92c0d13af901cf",
     "grade": true,
     "grade_id": "cell-7cf69ee788a9b5d6",
     "locked": true,
     "points": 0.5,
     "schema_version": 3,
     "solution": false,
     "task": false
    }
   },
   "outputs": [],
   "source": [
    "%use sos\n",
    "# Sanity check\n",
    "assert answer_two in [1, 2, 3], 'Choose one of 1, 2 or 3.'"
   ]
  },
  {
   "cell_type": "markdown",
   "metadata": {
    "deletable": false,
    "editable": false,
    "kernel": "Python3",
    "nbgrader": {
     "cell_type": "markdown",
     "checksum": "a34a1e4d3dfaa83e8189900f87f8e177",
     "grade": false,
     "grade_id": "cell-81417b2b120db889",
     "locked": true,
     "schema_version": 3,
     "solution": false,
     "task": false
    }
   },
   "source": [
    "## <a class=\"anchor\"></a> 4.B. Local maxima (1 point)\n",
    "[Back to index](#-Index)\n",
    "\n",
    "Now you will write the function `local_max(img, T)` that returns a binary image. This function will set the pixels which are a local maximum in a $3\\times 3$ neighbourhood to the maximum value of the image, and any other pixels to $0$. A local maximum is a pixel that has a value strictly greater than its 8 closest neighbors (8-connected) and is strictly greater than a threshold $T$ (specified between $0$ and $1$, relative to the maximum of the image).\n",
    "\n",
    "<div class=\"alert alert-info\">\n",
    "\n",
    "**Remember:** 8-connected pixels are neighbors to every pixel that touches one of their edges or corners. <img src=\"images/8_connectivity.jpg\" alt=\"8-connectivity\" width=\"100px\">\n",
    "</div>\n",
    "\n",
    "Remember that Image Processing libraries can do most of the work for you. `scikit-image` has the method `skimage.feature.peak_local_max()` ([see documentation](https://scikit-image.org/docs/0.7.0/api/skimage.feature.peak)), which allows you to specify the size of the neighborhood (through the parameter `min_distance`, that leads to regions of size `2*min_distance+1`) and a threshold relative to the maximum value of the image. It outputs the coordinates of the corresponding pixels. Once you have the coordinates, you can use them to index an array and put the desired value in the appropriate places. For example, if we have a NumPy array `peaks` with local maxima locations as the one returned by the aforementioned function, you can index an image as `output[peaks[:,0], peaks[:,1]] = value`.\n",
    "\n",
    "For **1 point**, modify the next cell and define your function."
   ]
  },
  {
   "cell_type": "code",
   "execution_count": null,
   "metadata": {
    "deletable": false,
    "kernel": "SoS",
    "nbgrader": {
     "cell_type": "code",
     "checksum": "8648d6413002e92a5a3e5b493b624969",
     "grade": false,
     "grade_id": "cell-3d3323cd890505a7",
     "locked": false,
     "schema_version": 3,
     "solution": true,
     "task": false
    }
   },
   "outputs": [],
   "source": [
    "%use sos\n",
    "# Import the module feature from skimage if you are going to use it\n",
    "from skimage import feature\n",
    "\n",
    "# Function that computes the local max in a 3x3 nbh\n",
    "def local_max(img, T):\n",
    "    output = np.zeros(img.shape)\n",
    "    # YOUR CODE HERE\n",
    "    return output"
   ]
  },
  {
   "cell_type": "markdown",
   "metadata": {
    "deletable": false,
    "editable": false,
    "kernel": "Python3",
    "nbgrader": {
     "cell_type": "markdown",
     "checksum": "d8ad318bbd23175087cdd6848df42e1b",
     "grade": false,
     "grade_id": "cell-3d454b9aa5651480",
     "locked": true,
     "schema_version": 3,
     "solution": false,
     "task": false
    }
   },
   "source": [
    "Run the next cell for a quick test on your function. In it, we test  that your image applied to `camera` with a threshold $T = 0.5$ detects exactly the four maximum points of the image, as it should. If the assertion raises no error, your function is most probably correct."
   ]
  },
  {
   "cell_type": "code",
   "execution_count": null,
   "metadata": {
    "deletable": false,
    "editable": false,
    "kernel": "SoS",
    "nbgrader": {
     "cell_type": "code",
     "checksum": "48381e16881bd053474737a309948e3c",
     "grade": true,
     "grade_id": "cell-bd08c0fedcdfd206",
     "locked": true,
     "points": 1,
     "schema_version": 3,
     "solution": false,
     "task": false
    }
   },
   "outputs": [],
   "source": [
    "%use sos\n",
    "\n",
    "assert np.count_nonzero(local_max(camera, 0.5)) == 4, 'Your function its not yet correct!'\n",
    "print('Congratulations! Your function is correctly detecting the 4 spots.')"
   ]
  },
  {
   "cell_type": "markdown",
   "metadata": {
    "deletable": false,
    "editable": false,
    "kernel": "Python3",
    "nbgrader": {
     "cell_type": "markdown",
     "checksum": "e0962feb3168668cdb963961c7a09501",
     "grade": false,
     "grade_id": "cell-c7584daecf25a116",
     "locked": true,
     "schema_version": 3,
     "solution": false,
     "task": false
    }
   },
   "source": [
    "Now you are going to see the effect of this function through a slider on the `IPLabViewer`. Like in the exercise to visualize the effects of `dog()`, we will declare one slider for the threshold and one button to call the `local_max` method. \n",
    "\n",
    "Run the next cell to test it on the image `camera`. Do you think that this function would be able to detect the **6 spots** in `spots`?  Modify the next cell and look at the result of your function applied to other images!"
   ]
  },
  {
   "cell_type": "code",
   "execution_count": null,
   "metadata": {
    "kernel": "SoS"
   },
   "outputs": [],
   "source": [
    "%use sos\n",
    "\n",
    "threshold_slider = widgets.FloatSlider(value=0, min=0, max=1, step=0.01, description='T:')\n",
    "button = widgets.Button(description = 'Apply Local Maxima')\n",
    "\n",
    "def button_local_max(image):\n",
    "    t = threshold_slider.value\n",
    "    image = local_max(image, t)\n",
    "    return image\n",
    "\n",
    "local_max_viewer = viewer(camera, title = \"Local Maxima\", new_widgets = [threshold_slider, button], callbacks = [button_local_max], widgets=True)"
   ]
  },
  {
   "cell_type": "markdown",
   "metadata": {
    "deletable": false,
    "editable": false,
    "kernel": "Python3",
    "nbgrader": {
     "cell_type": "markdown",
     "checksum": "17346caa90e692ae41265ffda80c0933",
     "grade": false,
     "grade_id": "cell-1deb1d7cd1c39f9b",
     "locked": true,
     "schema_version": 3,
     "solution": false,
     "task": false
    }
   },
   "source": [
    "## <a class=\"anchor\"></a> 4.C. Spot detector (2 points)\n",
    "[Back to index](#-Index)\n",
    "\n",
    "For **1 point**, implement the method `spot_detector(img, sigma, T)`, where you use your previous two functions to detect spots. In other words, apply the detection of local maxima on the output of the DoG filter."
   ]
  },
  {
   "cell_type": "code",
   "execution_count": null,
   "metadata": {
    "deletable": false,
    "kernel": "SoS",
    "nbgrader": {
     "cell_type": "code",
     "checksum": "0b4cdb4483810ab88e09eacde1489c76",
     "grade": false,
     "grade_id": "cell-ea2375434c08cbb4",
     "locked": false,
     "schema_version": 3,
     "solution": true,
     "task": false
    }
   },
   "outputs": [],
   "source": [
    "%use sos\n",
    "\n",
    "# Function that detects spots in img, using sigma and a threshold T\n",
    "def spot_detector(img, sigma, T):\n",
    "    # YOUR CODE HERE\n",
    "    return output"
   ]
  },
  {
   "cell_type": "markdown",
   "metadata": {
    "deletable": false,
    "editable": false,
    "kernel": "Python3",
    "nbgrader": {
     "cell_type": "markdown",
     "checksum": "7120347384e68a2f299dd5a1f04e79c5",
     "grade": false,
     "grade_id": "cell-b2328e6a28636925",
     "locked": true,
     "schema_version": 3,
     "solution": false,
     "task": false
    }
   },
   "source": [
    "Run the next cell for a quick test on your function."
   ]
  },
  {
   "cell_type": "code",
   "execution_count": null,
   "metadata": {
    "deletable": false,
    "editable": false,
    "kernel": "SoS",
    "nbgrader": {
     "cell_type": "code",
     "checksum": "3d2273a25b177c46871e77153f60be8d",
     "grade": true,
     "grade_id": "cell-236fd22ab8cd9cc8",
     "locked": true,
     "points": 1,
     "schema_version": 3,
     "solution": false,
     "task": false
    }
   },
   "outputs": [],
   "source": [
    "%use sos\n",
    "\n",
    "assert np.count_nonzero(spot_detector(spots, 1, 0.3)) == 6, 'Your function is not yet correct. First make sure that dog() and local_max() are.'\n",
    "print('Congratulations! Your spot detector seems to be correct.')"
   ]
  },
  {
   "cell_type": "markdown",
   "metadata": {
    "deletable": false,
    "editable": false,
    "kernel": "Python3",
    "nbgrader": {
     "cell_type": "markdown",
     "checksum": "dd65d72fca8aae0b3f10db8f1ca053c7",
     "grade": false,
     "grade_id": "cell-1ab167d65b94d87e",
     "locked": true,
     "schema_version": 3,
     "solution": false,
     "task": false
    }
   },
   "source": [
    "Now, lets apply your function to the image `spots` inside an `IPLabViewer`, using two sliders for the values of $\\sigma_1$ and $T$. \n",
    "\n",
    "Run the following cell, and play with these values (access the sliders through the button *Extra Widgets*). Explore the results also on other images.\n",
    "\n",
    "<div class=\"alert alert-info\">\n",
    "\n",
    "**Note:** Because it can be hard to see single white pixels on some screens (especially if they're dusty) we also print the number of spots that have been detected when applying the function in the viewer. You can also make the image larger by dragging the gray triangle in the bottom right corner of the viewer.\n",
    "</div>"
   ]
  },
  {
   "cell_type": "code",
   "execution_count": null,
   "metadata": {
    "kernel": "SoS"
   },
   "outputs": [],
   "source": [
    "%use sos\n",
    "\n",
    "# Define sliders\n",
    "sigma_slider = widgets.FloatSlider(value=5, min=0.5, max=10.0, step=0.5, description=\"\\u03c3\\u2081:\")\n",
    "t_slider = widgets.FloatSlider(value=0.5, min=0, max=1, step=0.01, description='T:')\n",
    "button = widgets.Button(description = 'Apply Spot Detection')\n",
    "\n",
    "# Define callback function\n",
    "def button_spot_detection(image):\n",
    "    sigma = sigma_slider.value\n",
    "    t = t_slider.value\n",
    "    image = spot_detector(image, sigma, t)\n",
    "    contours, _ = cv.findContours(image.astype(np.uint8), cv.RETR_LIST, cv.CHAIN_APPROX_NONE)\n",
    "    print(f'Detected {len(contours):4} spots.', end='\\r')\n",
    "    return image\n",
    "\n",
    "# Launch viewer\n",
    "plt.close(\"all\")\n",
    "spot_detector_viewer = viewer(spots, title = \"Spot Detector\", new_widgets = [sigma_slider, t_slider, button], callbacks = [button_spot_detection], widgets=True, normalize=True )"
   ]
  },
  {
   "cell_type": "markdown",
   "metadata": {
    "deletable": false,
    "editable": false,
    "kernel": "Python3",
    "nbgrader": {
     "cell_type": "markdown",
     "checksum": "5e2f057022cfc54fb140469094ae317c",
     "grade": false,
     "grade_id": "cell-1beb5d91da314289",
     "locked": true,
     "schema_version": 3,
     "solution": false,
     "task": false
    }
   },
   "source": [
    "### Multiple choice question (1 point)\n",
    "\n",
    "What pair of parameters will give you exactly 6 spots? If there are more than one, try to select the most reasonable one. \n",
    "\n",
    "1. $\\sigma_1 = 10$ and $T = 0.2$,\n",
    "2. $\\sigma_1 = 5$ and $T = 0.6$, \n",
    "3. $\\sigma_1 = 5$ and $T = 0.2$, or\n",
    "4. $\\sigma_1 = 1$ and $T = 0.3$.\n",
    "\n",
    "Modify the variable answer in the next cell to reflect your choice. Run the last cell to check that your answer is valid."
   ]
  },
  {
   "cell_type": "code",
   "execution_count": null,
   "metadata": {
    "deletable": false,
    "kernel": "SoS",
    "nbgrader": {
     "cell_type": "code",
     "checksum": "cd86cdc8248bebfb7cd35dbdf0336a6d",
     "grade": false,
     "grade_id": "cell-bd84aba67a6ffbda",
     "locked": false,
     "schema_version": 3,
     "solution": true,
     "task": false
    }
   },
   "outputs": [],
   "source": [
    "%use sos\n",
    "# Assign your answer to this variable\n",
    "answer = None\n",
    "# YOUR CODE HERE"
   ]
  },
  {
   "cell_type": "code",
   "execution_count": null,
   "metadata": {
    "deletable": false,
    "editable": false,
    "kernel": "SoS",
    "nbgrader": {
     "cell_type": "code",
     "checksum": "4df4119740758be7bafe447d05a9460f",
     "grade": true,
     "grade_id": "cell-de4a59f4d4ea2220",
     "locked": true,
     "points": 1,
     "schema_version": 3,
     "solution": false,
     "task": false
    }
   },
   "outputs": [],
   "source": [
    "%use sos\n",
    "# Sanity check\n",
    "assert answer in [1, 2, 3, 4], 'Answer one of 1, 2, 3 or 4'"
   ]
  },
  {
   "cell_type": "markdown",
   "metadata": {
    "deletable": false,
    "editable": false,
    "kernel": "SoS",
    "nbgrader": {
     "cell_type": "markdown",
     "checksum": "5a700146cac308e73fcd74216e6e399a",
     "grade": false,
     "grade_id": "cell-150b621dbb22fc35",
     "locked": true,
     "schema_version": 3,
     "solution": false,
     "task": false
    }
   },
   "source": [
    "<p><b>Congratulations on finishing Lab 2!</b></p>\n",
    "<p>\n",
    "    \n",
    "Make sure to save your notebook (keep a copy on your personal computer for reference) and upload it to <a href=\"https://moodle.epfl.ch/course/view.php?id=522\">Moodle</a> (name it *SCIPER_Filtering.ipynb*).\n",
    "</p>\n",
    "\n",
    "<div class=\"alert alert-danger\">\n",
    "<h4>Feedback</h4>\n",
    "    <p style=\"margin:4px;\">\n",
    "    This is the first edition of the image-processing laboratories using Jupyter Notebooks running on Noto. Do not leave before giving us your <a href=\"https://moodle.epfl.ch/mod/feedback/view.php?id=1111322\">feedback here!</a></p>\n",
    "</div>"
   ]
  }
 ],
 "metadata": {
  "kernelspec": {
   "display_name": "SoS",
   "language": "sos",
   "name": "sos"
  },
  "language_info": {
   "codemirror_mode": "sos",
   "file_extension": ".sos",
   "mimetype": "text/x-sos",
   "name": "sos",
   "nbconvert_exporter": "sos_notebook.converter.SoS_Exporter",
   "pygments_lexer": "sos"
  },
  "sos": {
   "kernels": [
    [
     "JavaScript",
     "javascript",
     "JavaScript",
     "#c8e1ae",
     ""
    ],
    [
     "SoS",
     "sos",
     "",
     "",
     "sos"
    ]
   ],
   "panel": {
    "displayed": false,
    "height": 0
   },
   "version": "0.21.9"
  }
 },
 "nbformat": 4,
 "nbformat_minor": 4
}
