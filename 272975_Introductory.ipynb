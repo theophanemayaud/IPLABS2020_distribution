{
 "cells": [
  {
   "cell_type": "markdown",
   "metadata": {
    "deletable": false,
    "editable": false,
    "kernel": "SoS",
    "nbgrader": {
     "cell_type": "markdown",
     "checksum": "a66d38cf34f27ddda2c9342633bea845",
     "grade": false,
     "grade_id": "cell-2e535e03686402e2",
     "locked": true,
     "schema_version": 3,
     "solution": false,
     "task": false
    }
   },
   "source": [
    "<img src=\"https://www.epfl.ch/about/overview/wp-content/uploads/2020/07/logo-epfl-1024x576.png\" style=\"padding-right:10px;width:140px;float:left\"></td>\n",
    "<h2 style=\"white-space: nowrap\">Image Processing Laboratory Notebooks</h2>\n",
    "<hr style=\"clear:both\">\n",
    "<p style=\"font-size:0.85em; margin:2px; text-align:justify\">\n",
    "This Juypter notebook is part of a series of computer laboratories which are designed\n",
    "to teach image-processing programming; they are running on the EPFL's Noto server. They are the practical complement of the theoretical lectures of the EPFL's Master course <b>Image Processing I</b> \n",
    "(<a href=\"https://moodle.epfl.ch/course/view.php?id=522\">MICRO-511</a>) taught by Prof. M. Unser and Prof. D. Van de Ville.\n",
    "</p>\n",
    "<p style=\"font-size:0.85em; margin:2px; text-align:justify\">\n",
    "The project is funded by the Center for Digital Education and the School of Engineering. It is owned by the <a href=\"http://bigwww.epfl.ch/\">Biomedical Imaging Group</a>. \n",
    "The distribution or the reproduction of the notebook is strictly prohibited without the written consent of the authors.  &copy; EPFL 2020.\n",
    "</p>\n",
    "<p style=\"font-size:0.85em; margin:0px\"><b>Authors</b>: \n",
    "    <a href=\"mailto:pol.delaguilapla@epfl.ch\">Pol del Aguila Pla</a>, \n",
    "    <a href=\"mailto:kay.lachler@epfl.ch\">Kay Lächler</a>,\n",
    "    <a href=\"mailto:alejandro.nogueronaramburu@epfl.ch\">Alejandro Noguerón Arámburu</a>, and\n",
    "    <a href=\"mailto:daniel.sage@epfl.ch\">Daniel Sage</a>.\n",
    "</p>\n",
    "<hr style=\"clear:both\">\n",
    "<h1>Lab 0: Introduction</h1>\n",
    "<div style=\"background-color:#F0F0F0;padding:4px\">\n",
    "    <p style=\"margin:4px;\"><b>Released</b>: Thursday September 17, 2020</p>\n",
    "    <p style=\"margin:4px;\"><b>Submission</b>: <span style=\"color:red\">Friday September 25, 2020</span> (before 11:59PM) on <a href=\"https://moodle.epfl.ch/course/view.php?id=522\">Moodle</a></p>\n",
    "    <p style=\"margin:4px;\"><b>Grade weigth</b>: 1% of the overall grade</p>\n",
    "    <p style=\"margin:4px;\"><b>Remote help</b>: Monday September 21, on Zoom (see Moodle for link and time)</p>    \n",
    "</div>"
   ]
  },
  {
   "cell_type": "markdown",
   "metadata": {
    "kernel": "SoS"
   },
   "source": [
    "### Student Name: Théophane Mayaud\n",
    "### SCIPER: 272975\n",
    "\n",
    "Double-click on this cell, fill your name and SCIPER number above, and run the cell below to verify your identity in Noto and set the seed for random results."
   ]
  },
  {
   "cell_type": "code",
   "execution_count": 1,
   "metadata": {
    "deletable": false,
    "editable": false,
    "kernel": "SoS",
    "nbgrader": {
     "cell_type": "code",
     "checksum": "9c0226aa8cddca9be43c883484424e71",
     "grade": false,
     "grade_id": "cell-136865f50e6e2d19",
     "locked": true,
     "schema_version": 3,
     "solution": false,
     "task": false
    }
   },
   "outputs": [
    {
     "name": "stdout",
     "output_type": "stream",
     "text": [
      "SCIPER: 272975\n"
     ]
    }
   ],
   "source": [
    "%use sos\n",
    "import getpass\n",
    "# This line recovers your camipro number to mark the images with your ID\n",
    "uid = int(getpass.getuser().split('-')[2]) if len(getpass.getuser().split('-')) > 2 else ord(getpass.getuser()[0])\n",
    "print(f'SCIPER: {uid}')"
   ]
  },
  {
   "cell_type": "markdown",
   "metadata": {
    "deletable": false,
    "editable": false,
    "kernel": "SoS",
    "nbgrader": {
     "cell_type": "markdown",
     "checksum": "8705053796f1cff48859b268c7031312",
     "grade": false,
     "grade_id": "cell-b9a8b7f1d8e767c8",
     "locked": true,
     "schema_version": 3,
     "solution": false,
     "task": false
    }
   },
   "source": [
    "# <a name=\"top\"></a> Introduction (**8 points**)\n",
    "\n",
    "This introductory lab will guide you through the tools that you will need for the labs. As you will notice, you will be using 2 programming languages: JavaScript and Python. Don't worry if you do not have experience with them! In fact, you don't need any programming experience at all. Basic computational thinking (e.g. how *for* loops work, what a *function* is) is enough to proceed with the labs. We will always teach by example, and you can always go back and check an example we gave you to know how to program anything we ask. Moreover, you can always ask specific questions about programming to the dedicated TAs of the course.\n",
    "\n",
    "<div class=\"alert alert-danger\">\n",
    "\n",
    "**Warning:** This lab is **long**. It is intended as a tutorial course for you to go back to in all the labs to come. This implies that \n",
    "<ul>\n",
    "    <li> You should not worry if it feels hard, long, or a bit too much at first.\n",
    "    <li> You should take your time, you have a whole week to finish it, so there's no need to finish everything in one session. While the state (variables) of the notebook will be lost, all your answers will remain. As best practice, re-run all the cells every time you restart working.\n",
    "    <li> You should keep your filled copy for further reference (<b>in your local computer</b>, besides the copy that will remain in Noto). \n",
    "</ul>\n",
    "</div>\n",
    "\n",
    "At the beginning of each lab, you will always find an Index as the one below, clearly pointing at the topics that will be covered. The index will also specify how many points are awarded for each exercise, when appropriate.\n",
    "\n",
    "## Index\n",
    "1. [Introduction to Jupyter notebooks](#-1.-Introduction-to-Jupyter-notebooks) \n",
    "    1. [Cellular structure](#-1.A.-Cellular-structure)\n",
    "    2. [The SoS kernel](#-1.B.-The-SoS-kernel)\n",
    "2. [Python and JavaScript](#-2.-Python-and-JavaScript)\n",
    "    1. [Basic Python programming](#-2.A.-Basic-Python-programming)\n",
    "        1. [NumPy](#-2.A.a.-NumPy)\n",
    "        2. [Matplotlib](#-2.A.b.-Matplotlib)\n",
    "    2. [Basic Javascript programming](#-2.B.-Basic-JavaScript-programming)\n",
    "    3. [Python vs JavaScript speed comparison](#-2.C.-Python-vs-JavaScript-speed-comparison)\n",
    "3. [IPLabImageAccess](#-3.-IPLabImageAccess-(2-points)) (**2 points**)\n",
    "4. [IPLabViewer](#-4.-IPLabViewer)\n",
    "    1. [Creation of a viewer](#-4.A.-Creation-of-a-viewer)\n",
    "    2. [Using widgets](#-4.B.-Using-widgets) (**1 point**)\n",
    "    3. [User-defined widgets](#-4.C.-User-defined-widgets)\n",
    "    4. [Programmatic customization](#-4.D.-Programmatic-customization)\n",
    "    5. [Try it yourself!](#-4.E.-Try-it-yourself!) (**3 points**)\n",
    "5. [Image processing in Python](#-5.-Image-processing-in-Python-(2-points))\n",
    "    1. [Examples](#-5.A.-Examples)\n",
    "    1. [Try it yourself!](#-5.B.-Try-it-yourself!-(2-points)) (**2 points**)"
   ]
  },
  {
   "cell_type": "markdown",
   "metadata": {
    "deletable": false,
    "editable": false,
    "kernel": "SoS",
    "nbgrader": {
     "cell_type": "markdown",
     "checksum": "a91e21255a5ddce7a3cd0f53047d49ff",
     "grade": false,
     "grade_id": "cell-a9911fea2f23c3ab",
     "locked": true,
     "schema_version": 3,
     "solution": false,
     "task": false
    }
   },
   "source": [
    "# <a class=\"anchor\"></a> 1. Introduction to Jupyter notebooks\n",
    "## <a class=\"anchor\"></a> 1.A. Cellular structure\n",
    "\n",
    "What you are looking at right now is a Jupyter Notebook. A notebook consists of cells that contain either code snippets with their results or text. This makes it the perfect place where to teach and learn image processing, as you do not need to switch between different files to see the explanation, the corresponding code, and its results. The cellular structure of Jupyter notebooks allows us to run small snippets of code one after the other, go back and forth between, or check intermediate results between them. \n",
    "<div class=\"alert alert-info\">\n",
    "\n",
    "**Note:** You can use the shortcut `Shift` $+$ `Enter` to run the cell and advance to the next one or `Ctrl` $+$ `Enter` to run the cell and stay in it. If you want a detailed list of keyboard shortcuts, you can check out the one in [this link](https://cheatography.com/weidadeyue/cheat-sheets/jupyter-notebook/).\n",
    "</div>\n",
    "\n",
    "It is important to know that if you declare some variable in a cell, this variable will be available in all other cells that use the same programming language, irrespective of the location of the cell. Let's look at an example: Read the description of the cells below and run them as instructed."
   ]
  },
  {
   "cell_type": "markdown",
   "metadata": {
    "deletable": false,
    "editable": false,
    "kernel": "SoS",
    "nbgrader": {
     "cell_type": "markdown",
     "checksum": "874adc2e215ee76194f65b7de67b3cba",
     "grade": false,
     "grade_id": "cell-5e1dff4a7d4037af",
     "locked": true,
     "schema_version": 3,
     "solution": false,
     "task": false
    }
   },
   "source": [
    "In this first cell we declare a variable `a` and assign it the value $5$. Run it."
   ]
  },
  {
   "cell_type": "code",
   "execution_count": 2,
   "metadata": {
    "deletable": false,
    "editable": false,
    "kernel": "SoS",
    "nbgrader": {
     "cell_type": "code",
     "checksum": "18b4cc2e42c326634de5640209124d16",
     "grade": false,
     "grade_id": "cell-d3eece0ac887379b",
     "locked": true,
     "schema_version": 3,
     "solution": false,
     "task": false
    }
   },
   "outputs": [],
   "source": [
    "%use sos\n",
    "# cell 1\n",
    "# this is our variable\n",
    "a = 5"
   ]
  },
  {
   "cell_type": "markdown",
   "metadata": {
    "deletable": false,
    "editable": false,
    "kernel": "Python3",
    "nbgrader": {
     "cell_type": "markdown",
     "checksum": "ee3060e71515bb538635c3d8a6205531",
     "grade": false,
     "grade_id": "cell-5674e519bb6533a8",
     "locked": true,
     "schema_version": 3,
     "solution": false,
     "task": false
    }
   },
   "source": [
    "In the second cell we print the value of `a`. If you run it just after the cell above, it should print \"The value of a is 5\". Run it."
   ]
  },
  {
   "cell_type": "code",
   "execution_count": 3,
   "metadata": {
    "deletable": false,
    "editable": false,
    "kernel": "SoS",
    "nbgrader": {
     "cell_type": "code",
     "checksum": "0d9aa493ded78f3706896c9fbd6e0b2a",
     "grade": false,
     "grade_id": "cell-0b3e58366b94423b",
     "locked": true,
     "schema_version": 3,
     "solution": false,
     "task": false
    }
   },
   "outputs": [
    {
     "name": "stdout",
     "output_type": "stream",
     "text": [
      "The value of a is 5\n"
     ]
    }
   ],
   "source": [
    "%use sos\n",
    "# cell 2\n",
    "# here we print the value of a\n",
    "print(f\"The value of a is {a}\")"
   ]
  },
  {
   "cell_type": "markdown",
   "metadata": {
    "deletable": false,
    "editable": false,
    "kernel": "Python3",
    "nbgrader": {
     "cell_type": "markdown",
     "checksum": "6e51b50d2f5ae0125d771a8f1fe4a3c8",
     "grade": false,
     "grade_id": "cell-e21122a5c72a1c66",
     "locked": true,
     "schema_version": 3,
     "solution": false,
     "task": false
    }
   },
   "source": [
    "Then, in the third cell, we modify `a` by adding $2$ to it. Run it."
   ]
  },
  {
   "cell_type": "code",
   "execution_count": 4,
   "metadata": {
    "deletable": false,
    "editable": false,
    "kernel": "SoS",
    "nbgrader": {
     "cell_type": "code",
     "checksum": "1ce43631f6ecc01ca84396ab305a3256",
     "grade": false,
     "grade_id": "cell-b64be8c1a57a3151",
     "locked": true,
     "schema_version": 3,
     "solution": false,
     "task": false
    }
   },
   "outputs": [],
   "source": [
    "%use sos\n",
    "# cell 3\n",
    "# add two to a\n",
    "a = a + 2"
   ]
  },
  {
   "cell_type": "markdown",
   "metadata": {
    "deletable": false,
    "editable": false,
    "kernel": "Python3",
    "nbgrader": {
     "cell_type": "markdown",
     "checksum": "b45e69a05830b8ecce9c3431afb0dfc3",
     "grade": false,
     "grade_id": "cell-1eb9f7b8a262e747",
     "locked": true,
     "schema_version": 3,
     "solution": false,
     "task": false
    }
   },
   "source": [
    "Now run _cell 2_ again: the value of `a` has been modified, even though _cell 2_ is located above _cell 3_ in our notebook. Repeat this procedure (running _cell 3_ then running _cell 2_ ) and make sure you can explain the result. Now run _cell 1_ again, where we set `a=5`, and `a` will be $5$ in all cells again. Hopefully this shows the **global** impact every single cell has on the notebook. Regardless, it is good practice to design notebooks to be run from top to bottom."
   ]
  },
  {
   "cell_type": "markdown",
   "metadata": {
    "deletable": false,
    "editable": false,
    "kernel": "SoS",
    "nbgrader": {
     "cell_type": "markdown",
     "checksum": "9a3ed2d3e191de1c082e731684741403",
     "grade": false,
     "grade_id": "cell-0630236608fb807a",
     "locked": true,
     "schema_version": 3,
     "solution": false,
     "task": false
    }
   },
   "source": [
    "<div class=\"alert alert-info\">\n",
    "\n",
    "**Note:** If at any point the kernel should crash for whatever reason, you can restart it by clicking on the button `Kernel` in the toolbar on top and then click on `Restart Kernel...`. Once the kernel is restarted, you will need to run all necessary cells again to regain the working environment you had before. A good practice to test that there are no errors in the notebook is to click `Restart and Run All Cells...` once you have finished a notebook. This will run all the cells from top to bottom and only stop if an error occurs.\n",
    "</div>"
   ]
  },
  {
   "cell_type": "markdown",
   "metadata": {
    "deletable": false,
    "editable": false,
    "kernel": "Python3",
    "nbgrader": {
     "cell_type": "markdown",
     "checksum": "6c0ca24c967240e9fb34b4f0afe05647",
     "grade": false,
     "grade_id": "cell-16a5a7cbab049cb9",
     "locked": true,
     "schema_version": 3,
     "solution": false,
     "task": false
    }
   },
   "source": [
    "## <a class=\"anchor\"></a> 1.B. The SoS kernel\n",
    "\n",
    "Surely you have noticed that the first line of all cells with code was `%use sos`. This line tells the notebook that this specific cell uses Python syntax and should be read as Python code. In normal Jupyter Notebooks, this would not be necessary, since they usually only support one single programming language in the whole notebook, defined by _the kernel_. However, for the labs, we use a special kernel that allows us to have a notebook with multiple programming languages, the [SoS](https://vatlab.github.io/sos-docs/) kernel. If you're interested you can read its fascinating [documentation](https://vatlab.github.io/sos-docs/notebook.html#Documentation). However, to understand the labs you only need to know that:\n",
    "- `%use sos` indicates that a cell is written in Python,\n",
    "- `%use javascript` indicates that a cell is written in JavaScript,\n",
    "- `%put var_name ` converts the variable `var_name` from JavaScript to Python\n",
    "- `%get var_name ` converts the variable `var_name` from Python to JavaScript\n",
    "\n",
    "The keywords above are called _magics_ and they always need to be on the first lines of code with nothing in-between them. Let's look at an example: Read the description of the cells below and run them as instructed. Before, feel free to run the cell below to follow the instructional video by Kay Lächler, one of the student developers behind these labs. He will guide you and explain the few following cells."
   ]
  },
  {
   "cell_type": "code",
   "execution_count": 5,
   "metadata": {
    "deletable": false,
    "editable": false,
    "kernel": "SoS",
    "nbgrader": {
     "cell_type": "code",
     "checksum": "225fd68cc6bd5d28705d0ea0e0053928",
     "grade": false,
     "grade_id": "KayYouTube-1",
     "locked": true,
     "schema_version": 3,
     "solution": false,
     "task": false
    }
   },
   "outputs": [
    {
     "data": {
      "text/html": [
       "\n",
       "        <iframe\n",
       "            width=\"800\"\n",
       "            height=\"450\"\n",
       "            src=\"https://www.youtube-nocookie.com/embed/5XPVnavkgyY\"\n",
       "            frameborder=\"0\"\n",
       "            allowfullscreen\n",
       "        ></iframe>\n",
       "        "
      ],
      "text/plain": [
       "<IPython.lib.display.IFrame at 0x7fb6383f8a90>"
      ]
     },
     "execution_count": 5,
     "metadata": {},
     "output_type": "execute_result"
    }
   ],
   "source": [
    "from IPython.display import IFrame\n",
    "IFrame(width=\"800\", height=\"450\", src=\"https://www.youtube-nocookie.com/embed/5XPVnavkgyY\")"
   ]
  },
  {
   "cell_type": "markdown",
   "metadata": {
    "deletable": false,
    "editable": false,
    "kernel": "Python3",
    "nbgrader": {
     "cell_type": "markdown",
     "checksum": "44a8ee7d9bb3acc1d871bcaa18e92221",
     "grade": false,
     "grade_id": "cell-a22d6141d4f737a2",
     "locked": true,
     "schema_version": 3,
     "solution": false,
     "task": false
    }
   },
   "source": [
    "First, we declare some variable `my_var` in python."
   ]
  },
  {
   "cell_type": "code",
   "execution_count": 6,
   "metadata": {
    "deletable": false,
    "editable": false,
    "kernel": "SoS",
    "nbgrader": {
     "cell_type": "code",
     "checksum": "63ee4ff63c23b21914379c4613ed8c21",
     "grade": false,
     "grade_id": "cell-62aba6b3168b0cc9",
     "locked": true,
     "schema_version": 3,
     "solution": false,
     "task": false
    }
   },
   "outputs": [],
   "source": [
    "%use sos\n",
    "# This is our variable, let's initialize it to 0\n",
    "my_var = 0"
   ]
  },
  {
   "cell_type": "markdown",
   "metadata": {
    "deletable": false,
    "editable": false,
    "kernel": "Python3",
    "nbgrader": {
     "cell_type": "markdown",
     "checksum": "e1334378c2b96583fff0740bc1a7dcca",
     "grade": false,
     "grade_id": "cell-f8fbd6bc0b53a15d",
     "locked": true,
     "schema_version": 3,
     "solution": false,
     "task": false
    }
   },
   "source": [
    "Next, we want to modify this variable in JavaScript, so we define a JavaScript cell to do that. However, we cannot simply access the variable declared in a Python cell without first converting it using one of the magics given above. Run the next cell **without modifying it**, and see if you understand the resulting error."
   ]
  },
  {
   "cell_type": "code",
   "execution_count": 7,
   "metadata": {
    "kernel": "JavaScript"
   },
   "outputs": [
    {
     "data": {
      "text/plain": [
       "5"
      ]
     },
     "execution_count": 7,
     "metadata": {},
     "output_type": "execute_result"
    }
   ],
   "source": [
    "%use javascript\n",
    "%get my_var \n",
    "%put my_var\n",
    "\n",
    "// try to modify the python variable without converting it to JavaScript first\n",
    "my_var = my_var + 5"
   ]
  },
  {
   "cell_type": "markdown",
   "metadata": {
    "deletable": false,
    "editable": false,
    "kernel": "Python3",
    "nbgrader": {
     "cell_type": "markdown",
     "checksum": "2e3cb6de9bc7bca7d6e7d5b174781140",
     "grade": false,
     "grade_id": "cell-4846011ee28359c2",
     "locked": true,
     "schema_version": 3,
     "solution": false,
     "task": false
    }
   },
   "source": [
    "Now, let's do it properly. As you can see, the second and third lines are commented. These lines import the variable `my_var` from python using `%get my_var ` and convert it back to python once all the code in the cell has been executed, using `%put my_var `. Uncomment these lines (remove the  `//`) on both lines and run again."
   ]
  },
  {
   "cell_type": "markdown",
   "metadata": {
    "deletable": false,
    "editable": false,
    "kernel": "JavaScript",
    "nbgrader": {
     "cell_type": "markdown",
     "checksum": "d5d5e53d7d99f501acfcaeb5a8653ee9",
     "grade": false,
     "grade_id": "cell-7f76e0d3fc09b77e",
     "locked": true,
     "schema_version": 3,
     "solution": false,
     "task": false
    }
   },
   "source": [
    "If we now print the value of `my_var` in Python, it should be 5."
   ]
  },
  {
   "cell_type": "code",
   "execution_count": 8,
   "metadata": {
    "deletable": false,
    "editable": false,
    "kernel": "SoS",
    "nbgrader": {
     "cell_type": "code",
     "checksum": "5290417be9dfe911b1d77d2976f81185",
     "grade": false,
     "grade_id": "cell-7c2d76a265a29fb9",
     "locked": true,
     "schema_version": 3,
     "solution": false,
     "task": false
    }
   },
   "outputs": [
    {
     "name": "stdout",
     "output_type": "stream",
     "text": [
      "The value of my_var is 5\n"
     ]
    }
   ],
   "source": [
    "%use sos\n",
    "# Print the value of the python variable my_var\n",
    "print(f'The value of my_var is {my_var}')"
   ]
  },
  {
   "cell_type": "markdown",
   "metadata": {
    "deletable": false,
    "editable": false,
    "kernel": "Python3",
    "nbgrader": {
     "cell_type": "markdown",
     "checksum": "0edadcade591c95dd9b2b18e1188387e",
     "grade": false,
     "grade_id": "cell-3286ecc0742f60b1",
     "locked": true,
     "schema_version": 3,
     "solution": false,
     "task": false
    }
   },
   "source": [
    "Note that, in the previous-to-last cell, the command `%put my_var ` only makes its effect **after** the whole cell terminates. In this case, it takes effect after the line `my_var = my_var + 5;` runs. In contrast, `%get my_var ` runs **before** the cell is run."
   ]
  },
  {
   "cell_type": "markdown",
   "metadata": {
    "deletable": false,
    "editable": false,
    "kernel": "SoS",
    "nbgrader": {
     "cell_type": "markdown",
     "checksum": "72f66bf633bf98569b194f9ca4bf878f",
     "grade": false,
     "grade_id": "cell-e1be27e06ffa6d52",
     "locked": true,
     "schema_version": 3,
     "solution": false,
     "task": false
    }
   },
   "source": [
    "# <a class=\"anchor\"></a> 2. Python and JavaScript\n",
    "\n",
    "Now: why do we need to make everything so complicated and use two different programming languages? We can assure you it's not only to confuse you, and not only because we like the challenge. The real reason is because Python and JavaScript excel at two very distinct tasks. **_Python_ is a high-level language with many great libraries with built-in image processing algorithms, and it is great for visualizing results. On the other hand, _JavaScript_ is a fairly low-level programming language, and it is great for implementing image processing algorithms by accessing each pixel in an image.** \n",
    "\n",
    "The purposes of these labs are 1) for you to understand how to apply the different image processing methods to images, for which we will mostly use Python, 2) for you to learn how methods work in detail, pixel by pixel, for which we will mostly use JavaScript. \n",
    "\n",
    "You will usually need to implement every method **once** in JavaScript to really understand how it works inside. Then, we will show you how to apply the same method in Python by using existing image processing libraries. \n",
    "\n",
    "Again, do not worry, you will be provided with examples of everything that you need to do. Of course, you always have the option to contact your TAs or check [Stack Overflow](https://stackoverflow.com/), where you can find the answers to thousands of previously asked questions for any programming language.\n",
    "<div class=\"alert alert-info\">\n",
    "    \n",
    "**Note:** If you are already familiar with [Python](python.org) and the [NumPy](numpy.org) and [Matplotlib](matplotlib.org) libraries, you can skip to Section [2.B.](#-2.B.-Basic-JavaScript-programming).\n",
    "</div>\n",
    "\n",
    "## <a class=\"anchor\"></a> 2.A. Basic Python programming\n",
    "\n",
    "Declaring a variable in python is very simple. We have three basic types of variables:\n",
    "```python\n",
    "# Numbers\n",
    "my_var = 2\n",
    "my_var = 5.2\n",
    "# Strings\n",
    "my_var = 'Either use single quotes'\n",
    "my_var = \"or use double quotes\"\n",
    "# Boolean\n",
    "my_var = True\n",
    "my_var = False\n",
    "```\n",
    "Every variable can hold every type of data, so we don't need to specify the type at initialization.\n",
    "\n",
    "We can have lists of several items:\n",
    "```python\n",
    "# List of numbers\n",
    "my_list = [2.5, 7, 3.3]\n",
    "# List of strings\n",
    "my_list = ['E.T.', 'phone', 'home']\n",
    "# List of booleans\n",
    "my_list = [True, True, False]\n",
    "```\n",
    "Lists are 0-indexed and can be accessed with square brackets:\n",
    "```python\n",
    "# Set the 3rd element of my_list to 5\n",
    "my_list[2] = 5\n",
    "# Retrieve the 2nd element of my_list\n",
    "new_var = my_list[1]\n",
    "```\n",
    "Similarly we can make tuples, which are just like lists, but their values cannot be modified after they have been initialized:\n",
    "```python\n",
    "# This is a tuple of three numbers\n",
    "my_tuple = (3, 8.6, 4)\n",
    "# Access to a tuple is similar to lists\n",
    "new_var = my_tuple[1]\n",
    "# But we cannot write to a tuple!\n",
    "```\n",
    "For numbers we have the following basic operators:\n",
    "```python\n",
    "# Define the two variables\n",
    "a = 5\n",
    "b = 2\n",
    "# Addition\n",
    "a + b\n",
    ">> 7\n",
    "# Subtraction\n",
    "a - b\n",
    ">> 3\n",
    "# Multiplication\n",
    "a * b\n",
    ">> 10\n",
    "# Division\n",
    "a / b\n",
    ">> 2.5\n",
    "# Integer division\n",
    "a // b\n",
    ">> 2\n",
    "# Modulo (remainder of integer division)\n",
    "a % b\n",
    ">> 1\n",
    "# Power\n",
    "a ** b\n",
    ">> 25\n",
    "```\n",
    "We can have conditional statements\n",
    "```python\n",
    "if a < b:\n",
    "    # printing is done with the print function\n",
    "    print('a is smaller than b')\n",
    "else:\n",
    "    print('a is bigger than or equal to b')\n",
    "```\n",
    "<div class=\"alert alert-info\">\n",
    "\n",
    "**Note:** Indentation is important in Python. Writing a conditional statement, a loop, a function, etc., without an indent (`Tab`) raises an error.\n",
    "</div>\n",
    "\n",
    "with the following comparison operators:\n",
    "```python\n",
    "<  # Smaller than\n",
    "<= # Smaller or equal\n",
    ">  # Bigger than\n",
    ">= # Bigger than or equal to\n",
    "== # Equal to\n",
    "!= # Not equal to\n",
    "```\n",
    "A `for` loop is declared as:\n",
    "```python\n",
    "# Note: range(n) creates numbers from 0 to n-1\n",
    "for i in range(10):\n",
    "    # Another for loop inside the for loop - we call this 'nested for loops'\n",
    "    for j in range(10):\n",
    "        # We can also have formatted strings indicated by a preceeding 'f', where the number i is inserted into the string\n",
    "        print(f'Loop iteration number {j}')\n",
    "```\n",
    "\n",
    "Similarly a `while` loop:\n",
    "```python\n",
    "i = 0\n",
    "while i < 10:\n",
    "    print(f'Loop iteration number {i}')\n",
    "    i = i + 1\n",
    "```\n",
    "And finally, a function can be defined using the `def` keyword:\n",
    "```python\n",
    "# A function that adds two numbers and returns the result\n",
    "def addition(a, b):\n",
    "    # Add the numbers\n",
    "    result = a + b\n",
    "    # Return the result\n",
    "    return result\n",
    "\n",
    "# Run the function\n",
    "addition(5, 10)\n",
    ">> 15\n",
    "```\n",
    "\n",
    "Experiment with Python in the cell below. Learn to do the simple things that come to mind and take the chance to explore all of the options above."
   ]
  },
  {
   "cell_type": "code",
   "execution_count": 9,
   "metadata": {
    "kernel": "SoS"
   },
   "outputs": [
    {
     "name": "stdout",
     "output_type": "stream",
     "text": [
      "we are at iteration 0 in the for loop\n",
      "we are at iteration 0 in the for loop\n",
      "we are at iteration 0 in the for loop\n",
      "Well now we are somewhere else !\n",
      "Well now we are somewhere else !\n",
      "we are at iteration 0 in the for loop\n",
      "line 0 col 1\n"
     ]
    }
   ],
   "source": [
    "def modulo(number, mod):\n",
    "    number = number%mod\n",
    "    return number\n",
    "\n",
    "for i in range(10):\n",
    "    if (i%3)==0 :\n",
    "        print(f\"we are at iteration {modulo(i, 3)} in the for loop\")\n",
    "    elif i>5:\n",
    "        print(f\"Well now we are somewhere else !\")\n",
    "        \n",
    "pyArray = [[\"line 0 col 0\", \"line 0 col 1\", \"line 0 col 2\"],\n",
    "          [\"line 1 col 0\", \"line 1 col 1\", \"line 1 col 2\"],\n",
    "          [\"line 2 col 0\", \"line 2 col 1\", \"line 2 col 2\"]]\n",
    "print(pyArray[0][1])"
   ]
  },
  {
   "cell_type": "markdown",
   "metadata": {
    "deletable": false,
    "editable": false,
    "kernel": "Python3",
    "nbgrader": {
     "cell_type": "markdown",
     "checksum": "476a887d54e2270bfc9fe2dc78604e1a",
     "grade": false,
     "grade_id": "cell-e4d90f9cb5c796d2",
     "locked": true,
     "schema_version": 3,
     "solution": false,
     "task": false
    }
   },
   "source": [
    "### <a class=\"anchor\"></a> 2.A.a. NumPy\n",
    "\n",
    "A very important addition to Python is the [NumPy](https://NumPy.org/) library, which provides multidimensional matrix/array processing tools. Most image processing libraries in Python use NumPy arrays to represent images. We will do the same, and therefore it is important you know how to use them.\n",
    "\n",
    "One usually imports the NumPy library as `np`, to avoid typing `numpy` every time. This also makes the code more readable. Run the cell below to import NumPy."
   ]
  },
  {
   "cell_type": "code",
   "execution_count": 10,
   "metadata": {
    "deletable": false,
    "editable": false,
    "kernel": "SoS",
    "nbgrader": {
     "cell_type": "code",
     "checksum": "1fe9664809f6f2ab77496facab020582",
     "grade": false,
     "grade_id": "cell-ce837d96b7456876",
     "locked": true,
     "schema_version": 3,
     "solution": false,
     "task": false
    }
   },
   "outputs": [],
   "source": [
    "%use sos\n",
    "# Import the NumPy library\n",
    "import numpy as np"
   ]
  },
  {
   "cell_type": "markdown",
   "metadata": {
    "deletable": false,
    "editable": false,
    "kernel": "Python3",
    "nbgrader": {
     "cell_type": "markdown",
     "checksum": "ead1c54afa5198414e9a7cb49ca9e326",
     "grade": false,
     "grade_id": "cell-30b31e8a8d08364c",
     "locked": true,
     "schema_version": 3,
     "solution": false,
     "task": false
    }
   },
   "source": [
    "To create a new NumPy array filled with zeros we can use `np.zeros`. It requires the size of the array we want to get as a tuple `(height, width)`. Run the cell below to see an example.\n",
    "\n",
    "Optionally, we can specify the internal numerical [type](https://NumPy.org/devdocs/user/basics.types.html) of the array. For example, one can use 8-bit unsigned integers (`np.uint8`). This type is convenient for 8-bit images, as the resulting array will occupy less memory than with other types, such as `np.float32` or `np.float64`. For most of the labs, you will not need to mind the numerical type of your variables: it adapts automatically to represent what you are storing in each instance."
   ]
  },
  {
   "cell_type": "code",
   "execution_count": 11,
   "metadata": {
    "deletable": false,
    "editable": false,
    "kernel": "SoS",
    "nbgrader": {
     "cell_type": "code",
     "checksum": "a2412a18cf0f2acfb774b5722b38f205",
     "grade": false,
     "grade_id": "cell-f077efe2cb4faf8c",
     "locked": true,
     "schema_version": 3,
     "solution": false,
     "task": false
    }
   },
   "outputs": [
    {
     "name": "stdout",
     "output_type": "stream",
     "text": [
      "[[0 0 0 0 0 0 0 0 0 0]\n",
      " [0 0 0 0 0 0 0 0 0 0]\n",
      " [0 0 0 0 0 0 0 0 0 0]\n",
      " [0 0 0 0 0 0 0 0 0 0]\n",
      " [0 0 0 0 0 0 0 0 0 0]]\n"
     ]
    }
   ],
   "source": [
    "%use sos\n",
    "# A NumPy array of size 5x10 with numerical type \"unsigned 8-bit integer\"\n",
    "my_arr = np.zeros((5,10), dtype=np.uint8)\n",
    "# Print the result\n",
    "print(my_arr)"
   ]
  },
  {
   "cell_type": "code",
   "execution_count": 12,
   "metadata": {
    "kernel": "SoS"
   },
   "outputs": [
    {
     "name": "stdout",
     "output_type": "stream",
     "text": [
      "0.0\n"
     ]
    }
   ],
   "source": [
    "%use sos\n",
    "# Mes tests perso :\n",
    "test_arr = np.zeros((5,5)) #peut pas contenir autre que nombre aparemment !\n",
    "print(test_arr[0,1])"
   ]
  },
  {
   "cell_type": "markdown",
   "metadata": {
    "deletable": false,
    "editable": false,
    "kernel": "Python3",
    "nbgrader": {
     "cell_type": "markdown",
     "checksum": "d4e9da1f01d5261371d18da4e196c4c9",
     "grade": false,
     "grade_id": "cell-4796a0e2be34dab4",
     "locked": true,
     "schema_version": 3,
     "solution": false,
     "task": false
    }
   },
   "source": [
    "NumPy arrays can be accessed using the same notation used for lists, but with an index for every dimension. Before running the example below, try to guess where the `1` will appear in `my_arr`, i.e., what are $Y$ and $X$ in the comments.\n",
    "\n",
    "<div class=\"alert alert-warning\">\n",
    "    \n",
    "**Beware:** In NumPy arrays, the first index specifies the row (y-axis location), not the x-axis location, while the second index specifies the column (x-axis location), not the y-axis location.\n",
    "</div>"
   ]
  },
  {
   "cell_type": "code",
   "execution_count": 13,
   "metadata": {
    "deletable": false,
    "editable": false,
    "kernel": "SoS",
    "nbgrader": {
     "cell_type": "code",
     "checksum": "cec92dff9e81617d0b15dc50c236cd9d",
     "grade": false,
     "grade_id": "cell-da2800ea53561941",
     "locked": true,
     "schema_version": 3,
     "solution": false,
     "task": false
    }
   },
   "outputs": [
    {
     "name": "stdout",
     "output_type": "stream",
     "text": [
      "[[0 0 0 0 0 0 0 0 0 0]\n",
      " [0 0 0 0 0 0 0 0 0 0]\n",
      " [0 0 0 0 0 0 0 0 0 0]\n",
      " [0 0 0 0 0 0 0 1 0 0]\n",
      " [0 0 0 0 0 0 0 0 0 0]]\n"
     ]
    }
   ],
   "source": [
    "%use sos\n",
    "# Set the value at the Yth row, Xth column to 1\n",
    "my_arr[3, 7] = 1\n",
    "print(my_arr)"
   ]
  },
  {
   "cell_type": "markdown",
   "metadata": {
    "deletable": false,
    "editable": false,
    "kernel": "Python3",
    "nbgrader": {
     "cell_type": "markdown",
     "checksum": "bb240461e50542451d24fa076c0f8a88",
     "grade": false,
     "grade_id": "cell-53ef809fcb84d0a5",
     "locked": true,
     "schema_version": 3,
     "solution": false,
     "task": false
    }
   },
   "source": [
    "We can also use *slicing* (:) to determine whole regions of the array to read or assign. Before running the example, guess where the `1`s will appear, i.e., what are $Y_1,Y_2$ and $X_1,X_2$ in the comments."
   ]
  },
  {
   "cell_type": "code",
   "execution_count": 14,
   "metadata": {
    "deletable": false,
    "editable": false,
    "kernel": "SoS",
    "nbgrader": {
     "cell_type": "code",
     "checksum": "ddcfd799409df977285eb04500d8f3a6",
     "grade": false,
     "grade_id": "cell-49d3e13d428598d2",
     "locked": true,
     "schema_version": 3,
     "solution": false,
     "task": false
    }
   },
   "outputs": [
    {
     "name": "stdout",
     "output_type": "stream",
     "text": [
      "[[0 0 1 1 1 1 0 0 0 0]\n",
      " [0 0 1 1 1 1 0 0 0 0]\n",
      " [0 0 1 1 1 1 0 0 0 0]\n",
      " [0 0 0 0 0 0 0 1 0 0]\n",
      " [0 0 0 0 0 0 0 0 0 0]]\n"
     ]
    }
   ],
   "source": [
    "%use sos\n",
    "# Insert a rectangle with the upper left corner at (Y_1,X_1)\n",
    "# and the lower right corner at (Y_2,X_2)\n",
    "my_arr[:3, 2:6] = 1\n",
    "print(my_arr)"
   ]
  },
  {
   "cell_type": "markdown",
   "metadata": {
    "deletable": false,
    "editable": false,
    "kernel": "Python3",
    "nbgrader": {
     "cell_type": "markdown",
     "checksum": "c6f51390eea3f58e7ccb951bf36b2a8c",
     "grade": false,
     "grade_id": "cell-bf84faf67987733f",
     "locked": true,
     "schema_version": 3,
     "solution": false,
     "task": false
    }
   },
   "source": [
    "As you can see in the code, in slicing, we define an interval of numbers by `<lower_limit>:<upper_limit + 1>`. If one of the limits is not specified, it is interpreted as _from the beginning_ or _to the end_. \n",
    "\n",
    "Using slicing we can also extract patches of an array to create new arrays. Run the example below and see its effect."
   ]
  },
  {
   "cell_type": "code",
   "execution_count": 15,
   "metadata": {
    "deletable": false,
    "editable": false,
    "kernel": "SoS",
    "nbgrader": {
     "cell_type": "code",
     "checksum": "f33ccf6d22859693b6a4c247c5620daf",
     "grade": false,
     "grade_id": "cell-eae2626368bd79a4",
     "locked": true,
     "schema_version": 3,
     "solution": false,
     "task": false
    }
   },
   "outputs": [
    {
     "name": "stdout",
     "output_type": "stream",
     "text": [
      "Original array: \n",
      "[[0 0 1 1 1 1 0 0 0 0]\n",
      " [0 0 1 1 1 1 0 0 0 0]\n",
      " [0 0 1 1 1 1 0 0 0 0]\n",
      " [0 0 0 0 0 0 0 1 0 0]\n",
      " [0 0 0 0 0 0 0 0 0 0]]\n",
      "\n",
      "Extracted patch: \n",
      "[[1 1 1 1]\n",
      " [1 1 1 1]\n",
      " [1 1 1 1]]\n"
     ]
    }
   ],
   "source": [
    "%use sos\n",
    "# Let's extract the rectangle that we created\n",
    "my_rect = my_arr[:3, 2:6]\n",
    "# Note: '\\n' creates a new line when printing\n",
    "print(f'Original array: \\n{my_arr}\\n\\nExtracted patch: \\n{my_rect}')"
   ]
  },
  {
   "cell_type": "markdown",
   "metadata": {
    "deletable": false,
    "editable": false,
    "kernel": "Python3",
    "nbgrader": {
     "cell_type": "markdown",
     "checksum": "5345d5ecb5cc72e5284a9e5359744d27",
     "grade": false,
     "grade_id": "cell-5a5a1dcc6cfa9a76",
     "locked": true,
     "schema_version": 3,
     "solution": false,
     "task": false
    }
   },
   "source": [
    "Using NumPy arrays we can easily perform the basic operators on all elements of one or several arrays (element-wise operations). Run the cell below to define a random array to work with."
   ]
  },
  {
   "cell_type": "code",
   "execution_count": 16,
   "metadata": {
    "deletable": false,
    "editable": false,
    "kernel": "SoS",
    "nbgrader": {
     "cell_type": "code",
     "checksum": "7dc8ca8f32f4c3d1bb5edcccbdd6732d",
     "grade": false,
     "grade_id": "cell-a2f9f9b6b634798d",
     "locked": true,
     "schema_version": 3,
     "solution": false,
     "task": false
    }
   },
   "outputs": [
    {
     "name": "stdout",
     "output_type": "stream",
     "text": [
      "Initial array:\n",
      "[[9 0 9 1 1]\n",
      " [3 3 8 7 4]\n",
      " [4 6 8 3 7]\n",
      " [4 7 3 2 2]\n",
      " [2 7 6 5 2]]\n"
     ]
    }
   ],
   "source": [
    "%use sos\n",
    "# First we define an array of size 5x5 filled with random integers from 0 to 10\n",
    "np.random.seed(uid)\n",
    "rand_array = np.random.randint(low=0, high=10, size=(5,5))\n",
    "print(f'Initial array:\\n{rand_array}')"
   ]
  },
  {
   "cell_type": "markdown",
   "metadata": {
    "deletable": false,
    "editable": false,
    "kernel": "Python3",
    "nbgrader": {
     "cell_type": "markdown",
     "checksum": "c450f0f52e21149a5858d4856aef9a59",
     "grade": false,
     "grade_id": "cell-d7e238fb8cd255eb",
     "locked": true,
     "schema_version": 3,
     "solution": false,
     "task": false
    }
   },
   "source": [
    "We can perform any operation with a scalar for all elements of the array at the same time by using the array as if it was a variable with a single number. Run the example below and make sure you understand its results."
   ]
  },
  {
   "cell_type": "code",
   "execution_count": 17,
   "metadata": {
    "deletable": false,
    "editable": false,
    "kernel": "SoS",
    "nbgrader": {
     "cell_type": "code",
     "checksum": "bc76dc682fe168455c8388054462d570",
     "grade": false,
     "grade_id": "cell-2ca351336e812cdb",
     "locked": true,
     "schema_version": 3,
     "solution": false,
     "task": false
    }
   },
   "outputs": [
    {
     "name": "stdout",
     "output_type": "stream",
     "text": [
      "rand_array + 2:\n",
      "[[11  2 11  3  3]\n",
      " [ 5  5 10  9  6]\n",
      " [ 6  8 10  5  9]\n",
      " [ 6  9  5  4  4]\n",
      " [ 4  9  8  7  4]]\n",
      "\n",
      "rand_array / 2:\n",
      "[[5.5 1.  5.5 1.5 1.5]\n",
      " [2.5 2.5 5.  4.5 3. ]\n",
      " [3.  4.  5.  2.5 4.5]\n",
      " [3.  4.5 2.5 2.  2. ]\n",
      " [2.  4.5 4.  3.5 2. ]]\n"
     ]
    }
   ],
   "source": [
    "%use sos\n",
    "# Add 2 to all elements\n",
    "rand_array = rand_array + 2\n",
    "print(f'rand_array + 2:\\n{rand_array}\\n')\n",
    "# Divide all elements of the resulting array by 2\n",
    "rand_array = rand_array / 2\n",
    "print(f'rand_array / 2:\\n{rand_array}')"
   ]
  },
  {
   "cell_type": "markdown",
   "metadata": {
    "deletable": false,
    "editable": false,
    "kernel": "Python3",
    "nbgrader": {
     "cell_type": "markdown",
     "checksum": "8d02f57e3fc84c6f20e4c89d0b9feaeb",
     "grade": false,
     "grade_id": "cell-866f1219a1f9eeae",
     "locked": true,
     "schema_version": 3,
     "solution": false,
     "task": false
    }
   },
   "source": [
    "Similarly, we can use expressions with multiple arrays of the same size and any of the basic operators: the calculation will be made on the co-positioned elements of the different arrays. Run the example below and make sure you understand its results."
   ]
  },
  {
   "cell_type": "code",
   "execution_count": 18,
   "metadata": {
    "deletable": false,
    "editable": false,
    "kernel": "SoS",
    "nbgrader": {
     "cell_type": "code",
     "checksum": "b1065790741131b8c7b1321757ea92aa",
     "grade": false,
     "grade_id": "cell-b97066e03289b821",
     "locked": true,
     "schema_version": 3,
     "solution": false,
     "task": false
    }
   },
   "outputs": [
    {
     "name": "stdout",
     "output_type": "stream",
     "text": [
      "Array 1:\n",
      "[[8 1 2 3 9]\n",
      " [4 9 5 0 4]\n",
      " [4 1 7 1 5]\n",
      " [9 1 5 3 9]\n",
      " [9 8 2 5 4]]\n",
      "\n",
      "Array 2:\n",
      "[[0 2 3 4 0]\n",
      " [4 5 9 5 3]\n",
      " [4 8 4 4 1]\n",
      " [2 0 0 4 2]\n",
      " [3 5 4 1 8]]\n",
      "\n",
      "Array 1 + Array 2:\n",
      "[[ 8  3  5  7  9]\n",
      " [ 8 14 14  5  7]\n",
      " [ 8  9 11  5  6]\n",
      " [11  1  5  7 11]\n",
      " [12 13  6  6 12]]\n",
      "\n",
      "Array 1 * Array 2:\n",
      "[[ 0  2  6 12  0]\n",
      " [16 45 45  0 12]\n",
      " [16  8 28  4  5]\n",
      " [18  0  0 12 18]\n",
      " [27 40  8  5 32]]\n"
     ]
    }
   ],
   "source": [
    "%use sos\n",
    "# Let's initialize two new random arrays\n",
    "rand_array_1 = np.random.randint(low=0, high=10, size=(5,5))\n",
    "rand_array_2 = np.random.randint(low=0, high=10, size=(5,5))\n",
    "print(f'Array 1:\\n{rand_array_1}\\n\\nArray 2:\\n{rand_array_2}')\n",
    "# We can for example add them together\n",
    "added_arrays = rand_array_1 + rand_array_2\n",
    "print(f'\\nArray 1 + Array 2:\\n{added_arrays}')\n",
    "# Or multiply them\n",
    "multiplied_arrays = rand_array_1 * rand_array_2\n",
    "print(f'\\nArray 1 * Array 2:\\n{multiplied_arrays}')"
   ]
  },
  {
   "cell_type": "markdown",
   "metadata": {
    "deletable": false,
    "editable": false,
    "kernel": "Python3",
    "nbgrader": {
     "cell_type": "markdown",
     "checksum": "21405a9c54e21cd14fffbcda2069d218",
     "grade": false,
     "grade_id": "cell-47e447e5bdfa224c",
     "locked": true,
     "schema_version": 3,
     "solution": false,
     "task": false
    }
   },
   "source": [
    "We can also perform _advanced indexing_ of NumPy arrays: we can provide a [boolean](https://en.wikipedia.org/wiki/Boolean_data_type) array as the index and extract/modify only the values that are specified as `True`. An application of this form of indexing could be to take the multiplied array from the previous cell and set all its elements that are larger than $25$ to $100$. Run the example below and make sure you understand its results."
   ]
  },
  {
   "cell_type": "code",
   "execution_count": 19,
   "metadata": {
    "deletable": false,
    "editable": false,
    "kernel": "SoS",
    "nbgrader": {
     "cell_type": "code",
     "checksum": "3588b446debb408aaa48c715277c7b49",
     "grade": false,
     "grade_id": "cell-973825d59429848c",
     "locked": true,
     "schema_version": 3,
     "solution": false,
     "task": false
    }
   },
   "outputs": [
    {
     "name": "stdout",
     "output_type": "stream",
     "text": [
      "Multiplied array:\n",
      "[[ 0  2  6 12  0]\n",
      " [16 45 45  0 12]\n",
      " [16  8 28  4  5]\n",
      " [18  0  0 12 18]\n",
      " [27 40  8  5 32]]\n",
      "\n",
      "Boolean array:\t(Multiplied array > 25)\n",
      "[[False False False False False]\n",
      " [False  True  True False False]\n",
      " [False False  True False False]\n",
      " [False False False False False]\n",
      " [ True  True False False  True]]\n",
      "\n",
      "Multiplied array with all elements > 25 set to 100:\n",
      "[[  0   2   6  12   0]\n",
      " [ 16 100 100   0  12]\n",
      " [ 16   8 100   4   5]\n",
      " [ 18   0   0  12  18]\n",
      " [100 100   8   5 100]]\n"
     ]
    }
   ],
   "source": [
    "%use sos\n",
    "# First print the multiplied array as a reference\n",
    "print(f'Multiplied array:\\n{multiplied_arrays}')\n",
    "# Create the boolean array that contains true at every location, where the multiplied array has a value bigger than 25\n",
    "boolean_array = multiplied_arrays > 25\n",
    "print(f'\\nBoolean array:\\t(Multiplied array > 25)\\n{boolean_array}')\n",
    "# Now we can use this array to index the multiplied array and set all elements indicated by True to 100\n",
    "multiplied_arrays[boolean_array] = 100\n",
    "print(f'\\nMultiplied array with all elements > 25 set to 100:\\n{multiplied_arrays}')"
   ]
  },
  {
   "cell_type": "markdown",
   "metadata": {
    "deletable": false,
    "editable": false,
    "kernel": "SoS",
    "nbgrader": {
     "cell_type": "markdown",
     "checksum": "5bcddc69d9e68b2e16dcec3a998f1383",
     "grade": false,
     "grade_id": "cell-4712f202350db163",
     "locked": true,
     "schema_version": 3,
     "solution": false,
     "task": false
    }
   },
   "source": [
    "Note that you can also create the boolean array in place, without explicitly declaring an additional variable. Run the cell below and see the difference with the preceeding cell. We will reuse the variable `multiplied_arrays`, and set all elements smaller than $20$ to $1$."
   ]
  },
  {
   "cell_type": "code",
   "execution_count": 20,
   "metadata": {
    "deletable": false,
    "editable": false,
    "kernel": "SoS",
    "nbgrader": {
     "cell_type": "code",
     "checksum": "642b9c3c3f0029bee674ab0d2e770c4b",
     "grade": false,
     "grade_id": "cell-747e1bc2df5df1ea",
     "locked": true,
     "schema_version": 3,
     "solution": false,
     "task": false
    }
   },
   "outputs": [
    {
     "name": "stdout",
     "output_type": "stream",
     "text": [
      "\n",
      "Multiplied array with all elements < 20 set to 1:\n",
      "[[  1   1   1   1   1]\n",
      " [  1 100 100   1   1]\n",
      " [  1   1 100   1   1]\n",
      " [  1   1   1   1   1]\n",
      " [100 100   1   1 100]]\n"
     ]
    }
   ],
   "source": [
    "%use sos\n",
    "\n",
    "# We get the array we have, and index only the elements smaller than 20.\n",
    "multiplied_arrays[multiplied_arrays < 20] = 1\n",
    "print(f'\\nMultiplied array with all elements < 20 set to 1:\\n{multiplied_arrays}')"
   ]
  },
  {
   "cell_type": "markdown",
   "metadata": {
    "deletable": false,
    "editable": false,
    "kernel": "Python3",
    "nbgrader": {
     "cell_type": "markdown",
     "checksum": "28406478e1bb2bbfc145b0804bedaa8c",
     "grade": false,
     "grade_id": "cell-0e44582fd9626af2",
     "locked": true,
     "schema_version": 3,
     "solution": false,
     "task": false
    }
   },
   "source": [
    "As you can guess, these tools provided by NumPy are extremely useful to work on images. During the labs, you will get to know even more useful functions in the NumPy library, and they will make your life much easier."
   ]
  },
  {
   "cell_type": "markdown",
   "metadata": {
    "deletable": false,
    "editable": false,
    "kernel": "Python3",
    "nbgrader": {
     "cell_type": "markdown",
     "checksum": "f8587ae31d44e1019b9259ae894ec149",
     "grade": false,
     "grade_id": "cell-be7bf7e3189461ba",
     "locked": true,
     "schema_version": 3,
     "solution": false,
     "task": false
    }
   },
   "source": [
    "### <a class=\"anchor\"></a> 2.A.b. Matplotlib\n",
    "\n",
    "In order to use the incredible tools NumPy provides on images, as well as to _see_ their effect, we need to be able to 1) load images as NumPy arrays and 2) visualize NumPy arrays as images. Here is where [Matplotlib](https://matplotlib.org/) comes into play, specifically the [PyPlot sublibrary](https://matplotlib.org/api/pyplot_api.html): it provides all the basic tools to load and visualize images.\n",
    "\n",
    "One usually imports the library as `plt`, to avoid typing `matplotlib.pyplot` every time. This also makes the code more readable. Run the cell below to import Matplotlib."
   ]
  },
  {
   "cell_type": "code",
   "execution_count": 21,
   "metadata": {
    "deletable": false,
    "editable": false,
    "kernel": "SoS",
    "nbgrader": {
     "cell_type": "code",
     "checksum": "2b57a9d03e585ae31c730b68cf3300c7",
     "grade": false,
     "grade_id": "cell-b188c66487c5d957",
     "locked": true,
     "schema_version": 3,
     "solution": false,
     "task": false
    }
   },
   "outputs": [],
   "source": [
    "%use sos\n",
    "# Set the display to be inside the notebook\n",
    "%matplotlib widget\n",
    "# Import pyplot\n",
    "import matplotlib.pyplot as plt"
   ]
  },
  {
   "cell_type": "markdown",
   "metadata": {
    "deletable": false,
    "editable": false,
    "kernel": "Python3",
    "nbgrader": {
     "cell_type": "markdown",
     "checksum": "a13f050328e717dd43e1440dab80775b",
     "grade": false,
     "grade_id": "cell-058c6f8138099c92",
     "locked": true,
     "schema_version": 3,
     "solution": false,
     "task": false
    }
   },
   "source": [
    "The only functionality you really need to know is how to load images using `plt.imread`:"
   ]
  },
  {
   "cell_type": "code",
   "execution_count": 22,
   "metadata": {
    "deletable": false,
    "editable": false,
    "kernel": "SoS",
    "nbgrader": {
     "cell_type": "code",
     "checksum": "5cd25daab508b90d6c5dfaf770a50b74",
     "grade": false,
     "grade_id": "cell-587750934f09ea2b",
     "locked": true,
     "schema_version": 3,
     "solution": false,
     "task": false
    }
   },
   "outputs": [
    {
     "data": {
      "text/plain": [
       "numpy.ndarray"
      ]
     },
     "execution_count": 22,
     "metadata": {},
     "output_type": "execute_result"
    }
   ],
   "source": [
    "%use sos\n",
    "# Load an example image located at 'images/epfl.tif'\n",
    "example_img = plt.imread('images/epfl.tif')\n",
    "# Then, we can check the image is really a NumPy array\n",
    "type(example_img)"
   ]
  },
  {
   "cell_type": "markdown",
   "metadata": {
    "deletable": false,
    "editable": false,
    "kernel": "Python3",
    "nbgrader": {
     "cell_type": "markdown",
     "checksum": "9c28b6028a4fd42fa073fd7440bb5b2f",
     "grade": false,
     "grade_id": "cell-aca8d89f9fcfb961",
     "locked": true,
     "schema_version": 3,
     "solution": false,
     "task": false
    }
   },
   "source": [
    "Just so you can actually see the image you loaded, we will display it using `plt.imshow`. In the labs, you will never use this function. Instead, we provide the [IPLabViewer](#4_viewer) class, which adds extra functionality on top of `plt.imshow`, is more convenient, and is easier to use."
   ]
  },
  {
   "cell_type": "code",
   "execution_count": 23,
   "metadata": {
    "deletable": false,
    "editable": false,
    "kernel": "SoS",
    "nbgrader": {
     "cell_type": "code",
     "checksum": "97a34b893ddcffa8736f75d835665ab8",
     "grade": false,
     "grade_id": "cell-61e6c4d19aa3190f",
     "locked": true,
     "schema_version": 3,
     "solution": false,
     "task": false
    }
   },
   "outputs": [
    {
     "data": {
      "application/vnd.jupyter.widget-view+json": {
       "model_id": "8a2d8aa9cf7349ec869b0a7aa4ce6cf5",
       "version_major": 2,
       "version_minor": 0
      },
      "text/plain": [
       "Canvas(toolbar=Toolbar(toolitems=[('Home', 'Reset original view', 'home', 'home'), ('Back', 'Back to previous …"
      ]
     },
     "metadata": {},
     "output_type": "display_data"
    }
   ],
   "source": [
    "%use sos\n",
    "# When using plt.imshow we first need to declare a new figure\n",
    "plt.figure( )\n",
    "# Then we add the image to the figure\n",
    "plt.imshow(example_img, cmap='gray')\n",
    "# Give it a title\n",
    "plt.title(f\"Example Image - SCIPER: {int(getpass.getuser().split('-')[2]) if len(getpass.getuser().split('-')) > 2 else ord(getpass.getuser()[0])}\")\n",
    "# And finally we make sure it is displayed on the screen\n",
    "plt.show()"
   ]
  },
  {
   "cell_type": "markdown",
   "metadata": {
    "deletable": false,
    "editable": false,
    "kernel": "Python3",
    "nbgrader": {
     "cell_type": "markdown",
     "checksum": "a61b4bc77ca8196cc11eda97de72543b",
     "grade": false,
     "grade_id": "cell-7fc8419efb7f6993",
     "locked": true,
     "schema_version": 3,
     "solution": false,
     "task": false
    }
   },
   "source": [
    "Experiment with Python, NumPy and Matplotlib in the empty cell below. Learn to do the simple things that come to mind and take the chance to explore all of the options above. If you need some inspiration, run the next cell to follow the instructional video by Kay."
   ]
  },
  {
   "cell_type": "code",
   "execution_count": 24,
   "metadata": {
    "deletable": false,
    "editable": false,
    "kernel": "SoS",
    "nbgrader": {
     "cell_type": "code",
     "checksum": "bdb5acabb7822c46e5e7efa97422b9d9",
     "grade": false,
     "grade_id": "KayYouTube-2",
     "locked": true,
     "schema_version": 3,
     "solution": false,
     "task": false
    }
   },
   "outputs": [
    {
     "data": {
      "text/html": [
       "\n",
       "        <iframe\n",
       "            width=\"800\"\n",
       "            height=\"450\"\n",
       "            src=\"https://www.youtube-nocookie.com/embed/oewtZoQb2gY\"\n",
       "            frameborder=\"0\"\n",
       "            allowfullscreen\n",
       "        ></iframe>\n",
       "        "
      ],
      "text/plain": [
       "<IPython.lib.display.IFrame at 0x7fb6152c61d0>"
      ]
     },
     "execution_count": 24,
     "metadata": {},
     "output_type": "execute_result"
    }
   ],
   "source": [
    "from IPython.display import IFrame\n",
    "IFrame(width=\"800\", height=\"450\", src=\"https://www.youtube-nocookie.com/embed/oewtZoQb2gY\")"
   ]
  },
  {
   "cell_type": "code",
   "execution_count": 25,
   "metadata": {
    "kernel": "SoS"
   },
   "outputs": [
    {
     "name": "stdout",
     "output_type": "stream",
     "text": [
      "Min value = 0\n",
      "Max value = 255\n",
      "Max value = (238, 315)\n"
     ]
    },
    {
     "data": {
      "application/vnd.jupyter.widget-view+json": {
       "model_id": "8be7044cd6cf43d7bf4504395d1f83b7",
       "version_major": 2,
       "version_minor": 0
      },
      "text/plain": [
       "Canvas(toolbar=Toolbar(toolitems=[('Home', 'Reset original view', 'home', 'home'), ('Back', 'Back to previous …"
      ]
     },
     "metadata": {},
     "output_type": "display_data"
    },
    {
     "data": {
      "application/vnd.jupyter.widget-view+json": {
       "model_id": "97f2c3cdb57b43e3bf10f4757baa0284",
       "version_major": 2,
       "version_minor": 0
      },
      "text/plain": [
       "Canvas(toolbar=Toolbar(toolitems=[('Home', 'Reset original view', 'home', 'home'), ('Back', 'Back to previous …"
      ]
     },
     "metadata": {},
     "output_type": "display_data"
    }
   ],
   "source": [
    "%use sos\n",
    "print(f\"Min value = {np.min(example_img)}\")\n",
    "print(f\"Max value = {np.max(example_img)}\")\n",
    "print(f\"Max value = { example_img.shape}\")\n",
    "cropped_img = example_img[100:201, 100:201]\n",
    "original_img = example_img.copy()\n",
    "original_img[100:201, 100:201] = original_img[:101, :101] //2\n",
    "plt.figure( )\n",
    "plt.imshow(original_img, cmap=\"gray\")\n",
    "plt.show()\n",
    "\n",
    "manip_img = np.empty([50, 100])\n",
    "for line in range(50):\n",
    "    for column in range(100):\n",
    "       manip_img[line, column] = example_img[2*line+70, 2*column+30]//2 + example_img[2*line+70+1, 2*column+30+1]//2\n",
    "plt.figure( )\n",
    "plt.imshow(manip_img, cmap=\"gray\")\n",
    "plt.show()\n",
    "#for pixel in range(example_img.shape)"
   ]
  },
  {
   "cell_type": "markdown",
   "metadata": {
    "deletable": false,
    "editable": false,
    "kernel": "Python3",
    "nbgrader": {
     "cell_type": "markdown",
     "checksum": "c582e6e7269dc0343b105c88917ab101",
     "grade": false,
     "grade_id": "cell-fa0e0f4c0446e183",
     "locked": true,
     "schema_version": 3,
     "solution": false,
     "task": false
    }
   },
   "source": [
    "## <a class =\"anchor\"></a> 2.B. Basic JavaScript programming\n",
    "\n",
    "Now let's look at the second programming language, JavaScript.\n",
    "<div class=\"alert alert-info\">\n",
    "    \n",
    "**Note:** If you are already familiar with JavaScript, you can skip to Section [2.C.](#-2.C.-Python-and-JavaScript-speed-comparison)\n",
    "</div>\n",
    "\n",
    "To declare a variable in JavaScript one uses the `var` statement. Similarly to what we saw with [Python](#-2.A.-Basic-Python-programming), we have three basic types of variables:\n",
    "```javascript\n",
    "// numbers\n",
    "var my_var = 2;\n",
    "var my_var = 5.2;\n",
    "// strings\n",
    "var my_var = 'Either use single quotes';\n",
    "var my_var = \"or use double quotes\";\n",
    "// boolean\n",
    "var my_var = true;\n",
    "var my_var = false;\n",
    "```\n",
    "Every variable can hold every type of data, so we don't need to specify the type at initialization.\n",
    "<div class=\"alert alert-info\">\n",
    "\n",
    "**Note:** In JavaScript, every line should be terminated with a semicolon `;`.\n",
    "</div>\n",
    "\n",
    "We can have arrays of several items. There are two ways of constructing an array, the first one is:\n",
    "```javascript\n",
    "// list of numbers\n",
    "var my_array = [2.5, 7, 3.3];\n",
    "// list of strings\n",
    "var my_array = ['E.T.', 'phone', 'home'];\n",
    "// list of booleans\n",
    "var my_array = [true, true, false];\n",
    "```\n",
    "\n",
    "And the second one is:\n",
    "```javascript\n",
    "// list of numbers\n",
    "var my_array = new Array(2.5, 7, 3.3);\n",
    "// list of strings\n",
    "var my_array = new Array('E.T.', 'phone', 'home');\n",
    "// list of booleans\n",
    "var my_array = new Array(true, true, false);\n",
    "```\n",
    "\n",
    "Both are completely equivalent. \n",
    "\n",
    "<div class=\"alert alert-info\">\n",
    "\n",
    "**Note:** Note how with the second approach, you are explicitly calling the _constructor_ of the class Array (in other words, the function that creates new Arrays). Consequently, you need to use the keyword `new`. We will see this also in Section [3](#-3.-IPLabImageAccess) with the class we have prepared for you to process images simply with JavaScript.\n",
    "</div>\n",
    "\n",
    "Arrays are 0-indexed and can be accessed with square brackets:\n",
    "```javascript\n",
    "// set the 3rd element of my_list to 5\n",
    "my_array[2] = 5;\n",
    "// retrieve the 2nd element of my_list\n",
    "var new_var = my_array[1];\n",
    "```\n",
    "Contrary to Python, tuples do not exist in JavaScript.\n",
    "\n",
    "For numbers we have the following basic operators:\n",
    "```javascript\n",
    "// define the two variables\n",
    "var a = 5;\n",
    "var b = 2;\n",
    "// addition\n",
    "a + b;\n",
    ">> 7\n",
    "// subtraction\n",
    "a - b;\n",
    ">> 3\n",
    "// multiplication\n",
    "a * b;\n",
    ">> 10\n",
    "// division\n",
    "a / b;\n",
    ">> 2.5\n",
    "// integer division can be emulated through\n",
    "parseInt(a / b);\n",
    ">> 2\n",
    "// modulo (remainder of the integer division)\n",
    "a % b;\n",
    ">> 1\n",
    "// power\n",
    "a ** b;\n",
    ">> 25\n",
    "```\n",
    "We can have conditional statements\n",
    "```javascript\n",
    "if(a < b){\n",
    "    // printing in JS is done with console.log\n",
    "    console.log('a is smaller than b');\n",
    "}else{\n",
    "    console.log('a is bigger than b');\n",
    "}\n",
    "```\n",
    "<div class=\"alert alert-info\">\n",
    "\n",
    "**Note:** Indentation is **not** important in JavaScript but curly brackets `{}` are. To write a conditional statement, a loop, a function, etc., one uses curly brackets to define the beginning and end of each block of code. \n",
    "</div>\n",
    "\n",
    "with the following comparison operators:\n",
    "```javascript\n",
    "<  // smaller than\n",
    "<= // smaller or equal\n",
    ">  // bigger than\n",
    ">= // bigger or equal\n",
    "== // equal\n",
    "!= // not equal\n",
    "```\n",
    "A `for` loop is declared as:\n",
    "```javascript\n",
    "for(var i = 0; i < 10; i++){\n",
    "    // another for loop inside the for loop\n",
    "    for(var j = 0; j < 10; i++){\n",
    "        // we can concatenate strings and numbers using the + operator\n",
    "        console.log('Loop iteration number ' + j);\n",
    "    }\n",
    "}\n",
    "```\n",
    "Similarly a `while` loop:\n",
    "```javascript\n",
    "var i = 0;\n",
    "while(i < 10){\n",
    "    console.log('Loop iteration number ' + i);\n",
    "    i++; // increment i by one\n",
    "}\n",
    "```\n",
    "\n",
    "And finally, a function can be defined using the `function` keyword:\n",
    "```javascript\n",
    "// a function that adds two numbers and returns the result\n",
    "function addition(a, b){\n",
    "    // Add the numbers\n",
    "    var result = a + b;\n",
    "    // Return the result\n",
    "    return result;\n",
    "}\n",
    "\n",
    "// run the function\n",
    "addition(5, 10);\n",
    ">> 15\n",
    "```\n",
    "\n",
    "<div class=\"alert alert-info\">\n",
    "\n",
    "**Note:** In the Jupyter Notebook environment we use for the labs, writing the `var` for variable declerations is not strictly necessary. Similarly, the semicolons at the end of every line are not needed for the code to work. That being said, it is still good practice to always add the two.\n",
    "</div>\n",
    "\n",
    "Experiment with JavaScript in the cells below. Learn to do the simple things that come to mind and take the chance to explore all of the options above. If you want to visualize what you try out, use the cell further below, Python, and SoS to play around. If that looks scary at this point, move on and come back some time later."
   ]
  },
  {
   "cell_type": "code",
   "execution_count": 26,
   "metadata": {
    "kernel": "JavaScript"
   },
   "outputs": [
    {
     "name": "stdout",
     "output_type": "stream",
     "text": [
      "still crazy \n",
      "still crazy \n",
      "No way !!!\n",
      "still crazy \n"
     ]
    }
   ],
   "source": [
    "%use javascript\n",
    "function doCrazyStuff(param1, param2){\n",
    "    if(param1 == param2){\n",
    "        console.log(\"You''re crazy !!!\" );\n",
    "    }\n",
    "    else if(param1>param2){\n",
    "        console.log(\"still crazy \");\n",
    "    }\n",
    "    else { \n",
    "        console.log(\"No way !!!\");\n",
    "    }\n",
    "}\n",
    "var test1 = 2; \n",
    "doCrazyStuff(test1, false);\n",
    "doCrazyStuff(test1, true);\n",
    "doCrazyStuff(test1, \"TestText\");\n",
    "doCrazyStuff(test1, 1);"
   ]
  },
  {
   "cell_type": "code",
   "execution_count": 27,
   "metadata": {
    "kernel": "SoS"
   },
   "outputs": [],
   "source": [
    "%use sos"
   ]
  },
  {
   "cell_type": "markdown",
   "metadata": {
    "deletable": false,
    "editable": false,
    "kernel": "Python3",
    "nbgrader": {
     "cell_type": "markdown",
     "checksum": "efa9d72a97cc88e6e2a03410321512c0",
     "grade": false,
     "grade_id": "cell-10466714977d481b",
     "locked": true,
     "schema_version": 3,
     "solution": false,
     "task": false
    }
   },
   "source": [
    "## <a class=\"anchor\"></a> 2.C. Python vs JavaScript speed comparison\n",
    "\n",
    "As mentioned before, JavaScript will mainly be used to implement pixel-level algorithms, which require nested `for` loops. To illustrate why this is necessary, we'll compare the time it takes for both Python and JavaScript to perform a zero-padded convolution implemented using nested `for` loops.\n",
    "\n",
    "The two-dimensional convolution between two images `h` and `f` is given by\n",
    "$$(h \\ast f)[k,l] = \\sum_{m \\in \\mathbb{Z}}\\sum_{n \\in \\mathbb{Z}}f[m,n]h[k-m,l-n]$$\n",
    "Don't worry, you don't need to know how that works right now, you'll see this in Chapter _3.2_ of the course. But it's safe to say that the convolution is a very important operation for image processing, which is why we'll use it for this demonstration.\n",
    "\n",
    "First let's define a Python function to generate a Gaussian kernel, which we will use as one of the images for the convolution. Run the cell below to define this function and obtain and visualize the Gaussian impulse response."
   ]
  },
  {
   "cell_type": "code",
   "execution_count": 28,
   "metadata": {
    "deletable": false,
    "editable": false,
    "kernel": "SoS",
    "nbgrader": {
     "cell_type": "code",
     "checksum": "ebd368dfc1e75c446a4916b0abfd6e84",
     "grade": false,
     "grade_id": "cell-b2d70fae2813497d",
     "locked": true,
     "schema_version": 3,
     "solution": false,
     "task": false
    }
   },
   "outputs": [
    {
     "data": {
      "application/vnd.jupyter.widget-view+json": {
       "model_id": "f8eb408561a44fa3baa94460fa1e82d0",
       "version_major": 2,
       "version_minor": 0
      },
      "text/plain": [
       "Canvas(toolbar=Toolbar(toolitems=[('Home', 'Reset original view', 'home', 'home'), ('Back', 'Back to previous …"
      ]
     },
     "metadata": {},
     "output_type": "display_data"
    }
   ],
   "source": [
    "%use sos\n",
    "# Imports and definitions, in case you skipped the previous parts\n",
    "%matplotlib widget\n",
    "import numpy as np\n",
    "import matplotlib.pyplot as plt\n",
    "import getpass\n",
    "\n",
    "# Function that creates a Gaussian convolutional kernel based on the input parameters\n",
    "def gaussian_kernel( sig, length):\n",
    "    # Generate the 1D grid-points\n",
    "    ax = np.linspace(-(length - 1) / 2., (length - 1) / 2., length)\n",
    "    # Generate the 2D grid-points created by ax x ax\n",
    "    xx, yy = np.meshgrid(ax, ax)\n",
    "    # Calculate the Gaussian kernel (up to proportionality constant)\n",
    "    kernel = np.exp(-0.5 * (np.square(xx) + np.square(yy)) / np.square(sig))\n",
    "    # Normalize the kernel to sum 1 and return it\n",
    "    return kernel / np.sum(kernel)\n",
    "\n",
    "# Get a Gaussian kernel\n",
    "ker = gaussian_kernel(sig=3, length=5)\n",
    "# Show the result\n",
    "plt.figure()\n",
    "plt.imshow(ker, cmap='gray')\n",
    "plt.title(f\"Gaussian kernel - SCIPER: {int(getpass.getuser().split('-')[2]) if len(getpass.getuser().split('-')) > 2 else ord(getpass.getuser()[0])}\")\n",
    "plt.show()"
   ]
  },
  {
   "cell_type": "markdown",
   "metadata": {
    "deletable": false,
    "editable": false,
    "kernel": "Python3",
    "nbgrader": {
     "cell_type": "markdown",
     "checksum": "a2da584dcff6c86799844b1e3898f82c",
     "grade": false,
     "grade_id": "cell-1371f4274da82709",
     "locked": true,
     "schema_version": 3,
     "solution": false,
     "task": false
    }
   },
   "source": [
    "From the implementation above you can learn how to use NumPy functions such as `np.linspace`, `np.meshgrid`, `np.exp`, `np.square` and `np.sum`. Try them out at the end of the Python section if you are curious! Otherwise, don't worry, this example will always be here for you.\n",
    "\n",
    "Now that we have the Gaussian kernel ready, let's define the JavaScript convolution function. Run the cell below to define it."
   ]
  },
  {
   "cell_type": "code",
   "execution_count": 29,
   "metadata": {
    "deletable": false,
    "editable": false,
    "kernel": "JavaScript",
    "nbgrader": {
     "cell_type": "code",
     "checksum": "8ca9fedff096c171114dd6520e6cfcfc",
     "grade": false,
     "grade_id": "cell-303faecf42fd795f",
     "locked": true,
     "schema_version": 3,
     "solution": false,
     "task": false
    }
   },
   "outputs": [],
   "source": [
    "%use javascript\n",
    "// function that convolves img with kernel\n",
    "function convolution(img, kernel){\n",
    "    // initialize the output image as a copy of the input image\n",
    "    var smoothed_img = [...img];\n",
    "    // compute the kernel offset\n",
    "    const k_offset = Math.floor(    kernel.length / 2 );\n",
    "    const l_offset = Math.floor( kernel[0].length / 2 );\n",
    "    // perform zero-padded convolution\n",
    "    for(i = 0; i < img.length; i++){\n",
    "        for(j = 0; j < img[0].length; j++){\n",
    "            // compute output for pixel i, j. \n",
    "            // zero-padding: extend the image with zeros beyond its boundaries.\n",
    "            smoothed_img[i][j] = 0;\n",
    "            for(k = 0; k < kernel.length; k++){\n",
    "                for(l = 0; l < kernel[0].length; l++){\n",
    "                    // compute evaluation points to enforce boundary\n",
    "                    var x = k - k_offset + i;\n",
    "                    var y = l - l_offset + j;\n",
    "                    // increment if appropriate (if outside the image, don't increment, there are zeros)\n",
    "                    if((x < img.length) && (x > 0) && (y < img[0].length) && (y > 0)){\n",
    "                        smoothed_img[i][j] += img[x][y] * kernel[k][l]; \n",
    "                    } \n",
    "                }\n",
    "            }\n",
    "        }\n",
    "    }\n",
    "    // return the output image\n",
    "    return smoothed_img;\n",
    "}"
   ]
  },
  {
   "cell_type": "markdown",
   "metadata": {
    "deletable": false,
    "editable": false,
    "kernel": "JavaScript",
    "nbgrader": {
     "cell_type": "markdown",
     "checksum": "14a60d78407f4810d0c191fbbe8c8c9f",
     "grade": false,
     "grade_id": "cell-f036bdacaef21fc9",
     "locked": true,
     "schema_version": 3,
     "solution": false,
     "task": false
    }
   },
   "source": [
    "From the implementation above, you can learn useful JavaScript functions like `Math.floor`. Nonetheless, some of the tricks we had to use will not be necessary for you. For example, the lines\n",
    "```javascript\n",
    "var smoothed_img = [...img];\n",
    "k < kernel.length;\n",
    "l < kernel[0].length;\n",
    "```\n",
    "will be much more intuitive to implement using our class [IPLabImageAccess](#-3.-IPLabImageAccess-(2-points)) below, so do not worry about them. \n",
    "\n",
    "Now, let's define the Python convolution function. Run the cell below to define it."
   ]
  },
  {
   "cell_type": "code",
   "execution_count": 30,
   "metadata": {
    "deletable": false,
    "editable": false,
    "kernel": "SoS",
    "nbgrader": {
     "cell_type": "code",
     "checksum": "dbfd9bdf75d946a68473ff7c93fb895b",
     "grade": false,
     "grade_id": "cell-e191e97fa374f116",
     "locked": true,
     "schema_version": 3,
     "solution": false,
     "task": false
    }
   },
   "outputs": [],
   "source": [
    "%use sos\n",
    "# Function that convolves img with kernel\n",
    "def convolution(img, kernel):\n",
    "    # Initialize output image as an empty image\n",
    "    smoothed_img = np.zeros(img.shape)\n",
    "    # Compute the kernel offset\n",
    "    k_offset = kernel.shape[0] // 2\n",
    "    l_offset = kernel.shape[1] // 2\n",
    "    # Perform zero-padded convolution\n",
    "    for i in range(img.shape[0]):\n",
    "        for j in range(img.shape[1]):\n",
    "            # Compute output for pixel i, j. \n",
    "            # Zero-padding: extend the image with zeros beyond its boundaries.\n",
    "            for k in range(kernel.shape[0]):\n",
    "                for l in range(kernel.shape[1]):\n",
    "                    # Compute evaluation points to enforce boundary\n",
    "                    x = k - k_offset + i\n",
    "                    y = l - l_offset + j\n",
    "                    # Increment if appropriate (if outside the image, don't increment, there are zeros)\n",
    "                    if (x < img.shape[0]) and (x > 0) and (y < img.shape[1]) and (y > 0):\n",
    "                        smoothed_img[i, j] += img[x, y] * kernel[k, l]\n",
    "    # Return the output image\n",
    "    return smoothed_img"
   ]
  },
  {
   "cell_type": "markdown",
   "metadata": {
    "deletable": false,
    "editable": false,
    "kernel": "Python3",
    "nbgrader": {
     "cell_type": "markdown",
     "checksum": "99a156aa8bff2030b3f34d4db46a9cc8",
     "grade": false,
     "grade_id": "cell-6f9f98ef0b8b5a5c",
     "locked": true,
     "schema_version": 3,
     "solution": false,
     "task": false
    }
   },
   "source": [
    "From the implementation above, you can learn useful NumPy functions like `np.zeros`, or properties like `img.shape`, when `img` is a NumPy array. As always, feel free to try them out now at the end of the Python section!\n",
    "\n",
    "Now, we load an image and transfer it to JavaScript, together with the Gaussian kernel we defined before in Python. In this way, we will be able to test the JavaScript function we implemented. Run the cell below to load the image, display it, and transfer the image and the Gaussian kernel to Javascript."
   ]
  },
  {
   "cell_type": "code",
   "execution_count": 31,
   "metadata": {
    "deletable": false,
    "editable": false,
    "kernel": "SoS",
    "nbgrader": {
     "cell_type": "code",
     "checksum": "34da399aaadda8fc54988bacd88f683a",
     "grade": false,
     "grade_id": "cell-9dbac2d14194e3bc",
     "locked": true,
     "schema_version": 3,
     "solution": false,
     "task": false
    }
   },
   "outputs": [
    {
     "data": {
      "application/vnd.jupyter.widget-view+json": {
       "model_id": "2c0ac6a49f3e47b88a64a07055324eab",
       "version_major": 2,
       "version_minor": 0
      },
      "text/plain": [
       "Canvas(toolbar=Toolbar(toolitems=[('Home', 'Reset original view', 'home', 'home'), ('Back', 'Back to previous …"
      ]
     },
     "metadata": {},
     "output_type": "display_data"
    }
   ],
   "source": [
    "%use sos\n",
    "%put hrct --to javascript\n",
    "%put ker --to javascript\n",
    "# Load the hrct image\n",
    "hrct = plt.imread('images/hrct.tif')\n",
    "# Display it\n",
    "plt.figure()\n",
    "plt.imshow(hrct, cmap='gray')\n",
    "plt.title(f\"HRCT - SCIPER: {int(getpass.getuser().split('-')[2]) if len(getpass.getuser().split('-')) > 2 else ord(getpass.getuser()[0])}\")\n",
    "plt.show()"
   ]
  },
  {
   "cell_type": "markdown",
   "metadata": {
    "deletable": false,
    "editable": false,
    "kernel": "Python3",
    "nbgrader": {
     "cell_type": "markdown",
     "checksum": "df5fc87703c9e0c2ff78cdb18887f480",
     "grade": false,
     "grade_id": "cell-31b4493edc8e57f2",
     "locked": true,
     "schema_version": 3,
     "solution": false,
     "task": false
    }
   },
   "source": [
    "Now, we are ready to run the convolution in JavaScript and measure the time it takes. Run the cell below to do it."
   ]
  },
  {
   "cell_type": "code",
   "execution_count": 32,
   "metadata": {
    "deletable": false,
    "editable": false,
    "kernel": "JavaScript",
    "nbgrader": {
     "cell_type": "code",
     "checksum": "ea1df7f2a3c5f4f0c8b1b121c7c2238f",
     "grade": false,
     "grade_id": "cell-10f3e0873a27082f",
     "locked": true,
     "schema_version": 3,
     "solution": false,
     "task": false
    }
   },
   "outputs": [
    {
     "name": "stdout",
     "output_type": "stream",
     "text": [
      "The JavaScript convolution took 226 miliseconds to run.\n"
     ]
    }
   ],
   "source": [
    "%use javascript\n",
    "%put convolved_hrct_js \n",
    "%put js_time \n",
    "// get the starting time in miliseconds\n",
    "var start = new Date();\n",
    "\n",
    "// run the convolution\n",
    "var convolved_hrct_js = convolution(hrct, ker);\n",
    "\n",
    "// get the ending time in miliseconds\n",
    "var end = new Date();\n",
    "\n",
    "// calculate the elapsed time in miliseconds\n",
    "var js_time = end - start\n",
    "\n",
    "// display the elapsed time\n",
    "console.log('The JavaScript convolution took ' + js_time + ' miliseconds to run.');"
   ]
  },
  {
   "cell_type": "markdown",
   "metadata": {
    "deletable": false,
    "editable": false,
    "kernel": "JavaScript",
    "nbgrader": {
     "cell_type": "markdown",
     "checksum": "4ff9d9df5b756099cd27054e95bd5921",
     "grade": false,
     "grade_id": "cell-11187968593763a9",
     "locked": true,
     "schema_version": 3,
     "solution": false,
     "task": false
    }
   },
   "source": [
    "Now, we do the same for the implementation of the convolution in Python. Run the cell below to do it.\n",
    "<div class=\"alert alert-danger\">\n",
    "\n",
    "**Spoiler alert:** You can go grab a drink while this is running... As you may have noticed, in a Jupyter Notebook a cell is still running if inside the square brackets in the top left corner of the cell you see an asterisk `[*]` instead of a number.\n",
    "</div>\n",
    "\n",
    "<div class=\"alert alert-info\">\n",
    "\n",
    "**Note:** To measure the time in Python we need to import the `time` module.\n",
    "</div>"
   ]
  },
  {
   "cell_type": "code",
   "execution_count": 33,
   "metadata": {
    "deletable": false,
    "editable": false,
    "kernel": "SoS",
    "nbgrader": {
     "cell_type": "code",
     "checksum": "53f5a25b1604a1ee46c4ae15f1bf632f",
     "grade": false,
     "grade_id": "cell-17e8197315f2c971",
     "locked": true,
     "schema_version": 3,
     "solution": false,
     "task": false
    }
   },
   "outputs": [
    {
     "name": "stdout",
     "output_type": "stream",
     "text": [
      "The Python convolution took 40900 miliseconds to run.\n",
      "That makes JavaScript around 181 times faster than Python for this implementation.\n"
     ]
    }
   ],
   "source": [
    "%use sos\n",
    "import time\n",
    "\n",
    "# Get starting time in seconds\n",
    "start = time.time()\n",
    "\n",
    "# Run the convolution\n",
    "convolved_hrct_jpython = convolution(hrct, ker)\n",
    "\n",
    "# Get the ending time seconds\n",
    "end = time.time()\n",
    "\n",
    "# Calculate the elapsed time in miliseconds\n",
    "python_time = round((end - start)*1000)\n",
    "\n",
    "# Display the elapsed time\n",
    "print(f'The Python convolution took {python_time} miliseconds to run.');\n",
    "print(f'That makes JavaScript around {round(python_time/js_time)} times faster than Python for this implementation.')"
   ]
  },
  {
   "cell_type": "markdown",
   "metadata": {
    "deletable": false,
    "editable": false,
    "kernel": "Python3",
    "nbgrader": {
     "cell_type": "markdown",
     "checksum": "a9a82a04dc58cfe3ff9efad98bb393ba",
     "grade": false,
     "grade_id": "cell-abfe855d445e584a",
     "locked": true,
     "schema_version": 3,
     "solution": false,
     "task": false
    }
   },
   "source": [
    "Hopefully, you can understand from this illustration that standard Python is not made for pixel-level algorithms with nested `for` loops. This justifies the use of JavaScript for such implementations. Just so you can actually see the result of the function we just ran, run the next cell to see it."
   ]
  },
  {
   "cell_type": "code",
   "execution_count": 34,
   "metadata": {
    "deletable": false,
    "editable": false,
    "kernel": "SoS",
    "nbgrader": {
     "cell_type": "code",
     "checksum": "01cb6144e2b4d8e8746b905ea04dd8c8",
     "grade": false,
     "grade_id": "cell-994c6d876b8b98ce",
     "locked": true,
     "schema_version": 3,
     "solution": false,
     "task": false
    }
   },
   "outputs": [
    {
     "data": {
      "application/vnd.jupyter.widget-view+json": {
       "model_id": "2b68611f80d747a3b69a74161314f0e4",
       "version_major": 2,
       "version_minor": 0
      },
      "text/plain": [
       "Canvas(toolbar=Toolbar(toolitems=[('Home', 'Reset original view', 'home', 'home'), ('Back', 'Back to previous …"
      ]
     },
     "metadata": {},
     "output_type": "display_data"
    }
   ],
   "source": [
    "%use sos\n",
    "plt.figure()\n",
    "plt.imshow(convolved_hrct_jpython, cmap='gray')\n",
    "plt.title(f\"HRCT convolved with a Gaussian kernel - SCIPER: {int(getpass.getuser().split('-')[2]) if len(getpass.getuser().split('-')) > 2 else ord(getpass.getuser()[0])}\")\n",
    "plt.show()"
   ]
  },
  {
   "cell_type": "markdown",
   "metadata": {
    "deletable": false,
    "editable": false,
    "kernel": "Python3",
    "nbgrader": {
     "cell_type": "markdown",
     "checksum": "073f5881394dd4434a4d78d33c058777",
     "grade": false,
     "grade_id": "cell-ac81610fb26a58e4",
     "locked": true,
     "schema_version": 3,
     "solution": false,
     "task": false
    }
   },
   "source": [
    "# <a class=\"anchor\"></a> 3. IPLabImageAccess (2 points)\n",
    "\n",
    "While JavaScript offers the big advantage of fast nested `for` loops for pixel-by-pixel programming, it also comes with a downside. It does not offer convenient array/image processing libraries like Python. To make things easier, we created our own JavaScript class, `IPLabImageAccess`, which facilitates the handling of images in JavaScript. Feel free to check out the documentation [here](https://github.com/Biomedical-Imaging-Group/IPLabImageAccess/wiki). Every `IPLabImageAccess` object is a container for an image and provides easy-to-use methods for pixel access that take care of boundary conditions. This will help you to complete the tasks in JavaScript. Here, we will show you the basics of how this class can be used.\n",
    "\n",
    "As we do with external libraries, we will import this class under a simpler name to make the code more readable. In all upcoming labs, we will import the `IPLabImageAccess` class as `Image`. Run the JavaScript cell below to do it."
   ]
  },
  {
   "cell_type": "code",
   "execution_count": 35,
   "metadata": {
    "deletable": false,
    "editable": false,
    "kernel": "JavaScript",
    "nbgrader": {
     "cell_type": "code",
     "checksum": "cb1f8c667301052ed9836548df24754d",
     "grade": false,
     "grade_id": "cell-6e236bcfb6aba184",
     "locked": true,
     "schema_version": 3,
     "solution": false,
     "task": false
    }
   },
   "outputs": [],
   "source": [
    "%use javascript\n",
    "var Image = require('./lib/IPLabImageAccess.js')"
   ]
  },
  {
   "cell_type": "markdown",
   "metadata": {
    "deletable": false,
    "editable": false,
    "kernel": "Python3",
    "nbgrader": {
     "cell_type": "markdown",
     "checksum": "9e21c4fc87323c43c58df42ae4546527",
     "grade": false,
     "grade_id": "cell-8c7592f2d338d86d",
     "locked": true,
     "schema_version": 3,
     "solution": false,
     "task": false
    }
   },
   "source": [
    "Once imported, we can start using it. First of all, let's look at the different ways we can create a new `Image` object.\n",
    "\n",
    "* An `Image` object can be created with\n",
    "```javascript\n",
    "var img = new Image(height, width);\n",
    "```\n",
    "This will create a new `Image` object of dimensions `height` $\\times$ `width`. <br><br>\n",
    "\n",
    "* Optionally, `height` and `width` can be provided as a single array `[height, width]`. This makes it easy to create an image with the same dimensions as an existing image by using the `shape` method, for example\n",
    "```javascript\n",
    "var img = new Image(an_existing_image.shape());\n",
    "```\n",
    "\n",
    "* By default, the image is initialized to $0$ for every pixel, but we can choose an alternative initialization value. For this, we need to create an `options` object in which we specify the `init_value` attribute and then we pass this object to the `Image` constructor\n",
    "```javascript\n",
    "var options = {};\n",
    "options.init_value = 255;\n",
    "var img = new Image(height, width, options);\n",
    "```\n",
    "\n",
    "* Similarly, if we want to create an rgb image, we specify the `rgb` attribute in the `options` object to `true` and pass it to the constructor.\n",
    "```javascript\n",
    "var options = {};\n",
    "options.rgb = true;\n",
    "var img = new Image(height, width, options);\n",
    "```\n",
    "\n",
    "* An `Image` object can also be created from an existing JavaScript array, by simply passing it as a single argument\n",
    "```javascript\n",
    "var img = new Image(an_existing_array);\n",
    "```\n",
    "This is useful, for example, to create an `Image` object from a Python NumPy array converted to Javascript.\n",
    "\n",
    "We now look at how to use the basic functionalities in the class. The most important operations you're gonna need are the `img.setPixel` and `img.getPixel` methods, which do exactly as their name suggests when `img` is an `Image` object.\n",
    "* The `img.setPixel(x, y, value)` method can be used to set the pixel at location `(x,y)` to a specific value `value`:\n",
    "```javascript\n",
    "// here we set the pixel (3,5) of img to 255\n",
    "img.setPixel(3, 5, 255);\n",
    "```\n",
    "* The `img.getPixel(x, y)` method can be used to retrieve the value of the pixel at location `(x,y)`:\n",
    "```javascript\n",
    "// here we retreive the pixel (3,5) of img\n",
    "var pixel = img.getPixel(3, 5);\n",
    "```\n",
    "By default, the `setPixel` and `getPixel` methods will use _mirroring_ boundary conditions to provide values for pixels outside the image range. Do not worry if you do not understand this yet, it will be clearer as you progress through the course.<br><br>\n",
    "\n",
    "* The height and width of an `Image` object can be retreived either using using the `img.shape()` method, which returns a list `[height, width]` or, more conveniently, with `img.nx` and `img.ny`.\n",
    "```javascript\n",
    "// retreive height and width of the image as a list\n",
    "height_and_width_list = img.shape();\n",
    "// get only the width\n",
    "width = img.nx;\n",
    "// get only the height\n",
    "height = img.ny;\n",
    "```\n",
    "This second option is very useful when setting the limits in `for` loops. <br><br>\n",
    "\n",
    "* We can extract the neighbourhood of size `width` $\\times$ `height` around the pixel at location `(x,y)`, using the `img.getNbh(x, y, width, height)` method:\n",
    "```javascript\n",
    "// extracting the 3x3 neighbourhood around pixel (12,7)\n",
    "nbh = img.getNbh(12, 7, 3, 3);\n",
    "```\n",
    "By default, the method will use _mirroring_ boundary conditions, just like the `getPixel` and `setPixel` methods.\n",
    "\n",
    "* Finally, if we need to convert an `Image` object to a simple JavaScript array, we can do it with the `img.toArray()` method, for example\n",
    "```javascript\n",
    "// convert the Image object to a JavaScript array\n",
    "img_array = img.toArray();\n",
    "```\n",
    "This will be necessary, for example, to convert the image to Python."
   ]
  },
  {
   "cell_type": "markdown",
   "metadata": {
    "deletable": false,
    "editable": false,
    "kernel": "Python3",
    "nbgrader": {
     "cell_type": "markdown",
     "checksum": "d2b9c0c8c04918109c4499909567542c",
     "grade": false,
     "grade_id": "cell-96b2fcb8caace8fb",
     "locked": true,
     "schema_version": 3,
     "solution": false,
     "task": false
    }
   },
   "source": [
    "We are sorry you just had to read so much! For **2 points**, your job now is to create a new `Image` object called `img`, of size $50 \\times 50$, and set the pixels at locations $(x=10, y=20)$, $(x=15, y=30)$ and $(x=40, y=7)$ to $255$."
   ]
  },
  {
   "cell_type": "code",
   "execution_count": 36,
   "metadata": {
    "deletable": false,
    "kernel": "JavaScript",
    "nbgrader": {
     "cell_type": "code",
     "checksum": "967d5cad6458a4a003c57debb062672a",
     "grade": false,
     "grade_id": "cell-779a0057e28178dd",
     "locked": false,
     "schema_version": 3,
     "solution": true,
     "task": false
    }
   },
   "outputs": [],
   "source": [
    "%use javascript\n",
    "%put img \n",
    "\n",
    "// create a new Image object named img of size 50 x 50\n",
    "var img = new Image([50, 50]);\n",
    "\n",
    "// set the pixel at location (x=10,y=20) to 255\n",
    "img.setPixel(10, 20, 255);\n",
    "\n",
    "// set the pixel at location (x=15,y=30) to 255\n",
    "img.setPixel(15, 30, 255);\n",
    "\n",
    "// set the pixel at location (x=40,y=7) to 255\n",
    "img.setPixel(40, 7, 255);"
   ]
  },
  {
   "cell_type": "markdown",
   "metadata": {
    "deletable": false,
    "editable": false,
    "kernel": "JavaScript",
    "nbgrader": {
     "cell_type": "markdown",
     "checksum": "2c504e6636961643285e8e718a6780b9",
     "grade": false,
     "grade_id": "cell-78a9d8a6b13169b5",
     "locked": true,
     "schema_version": 3,
     "solution": false,
     "task": false
    }
   },
   "source": [
    "Run the cell below to (partially) check if you did the right thing."
   ]
  },
  {
   "cell_type": "code",
   "execution_count": 37,
   "metadata": {
    "deletable": false,
    "editable": false,
    "kernel": "JavaScript",
    "nbgrader": {
     "cell_type": "code",
     "checksum": "8e591e11a3a4cba3ee60ff1ff2699cce",
     "grade": true,
     "grade_id": "cell-e5d66a3787cd6867",
     "locked": true,
     "points": 2,
     "schema_version": 3,
     "solution": false,
     "task": false
    }
   },
   "outputs": [
    {
     "name": "stdout",
     "output_type": "stream",
     "text": [
      "Good job! Your image has the correct size.\n",
      "Good job! The pixel at (x=40, y=7) was properly set.\n"
     ]
    }
   ],
   "source": [
    "%use javascript\n",
    "if( (img.nx != 50) || (img.ny != 50) ){\n",
    "    throw new Error(\"The image size is not correct.\");\n",
    "}else{console.log('Good job! Your image has the correct size.')}\n",
    "\n",
    "if( img.getPixel(40,7) != 255 ){\n",
    "    throw new Error(\"The pixel at location (x=40, y=7) should have value 255.\")\n",
    "}else{console.log('Good job! The pixel at (x=40, y=7) was properly set.')}\n"
   ]
  },
  {
   "cell_type": "markdown",
   "metadata": {
    "deletable": false,
    "editable": false,
    "kernel": "JavaScript",
    "nbgrader": {
     "cell_type": "markdown",
     "checksum": "93e047a8bafe129a29ed0a1a1b971a75",
     "grade": false,
     "grade_id": "cell-fbd9aeeb0e432a18",
     "locked": true,
     "schema_version": 3,
     "solution": false,
     "task": false
    }
   },
   "source": [
    "Experiment with the `IPLabImageAccess` class in the empty cell below. Learn to do the simple things that come to mind and take the chance to explore all of the options above. If you need some inspiration, run the next cell to follow the instructional video by Kay."
   ]
  },
  {
   "cell_type": "code",
   "execution_count": 38,
   "metadata": {
    "deletable": false,
    "editable": false,
    "kernel": "SoS",
    "nbgrader": {
     "cell_type": "code",
     "checksum": "b12091b953af6a5d8de04279a9634c2b",
     "grade": false,
     "grade_id": "KayYouTube-3",
     "locked": true,
     "schema_version": 3,
     "solution": false,
     "task": false
    }
   },
   "outputs": [
    {
     "data": {
      "text/html": [
       "\n",
       "        <iframe\n",
       "            width=\"800\"\n",
       "            height=\"450\"\n",
       "            src=\"https://www.youtube-nocookie.com/embed/x1hsW-fWAi8\"\n",
       "            frameborder=\"0\"\n",
       "            allowfullscreen\n",
       "        ></iframe>\n",
       "        "
      ],
      "text/plain": [
       "<IPython.lib.display.IFrame at 0x7fb6151682e8>"
      ]
     },
     "execution_count": 38,
     "metadata": {},
     "output_type": "execute_result"
    }
   ],
   "source": [
    "from IPython.display import IFrame\n",
    "IFrame(width=\"800\", height=\"450\", src=\"https://www.youtube-nocookie.com/embed/x1hsW-fWAi8\")"
   ]
  },
  {
   "cell_type": "code",
   "execution_count": 39,
   "metadata": {
    "kernel": "JavaScript"
   },
   "outputs": [
    {
     "name": "stdout",
     "output_type": "stream",
     "text": [
      "IPLabImageAccess {\n",
      "  image:\n",
      "   [ [ 0, 25, 51, 76, 102, 127, 153, 178, 204, 229 ],\n",
      "     [ 25, 25, 51, 76, 102, 127, 153, 178, 204, 229 ],\n",
      "     [ 51, 51, 51, 76, 102, 127, 153, 178, 204, 229 ],\n",
      "     [ 76, 76, 76, 76, 102, 127, 153, 178, 204, 229 ],\n",
      "     [ 102, 102, 102, 102, 102, 127, 153, 178, 204, 229 ],\n",
      "     [ 127, 127, 127, 127, 127, 127, 153, 178, 204, 229 ],\n",
      "     [ 153, 153, 153, 153, 153, 153, 153, 178, 204, 229 ],\n",
      "     [ 178, 178, 178, 178, 178, 178, 178, 178, 204, 229 ],\n",
      "     [ 204, 204, 204, 204, 204, 204, 204, 204, 204, 229 ],\n",
      "     [ 229, 229, 229, 229, 229, 229, 229, 229, 229, 229 ] ],\n",
      "  nx: 10,\n",
      "  ny: 10 }\n"
     ]
    }
   ],
   "source": [
    "%use javascript\n",
    "var theo_img = new Image([10, 10]);\n",
    "for (var ln = 0; ln < 10; ln++){\n",
    "    for (var col = 0; col <= ln; col++){\n",
    "        theo_img.setPixel(ln, col, Math.floor(255*ln/10) );\n",
    "        theo_img.setPixel(col, ln, Math.floor(255*ln/10) );\n",
    "    }\n",
    "}\n",
    "theo_img.setPixel(5, 5, Math.floor(255*5/10) );\n",
    "console.log(theo_img);"
   ]
  },
  {
   "cell_type": "markdown",
   "metadata": {
    "deletable": false,
    "editable": false,
    "kernel": "SoS",
    "nbgrader": {
     "cell_type": "markdown",
     "checksum": "c6abad9739d076f99fe0ac995bc58dce",
     "grade": false,
     "grade_id": "cell-53a3a2270cb0e9e9",
     "locked": true,
     "schema_version": 3,
     "solution": false,
     "task": false
    }
   },
   "source": [
    "# <a class=\"anchor\"></a> 4. IPLabViewer\n",
    "\n",
    "As you saw in Section [2.A.a](#-2.A.a.-NumPy), the main reason that Python is so powerful is because of its libraries. To ease image visualization and manipulation, we have developed a library, the `IPLabViewer` class, which you will be using throughout the labs. This section explains its functioning and shows some examples and use-cases of the `IPLabViewer`. Before using the class, be sure to check the documentation. You can call `help(viewer)` in a cell, but we recommend you to check its extensive [wiki](https://github.com/Biomedical-Imaging-Group/IPLabImageViewer/wiki/Python-IPLabViewer()-Class). \n",
    "\n",
    "The IPLabViewer runs without explicitly importing any external libraries (all are imported in the class' `.py` file). However, we will import the library Ipywidgets ([see documentation](https://ipywidgets.readthedocs.io/en/latest/)) to allow for interactive visualization. You will even use it to add your own functions to the viewer's interface! \n",
    "\n",
    "<div class = \"alert alert-info\">\n",
    "\n",
    "**Importing `IPLabViewer`**: To start using you need to activate Matplotlib's dynamic environment, with the magic command `%matplotlib widget`, and import the library IPLabViewer. We will always import it as `viewer`, using the following two lines:\n",
    "\n",
    "```python\n",
    "%matplotlib widget\n",
    "from lib.iplabs import IPLabViewer as viewer\n",
    "```\n",
    "</div>\n",
    "    \n",
    "Run the cell below to import the viewer and load the images we will work with."
   ]
  },
  {
   "cell_type": "code",
   "execution_count": 40,
   "metadata": {
    "deletable": false,
    "editable": false,
    "kernel": "SoS",
    "nbgrader": {
     "cell_type": "code",
     "checksum": "8e3190754f60b93f91971c9e08cb8261",
     "grade": false,
     "grade_id": "cell-7428d86ca38a5846",
     "locked": true,
     "schema_version": 3,
     "solution": false,
     "task": false
    }
   },
   "outputs": [],
   "source": [
    "%use sos\n",
    "# Configure plotting as dynamic\n",
    "%matplotlib widget\n",
    "# Import required packages for this exercise\n",
    "import numpy as np\n",
    "import matplotlib.pyplot as plt\n",
    "import ipywidgets as widgets\n",
    "# Import IPLabViewer\n",
    "from lib.iplabs import IPLabViewer as viewer\n",
    "\n",
    "# Import images\n",
    "car   = plt.imread('images/car_pad.tif')\n",
    "hrct  = plt.imread('images/hrct.tif')\n",
    "hands = plt.imread('images/hands.tif')\n",
    "plate = plt.imread('images/plate.tif')\n",
    "boats = plt.imread('images/boats.tif')"
   ]
  },
  {
   "cell_type": "markdown",
   "metadata": {
    "deletable": false,
    "editable": false,
    "kernel": "SoS",
    "nbgrader": {
     "cell_type": "markdown",
     "checksum": "bfa72416cf5a20d48b65662536be74ae",
     "grade": false,
     "grade_id": "cell-657e3cbdc0448d7f",
     "locked": true,
     "schema_version": 3,
     "solution": false,
     "task": false
    }
   },
   "source": [
    "## <a class=\"anchor\"></a> 4.A. Creation of a viewer\n",
    "\n",
    "The cell after the next one will illustrate many of the functionalities of IPLabViewer, as well as its customization capabilities. Run it and explore its results while reading the explanatory cell below it. Feel free to run the cell immediately below this one before to follow the instructional video by Alejandro Noguerón Arámburu, one of the student developers behind these labs. He will guide you and exemplify the use of the viewer."
   ]
  },
  {
   "cell_type": "code",
   "execution_count": 41,
   "metadata": {
    "deletable": false,
    "editable": false,
    "kernel": "SoS",
    "nbgrader": {
     "cell_type": "code",
     "checksum": "b62a83cba1feaa64c99c8a33f46cfb55",
     "grade": false,
     "grade_id": "AlejandroYouTube-1",
     "locked": true,
     "schema_version": 3,
     "solution": false,
     "task": false
    }
   },
   "outputs": [
    {
     "data": {
      "text/html": [
       "\n",
       "        <iframe\n",
       "            width=\"800\"\n",
       "            height=\"450\"\n",
       "            src=\"https://www.youtube-nocookie.com/embed/OKYy3C0MCm0\"\n",
       "            frameborder=\"0\"\n",
       "            allowfullscreen\n",
       "        ></iframe>\n",
       "        "
      ],
      "text/plain": [
       "<IPython.lib.display.IFrame at 0x7fb5fddffe80>"
      ]
     },
     "execution_count": 41,
     "metadata": {},
     "output_type": "execute_result"
    }
   ],
   "source": [
    "from IPython.display import IFrame\n",
    "IFrame(width=\"800\", height=\"450\", src=\"https://www.youtube-nocookie.com/embed/OKYy3C0MCm0\")"
   ]
  },
  {
   "cell_type": "code",
   "execution_count": 42,
   "metadata": {
    "deletable": false,
    "editable": false,
    "kernel": "SoS",
    "nbgrader": {
     "cell_type": "code",
     "checksum": "d4f16d674f4b7eaf6b5082026eb37d4a",
     "grade": false,
     "grade_id": "cell-8c66520f78de83a7",
     "locked": true,
     "schema_version": 3,
     "solution": false,
     "task": false
    }
   },
   "outputs": [
    {
     "data": {
      "application/vnd.jupyter.widget-view+json": {
       "model_id": "8221d967dd1f4c938732be1106a015f7",
       "version_major": 2,
       "version_minor": 0
      },
      "text/plain": [
       "HBox(children=(Output(layout=Layout(width='80%')), Output(), Output(layout=Layout(width='25%'))))"
      ]
     },
     "metadata": {},
     "output_type": "display_data"
    }
   ],
   "source": [
    "%use sos\n",
    "\n",
    "# Declare image list\n",
    "first_list = [hands, plate, car, hrct]\n",
    "# Declare titles (only two)\n",
    "title_list = ['Hands', 'Plate']\n",
    "# First we close all matplotlib existing figures to improve performance\n",
    "plt.close('all')\n",
    "# Call the image viewer with the image list as first argument. The rest of the arguments are optional\n",
    "first_viewer = viewer(first_list, title = title_list, colorbar = True, widgets = True, \n",
    "                      hist = True, axis = True, cmap = 'spring')"
   ]
  },
  {
   "cell_type": "markdown",
   "metadata": {
    "deletable": false,
    "editable": false,
    "kernel": "Python3",
    "nbgrader": {
     "cell_type": "markdown",
     "checksum": "c4379b7a9e170375ded4a9e38c96bfb4",
     "grade": false,
     "grade_id": "cell-a5e4b682445f2497",
     "locked": true,
     "schema_version": 3,
     "solution": false,
     "task": false
    }
   },
   "source": [
    "To create an `IPLabViewer` object, you simply call the function `viewer` and assign it a variable name. Ideally, the variable should be self-explanatory and end with the word *viewer* to avoid confusion (for example, `first_viewer` as above).\n",
    "\n",
    "* Images: The same viewer can load many images at once. In this example, it was created with $4$ images. By default, you can switch between the images using the buttons `Prev` and `Next` on the widgets panel.\n",
    "* Titles: You can give the viewer titles for each image, which will be shown immediately above it. If you do not provide a title for some images, the variable name will be shown by default. In this example, only $2$ were given.\n",
    "* Customization: Several of the class' functionalities (e.g., `widgets`, `hist`, `axis`, `colorbar`) can be enabled from the beginning. A user can later turn them off using the widgets or [calling methods](#prog_customization) of the object. \n",
    "* Colormap: The colormap to be used can be set from the start with the parameter `cmap = 'colormap'`, and dynamically changed using `Options` and choosing one of the supported colormaps in the drop-down menu. \n",
    "* Statistics: On the lower part of the widget panel, the image statistics of the area of the image being displayed are shown. If you use the button with a little square at the left of the images to zoom into a selected region, you will see the statistics are updated in real time. You can also use the button with crossed double-arrows to pan through the image at a specific level of zoom. You can always use the button *Reset* to see the whole image again.\n",
    "\n",
    "<div class=\"alert alert-warning\">\n",
    "    \n",
    "<b>Beware: </b> The statistics displayed in the `IPLabViewer` objects are rounded to the second decimal. If you need an exact statistic, use the methods `np.mean()` or `np.std()` on the images (NumPy arrays) directly.\n",
    "</div>\n",
    "\n",
    "* Histogram: Besides the normal *counts* vs *value* bars in a histogram, you will see a black line. This line represents *input* vs *output* intensity values. This line changes its position and slope if you change the brightness and contrast of the image. All pixel values that are to the left of the point where the line touches the bottom have the minimum intensity, and all that are to the right of the point where the line touches the top have the maximum intensity, and the ones that are in-between those two points have an intensity that is linearly scaled between the maximum and minumum value.\n",
    "\n",
    "* Display mode: There are several options to display a list of images\n",
    "    * Default display: Display only one image at a time, and use the buttons *Next* and *Prev* to browse the different images. \n",
    "    * Set `subplots = [m, n]`: Arrange the images in an $m \\times n$ grid."
   ]
  },
  {
   "cell_type": "markdown",
   "metadata": {
    "deletable": false,
    "editable": false,
    "kernel": "SoS",
    "nbgrader": {
     "cell_type": "markdown",
     "checksum": "57000036a83c0d5d1e4bb2d8919855ba",
     "grade": false,
     "grade_id": "cell-8968f2ec659eabd8",
     "locked": true,
     "schema_version": 3,
     "solution": false,
     "task": false
    }
   },
   "source": [
    "## <a class=\"anchor\"></a> 4.B. Using widgets\n",
    "\n",
    "If you just want a quick visualization, you can call the `IPLabViewer` with the image you want to display (or list of images). All the parameters will be set to their default values (`cmap = 'gray'`, single image mode, all the features set to off), but you can use the widgets to change this. Run the next cell to see all the default values. Go through all the widgets and explore their options while going through the explanatory cell below."
   ]
  },
  {
   "cell_type": "code",
   "execution_count": 43,
   "metadata": {
    "deletable": false,
    "editable": false,
    "kernel": "SoS",
    "nbgrader": {
     "cell_type": "code",
     "checksum": "a16a4d780cfb987692c6733e34d825af",
     "grade": false,
     "grade_id": "cell-4c9a9ee49d9b0563",
     "locked": true,
     "schema_version": 3,
     "solution": false,
     "task": false
    }
   },
   "outputs": [
    {
     "data": {
      "application/vnd.jupyter.widget-view+json": {
       "model_id": "c536488770bb4d29b21a6bf0858a53df",
       "version_major": 2,
       "version_minor": 0
      },
      "text/plain": [
       "HBox(children=(Output(layout=Layout(width='80%')), Output(), Output(layout=Layout(width='25%'))))"
      ]
     },
     "metadata": {},
     "output_type": "display_data"
    },
    {
     "data": {
      "application/vnd.jupyter.widget-view+json": {
       "model_id": "09134f4f3f1d4360ac6ca827773e7928",
       "version_major": 2,
       "version_minor": 0
      },
      "text/plain": [
       "Button(description='Show Widgets', style=ButtonStyle())"
      ]
     },
     "metadata": {},
     "output_type": "display_data"
    }
   ],
   "source": [
    "%use sos\n",
    "\n",
    "# In order to keep the memory load on Noto low,\n",
    "# we will generally close all figures before continuing.\n",
    "# This means that the previous viewers are no longer interactive!\n",
    "# But you can run their cell again if you need to.\n",
    "plt.close('all')\n",
    "\n",
    "# Declare image list\n",
    "second_list = [hrct, hands, car]\n",
    "# Call the image viewer with minimal arguments\n",
    "second_viewer = viewer(second_list)"
   ]
  },
  {
   "cell_type": "markdown",
   "metadata": {
    "deletable": false,
    "editable": false,
    "kernel": "SoS",
    "nbgrader": {
     "cell_type": "markdown",
     "checksum": "ec9bd55d76815ffe15ddc4c929136cd2",
     "grade": false,
     "grade_id": "cell-84bfec4cb677badb",
     "locked": true,
     "schema_version": 3,
     "solution": false,
     "task": false
    }
   },
   "source": [
    "Your first view will consist of:\n",
    "* A **toolbar** with series of buttons at the left, which serve to control the dynamic environment. If you hover your mouse in the buttons, wou will see what each button does:\n",
    "    * *Three horizontal lines*: Hide the toolbar\n",
    "    * *House*: Reset the zoom of the images. \n",
    "    * *Cross with arrows*: Pan through an image. Click on it, then click on the image, hold and drag to pan through the axis.\n",
    "    * *Square*: Zoom. Click on it, then click on the image, hold and drag to create a rectangular area. Release to zoom to the region.\n",
    "    * *Floppy disk*: Take screenshot of figure and save in PNG format. \n",
    "* The **figure** holding the images (one figure is holding all the images). You can change the size of a figure using the small gray triangle (bottom-right corner). If you hover your cursor over the triangle, you will see it change to a two-sided arrow. By clicking on it you will be able to adjust the figure size.\n",
    "* A **button** with the legend *Show Widgets*. Click on it and it will take you to the widget main menu. \n",
    "\n",
    "In the widgets main menu you will see the following widgets:\n",
    "* **Brightness and Contrast** Slider: In this menu you will be able to change the color scaling of the image through a slider, given in percentages of the original maximum and minimum intensities.\n",
    "* **Show Histogram** Button: Show or hide the histograms of the images.\n",
    "* **Options** Button: It will take you to the options menu, where you will be able to show or hide the axis, the colorbar, and change the colormap.\n",
    "* **Reset** Button: This will reset the all the parameters to the default state (colormap, brightness/contrast ect.), while the _House Button_ on the top left only resets the display area of the viewer and doesn't change any parameters.\n",
    "* **Stats** Textbox: Here you will see the mean, the standard deviation, the range of values and the size of the image. Mean, standard deviation and range of values will be updated when you zoom to a region. "
   ]
  },
  {
   "cell_type": "markdown",
   "metadata": {
    "deletable": false,
    "editable": false,
    "kernel": "SoS",
    "nbgrader": {
     "cell_type": "markdown",
     "checksum": "1070520d835b4ef462dea2567427c3eb",
     "grade": false,
     "grade_id": "cell-9ea67aac7563d95e",
     "locked": true,
     "schema_version": 3,
     "solution": false,
     "task": false
    }
   },
   "source": [
    "### Multiple choice question\n",
    "\n",
    "Now, for **1 point**, and to finish the section on the `IPLabViewer` class, answer the following question using the viewer that you just defined.\n",
    "\n",
    "In the image `car`, what is the mean value of **the carpet that the car is standing on**? Hint: Zoom into several regions that are not too close to the edge nor to the car.\n",
    "\n",
    "1. Around 40\n",
    "2. Around 60 \n",
    "3. Around 80\n",
    "\n",
    "In the following cell, modify the variable `answer` to your actual answer, e.g., `answer=1`, `answer=2`, or `answer=3`."
   ]
  },
  {
   "cell_type": "code",
   "execution_count": 44,
   "metadata": {
    "kernel": "SoS"
   },
   "outputs": [],
   "source": [
    "%use sos\n",
    "# Assign your answer to this variable\n",
    "answer = 2"
   ]
  },
  {
   "cell_type": "code",
   "execution_count": 45,
   "metadata": {
    "deletable": false,
    "editable": false,
    "kernel": "SoS",
    "nbgrader": {
     "cell_type": "code",
     "checksum": "44a845cc2e8a40aa42bb0bc40cd4b325",
     "grade": true,
     "grade_id": "cell-9db1b31c6c9f4ebb",
     "locked": true,
     "points": 1,
     "schema_version": 3,
     "solution": false,
     "task": false
    }
   },
   "outputs": [],
   "source": [
    "%use sos\n",
    "# Let's do a sanity check - check that the answer is one of the possible choices\n",
    "assert answer in [1, 2, 3], \"Select one of the answers: 1, 2 or 3.\"\n"
   ]
  },
  {
   "cell_type": "markdown",
   "metadata": {
    "deletable": false,
    "editable": false,
    "kernel": "Python3",
    "nbgrader": {
     "cell_type": "markdown",
     "checksum": "40d252ac369bccb88a6e0a04f52e4dc0",
     "grade": false,
     "grade_id": "cell-cadfd7977fd0c514",
     "locked": true,
     "schema_version": 3,
     "solution": false,
     "task": false
    }
   },
   "source": [
    "## <a class=\"anchor\"></a> 4.C. User defined widgets\n",
    "\n",
    "`IPLabViewer` has several cool functionalities. But what if you wanna contribute yourself? `IPLabViewer` allows you to create a function in a Jupyter notebook, and apply it simultaneously to all images within your `IPLabViewer` object for a set of slider values. The function you create will take as parameters:\n",
    "* an image (`NumPy array`), and \n",
    "* one or more numerical values.\n",
    "\n",
    "Your function is then supposed to apply an operation on the image that depends on these value(s). This is very useful if you want to see the effect of the value(s) you choose on one or several images. Usually, you would have to manually run the same process several times, and visualize the results each time. With `IPLabViewer`, you can simply use slider(s) within the viewer.\n",
    "\n",
    "In the next cells, you will see a very basic example. We will apply a pixel-wise operation on the image `car`: All the pixels with a value below a treshold (given in $\\%$) will be set to the *maximum* value. We will guide you through the process.\n",
    "\n",
    "First, we define the thresholding function `your_function`. Run the next cell to define it."
   ]
  },
  {
   "cell_type": "code",
   "execution_count": 46,
   "metadata": {
    "deletable": false,
    "editable": false,
    "kernel": "SoS",
    "nbgrader": {
     "cell_type": "code",
     "checksum": "5ba5341ca08497a545060336f81556ec",
     "grade": false,
     "grade_id": "cell-55a5bc0c6ea1421e",
     "locked": true,
     "schema_version": 3,
     "solution": false,
     "task": false
    }
   },
   "outputs": [],
   "source": [
    "%use sos\n",
    "# Define your function\n",
    "def your_function(image, threshold):    \n",
    "    # We make a copy of the original, where we will apply our threshold.\n",
    "    output = np.copy(image)\n",
    "    # For greater flexibility, we will get the value as a percentage of the maximum\n",
    "    value = threshold*0.01*np.amax(image)\n",
    "    # Apply threshold\n",
    "    output[image < value] = np.amax(image)\n",
    "    return output"
   ]
  },
  {
   "cell_type": "markdown",
   "metadata": {
    "deletable": false,
    "editable": false,
    "kernel": "Python3",
    "nbgrader": {
     "cell_type": "markdown",
     "checksum": "9af1fc2c7e52ee612a8dc92c937d7a62",
     "grade": false,
     "grade_id": "cell-14964870466b5936",
     "locked": true,
     "schema_version": 3,
     "solution": false,
     "task": false
    }
   },
   "source": [
    "Besides defining your function, you need to define the corresponding slider(s), a button to run `your_function` with the sliders' values, and the specific function that will run `your_function` (a.k.a., the slider's _callback_ function).\n",
    "\n",
    "<div class = \"alert alert-info\">\n",
    "    \n",
    "*Note*: Although this is rather abstract, the example will make it clear. We will use an integer slider in the range $[0,100]$ (`widgets.IntSlider`), a button that clearly specifies what our function does (`widgets.Button`), and a callback function `callback` that calls `your_function` with the slider's value as threshold. Run the next cell, click the button *Extra Widgets*, and try different values. Remember to click on `Apply Threshold`!\n",
    "</div>\n",
    "    \n",
    "If you want some guidance, run the next cell to follow the instructional video by Alejandro."
   ]
  },
  {
   "cell_type": "code",
   "execution_count": 47,
   "metadata": {
    "deletable": false,
    "editable": false,
    "kernel": "SoS",
    "nbgrader": {
     "cell_type": "code",
     "checksum": "45bd2c2016bd1748c30e9b0c80fefaf2",
     "grade": false,
     "grade_id": "AlejandroYouTube-2",
     "locked": true,
     "schema_version": 3,
     "solution": false,
     "task": false
    }
   },
   "outputs": [
    {
     "data": {
      "text/html": [
       "\n",
       "        <iframe\n",
       "            width=\"800\"\n",
       "            height=\"450\"\n",
       "            src=\"https://www.youtube-nocookie.com/embed/__JXopJPLxQ\"\n",
       "            frameborder=\"0\"\n",
       "            allowfullscreen\n",
       "        ></iframe>\n",
       "        "
      ],
      "text/plain": [
       "<IPython.lib.display.IFrame at 0x7fb61533af60>"
      ]
     },
     "execution_count": 47,
     "metadata": {},
     "output_type": "execute_result"
    }
   ],
   "source": [
    "from IPython.display import IFrame\n",
    "IFrame(width=\"800\", height=\"450\", src=\"https://www.youtube-nocookie.com/embed/__JXopJPLxQ\")"
   ]
  },
  {
   "cell_type": "code",
   "execution_count": 48,
   "metadata": {
    "deletable": false,
    "editable": false,
    "kernel": "SoS",
    "nbgrader": {
     "cell_type": "code",
     "checksum": "59b044f04e8304107c120345adee29f9",
     "grade": false,
     "grade_id": "cell-e2ea67738f143d53",
     "locked": true,
     "schema_version": 3,
     "solution": false,
     "task": false
    }
   },
   "outputs": [
    {
     "data": {
      "application/vnd.jupyter.widget-view+json": {
       "model_id": "a1f5c87a3e204bd496d1321b4971c3b4",
       "version_major": 2,
       "version_minor": 0
      },
      "text/plain": [
       "HBox(children=(Output(layout=Layout(width='80%')), Output(), Output(layout=Layout(width='25%'))))"
      ]
     },
     "metadata": {},
     "output_type": "display_data"
    }
   ],
   "source": [
    "%use sos\n",
    "# close all open figures\n",
    "plt.close('all')\n",
    "\n",
    "# Declare slider\n",
    "threshold_slider = widgets.IntSlider(value = 0,min = 0, max = 100, step = 1, \n",
    "                                     description = 'Threshold', continuous_update = False )\n",
    "\n",
    "# Declare button with meaningful description\n",
    "activation_button = widgets.Button(description = 'Apply Threshold')\n",
    "\n",
    "# Declare callback\n",
    "def callback(img):\n",
    "    # Get slider value\n",
    "    threshold = threshold_slider.value\n",
    "    # Call your function\n",
    "    output = your_function(img, threshold)\n",
    "    return output\n",
    "\n",
    "# Call viewer, passing the widget and callback separately as lists\n",
    "threshold_viewer = viewer(car,  new_widgets = [threshold_slider, activation_button], callbacks = [callback], widgets = True)"
   ]
  },
  {
   "cell_type": "markdown",
   "metadata": {
    "deletable": false,
    "editable": false,
    "kernel": "Python3",
    "nbgrader": {
     "cell_type": "markdown",
     "checksum": "76a2ca667448215f7a899e7c3e6207e1",
     "grade": false,
     "grade_id": "cell-d218fc4ed59f8220",
     "locked": true,
     "schema_version": 3,
     "solution": false,
     "task": false
    }
   },
   "source": [
    "If you're interested in this and similar topics, we invite you to check the documentation for Ipywidgets [here](https://ipywidgets.readthedocs.io/en/stable/)."
   ]
  },
  {
   "cell_type": "markdown",
   "metadata": {
    "deletable": false,
    "editable": false,
    "kernel": "SoS",
    "nbgrader": {
     "cell_type": "markdown",
     "checksum": "ef3eb7b2a266a736c058a2a40de442f7",
     "grade": false,
     "grade_id": "cell-0804c94b19bd4813",
     "locked": true,
     "schema_version": 3,
     "solution": false,
     "task": false
    }
   },
   "source": [
    "## <a class=\"anchor\"></a> 4.D. Programmatic customization\n",
    "\n",
    "Most options can be modified both through widgets and _programmatically_ (in code). Run the following cells. In the first one, we will create the object `car_viewer`, which displays the image `car`. By running the next cells, one by one, we will produce changes on the `car_viewer` without interacting with it directly. "
   ]
  },
  {
   "cell_type": "code",
   "execution_count": 49,
   "metadata": {
    "deletable": false,
    "editable": false,
    "kernel": "SoS",
    "nbgrader": {
     "cell_type": "code",
     "checksum": "75fd19e9ffc2af5bb1a93d34b424efba",
     "grade": false,
     "grade_id": "cell-0adc06240b7fb8f6",
     "locked": true,
     "schema_version": 3,
     "solution": false,
     "task": false
    }
   },
   "outputs": [
    {
     "data": {
      "application/vnd.jupyter.widget-view+json": {
       "model_id": "ee175ef1b9dc453694a3208ebba14157",
       "version_major": 2,
       "version_minor": 0
      },
      "text/plain": [
       "HBox(children=(Output(layout=Layout(width='80%')), Output(), Output(layout=Layout(width='25%'))))"
      ]
     },
     "metadata": {},
     "output_type": "display_data"
    },
    {
     "data": {
      "application/vnd.jupyter.widget-view+json": {
       "model_id": "",
       "version_major": 2,
       "version_minor": 0
      },
      "text/plain": [
       "Button(description='Show Widgets', style=ButtonStyle())"
      ]
     },
     "metadata": {},
     "output_type": "display_data"
    }
   ],
   "source": [
    "%use sos\n",
    "plt.close('all')\n",
    "car_viewer = viewer(car)"
   ]
  },
  {
   "cell_type": "code",
   "execution_count": 50,
   "metadata": {
    "deletable": false,
    "editable": false,
    "kernel": "SoS",
    "nbgrader": {
     "cell_type": "code",
     "checksum": "89888334905a4313c5494618b5b6fe1c",
     "grade": false,
     "grade_id": "cell-1b8d66f801e17ad6",
     "locked": true,
     "schema_version": 3,
     "solution": false,
     "task": false
    }
   },
   "outputs": [],
   "source": [
    "%use sos\n",
    "\n",
    "car_viewer.set_axis(axis = True)"
   ]
  },
  {
   "cell_type": "code",
   "execution_count": 51,
   "metadata": {
    "deletable": false,
    "editable": false,
    "kernel": "SoS",
    "nbgrader": {
     "cell_type": "code",
     "checksum": "a8d6a3b40e04cc2a5daec8961e72e268",
     "grade": false,
     "grade_id": "cell-0e6236013e5c3ce0",
     "locked": true,
     "schema_version": 3,
     "solution": false,
     "task": false
    }
   },
   "outputs": [],
   "source": [
    "%use sos\n",
    "\n",
    "car_viewer.set_widgets(widgets = True)"
   ]
  },
  {
   "cell_type": "code",
   "execution_count": 52,
   "metadata": {
    "deletable": false,
    "editable": false,
    "kernel": "SoS",
    "nbgrader": {
     "cell_type": "code",
     "checksum": "c987a56a7b7263bb793867a8ad97efe1",
     "grade": false,
     "grade_id": "cell-a207084db8f17ffe",
     "locked": true,
     "schema_version": 3,
     "solution": false,
     "task": false
    }
   },
   "outputs": [],
   "source": [
    "%use sos\n",
    "\n",
    "car_viewer.set_colormap(colormap = 'viridis')"
   ]
  },
  {
   "cell_type": "code",
   "execution_count": 53,
   "metadata": {
    "deletable": false,
    "editable": false,
    "kernel": "SoS",
    "nbgrader": {
     "cell_type": "code",
     "checksum": "64716dfaaac7201a6d9867ba715d43ec",
     "grade": false,
     "grade_id": "cell-1421c5cef26871ee",
     "locked": true,
     "schema_version": 3,
     "solution": false,
     "task": false
    }
   },
   "outputs": [],
   "source": [
    "%use sos\n",
    "\n",
    "car_viewer.show_histogram(hist = True)"
   ]
  },
  {
   "cell_type": "code",
   "execution_count": 54,
   "metadata": {
    "deletable": false,
    "editable": false,
    "kernel": "SoS",
    "nbgrader": {
     "cell_type": "code",
     "checksum": "6b7ba18e96fa47c712206ae5182570a9",
     "grade": false,
     "grade_id": "cell-2de4a3a7d51d3081",
     "locked": true,
     "schema_version": 3,
     "solution": false,
     "task": false
    }
   },
   "outputs": [],
   "source": [
    "%use sos\n",
    "\n",
    "car_viewer.set_axis(axis = False)"
   ]
  },
  {
   "cell_type": "code",
   "execution_count": 55,
   "metadata": {
    "deletable": false,
    "editable": false,
    "kernel": "SoS",
    "nbgrader": {
     "cell_type": "code",
     "checksum": "003c23f082f7943bd3c92cafd5aa4e1a",
     "grade": false,
     "grade_id": "cell-2dc3b24cf63f1236",
     "locked": true,
     "schema_version": 3,
     "solution": false,
     "task": false
    }
   },
   "outputs": [],
   "source": [
    "%use sos\n",
    "\n",
    "car_viewer.set_colorbar(colorbar = True)"
   ]
  },
  {
   "cell_type": "markdown",
   "metadata": {
    "deletable": false,
    "editable": false,
    "kernel": "SoS",
    "nbgrader": {
     "cell_type": "markdown",
     "checksum": "13d33b44d2238d432987f86b2e869f59",
     "grade": false,
     "grade_id": "cell-c3d11e9258b772d6",
     "locked": true,
     "schema_version": 3,
     "solution": false,
     "task": false
    }
   },
   "source": [
    "## <a class=\"anchor\"></a> 4.E. Try it yourself!\n",
    "\n",
    "### Creating an IPLabViewer (1 point)\n",
    "Now that you have explored the capabilities of the `IPLabViewer` class, for **1 point**, create in the next cell a viewer object with the following characteristics (do it with code, on one or several lines):\n",
    "* The first image should be `hrct` and the second `plate`\n",
    "* The titles are left as default\n",
    "* The colormap is set to 'inferno'\n",
    "* There is a colorbar \n",
    "* The axis are set to `False`\n",
    "* Only a single image at a time is displayed\n",
    "\n",
    "Store your object in the variable `exercise_viewer`."
   ]
  },
  {
   "cell_type": "code",
   "execution_count": 56,
   "metadata": {
    "deletable": false,
    "kernel": "SoS",
    "nbgrader": {
     "cell_type": "code",
     "checksum": "8045f4ac68577f05615b4e183f8a5803",
     "grade": false,
     "grade_id": "cell-7c287f72627b42ee",
     "locked": false,
     "schema_version": 3,
     "solution": true,
     "task": false
    }
   },
   "outputs": [
    {
     "data": {
      "application/vnd.jupyter.widget-view+json": {
       "model_id": "e817f37ebd324a41ae20eb3f3b403b8c",
       "version_major": 2,
       "version_minor": 0
      },
      "text/plain": [
       "HBox(children=(Output(layout=Layout(width='80%')), Output(), Output(layout=Layout(width='25%'))))"
      ]
     },
     "metadata": {},
     "output_type": "display_data"
    },
    {
     "data": {
      "application/vnd.jupyter.widget-view+json": {
       "model_id": "9b8fef8efe3a47f29da5c0ee4ae9f303",
       "version_major": 2,
       "version_minor": 0
      },
      "text/plain": [
       "Button(description='Show Widgets', style=ButtonStyle())"
      ]
     },
     "metadata": {},
     "output_type": "display_data"
    }
   ],
   "source": [
    "%use sos\n",
    "plt.close('all')\n",
    "exercise_viewer = None\n",
    "\n",
    "# Declare image list\n",
    "ex_image_list = [hrct, plate]\n",
    "\n",
    "# First we close all matplotlib existing figures to improve performance\n",
    "plt.close('all')\n",
    "# Call the image viewer with the image list as first argument. The rest of the arguments are optional\n",
    "exercise_viewer = viewer(ex_image_list, cmap = 'inferno', colorbar = True, axis = False)"
   ]
  },
  {
   "cell_type": "markdown",
   "metadata": {
    "deletable": false,
    "editable": false,
    "kernel": "SoS",
    "nbgrader": {
     "cell_type": "markdown",
     "checksum": "6e7784193657d22162aff949dd28c7f0",
     "grade": false,
     "grade_id": "cell-2bdd59455d4932c7",
     "locked": true,
     "schema_version": 3,
     "solution": false,
     "task": false
    }
   },
   "source": [
    "If you want to check the state of your `IPLabViewer` object, you can check [the documentation](https://github.com/Biomedical-Imaging-Group/IPLabImageViewer/wiki/Python-IPLabViewer()-Class) and explore the attributes. See the two examples in the next cell. Both should show that there are indeed two images. The second one is in the form of an assertion (it will produce an error if the condition is not met), to let you know if your viewer is in the right direction."
   ]
  },
  {
   "cell_type": "code",
   "execution_count": 57,
   "metadata": {
    "deletable": false,
    "editable": false,
    "kernel": "SoS",
    "nbgrader": {
     "cell_type": "code",
     "checksum": "1b8ff57eafc10deeeab74d302b33c4d3",
     "grade": true,
     "grade_id": "cell-18c524bc087e7f47",
     "locked": true,
     "points": 1,
     "schema_version": 3,
     "solution": false,
     "task": false
    }
   },
   "outputs": [
    {
     "name": "stdout",
     "output_type": "stream",
     "text": [
      "2\n",
      "Well done! Your viewer seems to be working.\n"
     ]
    }
   ],
   "source": [
    "%use sos\n",
    "\n",
    "print(len(exercise_viewer.image_list))\n",
    "assert exercise_viewer.number_images == 2, f'Your viewer should have 2 images! Instead it has {exercise_viewer.number_images}.'\n",
    "print('Well done! Your viewer seems to be working.')"
   ]
  },
  {
   "cell_type": "markdown",
   "metadata": {
    "deletable": false,
    "editable": false,
    "kernel": "Python3",
    "nbgrader": {
     "cell_type": "markdown",
     "checksum": "2f8e20f5b3f5051376e10e62a19e669c",
     "grade": false,
     "grade_id": "cell-c9740827ae01cf09",
     "locked": true,
     "schema_version": 3,
     "solution": false,
     "task": false
    }
   },
   "source": [
    "### Threshold operation (2 points)\n",
    "\n",
    "Now you will program a function and add a slider to apply this function to the image (see Section [4.C.](#-4.C.-User-defined-widgets)).\n",
    "\n",
    "For **1 point**, your first task is to define a function `range_function(img, rmin, rmax)` that will only **keep** pixel values inside a range of values $[r_{\\mathrm{min}}, r_{\\mathrm{max}}]$ ($r_{\\mathrm{min}}$ and $r_{\\mathrm{max}}$ included), while the values outside this range will be set to $0$.\n",
    "You will apply it on the image `car`, so `rmin` and `rmax` should be between $0$ and $255$. Define this function in the following cell. \n",
    "\n",
    "<div class=\"alert alert-info\">\n",
    "  \n",
    "<b>Note: </b> Use boolean indexing of the NumPy array `img`, as in the thresholding example, to perform the necessary operations.\n",
    "</div>"
   ]
  },
  {
   "cell_type": "code",
   "execution_count": 58,
   "metadata": {
    "deletable": false,
    "kernel": "SoS",
    "nbgrader": {
     "cell_type": "code",
     "checksum": "649871f64f1149e8cf90fa1b5f8c60d9",
     "grade": false,
     "grade_id": "cell-f7d3dd947484c706",
     "locked": false,
     "schema_version": 3,
     "solution": true,
     "task": false
    }
   },
   "outputs": [],
   "source": [
    "%use sos\n",
    "\n",
    "# Define your function\n",
    "def range_function(img, rmin, rmax):    \n",
    "    # Best practices are creating a copy. You don't wanna mess the original.\n",
    "    output = np.copy(img)\n",
    "    # set the pixels of output that are smaller than rmin or bigger than rmax to 0\n",
    "    output[img < rmin] = 0\n",
    "    output[img > rmax ] = 0\n",
    "    return output"
   ]
  },
  {
   "cell_type": "markdown",
   "metadata": {
    "deletable": false,
    "editable": false,
    "kernel": "Python3",
    "nbgrader": {
     "cell_type": "markdown",
     "checksum": "909ff345abaed4d4450d50e25c8e2496",
     "grade": false,
     "grade_id": "cell-3be6645cb0bdcfa7",
     "locked": true,
     "schema_version": 3,
     "solution": false,
     "task": false
    }
   },
   "source": [
    "You can test your function with the following cell. In it, we define a linear array `test_array` that is formed by the integers from 0 to 255 in ascending order, using the method [NumPy.arange](https://NumPy.org/doc/stable/reference/generated/NumPy.arange.html). Then, we apply your function with the range $[100, 199]$ to it. There should be exactly $100$ elements that were not set to $0$. If the cell runs smoothly, your implementation is probably correct.\n",
    "<div class=\"alert alert-info\">\n",
    "    \n",
    "**Note:** The function `np.count_nonzero(arr)` counts the number of elements in `arr` that are not zero.\n",
    "</div>"
   ]
  },
  {
   "cell_type": "code",
   "execution_count": 59,
   "metadata": {
    "deletable": false,
    "editable": false,
    "kernel": "SoS",
    "nbgrader": {
     "cell_type": "code",
     "checksum": "f0cd6c4bd5ef574a7ed306ba7a6a15e5",
     "grade": true,
     "grade_id": "cell-d32bcff0667c88a9",
     "locked": true,
     "points": 1,
     "schema_version": 3,
     "solution": false,
     "task": false
    }
   },
   "outputs": [
    {
     "name": "stdout",
     "output_type": "stream",
     "text": [
      "Congratulations! Your function is correct.\n"
     ]
    }
   ],
   "source": [
    "%use sos\n",
    "\n",
    "test_array = np.arange(0, 256)\n",
    "assert np.count_nonzero(range_function(test_array, 100, 199)) == 100, 'Your implementation is not yet correct.'\n",
    "print('Congratulations! Your function is correct.')\n"
   ]
  },
  {
   "cell_type": "markdown",
   "metadata": {
    "deletable": false,
    "editable": false,
    "kernel": "Python3",
    "nbgrader": {
     "cell_type": "markdown",
     "checksum": "5abb8d35fdf35a53dd304cb9326bce22",
     "grade": false,
     "grade_id": "cell-3f34bb973b3d4d00",
     "locked": true,
     "schema_version": 3,
     "solution": false,
     "task": false
    }
   },
   "source": [
    "For **1 point**, declare the necessary widgets to control this function (slider(s) and a button, as well as the button's callback function). Use one `IntRangeSlider` ([see doc](https://ipywidgets.readthedocs.io/en/latest/examples/Widget%20List.html#IntRangeSlider)). When you get the value of this slider (by calling `IntRangeSlider.value`), you get a list with two elements corresponding to the minimum and the maximum value of the range. You can use these values to call your function (`range_slider.value[0]` and `range_slider.value[1]` if `range_slider` has been defined as an `IntRangeSlider` widget). \n",
    "\n",
    "Use the next cell to declare your widgets (store the slider in the variable `range_slider`, your button on `range_button` and your callback on `range_callback(img)`)"
   ]
  },
  {
   "cell_type": "code",
   "execution_count": 60,
   "metadata": {
    "deletable": false,
    "kernel": "SoS",
    "nbgrader": {
     "cell_type": "code",
     "checksum": "0f74f8f411dfd269b5764e5d1947ebe5",
     "grade": false,
     "grade_id": "cell-a4cde69b86b888bf",
     "locked": false,
     "schema_version": 3,
     "solution": true,
     "task": false
    }
   },
   "outputs": [],
   "source": [
    "%use sos\n",
    "# Declare the slider \n",
    "range_slider = None\n",
    "range_slider = widgets.IntRangeSlider(value=[0, 255],\n",
    "    min=0,\n",
    "    max=255,\n",
    "    step=1,\n",
    "    description='Keep Range',\n",
    "    disabled=False,\n",
    "    continuous_update=False,\n",
    "    orientation='horizontal',\n",
    "    readout=True,\n",
    "    readout_format='d')\n",
    "\n",
    "# Declare the button\n",
    "range_button = None\n",
    "range_button = widgets.Button(description = 'Make outside black')\n",
    "\n",
    "# Declare the callback\n",
    "def range_callback(img):\n",
    "    # Get slider value\n",
    "    range_sides = range_slider.value    \n",
    "    # Call your function, e.g., output = range_function(img, ...)\n",
    "    output = range_function(img, range_sides[0], range_sides[1])\n",
    "    return output"
   ]
  },
  {
   "cell_type": "markdown",
   "metadata": {
    "deletable": false,
    "editable": false,
    "kernel": "Python3",
    "nbgrader": {
     "cell_type": "markdown",
     "checksum": "12de74c6abac8dd5e4f24099e102bb73",
     "grade": false,
     "grade_id": "cell-abf2c178c0bb354b",
     "locked": true,
     "schema_version": 3,
     "solution": false,
     "task": false
    }
   },
   "source": [
    "Now we will create an `IPLabViewer` using your widgets. Explore the results of your function (click the button *Extra Widgets*), explore different values and see if you implemented it correctly."
   ]
  },
  {
   "cell_type": "code",
   "execution_count": 61,
   "metadata": {
    "deletable": false,
    "editable": false,
    "kernel": "SoS",
    "nbgrader": {
     "cell_type": "code",
     "checksum": "a036194d2953c4d4adfef1df612625e9",
     "grade": true,
     "grade_id": "cell-fa45b07997e9a3be",
     "locked": true,
     "points": 1,
     "schema_version": 3,
     "solution": false,
     "task": false
    }
   },
   "outputs": [
    {
     "data": {
      "application/vnd.jupyter.widget-view+json": {
       "model_id": "2c5670de37e34fcfa580aa83e56aab56",
       "version_major": 2,
       "version_minor": 0
      },
      "text/plain": [
       "HBox(children=(Output(layout=Layout(width='80%')), Output(), Output(layout=Layout(width='25%'))))"
      ]
     },
     "metadata": {},
     "output_type": "display_data"
    }
   ],
   "source": [
    "%use sos\n",
    "\n",
    "# Call viewer, passing the widget and callback separately as lists, e.g., range_viewer = viewer(car, ...)\n",
    "plt.close('all')\n",
    "range_viewer = viewer(car,  new_widgets = [range_slider, range_button], callbacks = [range_callback], widgets = True)\n"
   ]
  },
  {
   "cell_type": "markdown",
   "metadata": {
    "deletable": false,
    "editable": false,
    "kernel": "Python3",
    "nbgrader": {
     "cell_type": "markdown",
     "checksum": "6bdb3185938e6b21f9af67445a4b5d36",
     "grade": false,
     "grade_id": "cell-664b2e3212e77d83",
     "locked": true,
     "schema_version": 3,
     "solution": false,
     "task": false
    }
   },
   "source": [
    "# <a class=\"anchor\"></a> 5. Image processing in Python (2 points)\n",
    "\n",
    "A goal of the labs is for you to learn the usual ways to perform image-processing tasks in Python. Therefore, after you fully understand the nature of every algorithm, and have implemented them yourself in JavaScript, the labs will always move towards trustworthy implementations in popular image processing libraries. There are many libraries available, but throughout this course we will focus on three of the most common:\n",
    "\n",
    "* [**`openCV`**](https://opencv.org/about/): It stands for Open Computer Vision. As the name suggests, it provides thousands of open source algorithms for computer vision applications. The fact that it supports several programming laguages (`C++`, `Python`, `Java` and `Matlab`), and that it has over 20 years of history explains the huge community of users. Thus, there is also extensive documentation and tutorials, not only in its official website, but also on several other sites.  \n",
    "* [**`scipy.ndimage`**](https://www.scipy.org/) SciPy stands stands for Scientific Python, and it is one of the most widely used Python libraries (their packages include `NumPy` and `Matplotlib`, which are considered standards in Python). As OpenCV, it is open-source and it has a huge community, as well as extensive documentation and tutorials. It has a myriad of applications for scientific and technical computing. In the IP courses we will focus on their module built for [Multi-dimensional image processing (`ndimage`)](https://docs.scipy.org/doc/scipy/reference/ndimage.html).\n",
    "* [**`scikit-image`**](https://scikit-image.org/) Scikit stands for SciPy Toolkits. These toolkits are add-on packages for SciPy. They are developed and maintained individually. As SciPy, they are open-source projects. Some of these Scikits have become very well known, and have a large community of users and developers. Scikit-Image is one of them, developed specifically for image-processing tasks.\n",
    "\n",
    "While there are other good libraries for image processing, we will focus on these three because their history and community ensure long-term support and extensive documentation and examples. Whenever we want you to use one of these libraries, we will either use a function to exemplify an operation, or we will include a link to the documentation of that particular function.\n",
    "\n",
    "For a short instructional video by Alejandro on how to check the documentation in each of these three libraries run the cell below."
   ]
  },
  {
   "cell_type": "code",
   "execution_count": 62,
   "metadata": {
    "deletable": false,
    "editable": false,
    "kernel": "SoS",
    "nbgrader": {
     "cell_type": "code",
     "checksum": "9474911bc60220c0b6eed6841acad11e",
     "grade": false,
     "grade_id": "AlejandroYouTube-3",
     "locked": true,
     "schema_version": 3,
     "solution": false,
     "task": false
    }
   },
   "outputs": [
    {
     "data": {
      "text/html": [
       "\n",
       "        <iframe\n",
       "            width=\"800\"\n",
       "            height=\"450\"\n",
       "            src=\"https://www.youtube-nocookie.com/embed/MmBIn6vcCqM\"\n",
       "            frameborder=\"0\"\n",
       "            allowfullscreen\n",
       "        ></iframe>\n",
       "        "
      ],
      "text/plain": [
       "<IPython.lib.display.IFrame at 0x7fb5f3abab00>"
      ]
     },
     "execution_count": 62,
     "metadata": {},
     "output_type": "execute_result"
    }
   ],
   "source": [
    "from IPython.display import IFrame\n",
    "IFrame(width=\"800\", height=\"450\", src=\"https://www.youtube-nocookie.com/embed/MmBIn6vcCqM\")"
   ]
  },
  {
   "cell_type": "markdown",
   "metadata": {
    "deletable": false,
    "editable": false,
    "kernel": "SoS",
    "nbgrader": {
     "cell_type": "markdown",
     "checksum": "2b423a661e561a1168afb9b907b96c07",
     "grade": false,
     "grade_id": "cell-5ab320cdc58bb6a4",
     "locked": true,
     "schema_version": 3,
     "solution": false,
     "task": false
    }
   },
   "source": [
    "Just as with `NumPy` (`np`) or `matplotlib.pyplot` (`plt`), there are standard abbreviations to import these libraries. Run the next cell, where we will import the three of them. As you will see, the packages do not necessarily keep the name of the organization. "
   ]
  },
  {
   "cell_type": "code",
   "execution_count": 63,
   "metadata": {
    "deletable": false,
    "editable": false,
    "kernel": "SoS",
    "nbgrader": {
     "cell_type": "code",
     "checksum": "e8b97f5d397c639cd85d498069f503ce",
     "grade": false,
     "grade_id": "cell-b6c2cf1a70404c3c",
     "locked": true,
     "schema_version": 3,
     "solution": false,
     "task": false
    }
   },
   "outputs": [],
   "source": [
    "%use sos\n",
    "# OpenCV\n",
    "import cv2 as cv\n",
    "# SciPy NDImage\n",
    "import scipy.ndimage as ndi\n",
    "# Scikit-image\n",
    "import skimage"
   ]
  },
  {
   "cell_type": "markdown",
   "metadata": {
    "deletable": false,
    "editable": false,
    "kernel": "Python3",
    "nbgrader": {
     "cell_type": "markdown",
     "checksum": "a7786af5cfe1b931fc432bba158c2fbe",
     "grade": false,
     "grade_id": "cell-0cb660a1ec41ba44",
     "locked": true,
     "schema_version": 3,
     "solution": false,
     "task": false
    }
   },
   "source": [
    "# <a class=\"anchor\"></a> 5.A. Examples\n",
    "\n",
    "Now we will go through two very basic operations (rotation and edge detection) for you to get familiar with each of these libraries. We will show you the basic syntax, or how to call the function with the minimum necessary parameters. For the full list of parameters and options, go to the official documentation of each function. \n",
    "\n",
    "<div class = \"alert alert-warning\">\n",
    "  \n",
    "**Note**: Did you notice how in the `viewer` we specified all the parameters but the first one? In image processing libraries, the first parameter is almost always the input image. However, the rest of the parameters may vary from function to function and from library to library. It is best practice to specify them, otherwise, the order of the parameters becomes important and you might get confused with the way you call the function.   \n",
    "</div>\n",
    "\n",
    "### Rotation in OpenCV\n",
    "\n",
    "The basic syntax of the function is (see [the documentation](https://docs.opencv.org/3.4/d2/de8/group__core__array.html#ga4ad01c0978b0ce64baa246811deeac24)):\n",
    "```python\n",
    "output = cv.rotate(src, rotateCode)\n",
    "```\n",
    "\n",
    "The parameters are:\n",
    "* `src` (`numpy` array): The source image, and\n",
    "* `rotateCode` (numeric flag): Specifies the rotation (see the available options [here](https://docs.opencv.org/3.4/d2/de8/group__core__array.html#ga6f45d55c0b1cc9d97f5353a7c8a7aac2)).\n",
    "\n",
    "As you will see, OpenCV often works with these kind of flags, so you will have to check the documentation of each particular function to know their possible values. Run the next cell to see how this function works."
   ]
  },
  {
   "cell_type": "code",
   "execution_count": 64,
   "metadata": {
    "kernel": "SoS"
   },
   "outputs": [
    {
     "data": {
      "application/vnd.jupyter.widget-view+json": {
       "model_id": "f85955232d0541678e0ef9781d32b0bd",
       "version_major": 2,
       "version_minor": 0
      },
      "text/plain": [
       "HBox(children=(Output(layout=Layout(width='80%')), Output(), Output(layout=Layout(width='25%'))))"
      ]
     },
     "metadata": {},
     "output_type": "display_data"
    },
    {
     "data": {
      "application/vnd.jupyter.widget-view+json": {
       "model_id": "13df98f4bc1e48929c0de2f626398e9d",
       "version_major": 2,
       "version_minor": 0
      },
      "text/plain": [
       "Button(description='Show Widgets', style=ButtonStyle())"
      ]
     },
     "metadata": {},
     "output_type": "display_data"
    }
   ],
   "source": [
    "%use sos\n",
    "\n",
    "# First, we call the OpenCV function\n",
    "rot_car = cv.rotate(car, rotateCode =  cv.ROTATE_90_CLOCKWISE)\n",
    "\n",
    "# and then we visualize\n",
    "plt.close('all')\n",
    "cv_rotate_viewer = viewer([car, rot_car], title = ['Original', 'Rotated'], subplots=[1,2])"
   ]
  },
  {
   "cell_type": "markdown",
   "metadata": {
    "deletable": false,
    "editable": false,
    "kernel": "Python3",
    "nbgrader": {
     "cell_type": "markdown",
     "checksum": "4e9ad3c2eedd07b6b265acbe9d0748e2",
     "grade": false,
     "grade_id": "cell-553a8f6152ae8f40",
     "locked": true,
     "schema_version": 3,
     "solution": false,
     "task": false
    }
   },
   "source": [
    "### Edge detection in OpenCV\n",
    "\n",
    "For a quick edge detection filter, we will use the Sobel operator *derivative* filter. You will go through it in detail during the course.\n",
    "\n",
    "The syntax of the function with the basic parameters is (see [the documentation](https://docs.opencv.org/3.4/d4/d86/group__imgproc__filter.html#gacea54f142e81b6758cb6f375ce782c8d)):\n",
    "```python\n",
    "output = cv.Sobel(src, ddepth, dx, dy, ksize, borderType)\n",
    "```\n",
    "\n",
    "The parameters are:\n",
    "* `src` (`numpy` array): source image\n",
    "* `ddepth` (flag): The data type of the pixels. As a rule of thumb, you can use `cv.CV_32F`\n",
    "* `dx` (integer): Order of derivative in x\n",
    "* `dy` (integer): Order of derivative in y\n",
    "* `ksize` (integer): The size of the kernel. Defaults to 3 (standard Sobel filter), but OpenCV gives you the option to use extended kernels (1, 3, 5 or 7)\n",
    "* `borderType` (numerical flag): Specifies the boundary conditions (see the available options [here](https://docs.opencv.org/2.4/modules/imgproc/doc/filtering.html?highlight=copymakeborder)). Throughout the course, we will be using `cv.BORDER_REFLECT`: mirroring boundary conditions are applied when values outside the image are needed.\n",
    "\n",
    "Run the next cell for an example on the image `plate`."
   ]
  },
  {
   "cell_type": "code",
   "execution_count": 65,
   "metadata": {
    "kernel": "SoS"
   },
   "outputs": [
    {
     "data": {
      "application/vnd.jupyter.widget-view+json": {
       "model_id": "4e9f71f086c04cc7aa4803fdfb516ea8",
       "version_major": 2,
       "version_minor": 0
      },
      "text/plain": [
       "HBox(children=(Output(layout=Layout(width='80%')), Output(), Output(layout=Layout(width='25%'))))"
      ]
     },
     "metadata": {},
     "output_type": "display_data"
    },
    {
     "data": {
      "application/vnd.jupyter.widget-view+json": {
       "model_id": "357780e1ece3463093041256be845f33",
       "version_major": 2,
       "version_minor": 0
      },
      "text/plain": [
       "Button(description='Show Widgets', style=ButtonStyle())"
      ]
     },
     "metadata": {},
     "output_type": "display_data"
    }
   ],
   "source": [
    "%use sos\n",
    "\n",
    "# We apply the function on the image\n",
    "edges_plate = cv.Sobel(plate, ddepth = cv.CV_32F, dx =  1, dy = 1, ksize = 3, borderType = cv.BORDER_REFLECT)\n",
    "\n",
    "# And compare to the original\n",
    "plt.close('all')\n",
    "cv_sobel_viewer = viewer([plate, edges_plate], title = ['Original', 'Edges'], subplots=[1,2])"
   ]
  },
  {
   "cell_type": "markdown",
   "metadata": {
    "deletable": false,
    "editable": false,
    "kernel": "Python3",
    "nbgrader": {
     "cell_type": "markdown",
     "checksum": "c8a931c3afc43ef4d543f5f6dec9e211",
     "grade": false,
     "grade_id": "cell-fc38c1227c2c8eac",
     "locked": true,
     "schema_version": 3,
     "solution": false,
     "task": false
    }
   },
   "source": [
    "### Rotation in SciPy NDImage\n",
    "\n",
    "The basic syntax of the function for grayscale images is  (see [the documentation](https://docs.scipy.org/doc/scipy-0.14.0/reference/generated/scipy.ndimage.interpolation.rotate.html)):\n",
    "```python\n",
    "output = scipy.ndimage.interpolation.rotate(input, angle, reshape=True, mode='reflect')\n",
    "```\n",
    "\n",
    "The parameters are:\n",
    "* `input` (`numpy` array): The source image, \n",
    "* `angle` (floating point number): Rotation angle in degrees,\n",
    "* `reshape` (boolean): If `True` (default), the output shape is adapted so that the input array is contained completely in the output.\n",
    "* `mode` (string): Specify boundary conditions. We will use `'reflect'` (default value) throughout the course: mirroring boundary conditions are applied when values outside the image are needed. Other options include `'constant'`, `'nearest'`, or `'wrap'`.\n",
    "\n",
    "You can already see some differences between the two libraries: `scipy.ndimage` does not work with flags, but with strings. You will still have to check the documentation to see the available options. Moreover, in this particular function, SciPy allows rotation by any angle. \n",
    "\n",
    "Run the next cell to see the result of rotating the image `car` for an angle $\\theta = 45^\\circ$. In the stats box of the `IPLabViewer`, look at the size of both images. As you can see, the resulting image has been adapted. Modify the cell, and select `mode = 'constant'`. See the difference. Experiment with different modes: if you select `mode = 'constant'`, you can add the parameter `cval` (scalar), to specify the value of the pixels outside of the image borders. You can also try to set the parameter `reshape = False` to see the result."
   ]
  },
  {
   "cell_type": "code",
   "execution_count": 66,
   "metadata": {
    "kernel": "SoS"
   },
   "outputs": [
    {
     "data": {
      "application/vnd.jupyter.widget-view+json": {
       "model_id": "9e281206364f4a649bd15450e47a0237",
       "version_major": 2,
       "version_minor": 0
      },
      "text/plain": [
       "HBox(children=(Output(layout=Layout(width='80%')), Output(), Output(layout=Layout(width='25%'))))"
      ]
     },
     "metadata": {},
     "output_type": "display_data"
    },
    {
     "data": {
      "application/vnd.jupyter.widget-view+json": {
       "model_id": "9586d2d4d57a4d4285e85a2f15ce0577",
       "version_major": 2,
       "version_minor": 0
      },
      "text/plain": [
       "Button(description='Show Widgets', style=ButtonStyle())"
      ]
     },
     "metadata": {},
     "output_type": "display_data"
    }
   ],
   "source": [
    "%use sos\n",
    "\n",
    "# Apply operation\n",
    "rot_car_ndi = ndi.interpolation.rotate(car, angle = 45, reshape=True, mode='reflect')\n",
    "# Compare to original\n",
    "plt.close('all')\n",
    "cv_rotate_viewer = viewer([car, rot_car_ndi], title = ['Original', 'Rotated'], subplots=[1,2])"
   ]
  },
  {
   "cell_type": "markdown",
   "metadata": {
    "deletable": false,
    "editable": false,
    "kernel": "Python3",
    "nbgrader": {
     "cell_type": "markdown",
     "checksum": "c060953629ea7b20693762b1f92b7bb6",
     "grade": false,
     "grade_id": "cell-fad4e6411da61409",
     "locked": true,
     "schema_version": 3,
     "solution": false,
     "task": false
    }
   },
   "source": [
    "### Edge Detection in SciPy NDImage\n",
    "\n",
    "Again, we will use the Sobel filter. The basic syntax in `ndi` is  (see [the documentation](https://docs.scipy.org/doc/scipy/reference/generated/scipy.ndimage.sobel.html)):\n",
    "```python\n",
    "output = scipy.ndimage.sobel(input, axis= -1, mode='reflect')\n",
    "```\n",
    "\n",
    "The parameters are:\n",
    "* `input` (`numpy` array): The source image, \n",
    "* `axis` (floating point number): axis through which to apply the 1-dimensional Sobel filter (defaults to -1, i.e., the last axis, i.e., the 2nd (1) for grayscale images),\n",
    "* `mode` (string): Specify the boundary conditions (see the last example).\n",
    "\n",
    "Again, we can see differences between the two libraries. In OpenCV you could specify different orders in each direction. In `scipy.ndimage`, the order is always 1, and you can only specify one direction. So to get an image like the one resulting from OpenCV's function, you would need to call `ndi`s function twice (once with `axis = 0` and once with `axis = 1`), and then get the norm of the gradient ($\\sqrt{[\\partial f/\\partial x]^2 + [\\partial f / \\partial y]^2}$, where $f$ represents the image). Do not worry if this is not clear to you at this point, it will become much clearer as you go through the course and study directional derivatives and the Sobel filter. \n",
    "\n",
    "Run the next cell to see the Sobel filter applied to the image `hands`. Change the argument axis to see the effect."
   ]
  },
  {
   "cell_type": "code",
   "execution_count": 67,
   "metadata": {
    "kernel": "SoS"
   },
   "outputs": [
    {
     "data": {
      "application/vnd.jupyter.widget-view+json": {
       "model_id": "2980deb7f4bb46b09a9f06faa884adf3",
       "version_major": 2,
       "version_minor": 0
      },
      "text/plain": [
       "HBox(children=(Output(layout=Layout(width='80%')), Output(), Output(layout=Layout(width='25%'))))"
      ]
     },
     "metadata": {},
     "output_type": "display_data"
    },
    {
     "data": {
      "application/vnd.jupyter.widget-view+json": {
       "model_id": "b9230127d75940e5b33ae3fb9668216e",
       "version_major": 2,
       "version_minor": 0
      },
      "text/plain": [
       "Button(description='Show Widgets', style=ButtonStyle())"
      ]
     },
     "metadata": {},
     "output_type": "display_data"
    }
   ],
   "source": [
    "%use sos\n",
    "\n",
    "#Apply filter\n",
    "hands_edge = ndi.sobel(hands, axis= 0, mode='reflect')\n",
    "# Compare\n",
    "plt.close('all')\n",
    "ndi_sobel_viewer = viewer([hands, hands_edge], title = ['Original', 'Edges'], subplots=[1,2])"
   ]
  },
  {
   "cell_type": "markdown",
   "metadata": {
    "deletable": false,
    "editable": false,
    "kernel": "Python3",
    "nbgrader": {
     "cell_type": "markdown",
     "checksum": "7e95e550015c4dbade9126b7fe15958b",
     "grade": false,
     "grade_id": "cell-79ce99f7a56c697c",
     "locked": true,
     "schema_version": 3,
     "solution": false,
     "task": false
    }
   },
   "source": [
    "### Rotation in Scikit Image\n",
    "\n",
    "The basic syntax of the function for grayscale images is  (see [the documentation](https://scikit-image.org/docs/stable/api/skimage.transform.html?highlight=rotate#skimage.transform.rotate)):\n",
    "```python\n",
    "output = skimage.transform.rotate(image, angle, resize=False, center=None, mode='reflect', preserve_range = True)\n",
    "```\n",
    "\n",
    "The parameters are:\n",
    "* `input` (`numpy` array): The source image, \n",
    "* `angle` (floating point number): Rotation angle in degrees,\n",
    "* `resize` (boolean): Specify whether to resize the image to contain the full original. Defaults to `False`,\n",
    "* `center` (tuple of length 2): Specifies the center of rotation. The order is (columns, rows),\n",
    "* `mode` (string): Specify boundary conditions (see the last example). \n",
    "\n",
    "In Scikit Image, we have a new parameter that nor OpenCV nor Scipy NDImage have. Scikit Image lets you specify the center of rotation, which for some applications can come as a very handy tool.\n",
    "\n",
    "We will apply Scikit Image's rotation to `car` again, this time for an angle of $60^\\circ$. Moreover, we will change the center of rotation. Run the next cell to see the result. Modify the cell and experiment with the different parameters."
   ]
  },
  {
   "cell_type": "code",
   "execution_count": 68,
   "metadata": {
    "kernel": "SoS"
   },
   "outputs": [
    {
     "data": {
      "application/vnd.jupyter.widget-view+json": {
       "model_id": "1c2958348c1b4c9b96ebbe64481bd0a7",
       "version_major": 2,
       "version_minor": 0
      },
      "text/plain": [
       "HBox(children=(Output(layout=Layout(width='80%')), Output(), Output(layout=Layout(width='25%'))))"
      ]
     },
     "metadata": {},
     "output_type": "display_data"
    },
    {
     "data": {
      "application/vnd.jupyter.widget-view+json": {
       "model_id": "91fca1a27af94fbdb50cb71f518a90c5",
       "version_major": 2,
       "version_minor": 0
      },
      "text/plain": [
       "Button(description='Show Widgets', style=ButtonStyle())"
      ]
     },
     "metadata": {},
     "output_type": "display_data"
    }
   ],
   "source": [
    "%use sos\n",
    "\n",
    "# First, we import the module transform\n",
    "from skimage import transform\n",
    "\n",
    "# Now we apply operation\n",
    "rot_car_skimage = skimage.transform.rotate(car, angle = 60, resize=False, center=(50, 50), mode='reflect', preserve_range = True)\n",
    "\n",
    "# And visualize\n",
    "plt.close('all')\n",
    "skimage_rotate_viewer = viewer([car, rot_car_skimage], title = ['Original', 'Rotated'], subplots=[1,2])"
   ]
  },
  {
   "cell_type": "markdown",
   "metadata": {
    "deletable": false,
    "editable": false,
    "kernel": "Python3",
    "nbgrader": {
     "cell_type": "markdown",
     "checksum": "d9d61b1f97d73aa3ec98e960fd665c79",
     "grade": false,
     "grade_id": "cell-733a7afa84c2df9c",
     "locked": true,
     "schema_version": 3,
     "solution": false,
     "task": false
    }
   },
   "source": [
    "### Edge Detection in Scikit Image\n",
    "\n",
    "The basic syntax of the Sobel filter for grayscale images is  (see [the documentation](https://scikit-image.org/docs/dev/api/skimage.filters.html#skimage.filters.sobel)):\n",
    "\n",
    "```python\n",
    "output = skimage.filters.sobel(image, axis=None, mode='reflect')\n",
    "```\n",
    "\n",
    "The parameters are:\n",
    "* `image` (`numpy` array): The source image, \n",
    "* `axis` (integer): If given, compute the axis in the specified direction. If `None`, the magnitude of the gradient is calculated,\n",
    "* `mode` (string): Specify boundary conditions (see example above). \n",
    "\n",
    "As you can see, in this function, Scikit image gives more freedom to the user (you can produce both the magnitude of the gradient, and the gradient in each individual axis). Moreover, if you need a quicker and simpler way, Scikit-image has the filters `sobel_h` and `sobel_v`, that without any extra parameters apply the corresponding (horizontal or vertical) filter.\n",
    "\n",
    "Run the next cell to apply Scikit-Image Sobel filter on the image `plate`. Modify the cell and play with the different values and with different images."
   ]
  },
  {
   "cell_type": "code",
   "execution_count": 69,
   "metadata": {
    "kernel": "SoS"
   },
   "outputs": [
    {
     "data": {
      "application/vnd.jupyter.widget-view+json": {
       "model_id": "01c55d151dde4e179dc27a2476763d12",
       "version_major": 2,
       "version_minor": 0
      },
      "text/plain": [
       "HBox(children=(Output(layout=Layout(width='80%')), Output(), Output(layout=Layout(width='25%'))))"
      ]
     },
     "metadata": {},
     "output_type": "display_data"
    },
    {
     "data": {
      "application/vnd.jupyter.widget-view+json": {
       "model_id": "51f9429f84014df5a644612abf7e5fbc",
       "version_major": 2,
       "version_minor": 0
      },
      "text/plain": [
       "Button(description='Show Widgets', style=ButtonStyle())"
      ]
     },
     "metadata": {},
     "output_type": "display_data"
    }
   ],
   "source": [
    "%use sos\n",
    "\n",
    "# First, we import the module filters\n",
    "from skimage import filters\n",
    "\n",
    "# Apply filter\n",
    "plate_edges_skimage = skimage.filters.sobel(plate, axis=None, mode='reflect')\n",
    "\n",
    "# Visualize\n",
    "plt.close('all')\n",
    "skimage_edge_viewer = viewer([plate, plate_edges_skimage], title = ['Original', 'Edges'], subplots=[1,2])"
   ]
  },
  {
   "cell_type": "markdown",
   "metadata": {
    "deletable": false,
    "editable": false,
    "kernel": "Python3",
    "nbgrader": {
     "cell_type": "markdown",
     "checksum": "a5881569d3ef5c8afe56f4e39ad22cf0",
     "grade": false,
     "grade_id": "cell-0d02892baec7688b",
     "locked": true,
     "schema_version": 3,
     "solution": false,
     "task": false
    }
   },
   "source": [
    "As you have realized by this brief introduction, no library is perfect, entirely complete, nor generally better than the others. For some applications and for some functions, you will find one library to be more useful than the others. In some cases, some libraries will not have the functions you need! So in complex applications, you may need to use two of them, or even combine them all. In general, it is good to be aware of your options. "
   ]
  },
  {
   "cell_type": "markdown",
   "metadata": {
    "deletable": false,
    "editable": false,
    "kernel": "Python3",
    "nbgrader": {
     "cell_type": "markdown",
     "checksum": "f138d7ed565387303f5914f685fec53c",
     "grade": false,
     "grade_id": "cell-0ba867cc74367641",
     "locked": true,
     "schema_version": 3,
     "solution": false,
     "task": false
    }
   },
   "source": [
    "## <a class=\"anchor\"></a> 5.B. Try it yourself! (2 points)\n",
    "\n",
    "Congratulations! You are almost at the end of the introductory lab, this is your last task. It is your time to explore the three libraries (explore documentation, tutorials, etc.). A good access point is to go to their website. For **2 points**, then, choose one of the libraries and implement a **Gaussian smoothing (a.k.a. Gaussian blur)** on the image `boats`. Modify the cell below, and store your result in the variable `blurred_boats`. Use:\n",
    "* $\\sigma = 5$,\n",
    "* `'reflect'` (or `cv.BORDER_REFLECT`) boundary conditions, \n",
    "* and use the default kernel size. \n",
    "\n",
    "If applicable, use: \n",
    "* `preserve_range = True`, and/or \n",
    "* `ksize = (0, 0)`."
   ]
  },
  {
   "cell_type": "code",
   "execution_count": 70,
   "metadata": {
    "deletable": false,
    "kernel": "SoS",
    "nbgrader": {
     "cell_type": "code",
     "checksum": "d129b1d9e26b89f559a9d10b4564d21a",
     "grade": false,
     "grade_id": "cell-3aad12f740231a32",
     "locked": false,
     "schema_version": 3,
     "solution": true,
     "task": false
    }
   },
   "outputs": [],
   "source": [
    "%use sos\n",
    "\n",
    "blurred_boats = np.copy(boats)\n",
    "blurred_boats = skimage.filters.gaussian(blurred_boats, sigma=5, mode='mirror', cval=0, multichannel=None, preserve_range=False, truncate=4.0)"
   ]
  },
  {
   "cell_type": "code",
   "execution_count": 71,
   "metadata": {
    "deletable": false,
    "editable": false,
    "kernel": "SoS",
    "nbgrader": {
     "cell_type": "code",
     "checksum": "68b6aa2fc38f2989249e405815f0fdc7",
     "grade": true,
     "grade_id": "cell-1919408b3ba0b1c7",
     "locked": true,
     "points": 2,
     "schema_version": 3,
     "solution": false,
     "task": false
    }
   },
   "outputs": [
    {
     "data": {
      "application/vnd.jupyter.widget-view+json": {
       "model_id": "8f3c74a5136a479fab1e5ba11651ead9",
       "version_major": 2,
       "version_minor": 0
      },
      "text/plain": [
       "HBox(children=(Output(layout=Layout(width='80%')), Output(), Output(layout=Layout(width='25%'))))"
      ]
     },
     "metadata": {},
     "output_type": "display_data"
    },
    {
     "data": {
      "application/vnd.jupyter.widget-view+json": {
       "model_id": "e0e2eb0ed7d645bea44c1a28794fd774",
       "version_major": 2,
       "version_minor": 0
      },
      "text/plain": [
       "Button(description='Show Widgets', style=ButtonStyle())"
      ]
     },
     "metadata": {},
     "output_type": "display_data"
    }
   ],
   "source": [
    "%use sos\n",
    "# Visualize \n",
    "plt.close('all')\n",
    "gaussian_viewer = viewer([boats, blurred_boats], title = ['Original', 'Blurred'], subplots=[1,2]) "
   ]
  },
  {
   "cell_type": "markdown",
   "metadata": {
    "deletable": false,
    "editable": false,
    "kernel": "SoS",
    "nbgrader": {
     "cell_type": "markdown",
     "checksum": "154231caf2cd0cf7a373cd8a775260bf",
     "grade": false,
     "grade_id": "cell-f73b5f5675b1f46e",
     "locked": true,
     "schema_version": 3,
     "solution": false,
     "task": false
    }
   },
   "source": [
    "<p><b>Congratulations on finishing Lab 0!</b></p>\n",
    "<p>\n",
    "Make sure to save your notebook (keep a copy on your personal computer for reference) and upload it to <a href=\"https://moodle.epfl.ch/course/view.php?id=522\">Moodle</a>.\n",
    "</p>\n",
    "\n",
    "<div class=\"alert alert-danger\">\n",
    "<h4>Feedback</h4>\n",
    "    <p style=\"margin:4px;\">\n",
    "    This is the first edition of the image-processing laboratories using Jupyter Notebooks running on Noto. Do not leave before giving us your <a href=\"https://moodle.epfl.ch/mod/feedback/view.php?id=1091265\">feedback here!</a></p>\n",
    "</div>"
   ]
  }
 ],
 "metadata": {
  "kernelspec": {
   "display_name": "SoS",
   "language": "sos",
   "name": "sos"
  },
  "language_info": {
   "codemirror_mode": "sos",
   "file_extension": ".sos",
   "mimetype": "text/x-sos",
   "name": "sos",
   "nbconvert_exporter": "sos_notebook.converter.SoS_Exporter",
   "pygments_lexer": "sos"
  },
  "sos": {
   "kernels": [
    [
     "JavaScript",
     "javascript",
     "JavaScript",
     "#c8e1ae",
     ""
    ],
    [
     "SoS",
     "sos",
     "",
     "",
     "sos"
    ]
   ],
   "panel": {
    "displayed": false,
    "height": 0
   },
   "version": "0.21.12"
  },
  "toc-autonumbering": false,
  "toc-showmarkdowntxt": false
 },
 "nbformat": 4,
 "nbformat_minor": 4
}
