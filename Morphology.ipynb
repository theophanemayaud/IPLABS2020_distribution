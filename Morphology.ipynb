{
 "cells": [
  {
   "cell_type": "markdown",
   "metadata": {
    "deletable": false,
    "editable": false,
    "kernel": "SoS",
    "nbgrader": {
     "cell_type": "markdown",
     "checksum": "ade28b5d35adc392389e485686864a91",
     "grade": false,
     "grade_id": "cell-9937b67335ce06cd",
     "locked": true,
     "schema_version": 3,
     "solution": false,
     "task": false
    }
   },
   "source": [
    "<img src=\"https://www.epfl.ch/about/overview/wp-content/uploads/2020/07/logo-epfl-1024x576.png\" style=\"padding-right:10px;width:140px;float:left\"></td>\n",
    "<h2 style=\"white-space: nowrap\">Image Processing Laboratory Notebooks</h2>\n",
    "<hr style=\"clear:both\">\n",
    "<p style=\"font-size:0.85em; margin:2px; text-align:justify\">\n",
    "This Juypter notebook is part of a series of computer laboratories which are designed\n",
    "to teach image-processing programming; they are running on the EPFL's Noto server. They are the practical complement of the theoretical lectures of the EPFL's Master course <b>Image Processing I</b> \n",
    "(<a href=\"https://moodle.epfl.ch/course/view.php?id=522\">MICRO-511</a>) taught by Prof. M. Unser and Prof. D. Van de Ville.\n",
    "</p>\n",
    "<p style=\"font-size:0.85em; margin:2px; text-align:justify\">\n",
    "The project is funded by the Center for Digital Education and the School of Engineering. It is owned by the <a href=\"http://bigwww.epfl.ch/\">Biomedical Imaging Group</a>. \n",
    "The distribution or the reproduction of the notebook is strictly prohibited without the written consent of the authors.  &copy; EPFL 2020.\n",
    "</p>\n",
    "<p style=\"font-size:0.85em; margin:0px\"><b>Authors</b>: \n",
    "    <a href=\"mailto:pol.delaguilapla@epfl.ch\">Pol del Aguila Pla</a>, \n",
    "    <a href=\"mailto:kay.lachler@epfl.ch\">Kay Lächler</a>,\n",
    "    <a href=\"mailto:alejandro.nogueronaramburu@epfl.ch\">Alejandro Noguerón Arámburu</a>, and\n",
    "    <a href=\"mailto:daniel.sage@epfl.ch\">Daniel Sage</a>.\n",
    "</p>\n",
    "<hr style=\"clear:both\">\n",
    "<h1>Lab 3: Morphology</h1>\n",
    "<div style=\"background-color:#F0F0F0;padding:4px\">\n",
    "    <p style=\"margin:4px;\"><b>Released</b>: Thursday December 10, 2020</p>\n",
    "    <p style=\"margin:4px;\"><b>Submission</b>: <span style=\"color:red\">Friday December 18, 2020</span> (before 11:59PM) on <a href=\"https://moodle.epfl.ch/course/view.php?id=522\">Moodle</a></p>\n",
    "    <p style=\"margin:4px;\"><b>Grade weigth</b>: 10% of the overall grade</p>\n",
    "    <p style=\"margin:4px;\"><b>Remote help</b>: Monday December 14 and Thursday December 17, 12h00-13h00, on Zoom (see Moodle for link)</p>    \n",
    "    <p style=\"margin:4px;\"><b>Related lectures</b>: Chapter 4.3</p> \n",
    "</div>"
   ]
  },
  {
   "cell_type": "markdown",
   "metadata": {
    "kernel": "SoS"
   },
   "source": [
    "### Student Name: \n",
    "### SCIPER: \n",
    "\n",
    "Double-click on this cell and fill your name and SCIPER number. Then, run the cell below to verify your identity in Noto and set the seed for random results."
   ]
  },
  {
   "cell_type": "code",
   "execution_count": null,
   "metadata": {
    "deletable": false,
    "editable": false,
    "kernel": "SoS",
    "nbgrader": {
     "cell_type": "code",
     "checksum": "9a33e9383ab46210f5a77359898fd9a5",
     "grade": false,
     "grade_id": "cell-ee14ef1f328029fa",
     "locked": true,
     "schema_version": 3,
     "solution": false,
     "task": false
    }
   },
   "outputs": [],
   "source": [
    "%use sos\n",
    "import getpass\n",
    "# This line recovers your camipro number to mark the images with your ID\n",
    "uid = int(getpass.getuser().split('-')[2]) if len(getpass.getuser().split('-')) > 2 else ord(getpass.getuser()[0])\n",
    "print(f'SCIPER: {uid}')"
   ]
  },
  {
   "cell_type": "markdown",
   "metadata": {
    "deletable": false,
    "editable": false,
    "kernel": "SoS",
    "nbgrader": {
     "cell_type": "markdown",
     "checksum": "01ff31faa48c519cd1de2b24beb42878",
     "grade": false,
     "grade_id": "cell-4c702668cab4a994",
     "locked": true,
     "schema_version": 3,
     "solution": false,
     "task": false
    }
   },
   "source": [
    "## Imports\n",
    "In this first cell we import the required Python libraries:\n",
    "* [`matplotlib.pyplot`](https://matplotlib.org), to display images\n",
    "* [`ipywidgets`](https://ipywidgets.readthedocs.io/en/latest/), to make the image display interactive\n",
    "* [`numpy`](https://numpy.org/doc/stable/reference/index.html), for mathematical operations on arrays\n",
    "* [`cv2`](https://docs.opencv.org/master/), for image processing in Python\n",
    "\n",
    "We will then load the `IPLabViewer` class (either see the complete documentation [here](https://github.com/Biomedical-Imaging-Group/IPLabImageViewer/wiki/Python-IPLabViewer()-Class), run the Python command `help(viewer)` after loading the class, or refer to [Lab 0: Introduction](./Introductory.ipynb)).\n",
    "\n",
    "Finally, we load the images you will use in the exercise to test your algorithms. "
   ]
  },
  {
   "cell_type": "code",
   "execution_count": null,
   "metadata": {
    "deletable": false,
    "editable": false,
    "kernel": "SoS",
    "nbgrader": {
     "cell_type": "code",
     "checksum": "ed588c939cd814d84dc719401d2c86a8",
     "grade": false,
     "grade_id": "cell-64acc6f65a687846",
     "locked": true,
     "schema_version": 3,
     "solution": false,
     "task": false
    }
   },
   "outputs": [],
   "source": [
    "%use sos\n",
    "# Configure plotting as dynamic\n",
    "%matplotlib widget\n",
    "\n",
    "# Import standard required packages for this exercise\n",
    "import matplotlib.pyplot as plt\n",
    "import ipywidgets as widgets\n",
    "import numpy as np\n",
    "import cv2 as cv\n",
    "\n",
    "# Import IPLabsImage() Class\n",
    "import sys  \n",
    "sys.path.insert(0, 'lib')\n",
    "from iplabs import IPLabViewer as viewer\n",
    "\n",
    "# Load images to be used in this lab \n",
    "plate        = cv.imread('images/plate.tif',               cv.IMREAD_UNCHANGED)\n",
    "butterfly    = cv.imread('images/butterfly-graylevel.tif', cv.IMREAD_UNCHANGED)\n",
    "test_contact = cv.imread('images/test-contact.tif',        cv.IMREAD_UNCHANGED)\n",
    "test_scratch = cv.imread('images/test-scratch.tif',        cv.IMREAD_UNCHANGED)"
   ]
  },
  {
   "cell_type": "markdown",
   "metadata": {
    "deletable": false,
    "editable": false,
    "kernel": "Python3",
    "nbgrader": {
     "cell_type": "markdown",
     "checksum": "e53f44899bd795f19fb2ba6d2f9e3513",
     "grade": false,
     "grade_id": "cell-f207d4672be791cc",
     "locked": true,
     "schema_version": 3,
     "solution": false,
     "task": false
    }
   },
   "source": [
    "In the following cell we import the JavaScript `IPLabImageAccess` class, created specifically for this course, which facilitates the creation and modification of images."
   ]
  },
  {
   "cell_type": "code",
   "execution_count": null,
   "metadata": {
    "deletable": false,
    "editable": false,
    "kernel": "JavaScript",
    "nbgrader": {
     "cell_type": "code",
     "checksum": "01f0ec2ca2300864602c4a6255dc7708",
     "grade": false,
     "grade_id": "cell-7b83d6cee82ae0e4",
     "locked": true,
     "schema_version": 3,
     "solution": false,
     "task": false
    }
   },
   "outputs": [],
   "source": [
    "%use javascript\n",
    "// import IPLabImageAccess.js as Image\n",
    "var Image = require('./lib/IPLabImageAccess.js')"
   ]
  },
  {
   "cell_type": "markdown",
   "metadata": {
    "deletable": false,
    "editable": false,
    "kernel": "SoS",
    "nbgrader": {
     "cell_type": "markdown",
     "checksum": "7beedbb4509914d1eac2a8dd0ba8f76f",
     "grade": false,
     "grade_id": "cell-2e0620dcb77bf49f",
     "locked": true,
     "schema_version": 3,
     "solution": false,
     "task": false
    }
   },
   "source": [
    "# Morphology (17 points)\n",
    "\n",
    "In this laboratory you will learn 1) how to implement several morphological filters in a low-level language (like JavaScript), and 2) how to apply them in image processing applications using OpenCV. We will focus mainly on 2D graylevel morphology, but keep in mind that the same operations can easily be adapted to color images by treating each color channel as an independent graylevel image.\n",
    "\n",
    "## <a class=\"anchor\"></a> Index\n",
    "1. [Structuring Elements](#-1.-Structuring-elements-(2-points)) (**2 points**)\n",
    "    1. [Square](#-1.A.-Square-structuring-element)\n",
    "    2. [Cross](#-1.B.-Cross-structuring-element)\n",
    "    3. [Disc](#-1.C.-Disc-structuring-element)\n",
    "2. [Debugging](#-2.-Debugging-(1-point)) (**1 point**)\n",
    "3. [Morphological filters](#-3.-Morphological-filters-(9-points)) (**9 points**)\n",
    "    1. [Erosion](#-3.A.-Erosion)\n",
    "    2. [Dilation](#-3.B.-Dilation)\n",
    "    3. [Median](#-3.C.-Median-filter)\n",
    "    4. [Opening](#-3.D.-Opening)\n",
    "    5. [Closing](#-3.E.-Closing)\n",
    "    6. [Gradient](#-3.F.-Gradient-filter)\n",
    "    7. [Top-hat](#-3.G.-Top-hat-filter)\n",
    "    8. [Bottom-hat](#-3.H.-Bottom-hat-filter)\n",
    "    9. [Understanding morphological filters](#-3.I.-Understanding-morphological-filters)\n",
    "4. [Direct applications](#-4.-Direct-applications-(2-points)) (**2 points**)\n",
    "    1. [Disconnecting round objects](#-4.A.-Disconnecting-round-objects)\n",
    "    2. [Detecting horizontal lines](#-4.B.-Detecting-horizontal-lines)\n",
    "5. [Combining morphological filters](#-5.-Combining-morphological-filters-(1-point)) (**1 point**)\n",
    "6. [Lantuéjoul's skeleton](#-6.-Lantuéjoul's-skeleton-(2-points)) (**2 points**)\n",
    "    1. [Classic Lantuéjoul's algorithm](#-6.A.-Classic-Lantuéjoul's-algorithm)\n",
    "        1. [Implementing skeletonize](#-6.A.a.-Implementing-skeletonize)\n",
    "        2. [Testing skeletonize](#-6.A.b.-Testing-skeletonize)\n",
    "    2. [Pruning and post-processing](#-6.B.-Pruning-and-post-processing)\n",
    "        1. [Implementing pruning](#-6.B.a.-Implementing-pruning)\n",
    "        2. [Testing skeletonize and prune](#-6.B.b.-Testing-skeletonize-and-prune)\n",
    "7. [Cartoonize your picture!](#-7.-Cartoonize-your-picture!)\n",
    "\n",
    "<div class=\" alert alert-danger\">\n",
    "    \n",
    "<b>Important:</b> Each cell that contains code begins with `%use sos` or `%use javascript`. This indicates if the code in this specific cell should be written in Python or JavaScript. Do not change or remove any lines of code that begin with an $\\%$. They need to be on the first line of each cell!\n",
    "    \n",
    "</div>"
   ]
  },
  {
   "cell_type": "markdown",
   "metadata": {
    "deletable": false,
    "editable": false,
    "kernel": "SoS",
    "nbgrader": {
     "cell_type": "markdown",
     "checksum": "789f109828f134b53df248092ccfa1e1",
     "grade": false,
     "grade_id": "cell-45df126e2dbd7798",
     "locked": true,
     "schema_version": 3,
     "solution": false,
     "task": false
    }
   },
   "source": [
    "# <a class=\"anchor\"></a> 1. Structuring elements (2 points)\n",
    "[Back to index](#-Index)\n",
    "\n",
    "As you have seen in the course, a structuring element (often abbreviated with `strel` in the code) can be discribed by a binary image consisting of a foreground and a background, which are usually represented with `true` (or $1$) and `false` (or $0$), respectively. They are used in morphological filters such as dilation, erosion, opening, closing and all others that are derived from those. The purpose of the structuring element is to define the shape and size used by a morphological filter.\n",
    "\n",
    "**Your task in this section is to implement 2 different structuring elements, namely a cross and a disc.**\n",
    "\n",
    "**For 1 point each**, implement the functions `cross(n)` and `disc(n)` to build the shapes of the structuring elements of size $n \\times n$. The function `square(n)` is provided and serves as a reference. The \"disc\" shape contains elements which are inside a circle tangent to the frame of the $n \\times n$ square, and the \"cross\" shape contains a horizontal and a vertical line that meet in the center of the square, both with a single-pixel width.\n",
    "\n",
    "The images below show an example of how the different elements should look with a size of $9 \\times 9$.\n",
    "![Structuring_elements_showcase](./images/Structuring_elements_showcase.png \"Structuring elements\")\n",
    "\n",
    "<div class=\" alert alert-info\">\n",
    "\n",
    "<b>Note:</b> Because all the proposed structuring elements are all symmetric and we use $n$ odd, it is not necessary to reflect the structuring element as we would do in a generic implementation. However, you can still do it if you want.\n",
    "</div>"
   ]
  },
  {
   "cell_type": "markdown",
   "metadata": {
    "deletable": false,
    "editable": false,
    "kernel": "JavaScript",
    "nbgrader": {
     "cell_type": "markdown",
     "checksum": "dc84306315807aa41e6416f7559e14f1",
     "grade": false,
     "grade_id": "cell-0f3f30bc1dfe0081",
     "locked": true,
     "schema_version": 3,
     "solution": false,
     "task": false
    }
   },
   "source": [
    "## <a class=\"anchor\"></a> 1.A. Square structuring element\n",
    "[Back to index](#-Index)\n",
    "\n",
    "The next cell provides the example function `square(n)`, which returns a square of size $n \\times n$ filled with $1$s."
   ]
  },
  {
   "cell_type": "code",
   "execution_count": null,
   "metadata": {
    "deletable": false,
    "editable": false,
    "kernel": "JavaScript",
    "nbgrader": {
     "cell_type": "code",
     "checksum": "83cf363241a629f753e18a774a6feded",
     "grade": false,
     "grade_id": "cell-a0c0cf734dffb7d8",
     "locked": true,
     "schema_version": 3,
     "solution": false,
     "task": false
    }
   },
   "outputs": [],
   "source": [
    "%use javascript\n",
    "// function that takes as input an integer n and returns an n x n image of '1's\n",
    "function square(n){ \n",
    "    // declare the output image\n",
    "    var output = new Image(n, n);\n",
    "    // iterate through each pixel\n",
    "    for(var x = 0; x < n; x++){  \n",
    "        for(var y = 0; y < n; y++){\n",
    "            // assign pixel value at location (x,y) to '1'\n",
    "            output.setPixel(x, y, 1);\n",
    "        }\n",
    "    }\n",
    "    return output;\n",
    "}"
   ]
  },
  {
   "cell_type": "markdown",
   "metadata": {
    "deletable": false,
    "editable": false,
    "kernel": "JavaScript",
    "nbgrader": {
     "cell_type": "markdown",
     "checksum": "7bbc0effdecafc594dc340a85aaad69e",
     "grade": false,
     "grade_id": "cell-6a24e5506b1a1e5c",
     "locked": true,
     "schema_version": 3,
     "solution": false,
     "task": false
    }
   },
   "source": [
    "The next cell runs the function `square(n)` and stores the result in the variable `strel_square` which is converted to Python in order to display it in another cell. Feel free to experiment with the size passed to the function and observe the results.\n",
    "<div class=\" alert alert-info\">\n",
    "    \n",
    "<b>Remember:</b> The method `.toArray()` is needed to convert the variable to Python.\n",
    "    \n",
    "</div>"
   ]
  },
  {
   "cell_type": "code",
   "execution_count": null,
   "metadata": {
    "kernel": "JavaScript"
   },
   "outputs": [],
   "source": [
    "%use javascript\n",
    "%put strel_square\n",
    "// runs the function you implemented above and converts the Image object to an array\n",
    "// feel free to change the size passed to this function and observe the result\n",
    "var strel_square = square(9).toArray();"
   ]
  },
  {
   "cell_type": "markdown",
   "metadata": {
    "deletable": false,
    "editable": false,
    "kernel": "JavaScript",
    "nbgrader": {
     "cell_type": "markdown",
     "checksum": "b088cb034cc74aeeb7ea5cc03f4309d1",
     "grade": false,
     "grade_id": "cell-8ac8155685c079b1",
     "locked": true,
     "schema_version": 3,
     "solution": false,
     "task": false
    }
   },
   "source": [
    "Run the next cell to use Python to display the structuring element as an image.\n",
    "\n",
    "<div class = 'alert alert-info'>\n",
    "    \n",
    "**Note:** Throughout the lab, we will reuse the following general cell structure: \n",
    "1. Function/Code, \n",
    "2. Running the function, \n",
    "3. Display/evaluate the results\n",
    "\n",
    "We will not give a detailed description every time and we will let you do more and more on your own as we progress.\n",
    "</div>"
   ]
  },
  {
   "cell_type": "code",
   "execution_count": null,
   "metadata": {
    "deletable": false,
    "editable": false,
    "kernel": "SoS",
    "nbgrader": {
     "cell_type": "code",
     "checksum": "34004bf96e2629b9a941c5f8fca22413",
     "grade": false,
     "grade_id": "cell-05d28157642baacf",
     "locked": true,
     "schema_version": 3,
     "solution": false,
     "task": false
    }
   },
   "outputs": [],
   "source": [
    "%use sos\n",
    "# Display the binary image with a title and numerated pixel grid\n",
    "plt.close('all')\n",
    "disp_square = viewer(np.array(strel_square), title=f'Square structuring element of size {np.shape(strel_square)}', \n",
    "                     clip_range = [0, 1], axis=True, pixel_grid=True, cmap='viridis')"
   ]
  },
  {
   "cell_type": "markdown",
   "metadata": {
    "deletable": false,
    "editable": false,
    "kernel": "Python3",
    "nbgrader": {
     "cell_type": "markdown",
     "checksum": "f2fd0e15b23c710283256469db209eb0",
     "grade": false,
     "grade_id": "cell-7a2c833d72c711c2",
     "locked": true,
     "schema_version": 3,
     "solution": false,
     "task": false
    }
   },
   "source": [
    "When working in Python, we can use the [OpenCV](https://docs.opencv.org/master/) library to generate structuring elements and perform image processing tasks.\n",
    "\n",
    "To use OpenCV (called `cv2` in Python) we usually import it as `cv`, which has already been done in the first cell of the notebook. When using the morphological filters provided by OpenCV, the structuring element which should be passed to the functions is a `numpy` array. We can either define it ourselves using NumPy, for example, a $9 \\times 9$ square as in the cell below"
   ]
  },
  {
   "cell_type": "code",
   "execution_count": null,
   "metadata": {
    "deletable": false,
    "editable": false,
    "kernel": "SoS",
    "nbgrader": {
     "cell_type": "code",
     "checksum": "e264ee8bf3d65568b595ae23577e12ce",
     "grade": false,
     "grade_id": "cell-47c8517ad563f234",
     "locked": true,
     "schema_version": 3,
     "solution": false,
     "task": false
    }
   },
   "outputs": [],
   "source": [
    "%use sos\n",
    "strel_square_custom = np.ones((9,9))"
   ]
  },
  {
   "cell_type": "markdown",
   "metadata": {
    "deletable": false,
    "editable": false,
    "kernel": "Python3",
    "nbgrader": {
     "cell_type": "markdown",
     "checksum": "ba1c2889b0fbeae48f3d58aae845b5c4",
     "grade": false,
     "grade_id": "cell-ccfb56d022329d2c",
     "locked": true,
     "schema_version": 3,
     "solution": false,
     "task": false
    }
   },
   "source": [
    "or we can use [`cv.getStructuringElement()`](https://docs.opencv.org/trunk/d4/d86/group__imgproc__filter.html#gac342a1bb6eabf6f55c803b09268e36dc), which can generate rectangles ([`cv.MORPH_RECT`](https://docs.opencv.org/master/d4/d86/group__imgproc__filter.html#gac2db39b56866583a95a5680313c314ad)), ellipses ([`cv.MORPH_ELLIPSE`](https://docs.opencv.org/master/d4/d86/group__imgproc__filter.html#gac2db39b56866583a95a5680313c314ad)) and crosses ([`cv.MORPH_CROSS`](https://docs.opencv.org/master/d4/d86/group__imgproc__filter.html#gac2db39b56866583a95a5680313c314ad)). The first argument is the type of the structuring element and the second is the size. Run the next cell to get the same $9 \\times 9$ square we defined above."
   ]
  },
  {
   "cell_type": "code",
   "execution_count": null,
   "metadata": {
    "deletable": false,
    "editable": false,
    "kernel": "SoS",
    "nbgrader": {
     "cell_type": "code",
     "checksum": "4ba8d8c97bae128b2a21f242734c77d3",
     "grade": false,
     "grade_id": "cell-0baa0e8fa64ea55b",
     "locked": true,
     "schema_version": 3,
     "solution": false,
     "task": false
    }
   },
   "outputs": [],
   "source": [
    "%use sos\n",
    "strel_square_cv = cv.getStructuringElement(cv.MORPH_RECT, (9,9))"
   ]
  },
  {
   "cell_type": "markdown",
   "metadata": {
    "deletable": false,
    "editable": false,
    "kernel": "Python3",
    "nbgrader": {
     "cell_type": "markdown",
     "checksum": "c37d662787b881cd7e3174fe0d6de3ee",
     "grade": false,
     "grade_id": "cell-add8d70af233fb3d",
     "locked": true,
     "schema_version": 3,
     "solution": false,
     "task": false
    }
   },
   "source": [
    "We can compare the three structuring elements (JS, NumPy, OpenCV). We can do this either visually by providing the `IPLabViewer` class with a list of images and titles, as in the cell below\n",
    "\n",
    "<div class = 'alert alert-warning'>\n",
    "\n",
    "**Note:** If you changed the size of the JS structuring element, change it back to $9$ for the following comparisons. \n",
    "</div>"
   ]
  },
  {
   "cell_type": "code",
   "execution_count": null,
   "metadata": {
    "deletable": false,
    "editable": false,
    "kernel": "SoS",
    "nbgrader": {
     "cell_type": "code",
     "checksum": "fa5d5bf48d643c24747df79dded1df89",
     "grade": false,
     "grade_id": "cell-04441f42af591822",
     "locked": true,
     "schema_version": 3,
     "solution": false,
     "task": false
    }
   },
   "outputs": [],
   "source": [
    "%use sos\n",
    "\n",
    "# Close existing figures to release memory\n",
    "plt.close('all')\n",
    "# Display the three structuring elemnts side by side to compare them\n",
    "disp_square = viewer([np.array(strel_square), strel_square_custom, strel_square_cv], title=['JavaScript', 'Custom numpy array', 'OpenCV'], \n",
    "                     subplots=(1,3), clip_range = [0, 1], cmap='viridis', axis=True, pixel_grid=True)"
   ]
  },
  {
   "cell_type": "markdown",
   "metadata": {
    "deletable": false,
    "editable": false,
    "kernel": "Python3",
    "nbgrader": {
     "cell_type": "markdown",
     "checksum": "62f8800a703a374c248906e50d31fccd",
     "grade": false,
     "grade_id": "cell-5f705271946eff0c",
     "locked": true,
     "schema_version": 3,
     "solution": false,
     "task": false
    }
   },
   "source": [
    "or numerically, to make sure all the implementations provide the exact same result by using the `assert` statement, as in the cell below.\n",
    "\n",
    "<div class=\"alert alert-info\">\n",
    "\n",
    "**Note:** [`np.count_nonzero(arr)`](https://numpy.org/doc/stable/reference/generated/numpy.count_nonzero.html) returns the number of non-zero elements in `arr`.\n",
    "</div>"
   ]
  },
  {
   "cell_type": "code",
   "execution_count": null,
   "metadata": {
    "deletable": false,
    "editable": false,
    "kernel": "SoS",
    "nbgrader": {
     "cell_type": "code",
     "checksum": "6242fe285e37e11f408d092b8730acb1",
     "grade": false,
     "grade_id": "cell-fe90e675d4380fbe",
     "locked": true,
     "schema_version": 3,
     "solution": false,
     "task": false
    }
   },
   "outputs": [],
   "source": [
    "%use sos\n",
    "# Compare the JS version to the custom numpy array by substracting one from the other and then counting the number of non-zero pixels, which should be 0\n",
    "assert np.count_nonzero(strel_square - strel_square_custom) == 0, 'The JS and NumPy version do not agree.'\n",
    "# Compare the JS version to the OpenCV version in the same way\n",
    "assert np.count_nonzero(strel_square - strel_square_cv) == 0, 'The JS and OpenCV version do not agree.'\n",
    "print('Indeed, the three structuring elements are exactly the same.')"
   ]
  },
  {
   "cell_type": "markdown",
   "metadata": {
    "deletable": false,
    "editable": false,
    "kernel": "Python3",
    "nbgrader": {
     "cell_type": "markdown",
     "checksum": "1445884a6e2e43e85ba12ad006d32c78",
     "grade": false,
     "grade_id": "cell-00399f22f2685744",
     "locked": true,
     "schema_version": 3,
     "solution": false,
     "task": false
    }
   },
   "source": [
    "## <a class=\"anchor\"></a> 1.B. Cross structuring element\n",
    "[Back to index](#-Index)\n",
    "\n",
    "Now it's your turn!\n",
    "\n",
    "In the cell below, **for 1 point**, complete the code in JavaScript to implement the `cross(n)` function.\n",
    "\n",
    "<div class=\" alert alert-info\">\n",
    "    \n",
    "<b>Hint:</b> In JS all variables are in floating point precision. If you need to, you can use the function `parseInt(x)` to get the largest integer smaller than a given $x\\in\\mathbb{R}$.\n",
    "</div>"
   ]
  },
  {
   "cell_type": "code",
   "execution_count": null,
   "metadata": {
    "deletable": false,
    "kernel": "JavaScript",
    "nbgrader": {
     "cell_type": "code",
     "checksum": "6903ae2b7972bc01a2bebcef33297da0",
     "grade": false,
     "grade_id": "cell-3ab036d9bd373d3c",
     "locked": false,
     "schema_version": 3,
     "solution": true,
     "task": false
    }
   },
   "outputs": [],
   "source": [
    "%use javascript\n",
    "\n",
    "// function that takes as input an integer n and returns the cross structuring element of size (n x n)\n",
    "function cross(n){ \n",
    "    // declare output image\n",
    "    var output = new Image(n, n);\n",
    "    \n",
    "    // YOUR CODE HERE\n",
    "    \n",
    "    return output;\n",
    "}"
   ]
  },
  {
   "cell_type": "code",
   "execution_count": null,
   "metadata": {
    "kernel": "JavaScript"
   },
   "outputs": [],
   "source": [
    "%use javascript\n",
    "%put strel_cross\n",
    "// runs the function you implemented above and converts the Image object to an array\n",
    "// feel free to change the size passed to this function and observe the result\n",
    "var strel_cross = cross(9).toArray();"
   ]
  },
  {
   "cell_type": "code",
   "execution_count": null,
   "metadata": {
    "deletable": false,
    "editable": false,
    "kernel": "SoS",
    "nbgrader": {
     "cell_type": "code",
     "checksum": "5eae7cef74a96e4400c67ef4ada20efa",
     "grade": false,
     "grade_id": "cell-c777a0135a5581c4",
     "locked": true,
     "schema_version": 3,
     "solution": false,
     "task": false
    }
   },
   "outputs": [],
   "source": [
    "%use sos\n",
    "# Display the binary image with a title and numbered pixel grid\n",
    "plt.close('all')\n",
    "disp_cross = viewer(np.array(strel_cross), title=f'Cross structuring element of size {np.shape(strel_cross)}', \n",
    "                    axis=True, pixel_grid=True, cmap='viridis', clip_range = [0, 1])"
   ]
  },
  {
   "cell_type": "markdown",
   "metadata": {
    "deletable": false,
    "editable": false,
    "kernel": "Python3",
    "nbgrader": {
     "cell_type": "markdown",
     "checksum": "c0695174ca732c719a8e5b291dd05f73",
     "grade": false,
     "grade_id": "cell-a4a4f34fcfcf70a8",
     "locked": true,
     "schema_version": 3,
     "solution": false,
     "task": false
    }
   },
   "source": [
    "In Python you can use OpenCV to generate a cross structuring element by passing `cv.MORPH_CROSS` to `getStructuringElement`. Run the cell below to create and display the OpenCV cross. You can also change the size of the structuring element and see the result. "
   ]
  },
  {
   "cell_type": "code",
   "execution_count": null,
   "metadata": {
    "kernel": "SoS"
   },
   "outputs": [],
   "source": [
    "%use sos\n",
    "# Generate the cross structuring element with OpenCV - feel free to play with the size passed to this function\n",
    "strel_cross_cv = cv.getStructuringElement(cv.MORPH_CROSS, (9, 9))\n",
    "# Display it\n",
    "plt.close('all')\n",
    "disp_cross_cv = viewer(strel_cross_cv, title=f'Python cross of size {np.shape(strel_cross_cv)}', \n",
    "                       axis=True, pixel_grid=True, cmap='viridis', clip_range = [0, 1])"
   ]
  },
  {
   "cell_type": "markdown",
   "metadata": {
    "deletable": false,
    "editable": false,
    "kernel": "SoS",
    "nbgrader": {
     "cell_type": "markdown",
     "checksum": "a3778dba5f180a901f94d7d73308fc26",
     "grade": false,
     "grade_id": "cell-616ec20bf908e4da",
     "locked": true,
     "schema_version": 3,
     "solution": false,
     "task": false
    }
   },
   "source": [
    "The following cell tests if the Python and JavaScript structuring elements are identical. To make sure you pass the test, verify that both are of the same size!\n",
    "\n",
    "<div class = 'alert alert-danger'>\n",
    "\n",
    "**Note:** Throughout this section, we will give you the freedom to choose the size of the JS and the OpenCV structuring element. However, if you do change it, make sure to change it back to the original for the following comparisons. This is true for every exercise. When you hand in your notebook, **all comparison cells should run without any error.**\n",
    "</div>"
   ]
  },
  {
   "cell_type": "code",
   "execution_count": null,
   "metadata": {
    "deletable": false,
    "editable": false,
    "kernel": "JavaScript",
    "nbgrader": {
     "cell_type": "code",
     "checksum": "4b638dd9a54bb1e685b5d1e4075a4015",
     "grade": true,
     "grade_id": "cell-86c5622466d41cc9",
     "locked": true,
     "points": 1,
     "schema_version": 3,
     "solution": false,
     "task": false
    }
   },
   "outputs": [],
   "source": [
    "%use javascript\n",
    "%get strel_cross_cv\n",
    "if(Image.arrayCompare(Image.shape(strel_cross), Image.shape(strel_cross_cv)) == false){\n",
    "    throw new Error('The size of the two structuring elements is not the same:\\nstrel_cross = (' + Image.shape(strel_cross) + '), strel_cross_cv = (' + Image.shape(strel_cross_cv) + ')');\n",
    "}\n",
    "if(Image.arrayCompare(strel_cross, strel_cross_cv) == false){\n",
    "    throw new Error('The two structuring elements are not the same.');\n",
    "}\n",
    "// print a victory message\n",
    "console.log(\"Yes! The crosses are identical.\");"
   ]
  },
  {
   "cell_type": "markdown",
   "metadata": {
    "deletable": false,
    "editable": false,
    "kernel": "Python3",
    "nbgrader": {
     "cell_type": "markdown",
     "checksum": "06d8d53aa2106a3ecd8aad12a221d860",
     "grade": false,
     "grade_id": "cell-89b3c91f239dcff5",
     "locked": true,
     "schema_version": 3,
     "solution": false,
     "task": false
    }
   },
   "source": [
    "## <a class=\"anchor\"></a> 1.C. Disc structuring element \n",
    "[Back to index](#-Index)\n",
    "\n",
    "In the cell below, **for 1 point**, complete the code in JavaScript to implement the `disc(n)` function."
   ]
  },
  {
   "cell_type": "code",
   "execution_count": null,
   "metadata": {
    "deletable": false,
    "kernel": "JavaScript",
    "nbgrader": {
     "cell_type": "code",
     "checksum": "c776fd216d04fede719d30b9e8eebd10",
     "grade": false,
     "grade_id": "cell-87ff6b8a831a4ccf",
     "locked": false,
     "schema_version": 3,
     "solution": true,
     "task": false
    }
   },
   "outputs": [],
   "source": [
    "%use javascript\n",
    "\n",
    "// function that takes as input an integer n and returns the disc structuring element of size (n x n)\n",
    "function disc(n){ \n",
    "    // Ddclare output image\n",
    "    var output = new Image(n, n);\n",
    "    \n",
    "    // YOUR CODE HERE\n",
    "    \n",
    "    return output;\n",
    "}"
   ]
  },
  {
   "cell_type": "code",
   "execution_count": null,
   "metadata": {
    "kernel": "JavaScript"
   },
   "outputs": [],
   "source": [
    "%use javascript\n",
    "%put strel_disc\n",
    "// runs the function you implemented above and converts the Image object to an array\n",
    "// feel free to change the size passed to this function and observe the result\n",
    "var strel_disc = disc(9).toArray();"
   ]
  },
  {
   "cell_type": "code",
   "execution_count": null,
   "metadata": {
    "deletable": false,
    "editable": false,
    "kernel": "SoS",
    "nbgrader": {
     "cell_type": "code",
     "checksum": "04b41acaae7efa30a5e70e70978b43a4",
     "grade": false,
     "grade_id": "cell-a8a8971a53e8d6d9",
     "locked": true,
     "schema_version": 3,
     "solution": false,
     "task": false
    }
   },
   "outputs": [],
   "source": [
    "%use sos\n",
    "# Display the binary image with a title and numerated pixel grid\n",
    "plt.close('all')\n",
    "disp_disc = viewer(np.array(strel_disc), title=f'Disc structuring element of size {np.shape(strel_disc)}', \n",
    "                   axis=True, pixel_grid=True, cmap='viridis', clip_range = [0, 1])"
   ]
  },
  {
   "cell_type": "markdown",
   "metadata": {
    "deletable": false,
    "editable": false,
    "kernel": "Python3",
    "nbgrader": {
     "cell_type": "markdown",
     "checksum": "dda6acefecd16c03faa5b34860e4f3f1",
     "grade": false,
     "grade_id": "cell-d691a68cc365a595",
     "locked": true,
     "schema_version": 3,
     "solution": false,
     "task": false
    }
   },
   "source": [
    "Unfortunately, OpenCV doesn't provide a disc structuring element. However, it provides elliptical structuring elements by passing `cv.MORPH_ELLIPSE` to `getStructuringElement`. Usually, an ellipse which has the same height and width should be just a normal circle/disc, so lets see what happens if we generate such a disc using OpenCVs ellipse generator. Run the cell below to generate OpenCVs interpretation of a disc."
   ]
  },
  {
   "cell_type": "code",
   "execution_count": null,
   "metadata": {
    "deletable": false,
    "editable": false,
    "kernel": "SoS",
    "nbgrader": {
     "cell_type": "code",
     "checksum": "a22c2f941347ab0ff5ff8830fb82a68a",
     "grade": false,
     "grade_id": "cell-e62ac485376f154b",
     "locked": true,
     "schema_version": 3,
     "solution": false,
     "task": false
    }
   },
   "outputs": [],
   "source": [
    "%use sos\n",
    "# Generate an ellipse with height = width\n",
    "strel_ellipse = cv.getStructuringElement(cv.MORPH_ELLIPSE, (9,9))\n",
    "# Display the result\n",
    "plt.close('all')\n",
    "disp_ellipse = viewer(strel_ellipse, title='OpenCVs definition of a disc', pixel_grid=True, axis=True, cmap='viridis')"
   ]
  },
  {
   "cell_type": "markdown",
   "metadata": {
    "deletable": false,
    "editable": false,
    "kernel": "Python3",
    "nbgrader": {
     "cell_type": "markdown",
     "checksum": "f00285e34ad12895442ac0434ba5709c",
     "grade": false,
     "grade_id": "cell-bc1c5938016de761",
     "locked": true,
     "schema_version": 3,
     "solution": false,
     "task": false
    }
   },
   "source": [
    "<a name=\"disc_function\"></a>\n",
    "Don't worry, you didn't do anything wrong. As you can hopefully see, this isn't a circular disc, but still some kind of ellipse, even though the height and width are set to the same value. Either this is a bug in the implementation of `getStructuringElement()` or they simply have another interpretation of a circle (which is wrong). Either way this means we need to create our own function in Python to generate a disc structuring element. Luckily for you, we have already done this and will provide it to you in the following cell. \n",
    "<div class=\" alert alert-info\">\n",
    "    \n",
    "**Note:** Because it is very inefficient to use for loops in Python (and you should only do it if absolutely necessary!), this task was implemented using a [`lambda` function](https://docs.python.org/3/tutorial/controlflow.html#lambda-expressions) and the NumPy method [`np.fromfunction`](https://numpy.org/doc/stable/reference/generated/numpy.fromfunction.html).\n",
    "</div>\n",
    "\n",
    "<div class=\" alert alert-success\">\n",
    "    \n",
    "**Note:** For the scope of this lab you do not need to understand the `lambda` function. However, we do recommend you to go through the documentation and to completely understand the following cell $-$ it will improve your programming skills.\n",
    "</div>"
   ]
  },
  {
   "cell_type": "code",
   "execution_count": null,
   "metadata": {
    "deletable": false,
    "editable": false,
    "kernel": "SoS",
    "nbgrader": {
     "cell_type": "code",
     "checksum": "4ed5debdf70e720c4c762acac4d354b1",
     "grade": false,
     "grade_id": "cell-79c5d84be5e2bb87",
     "locked": true,
     "schema_version": 3,
     "solution": false,
     "task": false
    }
   },
   "outputs": [],
   "source": [
    "%use sos\n",
    "# Function that generates a disc structuring element in python\n",
    "def disc(n):\n",
    "    # Define the function of a circle as a lambda function\n",
    "    circle_func = lambda i, j: ((i - n//2)**2 + (j - n//2)**2) <= (n//2)**2\n",
    "    # Set all elements of the array that are inside the circle of diamater n to 1 - np.uint8 to match the type used by OpenCV for structuring elements\n",
    "    output = np.fromfunction(circle_func, shape=(n,n)).astype(np.uint8)\n",
    "    # Return the structuring element\n",
    "    return output"
   ]
  },
  {
   "cell_type": "code",
   "execution_count": null,
   "metadata": {
    "kernel": "SoS"
   },
   "outputs": [],
   "source": [
    "%use sos\n",
    "# Here we generate a disc structuring element with python by calling the function implemented above\n",
    "strel_disc_python = disc(9)\n",
    "# And display it\n",
    "plt.close('all')\n",
    "disp_disc = viewer(strel_disc_python, title=f'Python disc of size {np.shape(strel_disc_python)}', \n",
    "                   pixel_grid=True, axis=True, cmap='viridis')"
   ]
  },
  {
   "cell_type": "markdown",
   "metadata": {
    "deletable": false,
    "editable": false,
    "kernel": "Python3",
    "nbgrader": {
     "cell_type": "markdown",
     "checksum": "9d63ab50a48e223cbfc5e36c21c3778e",
     "grade": false,
     "grade_id": "cell-206f274c48dfa490",
     "locked": true,
     "schema_version": 3,
     "solution": false,
     "task": false
    }
   },
   "source": [
    "Now that we have a working function to compare your implementation to, lets do it! Run the cell below to test your implementation in JS."
   ]
  },
  {
   "cell_type": "code",
   "execution_count": null,
   "metadata": {
    "deletable": false,
    "editable": false,
    "kernel": "JavaScript",
    "nbgrader": {
     "cell_type": "code",
     "checksum": "8d60d36bcc6802f8bb5c6b8f1e8a527c",
     "grade": true,
     "grade_id": "cell-600d6e08251e0b8d",
     "locked": true,
     "points": 1,
     "schema_version": 3,
     "solution": false,
     "task": false
    }
   },
   "outputs": [],
   "source": [
    "%use javascript\n",
    "%get strel_disc_python\n",
    "// this cell tests if the two tructuring elements (JavaScript and Python) are identical, which they should be\n",
    "if(Image.arrayCompare(Image.shape(strel_disc), Image.shape(strel_disc_python)) == false){\n",
    "    throw new Error('The size of the two structuring elements is not the same:\\nstrel_cross = (' + Image.shape(strel_disc) + '), strel_cross_cv = (' + Image.shape(strel_disc_python) + ')');\n",
    "}\n",
    "if(Image.arrayCompare(strel_disc, strel_disc_python) == false){\n",
    "    throw new Error('The two structuring elements are not the same.');\n",
    "}\n",
    "// print a victory message\n",
    "console.log(\"Well done! Your disc is better than that of OpenCV.\");"
   ]
  },
  {
   "cell_type": "markdown",
   "metadata": {
    "deletable": false,
    "editable": false,
    "kernel": "Python3",
    "nbgrader": {
     "cell_type": "markdown",
     "checksum": "6afb193d2ad096e171e5d12c0949b68e",
     "grade": false,
     "grade_id": "cell-bbcccc47a0e46a80",
     "locked": true,
     "schema_version": 3,
     "solution": false,
     "task": false
    }
   },
   "source": [
    "# <a class=\"anchor\"></a> 2. Debugging (1 point)\n",
    "[Back to index](#-Index)\n",
    "\n",
    "The provided function `erodeBug()`, which is given in the next cell, is supposed to perform an erosion operation on an image with a square structuring element of size $3 \\times 3$. While the JavaScript syntax is correct, there are two bugs in the implementation of `erodeBug()`. Inspect the code below, fix the two bugs, and explore the cells below to run the function on the images `plate` and `butterfly` to see the result.\n",
    "<div class=\" alert alert-info\">\n",
    "    \n",
    "<b>Remember:</b>\n",
    "- `img.nx` and `img.ny` can be used to get the dimensions of `img`,\n",
    "- `img.getNbh(x, y, h, w)` returns the neighbourhood of size $(h\\times w)$ around the location $(x,y)$ of `img`,\n",
    "- `Math.min(a,b)` calculates the minimum between $a$ and $b$.\n",
    "</div>"
   ]
  },
  {
   "cell_type": "code",
   "execution_count": null,
   "metadata": {
    "kernel": "JavaScript"
   },
   "outputs": [],
   "source": [
    "%use javascript\n",
    "\n",
    "// function that erodes a structure with a (3 x 3) square. Original contains two bugs.\n",
    "function erodeBug(img){ \n",
    "    // the structuring element b should be a 3x3 square\n",
    "    var b = square(3);\n",
    "    // loop through every pixel of the image\n",
    "    for(var x = 0; x < img.ny; x++){  \n",
    "        for(var y = 0; y < img.ny; y++){ \n",
    "            // extract the 3x3 neighbourhood around pixel (x,y)\n",
    "            var neigh = img.getNbh(x, y, 3, 3);\n",
    "            // initializing the minimum value to the largest number possible in JS\n",
    "            var valmin = Number.MAX_VALUE;\n",
    "            // loop through every pixel of the neighbourhood\n",
    "            for(var k = 0; k < 3; k++){  \n",
    "                for(var l = 0; l < 3; l++){\n",
    "                    // check if the structuring element is either 'true' or '1' at the pixel location\n",
    "                    if (b.getPixel(k, l) == true || b.getPixel(k, l) == 1) {\n",
    "                        // calculate new minimum value\n",
    "                        valmin = Math.min(neigh.getPixel(k, l), valmin);\n",
    "                    }\n",
    "                }\n",
    "            }\n",
    "            // set the pixel at location (x,y) to the calculated minimum value\n",
    "            img.setPixel(x, y, valmin);\n",
    "        }\n",
    "    }    \n",
    "    \n",
    "    return img;\n",
    "}"
   ]
  },
  {
   "cell_type": "markdown",
   "metadata": {
    "deletable": false,
    "editable": false,
    "kernel": "JavaScript",
    "nbgrader": {
     "cell_type": "markdown",
     "checksum": "0bcca0f58c885ae4c1fce29b4af841b0",
     "grade": false,
     "grade_id": "cell-d24e842b4783fa8d",
     "locked": true,
     "schema_version": 3,
     "solution": false,
     "task": false
    }
   },
   "source": [
    "Run the next cell to apply the function `erodeBug()` to both images and put the result in Python."
   ]
  },
  {
   "cell_type": "code",
   "execution_count": null,
   "metadata": {
    "deletable": false,
    "editable": false,
    "kernel": "JavaScript",
    "nbgrader": {
     "cell_type": "code",
     "checksum": "2a14bdc7adf3d129fe5e8792ff95f0a5",
     "grade": false,
     "grade_id": "cell-5a2d79a6a37c0f6a",
     "locked": true,
     "schema_version": 3,
     "solution": false,
     "task": false
    }
   },
   "outputs": [],
   "source": [
    "%use javascript\n",
    "%get plate\n",
    "%get butterfly\n",
    "%put eroded_plate\n",
    "%put eroded_butterfly\n",
    "\n",
    "// convert the images to Image objects\n",
    "var plate_img = new Image(plate);\n",
    "var butterfly_img = new Image(butterfly);\n",
    "// run erodeBug for the plate image\n",
    "var eroded_plate = erodeBug(plate_img).toArray()\n",
    "// run erodeBug for the butterfly image\n",
    "var eroded_butterfly = erodeBug(butterfly_img).toArray()"
   ]
  },
  {
   "cell_type": "markdown",
   "metadata": {
    "deletable": false,
    "editable": false,
    "kernel": "JavaScript",
    "nbgrader": {
     "cell_type": "markdown",
     "checksum": "9c8184c98fe01a5fd0cd460e4b4c1349",
     "grade": false,
     "grade_id": "cell-3a5555e88f05dfbf",
     "locked": true,
     "schema_version": 3,
     "solution": false,
     "task": false
    }
   },
   "source": [
    "Run the next cell to see the result of your function erodeBug, as well as the difference between the original and your result."
   ]
  },
  {
   "cell_type": "code",
   "execution_count": null,
   "metadata": {
    "deletable": false,
    "editable": false,
    "kernel": "SoS",
    "nbgrader": {
     "cell_type": "code",
     "checksum": "ab32ab7969dd36dc3b1fb18715627365",
     "grade": false,
     "grade_id": "cell-2e0e470ef4e82db4",
     "locked": true,
     "schema_version": 3,
     "solution": false,
     "task": false
    }
   },
   "outputs": [],
   "source": [
    "%use sos\n",
    "# Defining the images and their titles\n",
    "images = [plate, np.array(eroded_plate), plate-np.array(eroded_plate),  butterfly, np.array(eroded_butterfly),butterfly-np.array(eroded_butterfly)]\n",
    "titles = ['Original plate', 'Eroded plate', 'Difference between the two', 'Original butterfly', 'Eroded butterfly', 'Difference between the two']\n",
    "# Close all previous figures to release memory\n",
    "plt.close('all')\n",
    "# Display the images with their titles (you can pass lists of images and titles as arguments)\n",
    "disp_erodeBug = viewer(images, title=titles, subplots=(2,3))"
   ]
  },
  {
   "cell_type": "markdown",
   "metadata": {
    "deletable": false,
    "editable": false,
    "kernel": "Python3",
    "nbgrader": {
     "cell_type": "markdown",
     "checksum": "1b05937533119a883abbd113265ed65f",
     "grade": false,
     "grade_id": "cell-cd756a37684f9fb6",
     "locked": true,
     "schema_version": 3,
     "solution": false,
     "task": false
    }
   },
   "source": [
    "If you're unsure about the result, it's always a good idea to test a function on an input to which we know the output. For example, we know that if we erode a $3 \\times 3$ square surrounded by zeros with a $3 \\times 3$ square, the result should be a black image with one single white pixel in the center of the original square, right? So lets try it... Run the cells below to create the test image and apply the function `erodeBug` on it."
   ]
  },
  {
   "cell_type": "code",
   "execution_count": null,
   "metadata": {
    "deletable": false,
    "editable": false,
    "kernel": "SoS",
    "nbgrader": {
     "cell_type": "code",
     "checksum": "6704a00a7052affd107de75066fbe244",
     "grade": false,
     "grade_id": "cell-bd43e04a59f028ff",
     "locked": true,
     "schema_version": 3,
     "solution": false,
     "task": false
    }
   },
   "outputs": [],
   "source": [
    "%use sos\n",
    "%put square_image --to javascript\n",
    "# To define the image with a square in the middle, we initialize a 9x9 image of zeros\n",
    "square_image = np.zeros((5, 11))\n",
    "# and insert the 3x3 quare of ones towards the right side\n",
    "square_image[1:4, 7:10] = 1\n",
    "# Let's see how it looks\n",
    "img_square_image = viewer(square_image, title='3x3 square sorrounded by zeros', pixel_grid=True, axis=True, subplots=(1,1))"
   ]
  },
  {
   "cell_type": "code",
   "execution_count": null,
   "metadata": {
    "deletable": false,
    "editable": false,
    "kernel": "JavaScript",
    "nbgrader": {
     "cell_type": "code",
     "checksum": "0f64e536a03f0a555d8c68ca5d9ab2ee",
     "grade": true,
     "grade_id": "cell-0add2483a0f49514",
     "locked": true,
     "points": 1,
     "schema_version": 3,
     "solution": false,
     "task": false
    }
   },
   "outputs": [],
   "source": [
    "%use javascript\n",
    "%put eroded_square\n",
    "// run the function erodeBug on the square image\n",
    "var eroded_square = erodeBug(new Image(square_image)).toArray();"
   ]
  },
  {
   "cell_type": "markdown",
   "metadata": {
    "deletable": false,
    "editable": false,
    "kernel": "JavaScript",
    "nbgrader": {
     "cell_type": "markdown",
     "checksum": "e6e55209905156782f31b9de10f44d31",
     "grade": false,
     "grade_id": "cell-69408c2a32c1e24f",
     "locked": true,
     "schema_version": 3,
     "solution": false,
     "task": false
    }
   },
   "source": [
    "As mentioned above, the result should be a single white pixel located in the center of the white square, in an otherwise black image. If this isn't the case, there might still be a bug in the `erodeBug` function above."
   ]
  },
  {
   "cell_type": "code",
   "execution_count": null,
   "metadata": {
    "deletable": false,
    "editable": false,
    "kernel": "SoS",
    "nbgrader": {
     "cell_type": "code",
     "checksum": "74f6b3baa023e5f986e5f20761451256",
     "grade": false,
     "grade_id": "cell-3ff0a139e1867c20",
     "locked": true,
     "schema_version": 3,
     "solution": false,
     "task": false
    }
   },
   "outputs": [],
   "source": [
    "%use sos\n",
    "# Display the result of the eroded square\n",
    "plt.close('all')\n",
    "img_eroded_square = viewer(np.array(eroded_square), title='erodeBug() on square image', pixel_grid=True, axis=True, clip_range = [0, 1], subplots=(1,1))"
   ]
  },
  {
   "cell_type": "markdown",
   "metadata": {
    "deletable": false,
    "editable": false,
    "kernel": "Python3",
    "nbgrader": {
     "cell_type": "markdown",
     "checksum": "c1e39b1b2f9e21a01fffd53b3412557e",
     "grade": false,
     "grade_id": "cell-ea95ea021ba95165",
     "locked": true,
     "schema_version": 3,
     "solution": false,
     "task": false
    }
   },
   "source": [
    "# <a class=\"anchor\"></a> 3. Morphological filters (9 points)\n",
    "[Back to index](#-Index)\n",
    "\n",
    "In this part you are asked to implement the morphological filters given in the table below. Click on their names for a quick link to where you have to implement them, and to [Back to table](#-3.-Morphological-filters-(9-points)) to come back here.\n",
    "\n",
    "| $\\text{Filter}$ | $\\text{Function}$ | $\\text{Definition / Mathematical notation}$   |\n",
    "|------------|---------------|----------------------------------------------------------|\n",
    "| [Erosion](#-3.A.-Erosion)              (3.A) | `erosion()`   | $f \\ominus b$                                            |\n",
    "| [Dilation](#-3.B.-Dilation)            (3.B) | `dilation()`  | $f \\oplus b$                                             |\n",
    "| [Open](#-3.D.-Opening)                 (3.D) | `open()`      | $f \\circ b = (f \\ominus b) \\oplus b$                     |\n",
    "| [Close](#-3.E.-Closing)                (3.E) | `close()`     | $f \\bullet b = (f \\oplus b) \\ominus b$                   |\n",
    "| [Gradient](#-3.F.-Gradient-filter)     (3.F) | `gradient()`  | $\\bigtriangledown (f, b) = (f \\oplus b) - (f \\ominus b)$ |\n",
    "| [Top-hat](#-3.G.-Top-hat-filter)       (3.G) | `topHat()`    | $\\mathrm{TH}(f, b) = f - (f \\circ b)$                    |\n",
    "| [Bottom-hat](#-3.H.-Bottom-hat-filter) (3.H) | `bottomHat()` | $\\mathrm{BH}(f, b) = (f \\bullet b) - f$                  |\n",
    "| [Median](#-3.C.-Median-filter)         (3.C) | `median()`    | $\\mathrm{MED}(f, b)$                                     |\n",
    "\n",
    "Each function is worth **1 point**. You will start by implementing the most basic morphological filters: `erosion()`, `dilation()`, and `median()` in JavaScript and compare them to the OpenCV equivalents. The rest will be implemented in Python. The results of your implementation will be shown on the images `plate` and `butterfly`."
   ]
  },
  {
   "cell_type": "markdown",
   "metadata": {
    "deletable": false,
    "editable": false,
    "kernel": "JavaScript",
    "nbgrader": {
     "cell_type": "markdown",
     "checksum": "9eb24ac0e33139c428104c4636c73971",
     "grade": false,
     "grade_id": "cell-82e32bd36e0761af",
     "locked": true,
     "schema_version": 3,
     "solution": false,
     "task": false
    }
   },
   "source": [
    "## <a class=\"anchor\"></a> 3.A. Erosion\n",
    "[Back to table](#-3.-Morphological-filters-(9-points)), [Back to index](#-Index)\n",
    "\n",
    "\n",
    "\n",
    "In the cell below, **for 1 point**, complete the code in JavaScript to implement the `erosion()`.\n",
    "\n",
    "Remember that in the course, given an image $f$ with support $\\Omega_f$ and a structuring element $b$ with support $\\Omega_b$, we define erosion as\n",
    "\n",
    "$$\n",
    "    (f \\ominus b)[\\mathbf{k}] = \\min_{\\mathbf{q}\\in\\Omega_b}\\left\\lbrace f\\left[\\mathbf{k} + \\mathbf{q}\\right] \\mid (\\mathbf{k}+\\mathbf{q})\\in\\Omega_f \\right\\rbrace\\,.\n",
    "$$\n",
    " \n",
    "As we mentioned before, because all the structuring elements are symmetric and $N$ is odd, you need not worry about reflecting them. See the note in [1. Structuring elements](#-1.-Structuring-elements-(2-points)).\n",
    "\n",
    "<div class=\"alert alert-info\">\n",
    "    \n",
    "**Hint:** You can use `Number.MAX_VALUE` and `Number.MIN_VALUE` to get the highest and lowest numbers possible in JavaScript.\n",
    "\n",
    "</div>"
   ]
  },
  {
   "cell_type": "code",
   "execution_count": null,
   "metadata": {
    "deletable": false,
    "kernel": "JavaScript",
    "nbgrader": {
     "cell_type": "code",
     "checksum": "d76a957d2169dae416b2640930f914c9",
     "grade": false,
     "grade_id": "cell-558deaa9dadede64",
     "locked": false,
     "schema_version": 3,
     "solution": true,
     "task": false
    }
   },
   "outputs": [],
   "source": [
    "%use javascript\n",
    "\n",
    "// function that performs an erosion on the image 'img' using the structuring element 'b'\n",
    "function erosion(img, b){\n",
    "    // declaring the output image\n",
    "    var output = new Image(img.shape());\n",
    "    \n",
    "    // YOUR CODE HERE\n",
    "    \n",
    "    return output;\n",
    "}\n",
    "\n",
    "// here we declare the structuring element\n",
    "var b = square(5); // Feel free to change it to your liking (using the functions implemented in part 1) and observe the results."
   ]
  },
  {
   "cell_type": "markdown",
   "metadata": {
    "deletable": false,
    "editable": false,
    "kernel": "JavaScript",
    "nbgrader": {
     "cell_type": "markdown",
     "checksum": "d1af67edc430a237fc87bcd1ff7c4e65",
     "grade": false,
     "grade_id": "cell-2de840a13e301d35",
     "locked": true,
     "schema_version": 3,
     "solution": false,
     "task": false
    }
   },
   "source": [
    "Run the next cell to apply the `erosion()` function to the images `plate` and `butterfly`."
   ]
  },
  {
   "cell_type": "code",
   "execution_count": null,
   "metadata": {
    "deletable": false,
    "editable": false,
    "kernel": "JavaScript",
    "nbgrader": {
     "cell_type": "code",
     "checksum": "b97ab6e94452cb1c797a7c3309947c8b",
     "grade": true,
     "grade_id": "cell-08b4541789a329de",
     "locked": true,
     "points": 1,
     "schema_version": 3,
     "solution": false,
     "task": false
    }
   },
   "outputs": [],
   "source": [
    "%use javascript\n",
    "%put plate_erosion\n",
    "%put butterfly_erosion\n",
    "\n",
    "// running the operation and converting the images back to python\n",
    "var plate_erosion = erosion(new Image(plate), b).toArray();\n",
    "var butterfly_erosion = erosion(new Image(butterfly), b).toArray();"
   ]
  },
  {
   "cell_type": "markdown",
   "metadata": {
    "deletable": false,
    "editable": false,
    "kernel": "JavaScript",
    "nbgrader": {
     "cell_type": "markdown",
     "checksum": "ee8cede96efdad894b0463cc0c665b34",
     "grade": false,
     "grade_id": "cell-552d7619f2e92c83",
     "locked": true,
     "schema_version": 3,
     "solution": false,
     "task": false
    }
   },
   "source": [
    "Run the next cell to visualize the results."
   ]
  },
  {
   "cell_type": "code",
   "execution_count": null,
   "metadata": {
    "deletable": false,
    "editable": false,
    "kernel": "SoS",
    "nbgrader": {
     "cell_type": "code",
     "checksum": "7d9320be0ca0d357295ef1a70b929137",
     "grade": false,
     "grade_id": "cell-7d4d2567fb9affc0",
     "locked": true,
     "schema_version": 3,
     "solution": false,
     "task": false
    }
   },
   "outputs": [],
   "source": [
    "%use sos\n",
    "# Declare the lists of images and titles for the display\n",
    "images = [plate, butterfly, np.array(plate_erosion), np.array(butterfly_erosion)]\n",
    "image_names = ['plate', 'butterfly', 'plate eroded', 'butterfly eroded']\n",
    "\n",
    "# Display all 4 images\n",
    "plt.close('all')\n",
    "erosion_results = viewer(images, title = image_names, subplots=(2,2))"
   ]
  },
  {
   "cell_type": "markdown",
   "metadata": {
    "deletable": false,
    "editable": false,
    "kernel": "Python3",
    "nbgrader": {
     "cell_type": "markdown",
     "checksum": "c793a812afc826933f3df77c173a91df",
     "grade": false,
     "grade_id": "cell-e7a490f8b2651312",
     "locked": true,
     "schema_version": 3,
     "solution": false,
     "task": false
    }
   },
   "source": [
    "In Python, we can use `cv.erode(img, b, borderType=cv.BORDER_REFLECT)` to erode an image `img` with a structuring element `b` using mirror padding (`cv.BORDER_REFLECT`). Run the next cells to compare your erosion to the OpenCV erosion.\n",
    "\n",
    "<div class=\"alert alert-info\">\n",
    "    \n",
    "**Note:** We use mirror padding here specifically because the `getNbh` method used in JavaScript applies this padding by default. This way we can correctly compare the two results."
   ]
  },
  {
   "cell_type": "code",
   "execution_count": null,
   "metadata": {
    "kernel": "SoS"
   },
   "outputs": [],
   "source": [
    "%use sos\n",
    "# Lets erode the plate image with OpenCV to see if the results are the same\n",
    "# Define the structuring element to use - feel free to change it, but it should be the same used in the JavaScript function for the comparison to work\n",
    "b = cv.getStructuringElement(cv.MORPH_RECT, (5,5))\n",
    "# Erode plate\n",
    "plate_erosion_cv = cv.erode(plate, b, borderType=cv.BORDER_REFLECT)\n",
    "\n",
    "# Compare the two versions visually\n",
    "plt.close('all')\n",
    "erosion_comp = viewer([np.array(plate_erosion), plate_erosion_cv], title=['JS eroded plate', 'OpenCV eroded plate'], subplots=(1,2))"
   ]
  },
  {
   "cell_type": "code",
   "execution_count": null,
   "metadata": {
    "deletable": false,
    "editable": false,
    "kernel": "SoS",
    "nbgrader": {
     "cell_type": "code",
     "checksum": "703fadab4a4810f5a98d36df76ba8643",
     "grade": false,
     "grade_id": "cell-b8193a13d777fc44",
     "locked": true,
     "schema_version": 3,
     "solution": false,
     "task": false
    }
   },
   "outputs": [],
   "source": [
    "%use sos\n",
    "# And numerically\n",
    "assert np.count_nonzero(plate_erosion - plate_erosion_cv) == 0, 'Sorry, but the eroded images are not identical. Make sure you used the same structuring elements for both functions.'\n",
    "print('Nice! Your erosion function works perfectly.')"
   ]
  },
  {
   "cell_type": "markdown",
   "metadata": {
    "deletable": false,
    "editable": false,
    "kernel": "Python3",
    "nbgrader": {
     "cell_type": "markdown",
     "checksum": "629082229f8c97379c633cdc206b0464",
     "grade": false,
     "grade_id": "cell-4476420d03439e33",
     "locked": true,
     "schema_version": 3,
     "solution": false,
     "task": false
    }
   },
   "source": [
    "## <a class=\"anchor\"></a> 3.B. Dilation\n",
    "[Back to table](#-3.-Morphological-filters-(9-points)), [Back to index](#-Index)\n",
    "\n",
    "In the cell below, **for 1 point**, complete the code in JavaScript to implement the `dilation()`.\n",
    "\n",
    "Remember that in the course, given an image $f$ with support $\\Omega_f$ and a structuring element $b$ with support $\\Omega_b$, we define dilation as\n",
    "\n",
    "$$\n",
    "    (f \\oplus b)[\\mathbf{k}] = \\max_{\\mathbf{q}\\in\\Omega_b}\\left\\lbrace f\\left[\\mathbf{k} - \\mathbf{q}\\right] \\mid (\\mathbf{k}-\\mathbf{q})\\in\\Omega_f \\right\\rbrace\\,.\n",
    "$$\n",
    "\n",
    "As we mentioned before, because all the structuring elements are symmetric and $N$ is odd, you need not worry about reflecting them. See the note in [1. Structuring elements](#-1.-Structuring-elements-(2-points))."
   ]
  },
  {
   "cell_type": "code",
   "execution_count": null,
   "metadata": {
    "deletable": false,
    "kernel": "JavaScript",
    "nbgrader": {
     "cell_type": "code",
     "checksum": "e450ab1101a1b4ec1cf09dbf39231ab7",
     "grade": false,
     "grade_id": "cell-9e323415140d5185",
     "locked": false,
     "schema_version": 3,
     "solution": true,
     "task": false
    }
   },
   "outputs": [],
   "source": [
    "%use javascript\n",
    "\n",
    "// function that performs a dilation on the image 'img' using the structuring element 'b'\n",
    "function dilation(img, b) {\n",
    "    // declaring the output image\n",
    "    var output = new Image(img.shape());\n",
    "    \n",
    "    // YOUR CODE HERE\n",
    "    \n",
    "    return output;\n",
    "}\n",
    "\n",
    "// Here we declare the structuring element\n",
    "var b = square(5); // Feel free to change it to your liking (using the functions implemented in part 1) and observe the results."
   ]
  },
  {
   "cell_type": "code",
   "execution_count": null,
   "metadata": {
    "deletable": false,
    "editable": false,
    "kernel": "JavaScript",
    "nbgrader": {
     "cell_type": "code",
     "checksum": "efbb7d432dbfdba020b64962f00b5e89",
     "grade": true,
     "grade_id": "cell-7fd13ac756f82691",
     "locked": true,
     "points": 1,
     "schema_version": 3,
     "solution": false,
     "task": false
    }
   },
   "outputs": [],
   "source": [
    "%use javascript\n",
    "%put plate_dilation\n",
    "%put butterfly_dilation\n",
    "\n",
    "// running the operation and converting the images back to python\n",
    "var plate_dilation = dilation(new Image(plate), b).toArray();\n",
    "var butterfly_dilation = dilation(new Image(butterfly), b).toArray();"
   ]
  },
  {
   "cell_type": "code",
   "execution_count": null,
   "metadata": {
    "deletable": false,
    "editable": false,
    "kernel": "SoS",
    "nbgrader": {
     "cell_type": "code",
     "checksum": "f40c045647d24dad53ae7a42b86e1dba",
     "grade": false,
     "grade_id": "cell-d7547b4bb1c44286",
     "locked": true,
     "schema_version": 3,
     "solution": false,
     "task": false
    }
   },
   "outputs": [],
   "source": [
    "%use sos\n",
    "# Define the image and title lists for the visualization\n",
    "images = [plate, butterfly, np.array(plate_dilation), np.array(butterfly_dilation)]\n",
    "image_names = ['plate', 'butterfly', 'plate dilated', 'butterfly dilated']\n",
    "\n",
    "# Display the results\n",
    "plt.close('all')\n",
    "dilation_results = viewer(images, title = image_names, subplots=(2,2))"
   ]
  },
  {
   "cell_type": "markdown",
   "metadata": {
    "deletable": false,
    "editable": false,
    "kernel": "Python3",
    "nbgrader": {
     "cell_type": "markdown",
     "checksum": "88f715485196d838dd63cfaa5a4fe80c",
     "grade": false,
     "grade_id": "cell-981c9d9a61d0ecf5",
     "locked": true,
     "schema_version": 3,
     "solution": false,
     "task": false
    }
   },
   "source": [
    "As we did for the erosion, in Python we can use `cv.dilate(img, b, borderType=cv.BORDER_REFLECT)` to dilate an image `img` with a structuring element `b` using mirror padding (`cv.BORDER_REFLECT`). Run the cells below to compare your implementation to the one of OpenCV."
   ]
  },
  {
   "cell_type": "code",
   "execution_count": null,
   "metadata": {
    "kernel": "SoS"
   },
   "outputs": [],
   "source": [
    "%use sos\n",
    "# Lets dilate the plate image using OpenCV\n",
    "# As always, we first define the structuring element we want to use\n",
    "b = cv.getStructuringElement(cv.MORPH_RECT, (5,5))\n",
    "\n",
    "# Then we perform the dilation\n",
    "plate_dilation_cv = cv.dilate(plate, b, borderType=cv.BORDER_REFLECT)\n",
    "\n",
    "# And compare the two versions visually\n",
    "plt.close('all')\n",
    "dilation_comp = viewer([np.array(plate_dilation), plate_dilation_cv], title=['JS dilated plate', 'OpenCV dilated plate'], subplots=(1,2))"
   ]
  },
  {
   "cell_type": "code",
   "execution_count": null,
   "metadata": {
    "deletable": false,
    "editable": false,
    "kernel": "SoS",
    "nbgrader": {
     "cell_type": "code",
     "checksum": "742ddb9e18d4bfd79be908ce85aaa863",
     "grade": false,
     "grade_id": "cell-f2a2b54f8bf23beb",
     "locked": true,
     "schema_version": 3,
     "solution": false,
     "task": false
    }
   },
   "outputs": [],
   "source": [
    "%use sos\n",
    "# And compare numerically\n",
    "assert np.count_nonzero(plate_dilation - plate_dilation_cv) == 0, 'Sorry, but the dilated images are not identical. Make sure you used the same structuring elements for both functions.'\n",
    "print(\"That's it! Your dilation function seems to be correct.\")"
   ]
  },
  {
   "cell_type": "markdown",
   "metadata": {
    "deletable": false,
    "editable": false,
    "kernel": "Python3",
    "nbgrader": {
     "cell_type": "markdown",
     "checksum": "a3e0a35c2fa2b2588cc551f8fb765f27",
     "grade": false,
     "grade_id": "cell-2318f19ed09eca46",
     "locked": true,
     "schema_version": 3,
     "solution": false,
     "task": false
    }
   },
   "source": [
    "## <a class=\"anchor\"></a> 3.C. Median filter\n",
    "[Back to table](#-3.-Morphological-filters-(9-points)), [Back to index](#-Index)\n",
    "\n",
    "In the cell below, **for 1 point**, complete the code in JavaScript to implement the `median()` filter.\n",
    "\n",
    "Remember that in the course, given an image $f$ with support $\\Omega_f$ and a structuring element $b$ with support $\\Omega_b$, we define the median filter as\n",
    "\n",
    "$$\n",
    "    \\mathrm{MED}(f, b)[\\mathbf{k}] = \\mathrm{median}\\left( \\left\\lbrace f\\left[\\mathbf{k} - \\mathbf{q}\\right] \\mid \\mathbf{q}\\in\\Omega_b, (\\mathbf{k}-\\mathbf{q})\\in\\Omega_f \\right\\rbrace \\right)\\,.\n",
    "$$\n",
    "\n",
    "\n",
    "\n",
    "Here, $\\mathrm{median}(\\cdot)$ is a function that acts on a set of numbers, as usual in statistics (see, e.g., [here](https://en.wikipedia.org/wiki/Median#Finite_data_set_of_numbers)). These numbers are specified by the mathematical expression inside $\\lbrace\\cdot\\rbrace$. \n",
    "\n",
    "As we mentioned before, because all the structuring elements are symmetric and $N$ is odd, you need not worry about reflecting them. See the note in [1. Structuring elements](#-1.-Structuring-elements-(2-points)).\n",
    "\n",
    "<div class=\" alert alert-info\">\n",
    "    \n",
    "**Hint:** You can use `nbh.sort(b)` to get a sorted (low to high) 1D `Image` object of the pixels in `nbh` that are under the `True` values of the structuring element `b`. The sorted `Image` object consists of just one row, so the length of the sorted numbers is given by `sorted.nx`. Example: use `sorted.getPixel(2, 0)` to extract the $3^\\text{rd}$ smallest value.\n",
    "</div>"
   ]
  },
  {
   "cell_type": "code",
   "execution_count": null,
   "metadata": {
    "deletable": false,
    "kernel": "JavaScript",
    "nbgrader": {
     "cell_type": "code",
     "checksum": "bc58d00257e07262edea3bbca4f72718",
     "grade": false,
     "grade_id": "cell-15c84b0f0f6ca155",
     "locked": false,
     "schema_version": 3,
     "solution": true,
     "task": false
    }
   },
   "outputs": [],
   "source": [
    "%use javascript\n",
    "\n",
    "// function that performs a median on the image 'img' using the structuring element 'b'\n",
    "function median(img, b) {\n",
    "    // declaring the output image\n",
    "    var output = new Image(img.shape());\n",
    "    // YOUR CODE HERE\n",
    "    \n",
    "    return output;\n",
    "}\n",
    "\n",
    "// here we declare the structuring element\n",
    "var b = square(5); // Feel free to change it to your liking (using the functions implemented in part 1) and observe the results."
   ]
  },
  {
   "cell_type": "code",
   "execution_count": null,
   "metadata": {
    "deletable": false,
    "editable": false,
    "kernel": "JavaScript",
    "nbgrader": {
     "cell_type": "code",
     "checksum": "a3306a5c0fa458b462fb3a686df82380",
     "grade": true,
     "grade_id": "cell-62ff998f6f64f1a5",
     "locked": true,
     "points": 1,
     "schema_version": 3,
     "solution": false,
     "task": false
    }
   },
   "outputs": [],
   "source": [
    "%use javascript\n",
    "%put plate_median\n",
    "%put butterfly_median\n",
    "\n",
    "// running the operation and converting the images back to python\n",
    "var plate_median = median(new Image(plate), b).toArray();\n",
    "var butterfly_median = median(new Image(butterfly), b).toArray();"
   ]
  },
  {
   "cell_type": "code",
   "execution_count": null,
   "metadata": {
    "deletable": false,
    "editable": false,
    "kernel": "SoS",
    "nbgrader": {
     "cell_type": "code",
     "checksum": "7d75a6efdcfec5592f080bed385f07a7",
     "grade": false,
     "grade_id": "cell-608714a13da59807",
     "locked": true,
     "schema_version": 3,
     "solution": false,
     "task": false
    }
   },
   "outputs": [],
   "source": [
    "%use sos\n",
    "# Define the lists of names and images for visualization\n",
    "images = [plate, butterfly, np.array(plate_median), np.array(butterfly_median)]\n",
    "image_names = ['plate', 'butterfly', 'plate median', 'butterfly median']\n",
    "\n",
    "# Display the results\n",
    "plt.close('all')\n",
    "median_results = viewer(images, title = image_names, subplots=(2,2))"
   ]
  },
  {
   "cell_type": "markdown",
   "metadata": {
    "deletable": false,
    "editable": false,
    "kernel": "Python3",
    "nbgrader": {
     "cell_type": "markdown",
     "checksum": "db9a375bd40b41de09ed7a85b38d9cc3",
     "grade": false,
     "grade_id": "cell-e0aaf359cd8a2707",
     "locked": true,
     "schema_version": 3,
     "solution": false,
     "task": false
    }
   },
   "source": [
    "To apply a median filter to an image `img` with an $n \\times n$ **square** structuring element using OpenCV, we can use `cv.medianBlur(img, n)`. Run the cell below to compare your median to the OpenCV median.\n",
    "\n",
    "<div class=\"alert alert-info\">\n",
    "    \n",
    "**Note:**  In OpenCV, the median filter can only be applied with a square structuring element, and uses \"repeat padding\" at the border, i.e., it repeats the last pixel.\n",
    "\n",
    "</div>"
   ]
  },
  {
   "cell_type": "code",
   "execution_count": null,
   "metadata": {
    "kernel": "SoS"
   },
   "outputs": [],
   "source": [
    "%use sos\n",
    "# Lets apply the median to the plate image\n",
    "# Set the size of the square structuring element\n",
    "n = 5\n",
    "# Run the operation\n",
    "plate_median_cv = cv.medianBlur(plate, n)\n",
    "# Compare the two versions visually\n",
    "plt.close('all')\n",
    "median_comp = viewer([np.array(plate_median), plate_median_cv], title=['JS median filtered plate', 'OpenCV median filtered plate'], subplots=(1,2))"
   ]
  },
  {
   "cell_type": "markdown",
   "metadata": {
    "deletable": false,
    "editable": false,
    "kernel": "Python3",
    "nbgrader": {
     "cell_type": "markdown",
     "checksum": "24563d07db1138750dbe7e13a0fcfa3f",
     "grade": false,
     "grade_id": "cell-9d2d6fdc206f8592",
     "locked": true,
     "schema_version": 3,
     "solution": false,
     "task": false
    }
   },
   "source": [
    "<div class=\"alert alert-info\">\n",
    "\n",
    "**Note:** Because the OpenCV median uses \"repeat padding\" instead of \"mirror padding\" as we do, we should not compare the border region of the images. To be sure, we leave the $\\frac{n}{2} + 1$ outer-most rows and columns out of the comparison, where $n$ is the size of the square structuring element.\n",
    "</div>"
   ]
  },
  {
   "cell_type": "code",
   "execution_count": null,
   "metadata": {
    "deletable": false,
    "editable": false,
    "kernel": "SoS",
    "nbgrader": {
     "cell_type": "code",
     "checksum": "e02fdb061efcf8fdeae34c70a3d8a9ba",
     "grade": false,
     "grade_id": "cell-f5116f1fe6ae30ab",
     "locked": true,
     "schema_version": 3,
     "solution": false,
     "task": false
    }
   },
   "outputs": [],
   "source": [
    "%use sos\n",
    "# And numerically\n",
    "assert np.count_nonzero(np.array(plate_median)[n//2+1:np.shape(plate_median)[0]-n//2, n//2+1:np.shape(plate_median)[1]-n//2] \\\n",
    "                        - plate_median_cv[n//2+1:plate_median_cv.shape[0]-n//2, n//2+1:plate_median_cv.shape[1]-n//2]) == 0, \\\n",
    "                        'Sorry, but your median filter still needs some work.'\n",
    "print(\"Very good! Your median filter seems to be correct.\")"
   ]
  },
  {
   "cell_type": "markdown",
   "metadata": {
    "deletable": false,
    "editable": false,
    "kernel": "JavaScript",
    "nbgrader": {
     "cell_type": "markdown",
     "checksum": "e612ce7d1415e39728243cbee9c56f7a",
     "grade": false,
     "grade_id": "cell-9a5ae8e09b341817",
     "locked": true,
     "schema_version": 3,
     "solution": false,
     "task": false
    }
   },
   "source": [
    "Now lets take a moment to look at the [morphological filters' table](#-3.-Morphological-filters-(9-points)), given in the beginning of Part 2. There, you will see that all the morphological filters that we have not implemented yet are simple combinations of some of those that we have implemented, namely `dilation` and `erosion`. Since the idea of this lab is for you to understand how morphological filters work and not to write down an unnecessary amount of `for` loops in JavaScript, we will now switch to only using Python and OpenCV for the rest of the lab."
   ]
  },
  {
   "cell_type": "markdown",
   "metadata": {
    "deletable": false,
    "editable": false,
    "kernel": "Python3",
    "nbgrader": {
     "cell_type": "markdown",
     "checksum": "785d99489298ae60231dbdcebc552525",
     "grade": false,
     "grade_id": "cell-382cddbb0af7fa9f",
     "locked": true,
     "schema_version": 3,
     "solution": false,
     "task": false
    }
   },
   "source": [
    "## <a class=\"anchor\"></a> 3.D. Opening\n",
    "[Back to table](#-3.-Morphological-filters-(9-points)), [Back to index](#-Index)\n",
    "\n",
    "In the cell below, **for 1 point**, implement the `open()` function **using only the `cv.dilate` and `cv.erode` functions presented above**.\n",
    "\n",
    "<div class=\" alert alert-warning\">\n",
    "\n",
    "**Beware:** Be consistent, make sure you use `cv.BORDER_REFLECT` as the border type for all functions.\n",
    "</div>"
   ]
  },
  {
   "cell_type": "code",
   "execution_count": null,
   "metadata": {
    "deletable": false,
    "kernel": "SoS",
    "nbgrader": {
     "cell_type": "code",
     "checksum": "c2a35461b141972c3d896c2a97081c54",
     "grade": false,
     "grade_id": "cell-617782b56656e291",
     "locked": false,
     "schema_version": 3,
     "solution": true,
     "task": false
    }
   },
   "outputs": [],
   "source": [
    "%use sos\n",
    "\n",
    "# Function that performs an opening on the image 'img' using the structuring element 'b'\n",
    "def open(img, b):\n",
    "    # Declaring the output image\n",
    "    AoB = np.zeros(img.shape)\n",
    "    \n",
    "    # YOUR CODE HERE\n",
    "    \n",
    "    return AoB\n",
    "\n",
    "# Here we declare the structuring element\n",
    "b = cv.getStructuringElement(cv.MORPH_RECT, (5,5)); # Feel free to change it to your liking (using the functions presented in part 1) and observe the results.\n",
    "\n",
    "# Directly run the function on the two images since we do not need to convert any variables between JavaScript and Python\n",
    "plate_open     = open(plate,     b)\n",
    "butterfly_open = open(butterfly, b)\n",
    "\n",
    "# and also display the result\n",
    "# Define the lists of images and titles\n",
    "images      = [plate, butterfly, plate_open, butterfly_open]\n",
    "image_names = ['plate', 'butterfly', 'plate opened', 'butterfly opened']\n",
    "# Visualize them\n",
    "plt.close('all')\n",
    "open_results = viewer(images, title = image_names, subplots=(2,2))"
   ]
  },
  {
   "cell_type": "markdown",
   "metadata": {
    "deletable": false,
    "editable": false,
    "kernel": "Python3",
    "nbgrader": {
     "cell_type": "markdown",
     "checksum": "4bae39a73e107f0dea6cb77165e34755",
     "grade": false,
     "grade_id": "cell-b0eb28fc267ccd10",
     "locked": true,
     "schema_version": 3,
     "solution": false,
     "task": false
    }
   },
   "source": [
    "Now lets compare your `open` function to the one that OpenCV provides. Using OpenCV, you can perform the opening of an image `img` with a structuring lement `b` using `cv.morphologyEx(img, cv.MORPH_OPEN, b, borderType=cv.BORDER_REFLECT)`. Again we use `borderType=cv.BORDER_REFLECT` for consistency. Run the next cell to compare the functions."
   ]
  },
  {
   "cell_type": "code",
   "execution_count": null,
   "metadata": {
    "deletable": false,
    "editable": false,
    "kernel": "SoS",
    "nbgrader": {
     "cell_type": "code",
     "checksum": "1f6c8d530bb86c22c0edffc144a2c627",
     "grade": true,
     "grade_id": "cell-617a9f1ce45c44fe",
     "locked": true,
     "points": 1,
     "schema_version": 3,
     "solution": false,
     "task": false
    }
   },
   "outputs": [],
   "source": [
    "%use sos\n",
    "# Perform the opening on plate with OpenCV using the same structuring element b\n",
    "plate_open_cv = cv.morphologyEx(plate, cv.MORPH_OPEN, b, borderType=cv.BORDER_REFLECT)\n",
    "# Compare the two versions\n",
    "assert np.count_nonzero(plate_open - plate_open_cv) == 0, 'Sorry, your opening is not quite right.'\n",
    "print(\"Great! Your opening seems to be correct.\")"
   ]
  },
  {
   "cell_type": "markdown",
   "metadata": {
    "deletable": false,
    "editable": false,
    "kernel": "Python3",
    "nbgrader": {
     "cell_type": "markdown",
     "checksum": "982fb8e6e945aca9912023a6b3a3a552",
     "grade": false,
     "grade_id": "cell-8d6f728a2ac07908",
     "locked": true,
     "schema_version": 3,
     "solution": false,
     "task": false
    }
   },
   "source": [
    "## <a class=\"anchor\"></a> 3.E. Closing\n",
    "[Back to table](#-3.-Morphological-filters-(9-points)), [Back to index](#-Index)\n",
    "\n",
    "In the cell below, **for 1 point**, implement the `close()` function **using only the `cv.dilate` and `cv.erode` functions presented above**."
   ]
  },
  {
   "cell_type": "code",
   "execution_count": null,
   "metadata": {
    "deletable": false,
    "kernel": "SoS",
    "nbgrader": {
     "cell_type": "code",
     "checksum": "96238e532e450eaf6df3f5cfc4ef04d0",
     "grade": false,
     "grade_id": "cell-4b1c2a5eb77a0878",
     "locked": false,
     "schema_version": 3,
     "solution": true,
     "task": false
    }
   },
   "outputs": [],
   "source": [
    "%use sos\n",
    "\n",
    "# Function that performs a closing on the image 'img' using the structuring element 'b'\n",
    "def close(img, b):\n",
    "    # Declaring the output image\n",
    "    AcB = np.zeros(img.shape)\n",
    "    \n",
    "    # YOUR CODE HERE\n",
    "    \n",
    "    return AcB;\n",
    "\n",
    "# Here we declare the structuring element\n",
    "b = cv.getStructuringElement(cv.MORPH_RECT, (5,5)); # Feel free to change it to your liking (using the functions discussed and implemented in part 1) and observe the results.\n",
    "\n",
    "# Directly run the function on the two images since we do not need to convert any variables between JavaScript and Python\n",
    "plate_close     = close(plate,     b)\n",
    "butterfly_close = close(butterfly, b)\n",
    "\n",
    "# and also display the result\n",
    "# Define the lists of images and titles\n",
    "images = [plate, butterfly, plate_close, butterfly_close]\n",
    "image_names = ['plate', 'butterfly', 'plate closed', 'butterfly closed']\n",
    "# Visualize them\n",
    "plt.close('all')\n",
    "close_results = viewer(images, title = image_names, subplots = (2,2))"
   ]
  },
  {
   "cell_type": "markdown",
   "metadata": {
    "deletable": false,
    "editable": false,
    "kernel": "Python3",
    "nbgrader": {
     "cell_type": "markdown",
     "checksum": "687ff29d893bf07b0f9aa9bb0b0491cb",
     "grade": false,
     "grade_id": "cell-8d605c9327d5d110",
     "locked": true,
     "schema_version": 3,
     "solution": false,
     "task": false
    }
   },
   "source": [
    "To perform the closing operation with OpenCV, we use `cv.MORPH_CLOSE` instead of `cv.MORPH_OPEN` in the `cv.morphologyEx` function presented above. Run the cell below to compare the functions."
   ]
  },
  {
   "cell_type": "code",
   "execution_count": null,
   "metadata": {
    "deletable": false,
    "editable": false,
    "kernel": "SoS",
    "nbgrader": {
     "cell_type": "code",
     "checksum": "be83ff691b4adcd8c966ffc8c5fd8abc",
     "grade": true,
     "grade_id": "cell-dd4b09e73fbba1ed",
     "locked": true,
     "points": 1,
     "schema_version": 3,
     "solution": false,
     "task": false
    }
   },
   "outputs": [],
   "source": [
    "%use sos\n",
    "# Perform the closing on plate with OpenCV using the same structuring element b\n",
    "plate_close_cv = cv.morphologyEx(plate, cv.MORPH_CLOSE, b, borderType=cv.BORDER_REFLECT)\n",
    "# Compare the two versions\n",
    "assert np.count_nonzero(plate_close - plate_close_cv) == 0, 'Sorry, your closing is not quite right.'\n",
    "print(\"Great! Your closing seems to be correct.\")"
   ]
  },
  {
   "cell_type": "markdown",
   "metadata": {
    "deletable": false,
    "editable": false,
    "kernel": "Python3",
    "nbgrader": {
     "cell_type": "markdown",
     "checksum": "c4c349f49075108b3ae17417aca23351",
     "grade": false,
     "grade_id": "cell-995f62a8f8688a6e",
     "locked": true,
     "schema_version": 3,
     "solution": false,
     "task": false
    }
   },
   "source": [
    "## <a class=\"anchor\"></a> 3.F. Gradient filter\n",
    "[Back to table](#-3.-Morphological-filters-(9-points)), [Back to index](#-Index)\n",
    "\n",
    "In the cell below, **for 1 point**, implement the `gradient()` function **using only the `cv.dilate` and `cv.erode` functions presented above** and basic arithmetics (`+`,`-`,`*`, or `/`).\n",
    "<div class=\" alert alert-info\">\n",
    "\n",
    "**Hint:** Remember that in Python you can add/subtract whole images simply by using the $+/-$ operators, without the need to iterate with `for` loops.\n",
    "</div>"
   ]
  },
  {
   "cell_type": "code",
   "execution_count": null,
   "metadata": {
    "deletable": false,
    "kernel": "SoS",
    "nbgrader": {
     "cell_type": "code",
     "checksum": "27f8a620540934f3818d71a9c2dce41a",
     "grade": false,
     "grade_id": "cell-9a9f40693c09445e",
     "locked": false,
     "schema_version": 3,
     "solution": true,
     "task": false
    }
   },
   "outputs": [],
   "source": [
    "%use sos\n",
    "\n",
    "# function that performs a gradient on the image 'img' using the structuring element 'b'\n",
    "def gradient(img, b):\n",
    "    # declaring the output image\n",
    "    grad = np.zeros(img.shape)\n",
    "    \n",
    "    # YOUR CODE HERE\n",
    "    \n",
    "    return grad\n",
    "\n",
    "# here we declare the structuring element\n",
    "b = cv.getStructuringElement(cv.MORPH_RECT, (5,5)); # Feel free to change it to your liking (using the functions discussed and implemented in part 1) and observe the results.\n",
    "\n",
    "# directly run the function on the two images since we do not need to convert any variables between JavaScript and Python\n",
    "plate_gradient     = gradient(plate,     b)\n",
    "butterfly_gradient = gradient(butterfly, b)\n",
    "\n",
    "# and also display the result\n",
    "# define the lists of images and titles\n",
    "images = [plate, butterfly, plate_gradient, butterfly_gradient]\n",
    "image_names = ['plate', 'butterfly', 'plate gradient', 'butterfly gradient']\n",
    "# visualize them\n",
    "plt.close('all')\n",
    "gradient_results = viewer(images, title = image_names, subplots=(2,2))"
   ]
  },
  {
   "cell_type": "markdown",
   "metadata": {
    "deletable": false,
    "editable": false,
    "kernel": "JavaScript",
    "nbgrader": {
     "cell_type": "markdown",
     "checksum": "182e6c877136ec0bf1ffa9f7825d794d",
     "grade": false,
     "grade_id": "cell-836e995482cb3131",
     "locked": true,
     "schema_version": 3,
     "solution": false,
     "task": false
    }
   },
   "source": [
    "In OpenCV, the identifier `cv.MORPH_GRADIENT` can be used to calculate the gradient with the `cv.morphologyEx` function presented above. Run the next cell to check your function."
   ]
  },
  {
   "cell_type": "code",
   "execution_count": null,
   "metadata": {
    "deletable": false,
    "editable": false,
    "kernel": "SoS",
    "nbgrader": {
     "cell_type": "code",
     "checksum": "ad29af6e720ea00ca3a70c2289258ea8",
     "grade": true,
     "grade_id": "cell-caa2bf39cb6eff21",
     "locked": true,
     "points": 1,
     "schema_version": 3,
     "solution": false,
     "task": false
    }
   },
   "outputs": [],
   "source": [
    "%use sos\n",
    "# Perform the closing on plate with OpenCV using the same structuring element b\n",
    "plate_gradient_cv = cv.morphologyEx(plate, cv.MORPH_GRADIENT, b, borderType=cv.BORDER_REFLECT)\n",
    "# Compare the two versions\n",
    "assert np.count_nonzero(plate_gradient - plate_gradient_cv) == 0, 'Sorry, your gradient is not quite right.'\n",
    "print(\"Great! Your gradient seems to be correct.\")"
   ]
  },
  {
   "cell_type": "markdown",
   "metadata": {
    "deletable": false,
    "editable": false,
    "kernel": "Python3",
    "nbgrader": {
     "cell_type": "markdown",
     "checksum": "451cf4a8d65d8726a11ee7eaa115973b",
     "grade": false,
     "grade_id": "cell-4e809795785e168e",
     "locked": true,
     "schema_version": 3,
     "solution": false,
     "task": false
    }
   },
   "source": [
    "## <a class=\"anchor\"></a> 3.G. Top-hat filter\n",
    "[Back to table](#-3.-Morphological-filters-(9-points)), [Back to index](#-Index)\n",
    "\n",
    "In the cell below, **for 1 point**, implement the `topHat()` function by **using only the OpenCV functions we have seen in Tasks [3.A.](#-3.A.-Erosion-operator) to [3.E.](#-3.E.-Close-operator)**."
   ]
  },
  {
   "cell_type": "code",
   "execution_count": null,
   "metadata": {
    "deletable": false,
    "kernel": "SoS",
    "nbgrader": {
     "cell_type": "code",
     "checksum": "3466c17e78fbbc7d8deabb59e3df1e3d",
     "grade": false,
     "grade_id": "cell-7cf45ee1fa80cd3f",
     "locked": false,
     "schema_version": 3,
     "solution": true,
     "task": false
    }
   },
   "outputs": [],
   "source": [
    "%use sos\n",
    "\n",
    "# function that performs a topHat on the image 'img' using the structuring element 'b'\n",
    "def topHat(img, b):\n",
    "    # declaring the output image\n",
    "    tophat = np.zeros(img.shape)\n",
    "    \n",
    "    # YOUR CODE HERE\n",
    "    \n",
    "    return tophat\n",
    "    \n",
    "# here we declare the structuring element\n",
    "b = cv.getStructuringElement(cv.MORPH_RECT, (5, 5)); # Feel free to change it to your liking (using the functions discussed and implemented in part 1) and observe the results.\n",
    "\n",
    "# directly run the function on the two images since we do not need to convert any variables between JavaScript and Python\n",
    "plate_tophat     = topHat(plate,     b)\n",
    "butterfly_tophat = topHat(butterfly, b)\n",
    "\n",
    "# and also display the result\n",
    "# define the lists of images and titles\n",
    "images = [plate, butterfly, plate_tophat, butterfly_tophat]\n",
    "image_names = ['plate', 'butterfly', 'plate tophat', 'butterfly tophat']\n",
    "# visualize them\n",
    "plt.close('all')\n",
    "tophat_results = viewer(images, title = image_names, subplots=(2,2))"
   ]
  },
  {
   "cell_type": "markdown",
   "metadata": {
    "deletable": false,
    "editable": false,
    "kernel": "JavaScript",
    "nbgrader": {
     "cell_type": "markdown",
     "checksum": "911990bb2c369aaabd55a8bc321e8c4d",
     "grade": false,
     "grade_id": "cell-39bdb75254ab565d",
     "locked": true,
     "schema_version": 3,
     "solution": false,
     "task": false
    }
   },
   "source": [
    "To perform the topHat filter in OpenCV, one uses `cv.MORPH_TOPHAT`. Run the cell below to check your function."
   ]
  },
  {
   "cell_type": "code",
   "execution_count": null,
   "metadata": {
    "deletable": false,
    "editable": false,
    "kernel": "SoS",
    "nbgrader": {
     "cell_type": "code",
     "checksum": "df0173db21e9fbe8998758302115bf5f",
     "grade": true,
     "grade_id": "cell-c063466a7f6b89cb",
     "locked": true,
     "points": 1,
     "schema_version": 3,
     "solution": false,
     "task": false
    }
   },
   "outputs": [],
   "source": [
    "%use sos\n",
    "# Perform the closing on plate with OpenCV using the same structuring element b\n",
    "plate_tophat_cv = cv.morphologyEx(plate, cv.MORPH_TOPHAT, b, borderType=cv.BORDER_REFLECT)\n",
    "# Compare the two versions\n",
    "assert np.count_nonzero(plate_tophat - plate_tophat_cv) == 0, 'Sorry, your topHat filter is not quite right.'\n",
    "print(\"Great! Your topHat filter seems to be correct.\")"
   ]
  },
  {
   "cell_type": "markdown",
   "metadata": {
    "deletable": false,
    "editable": false,
    "kernel": "Python3",
    "nbgrader": {
     "cell_type": "markdown",
     "checksum": "38105b37883e9b53693d2d53bd4782fa",
     "grade": false,
     "grade_id": "cell-adafb1c0e468b9a5",
     "locked": true,
     "schema_version": 3,
     "solution": false,
     "task": false
    }
   },
   "source": [
    "## <a class=\"anchor\"></a> 3.H. Bottom-hat filter\n",
    "[Back to table](#-3.-Morphological-filters-(9-points)), [Back to index](#-Index)\n",
    "\n",
    "In the cell below, **for 1 point**, implement the `bottomHat()` function by **using only the OpenCV functions we have seen in Tasks [3.A.](#-3.A.-Erosion-operator) to [3.E.](#-3.E.-Close-operator)**."
   ]
  },
  {
   "cell_type": "code",
   "execution_count": null,
   "metadata": {
    "deletable": false,
    "kernel": "SoS",
    "nbgrader": {
     "cell_type": "code",
     "checksum": "50ecf2da5eaffa272ecf0f37e5542acf",
     "grade": false,
     "grade_id": "cell-f5652a9cab08f5a0",
     "locked": false,
     "schema_version": 3,
     "solution": true,
     "task": false
    }
   },
   "outputs": [],
   "source": [
    "%use sos\n",
    "\n",
    "# function that performs a bottomHat on the image 'img' using the structuring element 'b'\n",
    "def bottomHat(img, b):\n",
    "    # declaring the output image\n",
    "    bottomhat = np.zeros(img.shape)\n",
    "    \n",
    "    # YOUR CODE HERE\n",
    "    \n",
    "    return bottomhat\n",
    "\n",
    "# here we declare the structuring element\n",
    "b = cv.getStructuringElement(cv.MORPH_RECT, (5,5)); # Feel free to change it to your liking (using the functions discussed and implemented in part 1) and observe the results.\n",
    "\n",
    "# directly run the function on the two images since we do not need to convert any variables between JavaScript and Python\n",
    "plate_bottomhat     = bottomHat(plate,     b)\n",
    "butterfly_bottomhat = bottomHat(butterfly, b)\n",
    "\n",
    "# and also display the result\n",
    "# define the lists of images and titles\n",
    "images = [plate, butterfly, plate_bottomhat, butterfly_bottomhat]\n",
    "image_names = ['plate', 'butterfly', 'plate bottomHat', 'butterfly bottomHat']\n",
    "# visualize them\n",
    "plt.close('all')\n",
    "bottomhat_results = viewer(images, title = image_names, subplots=(2,2))"
   ]
  },
  {
   "cell_type": "markdown",
   "metadata": {
    "deletable": false,
    "editable": false,
    "kernel": "JavaScript",
    "nbgrader": {
     "cell_type": "markdown",
     "checksum": "2ed9b3c51b0cfa573a28b353fc8e61d8",
     "grade": false,
     "grade_id": "cell-bbdf5902faa83225",
     "locked": true,
     "schema_version": 3,
     "solution": false,
     "task": false
    }
   },
   "source": [
    "In OpenCV we use `cv.MORPH_BLACKHAT` to perform a bottomHat filter. Run the next cell to check your function."
   ]
  },
  {
   "cell_type": "code",
   "execution_count": null,
   "metadata": {
    "deletable": false,
    "editable": false,
    "kernel": "SoS",
    "nbgrader": {
     "cell_type": "code",
     "checksum": "bb1024064d25d7f78008a6e1c6ce5121",
     "grade": true,
     "grade_id": "cell-16ac63103d72782c",
     "locked": true,
     "points": 1,
     "schema_version": 3,
     "solution": false,
     "task": false
    }
   },
   "outputs": [],
   "source": [
    "%use sos\n",
    "# Perform the closing on plate with OpenCV using the same structuring element b\n",
    "plate_bottomhat_cv = cv.morphologyEx(plate, cv.MORPH_BLACKHAT, b, borderType=cv.BORDER_REFLECT)\n",
    "# Compare the two versions\n",
    "assert np.count_nonzero(plate_bottomhat - plate_bottomhat_cv) == 0, 'Sorry, your bottomHat filter is not quite right.'\n",
    "print(\"Great! Your bottomHat filter seems to be correct.\")"
   ]
  },
  {
   "cell_type": "markdown",
   "metadata": {
    "deletable": false,
    "editable": false,
    "kernel": "Python3",
    "nbgrader": {
     "cell_type": "markdown",
     "checksum": "15088448ab4bf3a01bf645a0873db57f",
     "grade": false,
     "grade_id": "cell-d9e341f0f95b2e61",
     "locked": true,
     "schema_version": 3,
     "solution": false,
     "task": false
    }
   },
   "source": [
    "## <a class=\"anchor\"></a> 3.I. Understanding morphological filters\n",
    "[Back to index](#-Index)\n",
    "\n",
    "Which of following statements are correct? Here, $N\\times$ Function(`name`, $y$) refers to composing a function $N$ times with the structuring element given by `name` with size $y\\times y$.\n",
    "\n",
    "1. The results of $3 \\times$ Erosion(Square, 3) and Erosion(Square, 7) are the same.\n",
    "2. The results of $3 \\times$ Open(Cross, 5) and Open(Cross, 5) are the same.\n",
    "3. The results of $3 \\times$ Close(Disk, 5) and Close(Disk, 5) are the same.\n",
    "4. The results of Top-Hat(Square, 3) and Bottom-Hat (Square, 3) are the same.\n",
    "\n",
    "You can use the next cell to compare the different propositions by modifying the existing code and inserting your own.\n",
    "\n",
    "<div class=\"alert alert-info\">\n",
    "\n",
    "**Note:** To get a disc structuring element you can use the [`disc(n)`](#-1.D.-Disc-Structuring-Element) function we provided in Part [1.C.](#-1.C.-Disc-structuring-element)\n",
    "</div>"
   ]
  },
  {
   "cell_type": "code",
   "execution_count": null,
   "metadata": {
    "deletable": false,
    "kernel": "SoS",
    "nbgrader": {
     "cell_type": "code",
     "checksum": "b906621c113852a67b0e8e97ba5f6add",
     "grade": false,
     "grade_id": "cell-714b1d972384f6cb",
     "locked": false,
     "schema_version": 3,
     "solution": true,
     "task": false
    }
   },
   "outputs": [],
   "source": [
    "%use sos\n",
    "# We use the butterfly image, feel free to use any other image\n",
    "modified_1 = butterfly\n",
    "modified_2 = butterfly\n",
    "\n",
    "# Apply the morphological operators\n",
    "\n",
    "# YOUR CODE HERE\n",
    "\n",
    "# Display the two modified images as well as their difference\n",
    "images = [modified_1, modified_2, modified_2 - modified_1]\n",
    "titles = ['Operation 1', 'Operation 2', 'Difference']\n",
    "\n",
    "plt.close('all')\n",
    "operation_comparison = viewer(images, title = titles, subplots=(1,3))"
   ]
  },
  {
   "cell_type": "markdown",
   "metadata": {
    "deletable": false,
    "editable": false,
    "kernel": "Python3",
    "nbgrader": {
     "cell_type": "markdown",
     "checksum": "a2bc1b996130a404969edb368e136e47",
     "grade": false,
     "grade_id": "cell-3a73356cd72be7fd",
     "locked": true,
     "schema_version": 3,
     "solution": false,
     "task": false
    }
   },
   "source": [
    "<div class=\"alert alert-danger\">\n",
    "\n",
    "In the next cell assign `True` to the statements you think are correct and assign `False` to the statements you think are incorrect. The following cells are for you to check that your answers are valid.\n",
    "</div>"
   ]
  },
  {
   "cell_type": "code",
   "execution_count": null,
   "metadata": {
    "deletable": false,
    "kernel": "SoS",
    "nbgrader": {
     "cell_type": "code",
     "checksum": "47cb3e4d2b80796d0aa0d41f47023466",
     "grade": false,
     "grade_id": "cell-ee651aa4373db6b0",
     "locked": false,
     "schema_version": 3,
     "solution": true,
     "task": false
    }
   },
   "outputs": [],
   "source": [
    "%use sos\n",
    "# Example: 'statement_0 = True' or 'statement_0 = False'\n",
    "statement_1 = None\n",
    "statement_2 = None\n",
    "statement_3 = None\n",
    "statement_4 = None\n",
    "\n",
    "# YOUR CODE HERE"
   ]
  },
  {
   "cell_type": "code",
   "execution_count": null,
   "metadata": {
    "deletable": false,
    "editable": false,
    "kernel": "SoS",
    "nbgrader": {
     "cell_type": "code",
     "checksum": "2a4689570f607467175833f142cbfa6c",
     "grade": true,
     "grade_id": "cell-d23b839cbf5a692d",
     "locked": true,
     "points": 0.25,
     "schema_version": 3,
     "solution": false,
     "task": false
    }
   },
   "outputs": [],
   "source": [
    "%use sos\n",
    "# Perform sanity check on statement_1\n",
    "assert statement_1 in [True, False], 'Assign either True or False to statement_1.'"
   ]
  },
  {
   "cell_type": "code",
   "execution_count": null,
   "metadata": {
    "deletable": false,
    "editable": false,
    "kernel": "SoS",
    "nbgrader": {
     "cell_type": "code",
     "checksum": "83850279ffc2c461811da1760f8d8514",
     "grade": true,
     "grade_id": "cell-880f09079601e5cb",
     "locked": true,
     "points": 0.25,
     "schema_version": 3,
     "solution": false,
     "task": false
    }
   },
   "outputs": [],
   "source": [
    "%use sos\n",
    "# Perform sanity check on statement_2\n",
    "assert statement_2 in [True, False], 'Assign either True or False to statement_2.'"
   ]
  },
  {
   "cell_type": "code",
   "execution_count": null,
   "metadata": {
    "deletable": false,
    "editable": false,
    "kernel": "SoS",
    "nbgrader": {
     "cell_type": "code",
     "checksum": "a61a6fe482a2f28d318d1bde71b75bd0",
     "grade": true,
     "grade_id": "cell-ccf763b01a3fa21b",
     "locked": true,
     "points": 0.25,
     "schema_version": 3,
     "solution": false,
     "task": false
    }
   },
   "outputs": [],
   "source": [
    "%use sos\n",
    "# Perform sanity check on statement_3\n",
    "assert statement_3 in [True, False], 'Assign either True or False to statement_3.'"
   ]
  },
  {
   "cell_type": "code",
   "execution_count": null,
   "metadata": {
    "deletable": false,
    "editable": false,
    "kernel": "SoS",
    "nbgrader": {
     "cell_type": "code",
     "checksum": "f51d0a2b6ddcf4ea1df9ca3f5963bdc8",
     "grade": true,
     "grade_id": "cell-d746686ae0759d39",
     "locked": true,
     "points": 0.25,
     "schema_version": 3,
     "solution": false,
     "task": false
    }
   },
   "outputs": [],
   "source": [
    "%use sos\n",
    "# Perform sanity check on statement_4\n",
    "assert statement_4 in [True, False], 'Assign either True or False to statement_4.'"
   ]
  },
  {
   "cell_type": "markdown",
   "metadata": {
    "deletable": false,
    "editable": false,
    "kernel": "Python3",
    "nbgrader": {
     "cell_type": "markdown",
     "checksum": "02be7390ca7fda020f5bddd0cdf990bd",
     "grade": false,
     "grade_id": "cell-21f28ed57d1d8588",
     "locked": true,
     "schema_version": 3,
     "solution": false,
     "task": false
    }
   },
   "source": [
    "# <a class=\"anchor\"></a> 4. Direct applications (2 points)\n",
    "[Back to index](#-Index)\n",
    "\n",
    "Now let's look at some applications of morphological filters.\n",
    "\n",
    "Using **only one** of the morphological filters of [Part 3](#-3.-Morphological-operators-(9-points)) followed by a threshold operation, try to solve the following problems as best you can. Select an appropriate threshold value to get a binary image (0 / 255).\n",
    "<div class=\"alert alert-info\">\n",
    "\n",
    "**Note:** A threshold operation on `img`, given a threshold `thresh`, can be performed using [`np.where`](https://numpy.org/doc/stable/reference/generated/numpy.where.html) like this: \n",
    "\n",
    "`img_binary = np.where(img > thresh, 255, 0).astype(np.uint8)`\n",
    "</div>\n",
    "\n",
    "<div class=\"alert alert-info\">\n",
    "    \n",
    "**Note:** While your functions and OpenCV's functions are equivalent (e.g, `close(img, b)` is equivalent to `cv.morphologyEx(img, b, cv.MORPH_CLOSE)`), we recommend you to use OpenCV's functions, as these will be the functions you will use if you need to apply morphological operators in the future. \n",
    "</div>"
   ]
  },
  {
   "cell_type": "markdown",
   "metadata": {
    "deletable": false,
    "editable": false,
    "kernel": "Python3",
    "nbgrader": {
     "cell_type": "markdown",
     "checksum": "d0eba1aa9233da6fb353aff8d489af46",
     "grade": false,
     "grade_id": "cell-f8946256f6172961",
     "locked": true,
     "schema_version": 3,
     "solution": false,
     "task": false
    }
   },
   "source": [
    "## <a class=\"anchor\"></a> 4.A. Disconnecting round objects\n",
    "[Back to index](#-Index)\n",
    "\n",
    "In the image `test_contact`, **for 1 point**, disconnect the roundish white objects while keeping at least 1 white pixel per roundish object.\n",
    "\n",
    "![test-contact_showcase](./images/test-contact_showcase.png)\n",
    "\n",
    "Run the next cell to visualize the image you will be working with in this exercise.\n",
    "\n",
    "<div class=\"alert alert-info\">\n",
    "\n",
    "**Note:** Insert your code into the function `disconnect(img)`. In this exercise you don't need to explicitly threshold anything because the original image is already binary.\n",
    "\n",
    "</div>"
   ]
  },
  {
   "cell_type": "code",
   "execution_count": null,
   "metadata": {
    "deletable": false,
    "editable": false,
    "kernel": "SoS",
    "nbgrader": {
     "cell_type": "code",
     "checksum": "5ca5328eff53ef923843d580f38746c7",
     "grade": false,
     "grade_id": "cell-6e3d3a31370b54ad",
     "locked": true,
     "schema_version": 3,
     "solution": false,
     "task": false
    }
   },
   "outputs": [],
   "source": [
    "%use sos\n",
    "img_vis = viewer(test_contact)"
   ]
  },
  {
   "cell_type": "code",
   "execution_count": null,
   "metadata": {
    "deletable": false,
    "kernel": "SoS",
    "nbgrader": {
     "cell_type": "code",
     "checksum": "13192b3ab4fce382218bb78dd9531263",
     "grade": false,
     "grade_id": "cell-ecb2d6b8f42e7f82",
     "locked": false,
     "schema_version": 3,
     "solution": true,
     "task": false
    }
   },
   "outputs": [],
   "source": [
    "%use sos\n",
    "\n",
    "# Function that performs a single morphological filter with some structuring element of size n\n",
    "def disconnect(img, n):\n",
    "    # Initialize output\n",
    "    output = np.zeros(img.shape)\n",
    "    \n",
    "    # YOUR CODE HERE\n",
    "\n",
    "    return output"
   ]
  },
  {
   "cell_type": "markdown",
   "metadata": {
    "deletable": false,
    "editable": false,
    "kernel": "SoS",
    "nbgrader": {
     "cell_type": "markdown",
     "checksum": "e303c6e3d0fcc11a43f7b40dffc37fe1",
     "grade": false,
     "grade_id": "cell-9204e576504f666e",
     "locked": true,
     "schema_version": 3,
     "solution": false,
     "task": false
    }
   },
   "source": [
    "Run the next cell to check that the result only consists of binary values **(object = 255, background = 0)** using [`np.unique()`](https://numpy.org/doc/stable/reference/generated/numpy.unique.html)."
   ]
  },
  {
   "cell_type": "code",
   "execution_count": null,
   "metadata": {
    "deletable": false,
    "editable": false,
    "kernel": "SoS",
    "nbgrader": {
     "cell_type": "code",
     "checksum": "5da41823630231bd30ef9b17ec41863c",
     "grade": true,
     "grade_id": "cell-10a084600533f720",
     "locked": true,
     "points": 0.5,
     "schema_version": 3,
     "solution": false,
     "task": false
    }
   },
   "outputs": [],
   "source": [
    "%use sos\n",
    "# Check that the output is binary\n",
    "check_bin = disconnect(test_contact, 25)\n",
    "assert np.all( np.unique(check_bin)==[0,255] ), \\\n",
    "       'The output is not binary with values {0, 255}.'\n",
    "print(\"Good, the output is binary with values {0,255}.\")"
   ]
  },
  {
   "cell_type": "markdown",
   "metadata": {
    "deletable": false,
    "editable": false,
    "kernel": "Python3",
    "nbgrader": {
     "cell_type": "markdown",
     "checksum": "8d09a482e155c8e5d88686a5b8cff5ed",
     "grade": false,
     "grade_id": "cell-a177772a73c1a9f7",
     "locked": true,
     "schema_version": 3,
     "solution": false,
     "task": false
    }
   },
   "source": [
    "To make it easy for you to find the right size of the structuring element, we will add an interactive slider to the image display using the `IPLabViewer` class. Run the next cell to use the interactive widget.\n",
    "<div class=\"alert alert-info\">\n",
    "\n",
    "**Note:** To use the slider, click the the button `Extra Widgets`. Then you can adjust the size of the structuring element with the slider and click the button `Disconnect` to apply the `disconnect()` function with the currently selected size on the original image.\n",
    "</div>\n"
   ]
  },
  {
   "cell_type": "code",
   "execution_count": null,
   "metadata": {
    "deletable": false,
    "editable": false,
    "kernel": "SoS",
    "nbgrader": {
     "cell_type": "code",
     "checksum": "2ba5eaa0fe01a3a011bb283519cbb513",
     "grade": false,
     "grade_id": "cell-77531eb06017a919",
     "locked": true,
     "schema_version": 3,
     "solution": false,
     "task": false
    }
   },
   "outputs": [],
   "source": [
    "%use sos\n",
    "# Instantiate the size slider\n",
    "size_slider = widgets.IntSlider(value=25, min=0, max=50, step=1, description='n')\n",
    "# Instantiate the diconnect button\n",
    "button = widgets.Button(description = 'Disconnect')\n",
    "\n",
    "# Define the callback function of the button\n",
    "def button_callback(image):\n",
    "    # run the disconnect function on the image with the size indicated by the slider\n",
    "    output = disconnect(image, n=size_slider.value)\n",
    "    return output\n",
    "\n",
    "# Display the image with the extra slider functionality\n",
    "plt.close('all')\n",
    "test_contact_display = viewer(test_contact, title = \"Disconnect test_contact\", new_widgets = [size_slider, button], callbacks = [button_callback], widgets = True)"
   ]
  },
  {
   "cell_type": "markdown",
   "metadata": {
    "deletable": false,
    "editable": false,
    "kernel": "Python3",
    "nbgrader": {
     "cell_type": "markdown",
     "checksum": "b69d7acaf999a631b6da9448cfb6d80e",
     "grade": false,
     "grade_id": "cell-251ed892a9485af6",
     "locked": true,
     "schema_version": 3,
     "solution": false,
     "task": false
    }
   },
   "source": [
    "In the following cell, assign `n` with the size of the structuring element you think works best for this task."
   ]
  },
  {
   "cell_type": "code",
   "execution_count": null,
   "metadata": {
    "deletable": false,
    "kernel": "SoS",
    "nbgrader": {
     "cell_type": "code",
     "checksum": "c17fac77b09e246af339d931c8ec6e26",
     "grade": false,
     "grade_id": "cell-d14f2cd9b739b7f4",
     "locked": false,
     "schema_version": 3,
     "solution": true,
     "task": false
    }
   },
   "outputs": [],
   "source": [
    "%use sos\n",
    "# Assign the size of the structuring element\n",
    "n = None\n",
    "\n",
    "# YOUR CODE HERE"
   ]
  },
  {
   "cell_type": "code",
   "execution_count": null,
   "metadata": {
    "deletable": false,
    "editable": false,
    "kernel": "SoS",
    "nbgrader": {
     "cell_type": "code",
     "checksum": "2da2e6d0e1907540fba86ffe3c01f90b",
     "grade": true,
     "grade_id": "cell-bea66c972f816eac",
     "locked": true,
     "points": 0.5,
     "schema_version": 3,
     "solution": false,
     "task": false
    }
   },
   "outputs": [],
   "source": [
    "%use sos\n",
    "# Perform a sanity check on n\n",
    "assert 0 < n < 50, 'Choose a size that makes sense.'"
   ]
  },
  {
   "cell_type": "markdown",
   "metadata": {
    "deletable": false,
    "editable": false,
    "kernel": "Python3",
    "nbgrader": {
     "cell_type": "markdown",
     "checksum": "2a9a194e34f9f51cc3f6da911030a45d",
     "grade": false,
     "grade_id": "cell-8da3c444dff8be8c",
     "locked": true,
     "schema_version": 3,
     "solution": false,
     "task": false
    }
   },
   "source": [
    "## <a class=\"anchor\"></a> 4.B. Detecting horizontal lines\n",
    "[Back to index](#-Index)\n",
    "\n",
    "In the image `test_scratch`, **for 1 point**, detect the horizontal white lines of thickness 1 pixel.\n",
    "\n",
    "![test-scratch_showcase](./images/test-scratch_showcase.png)\n",
    "\n",
    "Run the next cell to visualize the image you will be working with in this exercise.\n",
    "\n",
    "<div class=\"alert alert-info\">\n",
    "\n",
    "**Note:** Insert your code into the function `detect_hlines(img, n, threshold)`.\n",
    "\n",
    "</div>"
   ]
  },
  {
   "cell_type": "code",
   "execution_count": null,
   "metadata": {
    "deletable": false,
    "editable": false,
    "kernel": "SoS",
    "nbgrader": {
     "cell_type": "code",
     "checksum": "e2a29264f4422363655fc0e48baee6fa",
     "grade": false,
     "grade_id": "cell-86ae91f390ae924f",
     "locked": true,
     "schema_version": 3,
     "solution": false,
     "task": false
    }
   },
   "outputs": [],
   "source": [
    "%use sos\n",
    "img_vis = viewer(test_scratch)"
   ]
  },
  {
   "cell_type": "code",
   "execution_count": null,
   "metadata": {
    "deletable": false,
    "kernel": "SoS",
    "nbgrader": {
     "cell_type": "code",
     "checksum": "18411b88662eded438d0a921ae63d638",
     "grade": false,
     "grade_id": "cell-f6813f279996dd1f",
     "locked": false,
     "schema_version": 3,
     "solution": true,
     "task": false
    }
   },
   "outputs": [],
   "source": [
    "%use sos\n",
    "\n",
    "# Function that performs a single morphological filter with some structuring element of size n followed by thresholding\n",
    "def detect_hlines(img, n, threshold):\n",
    "    # Initialize output\n",
    "    output = np.zeros(img.shape)\n",
    "    \n",
    "    # YOUR CODE HERE\n",
    "\n",
    "    return output"
   ]
  },
  {
   "cell_type": "markdown",
   "metadata": {
    "deletable": false,
    "editable": false,
    "kernel": "Python3",
    "nbgrader": {
     "cell_type": "markdown",
     "checksum": "bcb30b3cdd9db23edc88d971bd742d36",
     "grade": false,
     "grade_id": "cell-a502e177cf4a2c0e",
     "locked": true,
     "schema_version": 3,
     "solution": false,
     "task": false
    }
   },
   "source": [
    "Run the next cell to check that the result only consists of binary values **(object = 255, background = 0)** using [`np.unique()`](https://numpy.org/doc/stable/reference/generated/numpy.unique.html)."
   ]
  },
  {
   "cell_type": "code",
   "execution_count": null,
   "metadata": {
    "deletable": false,
    "editable": false,
    "kernel": "SoS",
    "nbgrader": {
     "cell_type": "code",
     "checksum": "73ef4dac4bd78781d8926e38011e7878",
     "grade": true,
     "grade_id": "cell-220e57df590b8cd1",
     "locked": true,
     "points": 0.5,
     "schema_version": 3,
     "solution": false,
     "task": false
    }
   },
   "outputs": [],
   "source": [
    "%use sos\n",
    "# You can enter any values that work for you for the size and threshold\n",
    "n = 25\n",
    "threshold = 125\n",
    "# Check if the image consists of only one value\n",
    "assert len(np.unique(detect_hlines(test_scratch, n, threshold))) != 1, \\\n",
    "       f\"Your image consists of one value: {np.unique(detect_hlines(test_scratch, n, threshold))}. \\\n",
    "       Try changing the values for n and threshold. If this issue persists, you probably made a mistake in your code\"\n",
    "\n",
    "# Check if the image is binary\n",
    "assert len(np.unique(detect_hlines(test_scratch, n, threshold))) == 2, \\\n",
    "       f\"Your image is not binary, it still consists of {len(np.unique(detect_hlines(test_scratch, n, threshold)))} different values. \\\n",
    "       Check your thresholding operation.\"\n",
    "    \n",
    "# Check that the lower binary value is 0\n",
    "assert np.unique(detect_hlines(test_scratch, n, threshold))[0] == 0, \\\n",
    "       f\"The lower binary value should be 0, not {np.unique(detect_hlines(test_scratch, n, threshold))[0]}.\"\n",
    "\n",
    "# Check that the upper binary value is 255\n",
    "assert np.unique(detect_hlines(test_scratch, n, threshold))[1] == 255, \\\n",
    "       f\"The upper binary value should be 255, not {np.unique(detect_hlines(test_scratch, n, threshold))[1]}.\"\n",
    "\n",
    "# Print victory message\n",
    "print(f'Perfect! Your output image consists of only two values: {{{np.unique(detect_hlines(test_scratch, n, threshold))[0]},{np.unique(detect_hlines(test_scratch, n, threshold))[1]}}}')"
   ]
  },
  {
   "cell_type": "markdown",
   "metadata": {
    "deletable": false,
    "editable": false,
    "kernel": "Python3",
    "nbgrader": {
     "cell_type": "markdown",
     "checksum": "442b2d4818b1ea6834507f55efecde3c",
     "grade": false,
     "grade_id": "cell-96e6c184a8f9a0ea",
     "locked": true,
     "schema_version": 3,
     "solution": false,
     "task": false
    }
   },
   "source": [
    "Again, we will make it easier for you to select the appropriate size and threshold values by adding an extra widget to the image display. Run the next cell to use the interactive widget."
   ]
  },
  {
   "cell_type": "code",
   "execution_count": null,
   "metadata": {
    "deletable": false,
    "editable": false,
    "kernel": "SoS",
    "nbgrader": {
     "cell_type": "code",
     "checksum": "5b98c0a52e7f02935fd4bffafda58c97",
     "grade": false,
     "grade_id": "cell-f6e63396c4f9bf5a",
     "locked": true,
     "schema_version": 3,
     "solution": false,
     "task": false
    }
   },
   "outputs": [],
   "source": [
    "%use sos\n",
    "# Instantiate the size slider\n",
    "size_slider = widgets.IntSlider(value=25, min=0, max=50, step=1, description='n')\n",
    "# Instantiate the threshold slider\n",
    "thresh_slider = widgets.IntSlider(value=125, min=0, max=255, step=1, description='threshold')\n",
    "# Instantiate the diconnect button\n",
    "button = widgets.Button(description = 'Detect Hlines')\n",
    "\n",
    "# Define the callback function of the button\n",
    "def button_callback(image):\n",
    "    # Run the disconnect function on the image with the size indicated by the slider\n",
    "    output = detect_hlines(image, n=size_slider.value, threshold=thresh_slider.value)\n",
    "    return output\n",
    "\n",
    "# Display the image with the extra slider functionality\n",
    "plt.close('all')\n",
    "test_scratch_display = viewer(test_scratch, title = \"Detect horizontal lines\", new_widgets = [size_slider, thresh_slider, button], \n",
    "                              callbacks = [button_callback], widgets = True)"
   ]
  },
  {
   "cell_type": "markdown",
   "metadata": {
    "deletable": false,
    "editable": false,
    "kernel": "Python3",
    "nbgrader": {
     "cell_type": "markdown",
     "checksum": "5ff7a9b2d358954551463f0e61adc41b",
     "grade": false,
     "grade_id": "cell-23daffc75996fbc8",
     "locked": true,
     "schema_version": 3,
     "solution": false,
     "task": false
    }
   },
   "source": [
    "In the following cell, assign `n` with the size of the structuring element and `threshold` with the threshold you think works best for this task."
   ]
  },
  {
   "cell_type": "code",
   "execution_count": null,
   "metadata": {
    "deletable": false,
    "kernel": "SoS",
    "nbgrader": {
     "cell_type": "code",
     "checksum": "12ff3f7ddcb28c9f0cac05de954b6505",
     "grade": false,
     "grade_id": "cell-4babf9354a0c4d39",
     "locked": false,
     "schema_version": 3,
     "solution": true,
     "task": false
    }
   },
   "outputs": [],
   "source": [
    "%use sos\n",
    "# Assign your values here\n",
    "n = None\n",
    "threshold = None\n",
    "\n",
    "# YOUR CODE HERE"
   ]
  },
  {
   "cell_type": "code",
   "execution_count": null,
   "metadata": {
    "deletable": false,
    "editable": false,
    "kernel": "SoS",
    "nbgrader": {
     "cell_type": "code",
     "checksum": "e703fdf1c997e91876be704a7f763a95",
     "grade": true,
     "grade_id": "cell-7cf1dd845bfeabaf",
     "locked": true,
     "points": 0.25,
     "schema_version": 3,
     "solution": false,
     "task": false
    }
   },
   "outputs": [],
   "source": [
    "%use sos\n",
    "# Perform a sanity check on n\n",
    "assert 0 < n < 50, 'Choose a size that makes sense.'"
   ]
  },
  {
   "cell_type": "code",
   "execution_count": null,
   "metadata": {
    "deletable": false,
    "editable": false,
    "kernel": "SoS",
    "nbgrader": {
     "cell_type": "code",
     "checksum": "221c086e0dcc77a2ad8917ea367bd54e",
     "grade": true,
     "grade_id": "cell-c0d462dc6dff39ba",
     "locked": true,
     "points": 0.25,
     "schema_version": 3,
     "solution": false,
     "task": false
    }
   },
   "outputs": [],
   "source": [
    "%use sos\n",
    "# Perform a sanity check on threshold\n",
    "assert 0 < threshold < 255, 'Choose a threshold that makes sense.'"
   ]
  },
  {
   "cell_type": "markdown",
   "metadata": {
    "deletable": false,
    "editable": false,
    "kernel": "Python3",
    "nbgrader": {
     "cell_type": "markdown",
     "checksum": "0a92789dccec5bceb17440f73549b0c9",
     "grade": false,
     "grade_id": "cell-877604eb60273765",
     "locked": true,
     "schema_version": 3,
     "solution": false,
     "task": false
    }
   },
   "source": [
    "# <a class=\"anchor\"></a> 5. Combining morphological filters (1 point)\n",
    "[Back to index](#-Index)\n",
    "\n",
    "**For 1 point**, using **one or several** of the morphological filters of [Part 3](#-3.-Morphological-operators-(9-points)) followed by a threshold operation, detect round white objects of diameter 20 +/- 4 pixels in the image `test_scratch`. Try to preserve their original shapes. Select an appropriate threshold value to get a binary image.\n",
    "![test-scratch_round_showcase](./images/test-scratch_round_showcase.png)\n",
    "\n",
    "<div class=\"alert alert-info\">\n",
    "\n",
    "**Note:** Insert your code into the function `detect_round(img)`. Because you can use as many operators as you like with different structuring elements of multiple sizes, it would be too complicated to generate interactive sliders for all of them. That means you need to insert the sizes of the structuring elements and the threshold value directly into the code and change them by hand to find the a combination that works for you. In this case it will be very beneficial to first think well about what you want to achieve.\n",
    "</div>"
   ]
  },
  {
   "cell_type": "code",
   "execution_count": null,
   "metadata": {
    "deletable": false,
    "kernel": "SoS",
    "nbgrader": {
     "cell_type": "code",
     "checksum": "a32012e2a479120b6af178ffa1efc2e0",
     "grade": false,
     "grade_id": "cell-89d5b617dbd9b8b9",
     "locked": false,
     "schema_version": 3,
     "solution": true,
     "task": false
    }
   },
   "outputs": [],
   "source": [
    "%use sos\n",
    "\n",
    "# Function that detects roundish white objects of diamater 20 +/- 4 pixels\n",
    "def detect_round(img):\n",
    "    # Initialize the output image\n",
    "    output = np.zeros(img.shape)\n",
    "    \n",
    "    # YOUR CODE HERE\n",
    "    \n",
    "    return output\n",
    "\n",
    "# Run the function on the image test_scratch\n",
    "test_scratch_modified = detect_round(test_scratch)\n",
    "\n",
    "# Display the images\n",
    "plt.close('all')\n",
    "images = [test_scratch, test_scratch_modified]\n",
    "titles = ['Original', 'Round objects detected']\n",
    "\n",
    "test_round_viewer = viewer(images, title = titles, subplots=(1,2))"
   ]
  },
  {
   "cell_type": "markdown",
   "metadata": {
    "deletable": false,
    "editable": false,
    "kernel": "Python3",
    "nbgrader": {
     "cell_type": "markdown",
     "checksum": "49f175ecde66036d0252b73967cd2e5c",
     "grade": false,
     "grade_id": "cell-cf29aae3efe6758e",
     "locked": true,
     "schema_version": 3,
     "solution": false,
     "task": false
    }
   },
   "source": [
    "Run the next few cells to test if the output has the required properties (background = 0, foreground = 255)."
   ]
  },
  {
   "cell_type": "code",
   "execution_count": null,
   "metadata": {
    "deletable": false,
    "editable": false,
    "kernel": "SoS",
    "nbgrader": {
     "cell_type": "code",
     "checksum": "16c5974af6c078930f1e71009cd6cd7c",
     "grade": true,
     "grade_id": "cell-e6dfc9d2eb5e60c2",
     "locked": true,
     "points": 0.4,
     "schema_version": 3,
     "solution": false,
     "task": false
    }
   },
   "outputs": [],
   "source": [
    "%use sos\n",
    "# Check if the image consists of only one value\n",
    "assert len(np.unique(detect_round(test_scratch))) != 1, \\\n",
    "       f\"Your image consists of one value: {np.unique(detect_round(test_scratch))}. You probably made a mistake in your code\"\n",
    "# Check if the image is binary\n",
    "assert len(np.unique(detect_round(test_scratch))) == 2, \\\n",
    "       f\"Your image is not binary, it still consists of {len(np.unique(detect_round(test_scratch)))} different values. Check your thresholding operation.\"\n",
    "# Print victory message\n",
    "print(f'Good, the image is binary.')"
   ]
  },
  {
   "cell_type": "code",
   "execution_count": null,
   "metadata": {
    "deletable": false,
    "editable": false,
    "kernel": "SoS",
    "nbgrader": {
     "cell_type": "code",
     "checksum": "130e58e616ee17798bf45f9f00459526",
     "grade": true,
     "grade_id": "cell-272f722b0af5a672",
     "locked": true,
     "points": 0.3,
     "schema_version": 3,
     "solution": false,
     "task": false
    }
   },
   "outputs": [],
   "source": [
    "%use sos\n",
    "# Check that the lower binary value is 0\n",
    "assert np.unique(detect_round(test_scratch))[0] == 0, f\"The lower binary value should be 0, not {np.unique(detect_round(test_scratch))[0]}.\"\n",
    "# Print victory message\n",
    "print(f'The lower binary value is correct.')"
   ]
  },
  {
   "cell_type": "code",
   "execution_count": null,
   "metadata": {
    "deletable": false,
    "editable": false,
    "kernel": "SoS",
    "nbgrader": {
     "cell_type": "code",
     "checksum": "fdc394b2dc6643b8fab8b37f9ba765c2",
     "grade": true,
     "grade_id": "cell-dbb69ca4e0e9a671",
     "locked": true,
     "points": 0.3,
     "schema_version": 3,
     "solution": false,
     "task": false
    }
   },
   "outputs": [],
   "source": [
    "%use sos\n",
    "# Check that the upper binary value is 255\n",
    "assert np.unique(detect_round(test_scratch))[1] == 255, f\"The upper binary value should be 255, not {np.unique(detect_round(test_scratch))[1]}.\"\n",
    "# Print victory message\n",
    "print(f'The upper binary value is correct.')"
   ]
  },
  {
   "cell_type": "markdown",
   "metadata": {
    "deletable": false,
    "editable": false,
    "kernel": "Python3",
    "nbgrader": {
     "cell_type": "markdown",
     "checksum": "28c3e38e09cd9fea9122b0e6f3a57a8f",
     "grade": false,
     "grade_id": "cell-7742e7076d67f421",
     "locked": true,
     "schema_version": 3,
     "solution": false,
     "task": false
    }
   },
   "source": [
    "# <a class=\"anchor\"></a> 6. Lantuéjoul's skeleton (2 points)\n",
    "[Back to index](#-Index)\n",
    "\n",
    "In this part we're going to implement a 2D skeletonizing algorithm. This process is commonly used in handwritten text recognition, fingerprint validation and [raster-to-vector](https://en.wikipedia.org/wiki/Image_tracing) conversion. \n",
    "\n",
    "## <a class=\"anchor\"></a> 6.A. Classic Lantuéjoul's algorithm\n",
    "[Back to index](#-Index)\n",
    "\n",
    "Lantuéjoul's algorithm is an iterative erosion procedure that gives an approximation of the skeleton of an object. The input is a binary image (object = 255, background = 0). The output is also a binary image (skeleton = 255, background = 0).\n",
    "\n",
    "![skeletonize_showcase](./images/skeletonize_showcase.png)\n",
    "\n",
    "The algorithm makes $N$ successive erosions $e_n$ of the image until the objects are completely eroded (stop condition), using a $3\\times 3$ cross as a structuring element. As a consequence, the number $N$ of iterations is variable and depends of the size of the objects to erode. In Python, this can be implemented using a while loop.\n",
    "The skeleton is the union of $N$ partial skeletons $s_n$:\n",
    "\n",
    "$$\\mathrm{skel} =\\bigcup_{n \\in \\lbrace1,2,\\dots,N\\rbrace} s_{n} = \\bigcup_{n \\in \\lbrace1,2,\\dots,N\\rbrace}[ e_n - (e_n \\circ b) ]\\,.$$\n",
    "\n",
    "Each partial skeleton $s_n$ is obtained by performing a Top-hat operation on an eroded image $e_n$ using a $3 \\times 3$ square structuring element $b$."
   ]
  },
  {
   "cell_type": "markdown",
   "metadata": {
    "deletable": false,
    "editable": false,
    "kernel": "Python3",
    "nbgrader": {
     "cell_type": "markdown",
     "checksum": "e5a1dc5e65c4aac3761d13376a68fbb6",
     "grade": false,
     "grade_id": "cell-bd7bb9258471c737",
     "locked": true,
     "schema_version": 3,
     "solution": false,
     "task": false
    }
   },
   "source": [
    "### <a class=\"anchor\"></a> 6.A.a. Implementing skeletonize\n",
    "[Back to index](#-Index)\n",
    "\n",
    "**For 1 point**, complete the function `skeletonize` that returns the skeleton and that writes $N$ in the console (use `print(N)`). Test your code on the image `test_skeleton`.\n",
    "\n",
    "<div class=\"alert alert-info\">\n",
    "\n",
    "**Hint:** You can use [`np.count_nonzero(img)`](https://numpy.org/doc/stable/reference/generated/numpy.count_nonzero.html) to get the number of non-zero pixels in `img`.\n",
    "\n",
    "**Hint:** The correct way to _add_ two **binary** images (to get the union above) is to use [`cv.bitwise_or(img_1, img_2)`](https://docs.opencv.org/2.4/modules/core/doc/operations_on_arrays.html#bitwise-or).\n",
    "\n",
    "</div>\n",
    "<div class=\"alert alert-warning\">\n",
    "\n",
    "**Beware:** If you don't set the correct stopping condition in the while loop, it can run forever and block the execution of all other code. The cell should generate its output in a few seconds, otherwise it is likely that you created an infinite loop. If this happens you can click on `Kernel` in the toolbar on top and select `Interrupt` to stop the infinite loop. After that you can adjust your code and rerun the cell.\n",
    "\n",
    "</div>"
   ]
  },
  {
   "cell_type": "code",
   "execution_count": null,
   "metadata": {
    "deletable": false,
    "kernel": "SoS",
    "nbgrader": {
     "cell_type": "code",
     "checksum": "2c1aa02a5e8a896110cfb665d5435643",
     "grade": false,
     "grade_id": "cell-ba8d49dbe16678c3",
     "locked": false,
     "schema_version": 3,
     "solution": true,
     "task": false
    }
   },
   "outputs": [],
   "source": [
    "%use sos\n",
    "# Load the test-skeleton image\n",
    "test_img = plt.imread('images/test-skeleton.tif')\n",
    "\n",
    "# Function that takes as input a binary image and returns its skeleton\n",
    "def skeletonize(img):\n",
    "    # Defining the output image (an array of zeros with the same shape as the input image of type 'uint8')\n",
    "    output = np.zeros(img.shape, np.uint8)\n",
    "    \n",
    "    # YOUR CODE HERE\n",
    "    \n",
    "    return output\n",
    "    \n",
    "# Run the function on the test image\n",
    "test_skeleton = skeletonize(test_img)\n",
    "    \n",
    "# Define the lists of images and names\n",
    "images = [test_img, test_skeleton]\n",
    "titles = ['Original', 'Skeleton']\n",
    "\n",
    "# Display the images\n",
    "plt.close('all')\n",
    "skeletonize_viewer = viewer(images, title = titles, subplots=(1,2))"
   ]
  },
  {
   "cell_type": "markdown",
   "metadata": {
    "deletable": false,
    "editable": false,
    "kernel": "SoS",
    "nbgrader": {
     "cell_type": "markdown",
     "checksum": "8ae47208ac847394711b80951f5f7211",
     "grade": false,
     "grade_id": "cell-48d09d3a99ff43f1",
     "locked": true,
     "schema_version": 3,
     "solution": false,
     "task": false
    }
   },
   "source": [
    "Run the cell below to verify that the output of your function is binary."
   ]
  },
  {
   "cell_type": "code",
   "execution_count": null,
   "metadata": {
    "deletable": false,
    "editable": false,
    "kernel": "SoS",
    "nbgrader": {
     "cell_type": "code",
     "checksum": "f0912e6ca800e42c219abaf41ad69b4f",
     "grade": true,
     "grade_id": "cell-d5829871b375a145",
     "locked": true,
     "points": 0.8,
     "schema_version": 3,
     "solution": false,
     "task": false
    }
   },
   "outputs": [],
   "source": [
    "%use sos\n",
    "# Check that the output is binary\n",
    "assert len(np.unique(test_skeleton)) == 2 and np.max(np.unique(test_skeleton)) == 255 and np.min(np.unique(test_skeleton)) == 0, 'The output is not binary with values {0, 255}.'"
   ]
  },
  {
   "cell_type": "markdown",
   "metadata": {
    "deletable": false,
    "editable": false,
    "kernel": "Python3",
    "nbgrader": {
     "cell_type": "markdown",
     "checksum": "a83fd0abfdc751c7fafd69f4d4ec8eed",
     "grade": false,
     "grade_id": "cell-bbcc6dc7b96bd4c2",
     "locked": true,
     "schema_version": 3,
     "solution": false,
     "task": false
    }
   },
   "source": [
    "### <a class=\"anchor\"></a> 6.A.b. Testing skeletonize\n",
    "[Back to index](#-Index)\n",
    "\n",
    "Apply your algorithm on the hands image located at _images/hands.tif_ and display the result.\n",
    "<div class=\"alert alert-info\">\n",
    "\n",
    "**Hint:** You will first need to load the image from memory into a variable (**name the variable `hands`**, you will need it later!), then apply the function and finally display the image using the `viewer`.\n",
    "</div>"
   ]
  },
  {
   "cell_type": "code",
   "execution_count": null,
   "metadata": {
    "deletable": false,
    "kernel": "SoS",
    "nbgrader": {
     "cell_type": "code",
     "checksum": "ef7cfd43a16ae042acdcd5c3fb842bf3",
     "grade": false,
     "grade_id": "cell-5079f69b8090c1d8",
     "locked": false,
     "schema_version": 3,
     "solution": true,
     "task": false
    }
   },
   "outputs": [],
   "source": [
    "%use sos\n",
    "\n",
    "# YOUR CODE HERE"
   ]
  },
  {
   "cell_type": "markdown",
   "metadata": {
    "deletable": false,
    "editable": false,
    "kernel": "Python3",
    "nbgrader": {
     "cell_type": "markdown",
     "checksum": "1260e4fdfdc97c6089059407978f2f42",
     "grade": false,
     "grade_id": "cell-99e6c0064be8eadf",
     "locked": true,
     "schema_version": 3,
     "solution": false,
     "task": false
    }
   },
   "source": [
    "In the next cell, assign to the variable `N` the number of erosions it took to generate the skeleton of the `hands` image."
   ]
  },
  {
   "cell_type": "code",
   "execution_count": null,
   "metadata": {
    "deletable": false,
    "kernel": "SoS",
    "nbgrader": {
     "cell_type": "code",
     "checksum": "936ee58cb27e88dd46c48d62cd1794be",
     "grade": false,
     "grade_id": "cell-7b1e6f28d8b75b25",
     "locked": false,
     "schema_version": 3,
     "solution": true,
     "task": false
    }
   },
   "outputs": [],
   "source": [
    "%use sos\n",
    "# Number of erosions to skeletonize the image\n",
    "N = None\n",
    "\n",
    "# YOUR CODE HERE"
   ]
  },
  {
   "cell_type": "code",
   "execution_count": null,
   "metadata": {
    "deletable": false,
    "editable": false,
    "kernel": "SoS",
    "nbgrader": {
     "cell_type": "code",
     "checksum": "f589cab5e9a74b5c5140b561d19525e2",
     "grade": true,
     "grade_id": "cell-85cf369a041fc84a",
     "locked": true,
     "points": 0.2,
     "schema_version": 3,
     "solution": false,
     "task": false
    }
   },
   "outputs": [],
   "source": [
    "%use sos\n",
    "# Perform sanity check on n\n",
    "assert 0 < N < 50, 'The selected number of erosions is most likely not correct.'"
   ]
  },
  {
   "cell_type": "markdown",
   "metadata": {
    "deletable": false,
    "editable": false,
    "kernel": "Python3",
    "nbgrader": {
     "cell_type": "markdown",
     "checksum": "1f59d1306e0361c456a07c289ecd7003",
     "grade": false,
     "grade_id": "cell-21797eb2ddc8dedd",
     "locked": true,
     "schema_version": 3,
     "solution": false,
     "task": false
    }
   },
   "source": [
    "## <a class=\"anchor\"></a> 6.B. Pruning and post-processing\n",
    "[Back to index](#-Index)\n",
    "\n",
    "As you can observe in the `hands` image, the algorithm creates undesired small branches in the skeleton. When the objects have a constant thickness, it is possible to prune the skeleton by constructing a skeleton as the union of the $M$th to $N$th partial skeletons, with $1 \\leq M \\leq N$, instead of the $N$th first partial skeletons. This should remove some of the unwanted branches.\n",
    "\n",
    "**For 1 point**, implement this new method and test in the tasks below."
   ]
  },
  {
   "cell_type": "markdown",
   "metadata": {
    "deletable": false,
    "editable": false,
    "kernel": "Python3",
    "nbgrader": {
     "cell_type": "markdown",
     "checksum": "d0ba36b0a3b49bb1599bf002c549245c",
     "grade": false,
     "grade_id": "cell-b9eaad1c14028856",
     "locked": true,
     "schema_version": 3,
     "solution": false,
     "task": false
    }
   },
   "source": [
    "### <a class=\"anchor\"></a> 6.B.a. Implementing pruning\n",
    "[Back to index](#-Index)\n",
    "\n",
    "Program the method `skeletonize_and_prune(img, M)` that returns the pruned skeleton, with $M$ a parameter of the function."
   ]
  },
  {
   "cell_type": "code",
   "execution_count": null,
   "metadata": {
    "deletable": false,
    "kernel": "SoS",
    "nbgrader": {
     "cell_type": "code",
     "checksum": "841b96514cfcb493e055b703bfc4fbd1",
     "grade": false,
     "grade_id": "cell-f2bb0ef463096a45",
     "locked": false,
     "schema_version": 3,
     "solution": true,
     "task": false
    }
   },
   "outputs": [],
   "source": [
    "%use sos\n",
    "\n",
    "# Function that takes as input a binary image as well as an integer m and returns its skeleton\n",
    "# composed of the union from the mth to the last skeleton\n",
    "def skeletonize_and_prune(img, M):\n",
    "    # Defining the output image\n",
    "    output = np.zeros(img.shape, np.uint8)\n",
    "    \n",
    "    # YOUR CODE HERE\n",
    "    \n",
    "    return output"
   ]
  },
  {
   "cell_type": "markdown",
   "metadata": {
    "deletable": false,
    "editable": false,
    "kernel": "SoS",
    "nbgrader": {
     "cell_type": "markdown",
     "checksum": "a1b8a0a8b8a316c9356451d61b1140f2",
     "grade": false,
     "grade_id": "cell-00abb109f521e24d",
     "locked": true,
     "schema_version": 3,
     "solution": false,
     "task": false
    }
   },
   "source": [
    "Run the cell below to verify that the output of your function is binary."
   ]
  },
  {
   "cell_type": "code",
   "execution_count": null,
   "metadata": {
    "deletable": false,
    "editable": false,
    "kernel": "SoS",
    "nbgrader": {
     "cell_type": "code",
     "checksum": "6504128c77277700b435d677b05648f8",
     "grade": true,
     "grade_id": "cell-23d3e85a7255e9e7",
     "locked": true,
     "points": 0.8,
     "schema_version": 3,
     "solution": false,
     "task": false
    }
   },
   "outputs": [],
   "source": [
    "%use sos\n",
    "# Check that the output is binary\n",
    "check_bin = skeletonize_and_prune(test_img, 0)\n",
    "assert len(np.unique(check_bin)) == 2 and np.max(np.unique(check_bin)) == 255 and np.min(np.unique(check_bin)) == 0, \\\n",
    "       'The output is not binary with values [0, 255].'"
   ]
  },
  {
   "cell_type": "markdown",
   "metadata": {
    "deletable": false,
    "editable": false,
    "kernel": "SoS",
    "nbgrader": {
     "cell_type": "markdown",
     "checksum": "b29dea8a6dab8ef90ee76092be46e636",
     "grade": false,
     "grade_id": "cell-003838e1c377e6a8",
     "locked": true,
     "schema_version": 3,
     "solution": false,
     "task": false
    }
   },
   "source": [
    "Test your code on the image `hands` and play with the parameter $M$ (by adjusting the slider in the extra widget created) to see the difference in the skeletons. Run the cell below to launch the interactive widget and test your function. Feel free to try on other images too.\n",
    "\n",
    "<div class=\"alert alert-info\">\n",
    "\n",
    "**Hint:** Note that pruning is only possible for $M \\geq 1$, because a value of $M=0$ represents the original image. Use this fact to test that the result for $M = 0$ is the same as without pruning.\n",
    "\n",
    "</div>"
   ]
  },
  {
   "cell_type": "code",
   "execution_count": null,
   "metadata": {
    "kernel": "SoS"
   },
   "outputs": [],
   "source": [
    "%use sos\n",
    "# Instantiate the size slider\n",
    "m_slider = widgets.IntSlider(value=25, min=0, max=50, step=1, description='M')\n",
    "# Instantiate the diconnect button\n",
    "button = widgets.Button(description = 'Skeletonize and Prune')\n",
    "\n",
    "# Define the callback function of the button\n",
    "def button_callback(image):\n",
    "    # Run the disconnect function on the image with the size indicated by the slider\n",
    "    output = skeletonize_and_prune(image, M=m_slider.value)\n",
    "    return output\n",
    "\n",
    "# Display the image with the extra slider functionality\n",
    "plt.close('all')\n",
    "skeletonize_prune_display = viewer(hands, title = \"Skeletonize and prune test\", new_widgets = [m_slider, button], \n",
    "                                   callbacks = [button_callback], widgets = True)"
   ]
  },
  {
   "cell_type": "markdown",
   "metadata": {
    "deletable": false,
    "editable": false,
    "kernel": "Python3",
    "nbgrader": {
     "cell_type": "markdown",
     "checksum": "00e83b5058690bac37d0f48f6c02a12d",
     "grade": false,
     "grade_id": "cell-8b8280fb60636ef9",
     "locked": true,
     "schema_version": 3,
     "solution": false,
     "task": false
    }
   },
   "source": [
    "### <a class=\"anchor\"></a> 6.B.b. Testing skeletonize and prune\n",
    "[Back to index](#-Index)\n",
    "\n",
    "Apply your algorithm on the image `b_letter`, choosing the appropriate $M$ to best capture the shape of the letter B. Run the next cell to launch the interactive widget."
   ]
  },
  {
   "cell_type": "code",
   "execution_count": null,
   "metadata": {
    "deletable": false,
    "editable": false,
    "kernel": "SoS",
    "nbgrader": {
     "cell_type": "code",
     "checksum": "a20f6139e398f8b47f6f858d3f32585b",
     "grade": false,
     "grade_id": "cell-322294920abb656b",
     "locked": true,
     "schema_version": 3,
     "solution": false,
     "task": false
    }
   },
   "outputs": [],
   "source": [
    "%use sos\n",
    "\n",
    "# Load the test image\n",
    "b_letter = plt.imread('images/b-letter.tif')\n",
    "\n",
    "# Instantiate the size slider\n",
    "m_slider = widgets.IntSlider(value=25, min=0, max=50, step=1, description='M')\n",
    "# Instantiate the diconnect button\n",
    "button = widgets.Button(description = 'Skeletonize and Prune')\n",
    "\n",
    "# Define the callback function of the button\n",
    "def button_callback(image):\n",
    "    # Run the disconnect function on the image with the size indicated by the slider\n",
    "    output = skeletonize_and_prune(image, M=m_slider.value)\n",
    "    return output\n",
    "\n",
    "# Display the image with the extra slider functionality\n",
    "plt.close('all')\n",
    "skeletonize_prune_b_display = viewer(b_letter, title = \"Skeletonize and prune B\", new_widgets = [m_slider, button], callbacks = [button_callback], widgets = True)"
   ]
  },
  {
   "cell_type": "markdown",
   "metadata": {
    "deletable": false,
    "editable": false,
    "kernel": "Python3",
    "nbgrader": {
     "cell_type": "markdown",
     "checksum": "73fedfc2ff760d9a45af29167b2b6406",
     "grade": false,
     "grade_id": "cell-d91695151f547321",
     "locked": true,
     "schema_version": 3,
     "solution": false,
     "task": false
    }
   },
   "source": [
    "In the next cell, assign to the variable `M` the value for $M$ you think works best to capture the shape of the letter $B$, while removing as many of the undesired small branches as possible."
   ]
  },
  {
   "cell_type": "code",
   "execution_count": null,
   "metadata": {
    "deletable": false,
    "kernel": "SoS",
    "nbgrader": {
     "cell_type": "code",
     "checksum": "a5cf13a34df809d7f89fc0c4829d7c0c",
     "grade": false,
     "grade_id": "cell-18e246acca0150e7",
     "locked": false,
     "schema_version": 3,
     "solution": true,
     "task": false
    }
   },
   "outputs": [],
   "source": [
    "%use sos\n",
    "# Best value for m\n",
    "M = None\n",
    "\n",
    "# YOUR CODE HERE"
   ]
  },
  {
   "cell_type": "code",
   "execution_count": null,
   "metadata": {
    "deletable": false,
    "editable": false,
    "kernel": "SoS",
    "nbgrader": {
     "cell_type": "code",
     "checksum": "b0db8e077753ad0f9475d71da336d728",
     "grade": true,
     "grade_id": "cell-d52ca5f536bc1ae5",
     "locked": true,
     "points": 0.2,
     "schema_version": 3,
     "solution": false,
     "task": false
    }
   },
   "outputs": [],
   "source": [
    "%use sos\n",
    "# Perform sanity check on m\n",
    "assert 0 < M < 50, 'The value for m is most likely not correct.'"
   ]
  },
  {
   "cell_type": "markdown",
   "metadata": {
    "deletable": false,
    "editable": false,
    "kernel": "Python3",
    "nbgrader": {
     "cell_type": "markdown",
     "checksum": "12ce3fafe48669bf0fe8a695e961f270",
     "grade": false,
     "grade_id": "cell-7346f0dede144ef1",
     "locked": true,
     "schema_version": 3,
     "solution": false,
     "task": false
    }
   },
   "source": [
    "# <a class=\"anchor\"></a> 7. Cartoonize your picture!\n",
    "[Back to index](#-Index)\n",
    "\n",
    "Choose a natural picture of your choice from the internet or from your own collection (it shouldn't be too large, otherwise the operations will take a long time). If you're too busy to search for an image yourself you can also use the _natural_image.jpg_ provided in the 'images' folder. Using a combination of morphological operators, arithmetic operators, inversion, and threshold operations, give a cartoon effect to your picture! You can try to make it look like a painting or to give it a distortion effect, look at the possibilities! \n",
    "<div class=\"alert alert-info\">\n",
    "\n",
    "**Note:** You can invert an image using [`cv.bitwise_not(img)`](https://docs.opencv.org/2.4/modules/core/doc/operations_on_arrays.html#bitwise-not)\n",
    "\n",
    "</div>"
   ]
  },
  {
   "cell_type": "code",
   "execution_count": null,
   "metadata": {
    "deletable": false,
    "kernel": "SoS",
    "nbgrader": {
     "cell_type": "code",
     "checksum": "1c158e5f416d79964b3b6ccb4c9aa56b",
     "grade": false,
     "grade_id": "cell-212f9947fcc23307",
     "locked": false,
     "schema_version": 3,
     "solution": true,
     "task": false
    }
   },
   "outputs": [],
   "source": [
    "%use sos\n",
    "orig = None\n",
    "img = None\n",
    "\n",
    "# YOUR CODE HERE\n",
    "\n",
    "cartoon_viewer = viewer([orig, img], title = ['Original', 'Cartoonized'], subplots=(1,2))"
   ]
  },
  {
   "cell_type": "markdown",
   "metadata": {
    "deletable": false,
    "editable": false,
    "kernel": "SoS",
    "nbgrader": {
     "cell_type": "markdown",
     "checksum": "be892c37f54d7ffcf49763e96fd6e588",
     "grade": false,
     "grade_id": "cell-b88229577a613174",
     "locked": true,
     "schema_version": 3,
     "solution": false,
     "task": false
    }
   },
   "source": [
    "<p><b>Congratulations on finishing Lab 3!</b></p>\n",
    "<p>\n",
    "    \n",
    "Make sure to save your notebook (keep a copy on your personal computer for reference) and upload it to <a href=\"https://moodle.epfl.ch/course/view.php?id=522\">Moodle</a> (name it *SCIPER_Morphology.ipynb*). Also, make sure to run it one more time and check that it runs without errors!\n",
    "</p>\n",
    "\n",
    "<div class=\"alert alert-danger\">\n",
    "<h4>Feedback</h4>\n",
    "    <p style=\"margin:4px;\">\n",
    "    This is the last lab of the first edition of the image-processing laboratories using Jupyter Notebooks running on Noto. Do not leave before giving us your <a href=\"https://moodle.epfl.ch/mod/feedback/view.php?id=1123106\">feedback here!</a></p>\n",
    "</div>"
   ]
  },
  {
   "cell_type": "code",
   "execution_count": null,
   "metadata": {
    "kernel": "SoS"
   },
   "outputs": [],
   "source": []
  }
 ],
 "metadata": {
  "kernelspec": {
   "display_name": "SoS",
   "language": "sos",
   "name": "sos"
  },
  "language_info": {
   "codemirror_mode": "sos",
   "file_extension": ".sos",
   "mimetype": "text/x-sos",
   "name": "sos",
   "nbconvert_exporter": "sos_notebook.converter.SoS_Exporter",
   "pygments_lexer": "sos"
  },
  "sos": {
   "kernels": [
    [
     "JavaScript",
     "javascript",
     "JavaScript",
     "#c8e1ae",
     ""
    ],
    [
     "SoS",
     "sos",
     "",
     "",
     "sos"
    ]
   ],
   "panel": {
    "displayed": false,
    "height": 0
   },
   "version": "0.21.9"
  }
 },
 "nbformat": 4,
 "nbformat_minor": 4
}
